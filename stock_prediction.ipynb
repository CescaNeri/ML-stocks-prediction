{
  "nbformat": 4,
  "nbformat_minor": 0,
  "metadata": {
    "colab": {
      "provenance": [],
      "collapsed_sections": [
        "lpEw8fssyw-x",
        "FCdOYQhEu8i3",
        "altpuOUPzShL",
        "JhokvAe6Nr1f",
        "gPkO-14GWNqQ"
      ],
      "authorship_tag": "ABX9TyN6vi0y74M6euDoD8wARMWS",
      "include_colab_link": true
    },
    "kernelspec": {
      "name": "python3",
      "display_name": "Python 3"
    },
    "language_info": {
      "name": "python"
    }
  },
  "cells": [
    {
      "cell_type": "markdown",
      "metadata": {
        "id": "view-in-github",
        "colab_type": "text"
      },
      "source": [
        "<a href=\"https://colab.research.google.com/github/CescaNeri/ML-stocks-prediction/blob/main/stock_prediction.ipynb\" target=\"_parent\"><img src=\"https://colab.research.google.com/assets/colab-badge.svg\" alt=\"Open In Colab\"/></a>"
      ]
    },
    {
      "cell_type": "markdown",
      "source": [
        "## Import packages\n",
        "\n",
        "We start by installing and importing the packages that we will need later on."
      ],
      "metadata": {
        "id": "lpEw8fssyw-x"
      }
    },
    {
      "cell_type": "code",
      "source": [
        "%pip install yfinance --upgrade --no-cache-dir"
      ],
      "metadata": {
        "id": "bojtQGM6D1Qw",
        "colab": {
          "base_uri": "https://localhost:8080/"
        },
        "outputId": "d71c34d1-f3b2-4a14-f53a-8c363a2412d1"
      },
      "execution_count": 1,
      "outputs": [
        {
          "output_type": "stream",
          "name": "stdout",
          "text": [
            "Looking in indexes: https://pypi.org/simple, https://us-python.pkg.dev/colab-wheels/public/simple/\n",
            "Collecting yfinance\n",
            "  Downloading yfinance-0.2.3-py2.py3-none-any.whl (50 kB)\n",
            "\u001b[K     |████████████████████████████████| 50 kB 20.8 MB/s \n",
            "\u001b[?25hRequirement already satisfied: pytz>=2022.5 in /usr/local/lib/python3.8/dist-packages (from yfinance) (2022.6)\n",
            "Requirement already satisfied: numpy>=1.16.5 in /usr/local/lib/python3.8/dist-packages (from yfinance) (1.21.6)\n",
            "Collecting requests>=2.26\n",
            "  Downloading requests-2.28.1-py3-none-any.whl (62 kB)\n",
            "\u001b[K     |████████████████████████████████| 62 kB 40.5 MB/s \n",
            "\u001b[?25hCollecting frozendict>=2.3.4\n",
            "  Downloading frozendict-2.3.4-cp38-cp38-manylinux_2_17_x86_64.manylinux2014_x86_64.whl (110 kB)\n",
            "\u001b[K     |████████████████████████████████| 110 kB 73.7 MB/s \n",
            "\u001b[?25hCollecting cryptography>=3.3.2\n",
            "  Downloading cryptography-38.0.4-cp36-abi3-manylinux_2_24_x86_64.whl (4.0 MB)\n",
            "\u001b[K     |████████████████████████████████| 4.0 MB 61.1 MB/s \n",
            "\u001b[?25hCollecting html5lib>=1.1\n",
            "  Downloading html5lib-1.1-py2.py3-none-any.whl (112 kB)\n",
            "\u001b[K     |████████████████████████████████| 112 kB 82.6 MB/s \n",
            "\u001b[?25hRequirement already satisfied: lxml>=4.9.1 in /usr/local/lib/python3.8/dist-packages (from yfinance) (4.9.2)\n",
            "Collecting beautifulsoup4>=4.11.1\n",
            "  Downloading beautifulsoup4-4.11.1-py3-none-any.whl (128 kB)\n",
            "\u001b[K     |████████████████████████████████| 128 kB 66.1 MB/s \n",
            "\u001b[?25hRequirement already satisfied: appdirs>=1.4.4 in /usr/local/lib/python3.8/dist-packages (from yfinance) (1.4.4)\n",
            "Requirement already satisfied: pandas>=1.3.0 in /usr/local/lib/python3.8/dist-packages (from yfinance) (1.3.5)\n",
            "Requirement already satisfied: multitasking>=0.0.7 in /usr/local/lib/python3.8/dist-packages (from yfinance) (0.0.11)\n",
            "Collecting soupsieve>1.2\n",
            "  Downloading soupsieve-2.3.2.post1-py3-none-any.whl (37 kB)\n",
            "Requirement already satisfied: cffi>=1.12 in /usr/local/lib/python3.8/dist-packages (from cryptography>=3.3.2->yfinance) (1.15.1)\n",
            "Requirement already satisfied: pycparser in /usr/local/lib/python3.8/dist-packages (from cffi>=1.12->cryptography>=3.3.2->yfinance) (2.21)\n",
            "Requirement already satisfied: webencodings in /usr/local/lib/python3.8/dist-packages (from html5lib>=1.1->yfinance) (0.5.1)\n",
            "Requirement already satisfied: six>=1.9 in /usr/local/lib/python3.8/dist-packages (from html5lib>=1.1->yfinance) (1.15.0)\n",
            "Requirement already satisfied: python-dateutil>=2.7.3 in /usr/local/lib/python3.8/dist-packages (from pandas>=1.3.0->yfinance) (2.8.2)\n",
            "Requirement already satisfied: certifi>=2017.4.17 in /usr/local/lib/python3.8/dist-packages (from requests>=2.26->yfinance) (2022.12.7)\n",
            "Requirement already satisfied: idna<4,>=2.5 in /usr/local/lib/python3.8/dist-packages (from requests>=2.26->yfinance) (2.10)\n",
            "Requirement already satisfied: urllib3<1.27,>=1.21.1 in /usr/local/lib/python3.8/dist-packages (from requests>=2.26->yfinance) (1.24.3)\n",
            "Requirement already satisfied: charset-normalizer<3,>=2 in /usr/local/lib/python3.8/dist-packages (from requests>=2.26->yfinance) (2.1.1)\n",
            "Installing collected packages: soupsieve, requests, html5lib, frozendict, cryptography, beautifulsoup4, yfinance\n",
            "  Attempting uninstall: requests\n",
            "    Found existing installation: requests 2.23.0\n",
            "    Uninstalling requests-2.23.0:\n",
            "      Successfully uninstalled requests-2.23.0\n",
            "  Attempting uninstall: html5lib\n",
            "    Found existing installation: html5lib 1.0.1\n",
            "    Uninstalling html5lib-1.0.1:\n",
            "      Successfully uninstalled html5lib-1.0.1\n",
            "  Attempting uninstall: beautifulsoup4\n",
            "    Found existing installation: beautifulsoup4 4.6.3\n",
            "    Uninstalling beautifulsoup4-4.6.3:\n",
            "      Successfully uninstalled beautifulsoup4-4.6.3\n",
            "Successfully installed beautifulsoup4-4.11.1 cryptography-38.0.4 frozendict-2.3.4 html5lib-1.1 requests-2.28.1 soupsieve-2.3.2.post1 yfinance-0.2.3\n"
          ]
        }
      ]
    },
    {
      "cell_type": "code",
      "source": [
        "%pip install finta"
      ],
      "metadata": {
        "id": "pU-67CaeKjIn",
        "colab": {
          "base_uri": "https://localhost:8080/"
        },
        "outputId": "f056316b-97fd-4908-bc07-23050e5d708d"
      },
      "execution_count": 2,
      "outputs": [
        {
          "output_type": "stream",
          "name": "stdout",
          "text": [
            "Looking in indexes: https://pypi.org/simple, https://us-python.pkg.dev/colab-wheels/public/simple/\n",
            "Collecting finta\n",
            "  Downloading finta-1.3-py3-none-any.whl (29 kB)\n",
            "Requirement already satisfied: pandas in /usr/local/lib/python3.8/dist-packages (from finta) (1.3.5)\n",
            "Requirement already satisfied: numpy in /usr/local/lib/python3.8/dist-packages (from finta) (1.21.6)\n",
            "Requirement already satisfied: pytz>=2017.3 in /usr/local/lib/python3.8/dist-packages (from pandas->finta) (2022.6)\n",
            "Requirement already satisfied: python-dateutil>=2.7.3 in /usr/local/lib/python3.8/dist-packages (from pandas->finta) (2.8.2)\n",
            "Requirement already satisfied: six>=1.5 in /usr/local/lib/python3.8/dist-packages (from python-dateutil>=2.7.3->pandas->finta) (1.15.0)\n",
            "Installing collected packages: finta\n",
            "Successfully installed finta-1.3\n"
          ]
        }
      ]
    },
    {
      "cell_type": "code",
      "execution_count": 3,
      "metadata": {
        "id": "1br7AiG0DPjd"
      },
      "outputs": [],
      "source": [
        "import yfinance as yf\n",
        "import pandas as pd\n",
        "import numpy as np\n",
        "import matplotlib.pyplot as plt\n",
        "import datetime\n",
        "from finta import TA"
      ]
    },
    {
      "cell_type": "code",
      "source": [
        "from sklearn.ensemble import RandomForestClassifier\n",
        "from sklearn.metrics import precision_score\n",
        "from numpy.core.arrayprint import format_float_scientific\n",
        "from sklearn.ensemble import AdaBoostClassifier\n",
        "from sklearn.tree import DecisionTreeClassifier\n",
        "from sklearn.discriminant_analysis import QuadraticDiscriminantAnalysis\n",
        "from sklearn.neural_network import MLPClassifier\n",
        "from sklearn import svm\n",
        "from sklearn.linear_model import LinearRegression\n",
        "from sklearn.model_selection import train_test_split"
      ],
      "metadata": {
        "id": "uxH3bG9PK4Zu"
      },
      "execution_count": 4,
      "outputs": []
    },
    {
      "cell_type": "markdown",
      "source": [
        "## Data Acquisition\n",
        "\n",
        "We import data directly from Yahoo Finance through the `yfinance` API just by indicating the name of the stock.\n",
        "\n",
        "By selecting the period as *max*, the method `history()` will import all the available data about NVDA, from the oldest to the latest. "
      ],
      "metadata": {
        "id": "FCdOYQhEu8i3"
      }
    },
    {
      "cell_type": "code",
      "source": [
        "stock = 'NVDA'\n",
        "\n",
        "nvidia = yf.Ticker(stock)\n",
        "nvidia = nvidia.history(period='max')\n",
        "\n",
        "nvidia"
      ],
      "metadata": {
        "id": "oaUaNlEbEebf",
        "colab": {
          "base_uri": "https://localhost:8080/",
          "height": 0
        },
        "outputId": "f6b340ce-b5b9-4bc1-be73-6a01fd143fe0"
      },
      "execution_count": 5,
      "outputs": [
        {
          "output_type": "execute_result",
          "data": {
            "text/plain": [
              "                                 Open        High         Low       Close  \\\n",
              "Date                                                                        \n",
              "1999-01-22 00:00:00-05:00    0.401517    0.448121    0.356107    0.376422   \n",
              "1999-01-25 00:00:00-05:00    0.406296    0.420636    0.376422    0.415856   \n",
              "1999-01-26 00:00:00-05:00    0.420636    0.429001    0.377616    0.383592   \n",
              "1999-01-27 00:00:00-05:00    0.384787    0.394347    0.363276    0.382397   \n",
              "1999-01-28 00:00:00-05:00    0.382397    0.384787    0.378811    0.381202   \n",
              "...                               ...         ...         ...         ...   \n",
              "2022-12-21 00:00:00-05:00  161.139999  166.270004  161.020004  165.009995   \n",
              "2022-12-22 00:00:00-05:00  160.940002  161.380005  148.820007  153.389999   \n",
              "2022-12-23 00:00:00-05:00  151.960007  153.389999  148.830002  152.059998   \n",
              "2022-12-27 00:00:00-05:00  150.740005  151.000000  140.559998  141.210007   \n",
              "2022-12-28 00:00:00-05:00  139.270004  142.619995  138.839996  140.360001   \n",
              "\n",
              "                              Volume  Dividends  Stock Splits  \n",
              "Date                                                           \n",
              "1999-01-22 00:00:00-05:00  271468800        0.0           0.0  \n",
              "1999-01-25 00:00:00-05:00   51048000        0.0           0.0  \n",
              "1999-01-26 00:00:00-05:00   34320000        0.0           0.0  \n",
              "1999-01-27 00:00:00-05:00   24436800        0.0           0.0  \n",
              "1999-01-28 00:00:00-05:00   22752000        0.0           0.0  \n",
              "...                              ...        ...           ...  \n",
              "2022-12-21 00:00:00-05:00   32502500        0.0           0.0  \n",
              "2022-12-22 00:00:00-05:00   56504500        0.0           0.0  \n",
              "2022-12-23 00:00:00-05:00   34910900        0.0           0.0  \n",
              "2022-12-27 00:00:00-05:00   46490200        0.0           0.0  \n",
              "2022-12-28 00:00:00-05:00   35066700        0.0           0.0  \n",
              "\n",
              "[6024 rows x 7 columns]"
            ],
            "text/html": [
              "\n",
              "  <div id=\"df-9deef338-5964-4607-885d-fa2fcb9c5e36\">\n",
              "    <div class=\"colab-df-container\">\n",
              "      <div>\n",
              "<style scoped>\n",
              "    .dataframe tbody tr th:only-of-type {\n",
              "        vertical-align: middle;\n",
              "    }\n",
              "\n",
              "    .dataframe tbody tr th {\n",
              "        vertical-align: top;\n",
              "    }\n",
              "\n",
              "    .dataframe thead th {\n",
              "        text-align: right;\n",
              "    }\n",
              "</style>\n",
              "<table border=\"1\" class=\"dataframe\">\n",
              "  <thead>\n",
              "    <tr style=\"text-align: right;\">\n",
              "      <th></th>\n",
              "      <th>Open</th>\n",
              "      <th>High</th>\n",
              "      <th>Low</th>\n",
              "      <th>Close</th>\n",
              "      <th>Volume</th>\n",
              "      <th>Dividends</th>\n",
              "      <th>Stock Splits</th>\n",
              "    </tr>\n",
              "    <tr>\n",
              "      <th>Date</th>\n",
              "      <th></th>\n",
              "      <th></th>\n",
              "      <th></th>\n",
              "      <th></th>\n",
              "      <th></th>\n",
              "      <th></th>\n",
              "      <th></th>\n",
              "    </tr>\n",
              "  </thead>\n",
              "  <tbody>\n",
              "    <tr>\n",
              "      <th>1999-01-22 00:00:00-05:00</th>\n",
              "      <td>0.401517</td>\n",
              "      <td>0.448121</td>\n",
              "      <td>0.356107</td>\n",
              "      <td>0.376422</td>\n",
              "      <td>271468800</td>\n",
              "      <td>0.0</td>\n",
              "      <td>0.0</td>\n",
              "    </tr>\n",
              "    <tr>\n",
              "      <th>1999-01-25 00:00:00-05:00</th>\n",
              "      <td>0.406296</td>\n",
              "      <td>0.420636</td>\n",
              "      <td>0.376422</td>\n",
              "      <td>0.415856</td>\n",
              "      <td>51048000</td>\n",
              "      <td>0.0</td>\n",
              "      <td>0.0</td>\n",
              "    </tr>\n",
              "    <tr>\n",
              "      <th>1999-01-26 00:00:00-05:00</th>\n",
              "      <td>0.420636</td>\n",
              "      <td>0.429001</td>\n",
              "      <td>0.377616</td>\n",
              "      <td>0.383592</td>\n",
              "      <td>34320000</td>\n",
              "      <td>0.0</td>\n",
              "      <td>0.0</td>\n",
              "    </tr>\n",
              "    <tr>\n",
              "      <th>1999-01-27 00:00:00-05:00</th>\n",
              "      <td>0.384787</td>\n",
              "      <td>0.394347</td>\n",
              "      <td>0.363276</td>\n",
              "      <td>0.382397</td>\n",
              "      <td>24436800</td>\n",
              "      <td>0.0</td>\n",
              "      <td>0.0</td>\n",
              "    </tr>\n",
              "    <tr>\n",
              "      <th>1999-01-28 00:00:00-05:00</th>\n",
              "      <td>0.382397</td>\n",
              "      <td>0.384787</td>\n",
              "      <td>0.378811</td>\n",
              "      <td>0.381202</td>\n",
              "      <td>22752000</td>\n",
              "      <td>0.0</td>\n",
              "      <td>0.0</td>\n",
              "    </tr>\n",
              "    <tr>\n",
              "      <th>...</th>\n",
              "      <td>...</td>\n",
              "      <td>...</td>\n",
              "      <td>...</td>\n",
              "      <td>...</td>\n",
              "      <td>...</td>\n",
              "      <td>...</td>\n",
              "      <td>...</td>\n",
              "    </tr>\n",
              "    <tr>\n",
              "      <th>2022-12-21 00:00:00-05:00</th>\n",
              "      <td>161.139999</td>\n",
              "      <td>166.270004</td>\n",
              "      <td>161.020004</td>\n",
              "      <td>165.009995</td>\n",
              "      <td>32502500</td>\n",
              "      <td>0.0</td>\n",
              "      <td>0.0</td>\n",
              "    </tr>\n",
              "    <tr>\n",
              "      <th>2022-12-22 00:00:00-05:00</th>\n",
              "      <td>160.940002</td>\n",
              "      <td>161.380005</td>\n",
              "      <td>148.820007</td>\n",
              "      <td>153.389999</td>\n",
              "      <td>56504500</td>\n",
              "      <td>0.0</td>\n",
              "      <td>0.0</td>\n",
              "    </tr>\n",
              "    <tr>\n",
              "      <th>2022-12-23 00:00:00-05:00</th>\n",
              "      <td>151.960007</td>\n",
              "      <td>153.389999</td>\n",
              "      <td>148.830002</td>\n",
              "      <td>152.059998</td>\n",
              "      <td>34910900</td>\n",
              "      <td>0.0</td>\n",
              "      <td>0.0</td>\n",
              "    </tr>\n",
              "    <tr>\n",
              "      <th>2022-12-27 00:00:00-05:00</th>\n",
              "      <td>150.740005</td>\n",
              "      <td>151.000000</td>\n",
              "      <td>140.559998</td>\n",
              "      <td>141.210007</td>\n",
              "      <td>46490200</td>\n",
              "      <td>0.0</td>\n",
              "      <td>0.0</td>\n",
              "    </tr>\n",
              "    <tr>\n",
              "      <th>2022-12-28 00:00:00-05:00</th>\n",
              "      <td>139.270004</td>\n",
              "      <td>142.619995</td>\n",
              "      <td>138.839996</td>\n",
              "      <td>140.360001</td>\n",
              "      <td>35066700</td>\n",
              "      <td>0.0</td>\n",
              "      <td>0.0</td>\n",
              "    </tr>\n",
              "  </tbody>\n",
              "</table>\n",
              "<p>6024 rows × 7 columns</p>\n",
              "</div>\n",
              "      <button class=\"colab-df-convert\" onclick=\"convertToInteractive('df-9deef338-5964-4607-885d-fa2fcb9c5e36')\"\n",
              "              title=\"Convert this dataframe to an interactive table.\"\n",
              "              style=\"display:none;\">\n",
              "        \n",
              "  <svg xmlns=\"http://www.w3.org/2000/svg\" height=\"24px\"viewBox=\"0 0 24 24\"\n",
              "       width=\"24px\">\n",
              "    <path d=\"M0 0h24v24H0V0z\" fill=\"none\"/>\n",
              "    <path d=\"M18.56 5.44l.94 2.06.94-2.06 2.06-.94-2.06-.94-.94-2.06-.94 2.06-2.06.94zm-11 1L8.5 8.5l.94-2.06 2.06-.94-2.06-.94L8.5 2.5l-.94 2.06-2.06.94zm10 10l.94 2.06.94-2.06 2.06-.94-2.06-.94-.94-2.06-.94 2.06-2.06.94z\"/><path d=\"M17.41 7.96l-1.37-1.37c-.4-.4-.92-.59-1.43-.59-.52 0-1.04.2-1.43.59L10.3 9.45l-7.72 7.72c-.78.78-.78 2.05 0 2.83L4 21.41c.39.39.9.59 1.41.59.51 0 1.02-.2 1.41-.59l7.78-7.78 2.81-2.81c.8-.78.8-2.07 0-2.86zM5.41 20L4 18.59l7.72-7.72 1.47 1.35L5.41 20z\"/>\n",
              "  </svg>\n",
              "      </button>\n",
              "      \n",
              "  <style>\n",
              "    .colab-df-container {\n",
              "      display:flex;\n",
              "      flex-wrap:wrap;\n",
              "      gap: 12px;\n",
              "    }\n",
              "\n",
              "    .colab-df-convert {\n",
              "      background-color: #E8F0FE;\n",
              "      border: none;\n",
              "      border-radius: 50%;\n",
              "      cursor: pointer;\n",
              "      display: none;\n",
              "      fill: #1967D2;\n",
              "      height: 32px;\n",
              "      padding: 0 0 0 0;\n",
              "      width: 32px;\n",
              "    }\n",
              "\n",
              "    .colab-df-convert:hover {\n",
              "      background-color: #E2EBFA;\n",
              "      box-shadow: 0px 1px 2px rgba(60, 64, 67, 0.3), 0px 1px 3px 1px rgba(60, 64, 67, 0.15);\n",
              "      fill: #174EA6;\n",
              "    }\n",
              "\n",
              "    [theme=dark] .colab-df-convert {\n",
              "      background-color: #3B4455;\n",
              "      fill: #D2E3FC;\n",
              "    }\n",
              "\n",
              "    [theme=dark] .colab-df-convert:hover {\n",
              "      background-color: #434B5C;\n",
              "      box-shadow: 0px 1px 3px 1px rgba(0, 0, 0, 0.15);\n",
              "      filter: drop-shadow(0px 1px 2px rgba(0, 0, 0, 0.3));\n",
              "      fill: #FFFFFF;\n",
              "    }\n",
              "  </style>\n",
              "\n",
              "      <script>\n",
              "        const buttonEl =\n",
              "          document.querySelector('#df-9deef338-5964-4607-885d-fa2fcb9c5e36 button.colab-df-convert');\n",
              "        buttonEl.style.display =\n",
              "          google.colab.kernel.accessAllowed ? 'block' : 'none';\n",
              "\n",
              "        async function convertToInteractive(key) {\n",
              "          const element = document.querySelector('#df-9deef338-5964-4607-885d-fa2fcb9c5e36');\n",
              "          const dataTable =\n",
              "            await google.colab.kernel.invokeFunction('convertToInteractive',\n",
              "                                                     [key], {});\n",
              "          if (!dataTable) return;\n",
              "\n",
              "          const docLinkHtml = 'Like what you see? Visit the ' +\n",
              "            '<a target=\"_blank\" href=https://colab.research.google.com/notebooks/data_table.ipynb>data table notebook</a>'\n",
              "            + ' to learn more about interactive tables.';\n",
              "          element.innerHTML = '';\n",
              "          dataTable['output_type'] = 'display_data';\n",
              "          await google.colab.output.renderOutput(dataTable, element);\n",
              "          const docLink = document.createElement('div');\n",
              "          docLink.innerHTML = docLinkHtml;\n",
              "          element.appendChild(docLink);\n",
              "        }\n",
              "      </script>\n",
              "    </div>\n",
              "  </div>\n",
              "  "
            ]
          },
          "metadata": {},
          "execution_count": 5
        }
      ]
    },
    {
      "cell_type": "markdown",
      "source": [
        "## Model n°1 - Bitcoin\n",
        "\n",
        "NVIDIA GPUs are excellent graphic cards for **crypto mining**. Following this idea, we want to see whether the trend of the NVIDIA stock can be predicted by including in the model the trend of one of the most popular cryptocurrency: **Bitcoin**. "
      ],
      "metadata": {
        "id": "altpuOUPzShL"
      }
    },
    {
      "cell_type": "markdown",
      "source": [
        "We start by importing all the available historical data  about bitcoin from Yahoo Finance. "
      ],
      "metadata": {
        "id": "S6nqE7EE21Bw"
      }
    },
    {
      "cell_type": "code",
      "source": [
        "bitcoin = yf.Ticker('BTC')\n",
        "bitcoin = bitcoin.history(period='max')"
      ],
      "metadata": {
        "id": "p-Ei7jOLaPJY"
      },
      "execution_count": 6,
      "outputs": []
    },
    {
      "cell_type": "code",
      "source": [
        "bitcoin"
      ],
      "metadata": {
        "id": "ezoVmpSya0fT",
        "colab": {
          "base_uri": "https://localhost:8080/",
          "height": 455
        },
        "outputId": "d1f0e8ff-a488-4644-9e43-2b1212084e59"
      },
      "execution_count": 7,
      "outputs": [
        {
          "output_type": "execute_result",
          "data": {
            "text/plain": [
              "                                 Open        High         Low       Close  \\\n",
              "Date                                                                        \n",
              "2020-10-01 00:00:00-04:00  100.000000  100.000000  100.000000  100.000000   \n",
              "2020-10-02 00:00:00-04:00  100.000000  100.000000  100.000000  100.000000   \n",
              "2020-10-05 00:00:00-04:00  100.029999  100.040001   99.995003   99.995003   \n",
              "2020-10-06 00:00:00-04:00  100.010002  100.029999  100.010002  100.029999   \n",
              "2020-10-07 00:00:00-04:00   99.949997   99.959999   99.919998   99.919998   \n",
              "...                               ...         ...         ...         ...   \n",
              "2022-12-21 00:00:00-05:00   90.965698   90.965698   90.965698   90.965698   \n",
              "2022-12-22 00:00:00-05:00   90.945198   90.945198   90.945198   90.945198   \n",
              "2022-12-23 00:00:00-05:00   90.771004   90.804497   90.760002   90.804497   \n",
              "2022-12-27 00:00:00-05:00   90.509598   90.509598   90.509598   90.509598   \n",
              "2022-12-28 00:00:00-05:00   90.420998   90.434700   90.420998   90.434700   \n",
              "\n",
              "                           Volume  Dividends  Stock Splits  Capital Gains  \n",
              "Date                                                                       \n",
              "2020-10-01 00:00:00-04:00       0        0.0           0.0            0.0  \n",
              "2020-10-02 00:00:00-04:00       0        0.0           0.0            0.0  \n",
              "2020-10-05 00:00:00-04:00   10725        0.0           0.0            0.0  \n",
              "2020-10-06 00:00:00-04:00   10080        0.0           0.0            0.0  \n",
              "2020-10-07 00:00:00-04:00    6350        0.0           0.0            0.0  \n",
              "...                           ...        ...           ...            ...  \n",
              "2022-12-21 00:00:00-05:00     171        0.0           0.0            0.0  \n",
              "2022-12-22 00:00:00-05:00       2        0.0           0.0            0.0  \n",
              "2022-12-23 00:00:00-05:00    1308        0.0           0.0            0.0  \n",
              "2022-12-27 00:00:00-05:00      15        0.0           0.0            0.0  \n",
              "2022-12-28 00:00:00-05:00     168        0.0           0.0            0.0  \n",
              "\n",
              "[565 rows x 8 columns]"
            ],
            "text/html": [
              "\n",
              "  <div id=\"df-77461238-2510-4d9c-b184-78ded9ff7bf9\">\n",
              "    <div class=\"colab-df-container\">\n",
              "      <div>\n",
              "<style scoped>\n",
              "    .dataframe tbody tr th:only-of-type {\n",
              "        vertical-align: middle;\n",
              "    }\n",
              "\n",
              "    .dataframe tbody tr th {\n",
              "        vertical-align: top;\n",
              "    }\n",
              "\n",
              "    .dataframe thead th {\n",
              "        text-align: right;\n",
              "    }\n",
              "</style>\n",
              "<table border=\"1\" class=\"dataframe\">\n",
              "  <thead>\n",
              "    <tr style=\"text-align: right;\">\n",
              "      <th></th>\n",
              "      <th>Open</th>\n",
              "      <th>High</th>\n",
              "      <th>Low</th>\n",
              "      <th>Close</th>\n",
              "      <th>Volume</th>\n",
              "      <th>Dividends</th>\n",
              "      <th>Stock Splits</th>\n",
              "      <th>Capital Gains</th>\n",
              "    </tr>\n",
              "    <tr>\n",
              "      <th>Date</th>\n",
              "      <th></th>\n",
              "      <th></th>\n",
              "      <th></th>\n",
              "      <th></th>\n",
              "      <th></th>\n",
              "      <th></th>\n",
              "      <th></th>\n",
              "      <th></th>\n",
              "    </tr>\n",
              "  </thead>\n",
              "  <tbody>\n",
              "    <tr>\n",
              "      <th>2020-10-01 00:00:00-04:00</th>\n",
              "      <td>100.000000</td>\n",
              "      <td>100.000000</td>\n",
              "      <td>100.000000</td>\n",
              "      <td>100.000000</td>\n",
              "      <td>0</td>\n",
              "      <td>0.0</td>\n",
              "      <td>0.0</td>\n",
              "      <td>0.0</td>\n",
              "    </tr>\n",
              "    <tr>\n",
              "      <th>2020-10-02 00:00:00-04:00</th>\n",
              "      <td>100.000000</td>\n",
              "      <td>100.000000</td>\n",
              "      <td>100.000000</td>\n",
              "      <td>100.000000</td>\n",
              "      <td>0</td>\n",
              "      <td>0.0</td>\n",
              "      <td>0.0</td>\n",
              "      <td>0.0</td>\n",
              "    </tr>\n",
              "    <tr>\n",
              "      <th>2020-10-05 00:00:00-04:00</th>\n",
              "      <td>100.029999</td>\n",
              "      <td>100.040001</td>\n",
              "      <td>99.995003</td>\n",
              "      <td>99.995003</td>\n",
              "      <td>10725</td>\n",
              "      <td>0.0</td>\n",
              "      <td>0.0</td>\n",
              "      <td>0.0</td>\n",
              "    </tr>\n",
              "    <tr>\n",
              "      <th>2020-10-06 00:00:00-04:00</th>\n",
              "      <td>100.010002</td>\n",
              "      <td>100.029999</td>\n",
              "      <td>100.010002</td>\n",
              "      <td>100.029999</td>\n",
              "      <td>10080</td>\n",
              "      <td>0.0</td>\n",
              "      <td>0.0</td>\n",
              "      <td>0.0</td>\n",
              "    </tr>\n",
              "    <tr>\n",
              "      <th>2020-10-07 00:00:00-04:00</th>\n",
              "      <td>99.949997</td>\n",
              "      <td>99.959999</td>\n",
              "      <td>99.919998</td>\n",
              "      <td>99.919998</td>\n",
              "      <td>6350</td>\n",
              "      <td>0.0</td>\n",
              "      <td>0.0</td>\n",
              "      <td>0.0</td>\n",
              "    </tr>\n",
              "    <tr>\n",
              "      <th>...</th>\n",
              "      <td>...</td>\n",
              "      <td>...</td>\n",
              "      <td>...</td>\n",
              "      <td>...</td>\n",
              "      <td>...</td>\n",
              "      <td>...</td>\n",
              "      <td>...</td>\n",
              "      <td>...</td>\n",
              "    </tr>\n",
              "    <tr>\n",
              "      <th>2022-12-21 00:00:00-05:00</th>\n",
              "      <td>90.965698</td>\n",
              "      <td>90.965698</td>\n",
              "      <td>90.965698</td>\n",
              "      <td>90.965698</td>\n",
              "      <td>171</td>\n",
              "      <td>0.0</td>\n",
              "      <td>0.0</td>\n",
              "      <td>0.0</td>\n",
              "    </tr>\n",
              "    <tr>\n",
              "      <th>2022-12-22 00:00:00-05:00</th>\n",
              "      <td>90.945198</td>\n",
              "      <td>90.945198</td>\n",
              "      <td>90.945198</td>\n",
              "      <td>90.945198</td>\n",
              "      <td>2</td>\n",
              "      <td>0.0</td>\n",
              "      <td>0.0</td>\n",
              "      <td>0.0</td>\n",
              "    </tr>\n",
              "    <tr>\n",
              "      <th>2022-12-23 00:00:00-05:00</th>\n",
              "      <td>90.771004</td>\n",
              "      <td>90.804497</td>\n",
              "      <td>90.760002</td>\n",
              "      <td>90.804497</td>\n",
              "      <td>1308</td>\n",
              "      <td>0.0</td>\n",
              "      <td>0.0</td>\n",
              "      <td>0.0</td>\n",
              "    </tr>\n",
              "    <tr>\n",
              "      <th>2022-12-27 00:00:00-05:00</th>\n",
              "      <td>90.509598</td>\n",
              "      <td>90.509598</td>\n",
              "      <td>90.509598</td>\n",
              "      <td>90.509598</td>\n",
              "      <td>15</td>\n",
              "      <td>0.0</td>\n",
              "      <td>0.0</td>\n",
              "      <td>0.0</td>\n",
              "    </tr>\n",
              "    <tr>\n",
              "      <th>2022-12-28 00:00:00-05:00</th>\n",
              "      <td>90.420998</td>\n",
              "      <td>90.434700</td>\n",
              "      <td>90.420998</td>\n",
              "      <td>90.434700</td>\n",
              "      <td>168</td>\n",
              "      <td>0.0</td>\n",
              "      <td>0.0</td>\n",
              "      <td>0.0</td>\n",
              "    </tr>\n",
              "  </tbody>\n",
              "</table>\n",
              "<p>565 rows × 8 columns</p>\n",
              "</div>\n",
              "      <button class=\"colab-df-convert\" onclick=\"convertToInteractive('df-77461238-2510-4d9c-b184-78ded9ff7bf9')\"\n",
              "              title=\"Convert this dataframe to an interactive table.\"\n",
              "              style=\"display:none;\">\n",
              "        \n",
              "  <svg xmlns=\"http://www.w3.org/2000/svg\" height=\"24px\"viewBox=\"0 0 24 24\"\n",
              "       width=\"24px\">\n",
              "    <path d=\"M0 0h24v24H0V0z\" fill=\"none\"/>\n",
              "    <path d=\"M18.56 5.44l.94 2.06.94-2.06 2.06-.94-2.06-.94-.94-2.06-.94 2.06-2.06.94zm-11 1L8.5 8.5l.94-2.06 2.06-.94-2.06-.94L8.5 2.5l-.94 2.06-2.06.94zm10 10l.94 2.06.94-2.06 2.06-.94-2.06-.94-.94-2.06-.94 2.06-2.06.94z\"/><path d=\"M17.41 7.96l-1.37-1.37c-.4-.4-.92-.59-1.43-.59-.52 0-1.04.2-1.43.59L10.3 9.45l-7.72 7.72c-.78.78-.78 2.05 0 2.83L4 21.41c.39.39.9.59 1.41.59.51 0 1.02-.2 1.41-.59l7.78-7.78 2.81-2.81c.8-.78.8-2.07 0-2.86zM5.41 20L4 18.59l7.72-7.72 1.47 1.35L5.41 20z\"/>\n",
              "  </svg>\n",
              "      </button>\n",
              "      \n",
              "  <style>\n",
              "    .colab-df-container {\n",
              "      display:flex;\n",
              "      flex-wrap:wrap;\n",
              "      gap: 12px;\n",
              "    }\n",
              "\n",
              "    .colab-df-convert {\n",
              "      background-color: #E8F0FE;\n",
              "      border: none;\n",
              "      border-radius: 50%;\n",
              "      cursor: pointer;\n",
              "      display: none;\n",
              "      fill: #1967D2;\n",
              "      height: 32px;\n",
              "      padding: 0 0 0 0;\n",
              "      width: 32px;\n",
              "    }\n",
              "\n",
              "    .colab-df-convert:hover {\n",
              "      background-color: #E2EBFA;\n",
              "      box-shadow: 0px 1px 2px rgba(60, 64, 67, 0.3), 0px 1px 3px 1px rgba(60, 64, 67, 0.15);\n",
              "      fill: #174EA6;\n",
              "    }\n",
              "\n",
              "    [theme=dark] .colab-df-convert {\n",
              "      background-color: #3B4455;\n",
              "      fill: #D2E3FC;\n",
              "    }\n",
              "\n",
              "    [theme=dark] .colab-df-convert:hover {\n",
              "      background-color: #434B5C;\n",
              "      box-shadow: 0px 1px 3px 1px rgba(0, 0, 0, 0.15);\n",
              "      filter: drop-shadow(0px 1px 2px rgba(0, 0, 0, 0.3));\n",
              "      fill: #FFFFFF;\n",
              "    }\n",
              "  </style>\n",
              "\n",
              "      <script>\n",
              "        const buttonEl =\n",
              "          document.querySelector('#df-77461238-2510-4d9c-b184-78ded9ff7bf9 button.colab-df-convert');\n",
              "        buttonEl.style.display =\n",
              "          google.colab.kernel.accessAllowed ? 'block' : 'none';\n",
              "\n",
              "        async function convertToInteractive(key) {\n",
              "          const element = document.querySelector('#df-77461238-2510-4d9c-b184-78ded9ff7bf9');\n",
              "          const dataTable =\n",
              "            await google.colab.kernel.invokeFunction('convertToInteractive',\n",
              "                                                     [key], {});\n",
              "          if (!dataTable) return;\n",
              "\n",
              "          const docLinkHtml = 'Like what you see? Visit the ' +\n",
              "            '<a target=\"_blank\" href=https://colab.research.google.com/notebooks/data_table.ipynb>data table notebook</a>'\n",
              "            + ' to learn more about interactive tables.';\n",
              "          element.innerHTML = '';\n",
              "          dataTable['output_type'] = 'display_data';\n",
              "          await google.colab.output.renderOutput(dataTable, element);\n",
              "          const docLink = document.createElement('div');\n",
              "          docLink.innerHTML = docLinkHtml;\n",
              "          element.appendChild(docLink);\n",
              "        }\n",
              "      </script>\n",
              "    </div>\n",
              "  </div>\n",
              "  "
            ]
          },
          "metadata": {},
          "execution_count": 7
        }
      ]
    },
    {
      "cell_type": "code",
      "source": [
        "print(len(bitcoin))"
      ],
      "metadata": {
        "colab": {
          "base_uri": "https://localhost:8080/"
        },
        "id": "gau1aaF5Om1L",
        "outputId": "bff38a4a-be3d-4c14-8f3f-c3e39a468afb"
      },
      "execution_count": 8,
      "outputs": [
        {
          "output_type": "stream",
          "name": "stdout",
          "text": [
            "565\n"
          ]
        }
      ]
    },
    {
      "cell_type": "code",
      "source": [
        "nvidia.index"
      ],
      "metadata": {
        "id": "eQgLSGl4GF4I",
        "colab": {
          "base_uri": "https://localhost:8080/"
        },
        "outputId": "125c0b37-10fd-41ba-8a98-78550e9deda4"
      },
      "execution_count": 9,
      "outputs": [
        {
          "output_type": "execute_result",
          "data": {
            "text/plain": [
              "DatetimeIndex(['1999-01-22 00:00:00-05:00', '1999-01-25 00:00:00-05:00',\n",
              "               '1999-01-26 00:00:00-05:00', '1999-01-27 00:00:00-05:00',\n",
              "               '1999-01-28 00:00:00-05:00', '1999-01-29 00:00:00-05:00',\n",
              "               '1999-02-01 00:00:00-05:00', '1999-02-02 00:00:00-05:00',\n",
              "               '1999-02-03 00:00:00-05:00', '1999-02-04 00:00:00-05:00',\n",
              "               ...\n",
              "               '2022-12-14 00:00:00-05:00', '2022-12-15 00:00:00-05:00',\n",
              "               '2022-12-16 00:00:00-05:00', '2022-12-19 00:00:00-05:00',\n",
              "               '2022-12-20 00:00:00-05:00', '2022-12-21 00:00:00-05:00',\n",
              "               '2022-12-22 00:00:00-05:00', '2022-12-23 00:00:00-05:00',\n",
              "               '2022-12-27 00:00:00-05:00', '2022-12-28 00:00:00-05:00'],\n",
              "              dtype='datetime64[ns, America/New_York]', name='Date', length=6024, freq=None)"
            ]
          },
          "metadata": {},
          "execution_count": 9
        }
      ]
    },
    {
      "cell_type": "markdown",
      "source": [
        "### Data Understanding\n",
        "\n",
        "We plot the trend of the nvidia stock over the last 300 trading days and we compare it with the trend of bitcoin over the same period in order spot similarities and commonalities."
      ],
      "metadata": {
        "id": "sFPz9imk4rM1"
      }
    },
    {
      "cell_type": "code",
      "source": [
        "nvidia.iloc[-300:].plot.line(y='Close', use_index=True)"
      ],
      "metadata": {
        "colab": {
          "base_uri": "https://localhost:8080/",
          "height": 294
        },
        "id": "pJ_myxCFGVz4",
        "outputId": "f4286d89-4fa6-4530-a1be-94f57640777b"
      },
      "execution_count": 10,
      "outputs": [
        {
          "output_type": "execute_result",
          "data": {
            "text/plain": [
              "<matplotlib.axes._subplots.AxesSubplot at 0x7fdea8d8a6d0>"
            ]
          },
          "metadata": {},
          "execution_count": 10
        },
        {
          "output_type": "display_data",
          "data": {
            "text/plain": [
              "<Figure size 432x288 with 1 Axes>"
            ],
            "image/png": "[encoded data removed]"
          },
          "metadata": {
            "needs_background": "light"
          }
        }
      ]
    },
    {
      "cell_type": "code",
      "source": [
        "bitcoin.iloc[-300:].plot.line(y='Close', use_index=True)"
      ],
      "metadata": {
        "colab": {
          "base_uri": "https://localhost:8080/",
          "height": 294
        },
        "id": "DBnLqNXJbDeO",
        "outputId": "d683d7b9-abcd-4c21-8ca5-7833a62758bf"
      },
      "execution_count": 11,
      "outputs": [
        {
          "output_type": "execute_result",
          "data": {
            "text/plain": [
              "<matplotlib.axes._subplots.AxesSubplot at 0x7fdea8c81d00>"
            ]
          },
          "metadata": {},
          "execution_count": 11
        },
        {
          "output_type": "display_data",
          "data": {
            "text/plain": [
              "<Figure size 432x288 with 1 Axes>"
            ],
            "image/png": "[encoded data removed]"
          },
          "metadata": {
            "needs_background": "light"
          }
        }
      ]
    },
    {
      "cell_type": "markdown",
      "source": [
        "### ETL\n",
        "\n",
        "We clean data by eliminating useless columns (dividends and stock splits) and we create a new column `t1` which stores the closing price of the stock on the day after."
      ],
      "metadata": {
        "id": "7A-K4sC5FRSA"
      }
    },
    {
      "cell_type": "code",
      "source": [
        "del nvidia['Dividends']\n",
        "del nvidia['Stock Splits']"
      ],
      "metadata": {
        "id": "asQ-wO5fGhiT"
      },
      "execution_count": 12,
      "outputs": []
    },
    {
      "cell_type": "code",
      "source": [
        "nvidia['t1'] = nvidia['Close'].shift(-1)"
      ],
      "metadata": {
        "id": "pMiTu1_7GuMv"
      },
      "execution_count": 13,
      "outputs": []
    },
    {
      "cell_type": "code",
      "source": [
        "nvidia"
      ],
      "metadata": {
        "colab": {
          "base_uri": "https://localhost:8080/",
          "height": 455
        },
        "id": "IO0IiYzlHHsn",
        "outputId": "fe49b797-0c01-4bc8-cf03-875f0342967d"
      },
      "execution_count": 14,
      "outputs": [
        {
          "output_type": "execute_result",
          "data": {
            "text/plain": [
              "                                 Open        High         Low       Close  \\\n",
              "Date                                                                        \n",
              "1999-01-22 00:00:00-05:00    0.401517    0.448121    0.356107    0.376422   \n",
              "1999-01-25 00:00:00-05:00    0.406296    0.420636    0.376422    0.415856   \n",
              "1999-01-26 00:00:00-05:00    0.420636    0.429001    0.377616    0.383592   \n",
              "1999-01-27 00:00:00-05:00    0.384787    0.394347    0.363276    0.382397   \n",
              "1999-01-28 00:00:00-05:00    0.382397    0.384787    0.378811    0.381202   \n",
              "...                               ...         ...         ...         ...   \n",
              "2022-12-21 00:00:00-05:00  161.139999  166.270004  161.020004  165.009995   \n",
              "2022-12-22 00:00:00-05:00  160.940002  161.380005  148.820007  153.389999   \n",
              "2022-12-23 00:00:00-05:00  151.960007  153.389999  148.830002  152.059998   \n",
              "2022-12-27 00:00:00-05:00  150.740005  151.000000  140.559998  141.210007   \n",
              "2022-12-28 00:00:00-05:00  139.270004  142.619995  138.839996  140.360001   \n",
              "\n",
              "                              Volume          t1  \n",
              "Date                                              \n",
              "1999-01-22 00:00:00-05:00  271468800    0.415856  \n",
              "1999-01-25 00:00:00-05:00   51048000    0.383592  \n",
              "1999-01-26 00:00:00-05:00   34320000    0.382397  \n",
              "1999-01-27 00:00:00-05:00   24436800    0.381202  \n",
              "1999-01-28 00:00:00-05:00   22752000    0.363277  \n",
              "...                              ...         ...  \n",
              "2022-12-21 00:00:00-05:00   32502500  153.389999  \n",
              "2022-12-22 00:00:00-05:00   56504500  152.059998  \n",
              "2022-12-23 00:00:00-05:00   34910900  141.210007  \n",
              "2022-12-27 00:00:00-05:00   46490200  140.360001  \n",
              "2022-12-28 00:00:00-05:00   35066700         NaN  \n",
              "\n",
              "[6024 rows x 6 columns]"
            ],
            "text/html": [
              "\n",
              "  <div id=\"df-5842a80b-2963-4104-b9ef-f67b1f6d803a\">\n",
              "    <div class=\"colab-df-container\">\n",
              "      <div>\n",
              "<style scoped>\n",
              "    .dataframe tbody tr th:only-of-type {\n",
              "        vertical-align: middle;\n",
              "    }\n",
              "\n",
              "    .dataframe tbody tr th {\n",
              "        vertical-align: top;\n",
              "    }\n",
              "\n",
              "    .dataframe thead th {\n",
              "        text-align: right;\n",
              "    }\n",
              "</style>\n",
              "<table border=\"1\" class=\"dataframe\">\n",
              "  <thead>\n",
              "    <tr style=\"text-align: right;\">\n",
              "      <th></th>\n",
              "      <th>Open</th>\n",
              "      <th>High</th>\n",
              "      <th>Low</th>\n",
              "      <th>Close</th>\n",
              "      <th>Volume</th>\n",
              "      <th>t1</th>\n",
              "    </tr>\n",
              "    <tr>\n",
              "      <th>Date</th>\n",
              "      <th></th>\n",
              "      <th></th>\n",
              "      <th></th>\n",
              "      <th></th>\n",
              "      <th></th>\n",
              "      <th></th>\n",
              "    </tr>\n",
              "  </thead>\n",
              "  <tbody>\n",
              "    <tr>\n",
              "      <th>1999-01-22 00:00:00-05:00</th>\n",
              "      <td>0.401517</td>\n",
              "      <td>0.448121</td>\n",
              "      <td>0.356107</td>\n",
              "      <td>0.376422</td>\n",
              "      <td>271468800</td>\n",
              "      <td>0.415856</td>\n",
              "    </tr>\n",
              "    <tr>\n",
              "      <th>1999-01-25 00:00:00-05:00</th>\n",
              "      <td>0.406296</td>\n",
              "      <td>0.420636</td>\n",
              "      <td>0.376422</td>\n",
              "      <td>0.415856</td>\n",
              "      <td>51048000</td>\n",
              "      <td>0.383592</td>\n",
              "    </tr>\n",
              "    <tr>\n",
              "      <th>1999-01-26 00:00:00-05:00</th>\n",
              "      <td>0.420636</td>\n",
              "      <td>0.429001</td>\n",
              "      <td>0.377616</td>\n",
              "      <td>0.383592</td>\n",
              "      <td>34320000</td>\n",
              "      <td>0.382397</td>\n",
              "    </tr>\n",
              "    <tr>\n",
              "      <th>1999-01-27 00:00:00-05:00</th>\n",
              "      <td>0.384787</td>\n",
              "      <td>0.394347</td>\n",
              "      <td>0.363276</td>\n",
              "      <td>0.382397</td>\n",
              "      <td>24436800</td>\n",
              "      <td>0.381202</td>\n",
              "    </tr>\n",
              "    <tr>\n",
              "      <th>1999-01-28 00:00:00-05:00</th>\n",
              "      <td>0.382397</td>\n",
              "      <td>0.384787</td>\n",
              "      <td>0.378811</td>\n",
              "      <td>0.381202</td>\n",
              "      <td>22752000</td>\n",
              "      <td>0.363277</td>\n",
              "    </tr>\n",
              "    <tr>\n",
              "      <th>...</th>\n",
              "      <td>...</td>\n",
              "      <td>...</td>\n",
              "      <td>...</td>\n",
              "      <td>...</td>\n",
              "      <td>...</td>\n",
              "      <td>...</td>\n",
              "    </tr>\n",
              "    <tr>\n",
              "      <th>2022-12-21 00:00:00-05:00</th>\n",
              "      <td>161.139999</td>\n",
              "      <td>166.270004</td>\n",
              "      <td>161.020004</td>\n",
              "      <td>165.009995</td>\n",
              "      <td>32502500</td>\n",
              "      <td>153.389999</td>\n",
              "    </tr>\n",
              "    <tr>\n",
              "      <th>2022-12-22 00:00:00-05:00</th>\n",
              "      <td>160.940002</td>\n",
              "      <td>161.380005</td>\n",
              "      <td>148.820007</td>\n",
              "      <td>153.389999</td>\n",
              "      <td>56504500</td>\n",
              "      <td>152.059998</td>\n",
              "    </tr>\n",
              "    <tr>\n",
              "      <th>2022-12-23 00:00:00-05:00</th>\n",
              "      <td>151.960007</td>\n",
              "      <td>153.389999</td>\n",
              "      <td>148.830002</td>\n",
              "      <td>152.059998</td>\n",
              "      <td>34910900</td>\n",
              "      <td>141.210007</td>\n",
              "    </tr>\n",
              "    <tr>\n",
              "      <th>2022-12-27 00:00:00-05:00</th>\n",
              "      <td>150.740005</td>\n",
              "      <td>151.000000</td>\n",
              "      <td>140.559998</td>\n",
              "      <td>141.210007</td>\n",
              "      <td>46490200</td>\n",
              "      <td>140.360001</td>\n",
              "    </tr>\n",
              "    <tr>\n",
              "      <th>2022-12-28 00:00:00-05:00</th>\n",
              "      <td>139.270004</td>\n",
              "      <td>142.619995</td>\n",
              "      <td>138.839996</td>\n",
              "      <td>140.360001</td>\n",
              "      <td>35066700</td>\n",
              "      <td>NaN</td>\n",
              "    </tr>\n",
              "  </tbody>\n",
              "</table>\n",
              "<p>6024 rows × 6 columns</p>\n",
              "</div>\n",
              "      <button class=\"colab-df-convert\" onclick=\"convertToInteractive('df-5842a80b-2963-4104-b9ef-f67b1f6d803a')\"\n",
              "              title=\"Convert this dataframe to an interactive table.\"\n",
              "              style=\"display:none;\">\n",
              "        \n",
              "  <svg xmlns=\"http://www.w3.org/2000/svg\" height=\"24px\"viewBox=\"0 0 24 24\"\n",
              "       width=\"24px\">\n",
              "    <path d=\"M0 0h24v24H0V0z\" fill=\"none\"/>\n",
              "    <path d=\"M18.56 5.44l.94 2.06.94-2.06 2.06-.94-2.06-.94-.94-2.06-.94 2.06-2.06.94zm-11 1L8.5 8.5l.94-2.06 2.06-.94-2.06-.94L8.5 2.5l-.94 2.06-2.06.94zm10 10l.94 2.06.94-2.06 2.06-.94-2.06-.94-.94-2.06-.94 2.06-2.06.94z\"/><path d=\"M17.41 7.96l-1.37-1.37c-.4-.4-.92-.59-1.43-.59-.52 0-1.04.2-1.43.59L10.3 9.45l-7.72 7.72c-.78.78-.78 2.05 0 2.83L4 21.41c.39.39.9.59 1.41.59.51 0 1.02-.2 1.41-.59l7.78-7.78 2.81-2.81c.8-.78.8-2.07 0-2.86zM5.41 20L4 18.59l7.72-7.72 1.47 1.35L5.41 20z\"/>\n",
              "  </svg>\n",
              "      </button>\n",
              "      \n",
              "  <style>\n",
              "    .colab-df-container {\n",
              "      display:flex;\n",
              "      flex-wrap:wrap;\n",
              "      gap: 12px;\n",
              "    }\n",
              "\n",
              "    .colab-df-convert {\n",
              "      background-color: #E8F0FE;\n",
              "      border: none;\n",
              "      border-radius: 50%;\n",
              "      cursor: pointer;\n",
              "      display: none;\n",
              "      fill: #1967D2;\n",
              "      height: 32px;\n",
              "      padding: 0 0 0 0;\n",
              "      width: 32px;\n",
              "    }\n",
              "\n",
              "    .colab-df-convert:hover {\n",
              "      background-color: #E2EBFA;\n",
              "      box-shadow: 0px 1px 2px rgba(60, 64, 67, 0.3), 0px 1px 3px 1px rgba(60, 64, 67, 0.15);\n",
              "      fill: #174EA6;\n",
              "    }\n",
              "\n",
              "    [theme=dark] .colab-df-convert {\n",
              "      background-color: #3B4455;\n",
              "      fill: #D2E3FC;\n",
              "    }\n",
              "\n",
              "    [theme=dark] .colab-df-convert:hover {\n",
              "      background-color: #434B5C;\n",
              "      box-shadow: 0px 1px 3px 1px rgba(0, 0, 0, 0.15);\n",
              "      filter: drop-shadow(0px 1px 2px rgba(0, 0, 0, 0.3));\n",
              "      fill: #FFFFFF;\n",
              "    }\n",
              "  </style>\n",
              "\n",
              "      <script>\n",
              "        const buttonEl =\n",
              "          document.querySelector('#df-5842a80b-2963-4104-b9ef-f67b1f6d803a button.colab-df-convert');\n",
              "        buttonEl.style.display =\n",
              "          google.colab.kernel.accessAllowed ? 'block' : 'none';\n",
              "\n",
              "        async function convertToInteractive(key) {\n",
              "          const element = document.querySelector('#df-5842a80b-2963-4104-b9ef-f67b1f6d803a');\n",
              "          const dataTable =\n",
              "            await google.colab.kernel.invokeFunction('convertToInteractive',\n",
              "                                                     [key], {});\n",
              "          if (!dataTable) return;\n",
              "\n",
              "          const docLinkHtml = 'Like what you see? Visit the ' +\n",
              "            '<a target=\"_blank\" href=https://colab.research.google.com/notebooks/data_table.ipynb>data table notebook</a>'\n",
              "            + ' to learn more about interactive tables.';\n",
              "          element.innerHTML = '';\n",
              "          dataTable['output_type'] = 'display_data';\n",
              "          await google.colab.output.renderOutput(dataTable, element);\n",
              "          const docLink = document.createElement('div');\n",
              "          docLink.innerHTML = docLinkHtml;\n",
              "          element.appendChild(docLink);\n",
              "        }\n",
              "      </script>\n",
              "    </div>\n",
              "  </div>\n",
              "  "
            ]
          },
          "metadata": {},
          "execution_count": 14
        }
      ]
    },
    {
      "cell_type": "markdown",
      "source": [
        "### Target\n",
        "\n",
        "We add the column `Target` which takes value 0 and 1. \n",
        "\n",
        "- When the closing price during time *t1* is higher than the closing price on *t*, the target value will be one: **buy**\n",
        "- When the closing price during time *t1* is lower than the closing price in *t*, the target value will be zero: **sell**"
      ],
      "metadata": {
        "id": "xk-Q1JoqHKdo"
      }
    },
    {
      "cell_type": "code",
      "source": [
        "nvidia['Target'] = (nvidia['t1'] > nvidia['Close']).astype(int)"
      ],
      "metadata": {
        "id": "8VVeXxHIHOIk"
      },
      "execution_count": 15,
      "outputs": []
    },
    {
      "cell_type": "code",
      "source": [
        "nvidia"
      ],
      "metadata": {
        "colab": {
          "base_uri": "https://localhost:8080/",
          "height": 455
        },
        "id": "_ENwwdgmHYbR",
        "outputId": "67a70284-ac88-4b26-d0d9-44d894e97c0c"
      },
      "execution_count": 16,
      "outputs": [
        {
          "output_type": "execute_result",
          "data": {
            "text/plain": [
              "                                 Open        High         Low       Close  \\\n",
              "Date                                                                        \n",
              "1999-01-22 00:00:00-05:00    0.401517    0.448121    0.356107    0.376422   \n",
              "1999-01-25 00:00:00-05:00    0.406296    0.420636    0.376422    0.415856   \n",
              "1999-01-26 00:00:00-05:00    0.420636    0.429001    0.377616    0.383592   \n",
              "1999-01-27 00:00:00-05:00    0.384787    0.394347    0.363276    0.382397   \n",
              "1999-01-28 00:00:00-05:00    0.382397    0.384787    0.378811    0.381202   \n",
              "...                               ...         ...         ...         ...   \n",
              "2022-12-21 00:00:00-05:00  161.139999  166.270004  161.020004  165.009995   \n",
              "2022-12-22 00:00:00-05:00  160.940002  161.380005  148.820007  153.389999   \n",
              "2022-12-23 00:00:00-05:00  151.960007  153.389999  148.830002  152.059998   \n",
              "2022-12-27 00:00:00-05:00  150.740005  151.000000  140.559998  141.210007   \n",
              "2022-12-28 00:00:00-05:00  139.270004  142.619995  138.839996  140.360001   \n",
              "\n",
              "                              Volume          t1  Target  \n",
              "Date                                                      \n",
              "1999-01-22 00:00:00-05:00  271468800    0.415856       1  \n",
              "1999-01-25 00:00:00-05:00   51048000    0.383592       0  \n",
              "1999-01-26 00:00:00-05:00   34320000    0.382397       0  \n",
              "1999-01-27 00:00:00-05:00   24436800    0.381202       0  \n",
              "1999-01-28 00:00:00-05:00   22752000    0.363277       0  \n",
              "...                              ...         ...     ...  \n",
              "2022-12-21 00:00:00-05:00   32502500  153.389999       0  \n",
              "2022-12-22 00:00:00-05:00   56504500  152.059998       0  \n",
              "2022-12-23 00:00:00-05:00   34910900  141.210007       0  \n",
              "2022-12-27 00:00:00-05:00   46490200  140.360001       0  \n",
              "2022-12-28 00:00:00-05:00   35066700         NaN       0  \n",
              "\n",
              "[6024 rows x 7 columns]"
            ],
            "text/html": [
              "\n",
              "  <div id=\"df-9887acd4-6ef8-40b9-a667-950b55d5b409\">\n",
              "    <div class=\"colab-df-container\">\n",
              "      <div>\n",
              "<style scoped>\n",
              "    .dataframe tbody tr th:only-of-type {\n",
              "        vertical-align: middle;\n",
              "    }\n",
              "\n",
              "    .dataframe tbody tr th {\n",
              "        vertical-align: top;\n",
              "    }\n",
              "\n",
              "    .dataframe thead th {\n",
              "        text-align: right;\n",
              "    }\n",
              "</style>\n",
              "<table border=\"1\" class=\"dataframe\">\n",
              "  <thead>\n",
              "    <tr style=\"text-align: right;\">\n",
              "      <th></th>\n",
              "      <th>Open</th>\n",
              "      <th>High</th>\n",
              "      <th>Low</th>\n",
              "      <th>Close</th>\n",
              "      <th>Volume</th>\n",
              "      <th>t1</th>\n",
              "      <th>Target</th>\n",
              "    </tr>\n",
              "    <tr>\n",
              "      <th>Date</th>\n",
              "      <th></th>\n",
              "      <th></th>\n",
              "      <th></th>\n",
              "      <th></th>\n",
              "      <th></th>\n",
              "      <th></th>\n",
              "      <th></th>\n",
              "    </tr>\n",
              "  </thead>\n",
              "  <tbody>\n",
              "    <tr>\n",
              "      <th>1999-01-22 00:00:00-05:00</th>\n",
              "      <td>0.401517</td>\n",
              "      <td>0.448121</td>\n",
              "      <td>0.356107</td>\n",
              "      <td>0.376422</td>\n",
              "      <td>271468800</td>\n",
              "      <td>0.415856</td>\n",
              "      <td>1</td>\n",
              "    </tr>\n",
              "    <tr>\n",
              "      <th>1999-01-25 00:00:00-05:00</th>\n",
              "      <td>0.406296</td>\n",
              "      <td>0.420636</td>\n",
              "      <td>0.376422</td>\n",
              "      <td>0.415856</td>\n",
              "      <td>51048000</td>\n",
              "      <td>0.383592</td>\n",
              "      <td>0</td>\n",
              "    </tr>\n",
              "    <tr>\n",
              "      <th>1999-01-26 00:00:00-05:00</th>\n",
              "      <td>0.420636</td>\n",
              "      <td>0.429001</td>\n",
              "      <td>0.377616</td>\n",
              "      <td>0.383592</td>\n",
              "      <td>34320000</td>\n",
              "      <td>0.382397</td>\n",
              "      <td>0</td>\n",
              "    </tr>\n",
              "    <tr>\n",
              "      <th>1999-01-27 00:00:00-05:00</th>\n",
              "      <td>0.384787</td>\n",
              "      <td>0.394347</td>\n",
              "      <td>0.363276</td>\n",
              "      <td>0.382397</td>\n",
              "      <td>24436800</td>\n",
              "      <td>0.381202</td>\n",
              "      <td>0</td>\n",
              "    </tr>\n",
              "    <tr>\n",
              "      <th>1999-01-28 00:00:00-05:00</th>\n",
              "      <td>0.382397</td>\n",
              "      <td>0.384787</td>\n",
              "      <td>0.378811</td>\n",
              "      <td>0.381202</td>\n",
              "      <td>22752000</td>\n",
              "      <td>0.363277</td>\n",
              "      <td>0</td>\n",
              "    </tr>\n",
              "    <tr>\n",
              "      <th>...</th>\n",
              "      <td>...</td>\n",
              "      <td>...</td>\n",
              "      <td>...</td>\n",
              "      <td>...</td>\n",
              "      <td>...</td>\n",
              "      <td>...</td>\n",
              "      <td>...</td>\n",
              "    </tr>\n",
              "    <tr>\n",
              "      <th>2022-12-21 00:00:00-05:00</th>\n",
              "      <td>161.139999</td>\n",
              "      <td>166.270004</td>\n",
              "      <td>161.020004</td>\n",
              "      <td>165.009995</td>\n",
              "      <td>32502500</td>\n",
              "      <td>153.389999</td>\n",
              "      <td>0</td>\n",
              "    </tr>\n",
              "    <tr>\n",
              "      <th>2022-12-22 00:00:00-05:00</th>\n",
              "      <td>160.940002</td>\n",
              "      <td>161.380005</td>\n",
              "      <td>148.820007</td>\n",
              "      <td>153.389999</td>\n",
              "      <td>56504500</td>\n",
              "      <td>152.059998</td>\n",
              "      <td>0</td>\n",
              "    </tr>\n",
              "    <tr>\n",
              "      <th>2022-12-23 00:00:00-05:00</th>\n",
              "      <td>151.960007</td>\n",
              "      <td>153.389999</td>\n",
              "      <td>148.830002</td>\n",
              "      <td>152.059998</td>\n",
              "      <td>34910900</td>\n",
              "      <td>141.210007</td>\n",
              "      <td>0</td>\n",
              "    </tr>\n",
              "    <tr>\n",
              "      <th>2022-12-27 00:00:00-05:00</th>\n",
              "      <td>150.740005</td>\n",
              "      <td>151.000000</td>\n",
              "      <td>140.559998</td>\n",
              "      <td>141.210007</td>\n",
              "      <td>46490200</td>\n",
              "      <td>140.360001</td>\n",
              "      <td>0</td>\n",
              "    </tr>\n",
              "    <tr>\n",
              "      <th>2022-12-28 00:00:00-05:00</th>\n",
              "      <td>139.270004</td>\n",
              "      <td>142.619995</td>\n",
              "      <td>138.839996</td>\n",
              "      <td>140.360001</td>\n",
              "      <td>35066700</td>\n",
              "      <td>NaN</td>\n",
              "      <td>0</td>\n",
              "    </tr>\n",
              "  </tbody>\n",
              "</table>\n",
              "<p>6024 rows × 7 columns</p>\n",
              "</div>\n",
              "      <button class=\"colab-df-convert\" onclick=\"convertToInteractive('df-9887acd4-6ef8-40b9-a667-950b55d5b409')\"\n",
              "              title=\"Convert this dataframe to an interactive table.\"\n",
              "              style=\"display:none;\">\n",
              "        \n",
              "  <svg xmlns=\"http://www.w3.org/2000/svg\" height=\"24px\"viewBox=\"0 0 24 24\"\n",
              "       width=\"24px\">\n",
              "    <path d=\"M0 0h24v24H0V0z\" fill=\"none\"/>\n",
              "    <path d=\"M18.56 5.44l.94 2.06.94-2.06 2.06-.94-2.06-.94-.94-2.06-.94 2.06-2.06.94zm-11 1L8.5 8.5l.94-2.06 2.06-.94-2.06-.94L8.5 2.5l-.94 2.06-2.06.94zm10 10l.94 2.06.94-2.06 2.06-.94-2.06-.94-.94-2.06-.94 2.06-2.06.94z\"/><path d=\"M17.41 7.96l-1.37-1.37c-.4-.4-.92-.59-1.43-.59-.52 0-1.04.2-1.43.59L10.3 9.45l-7.72 7.72c-.78.78-.78 2.05 0 2.83L4 21.41c.39.39.9.59 1.41.59.51 0 1.02-.2 1.41-.59l7.78-7.78 2.81-2.81c.8-.78.8-2.07 0-2.86zM5.41 20L4 18.59l7.72-7.72 1.47 1.35L5.41 20z\"/>\n",
              "  </svg>\n",
              "      </button>\n",
              "      \n",
              "  <style>\n",
              "    .colab-df-container {\n",
              "      display:flex;\n",
              "      flex-wrap:wrap;\n",
              "      gap: 12px;\n",
              "    }\n",
              "\n",
              "    .colab-df-convert {\n",
              "      background-color: #E8F0FE;\n",
              "      border: none;\n",
              "      border-radius: 50%;\n",
              "      cursor: pointer;\n",
              "      display: none;\n",
              "      fill: #1967D2;\n",
              "      height: 32px;\n",
              "      padding: 0 0 0 0;\n",
              "      width: 32px;\n",
              "    }\n",
              "\n",
              "    .colab-df-convert:hover {\n",
              "      background-color: #E2EBFA;\n",
              "      box-shadow: 0px 1px 2px rgba(60, 64, 67, 0.3), 0px 1px 3px 1px rgba(60, 64, 67, 0.15);\n",
              "      fill: #174EA6;\n",
              "    }\n",
              "\n",
              "    [theme=dark] .colab-df-convert {\n",
              "      background-color: #3B4455;\n",
              "      fill: #D2E3FC;\n",
              "    }\n",
              "\n",
              "    [theme=dark] .colab-df-convert:hover {\n",
              "      background-color: #434B5C;\n",
              "      box-shadow: 0px 1px 3px 1px rgba(0, 0, 0, 0.15);\n",
              "      filter: drop-shadow(0px 1px 2px rgba(0, 0, 0, 0.3));\n",
              "      fill: #FFFFFF;\n",
              "    }\n",
              "  </style>\n",
              "\n",
              "      <script>\n",
              "        const buttonEl =\n",
              "          document.querySelector('#df-9887acd4-6ef8-40b9-a667-950b55d5b409 button.colab-df-convert');\n",
              "        buttonEl.style.display =\n",
              "          google.colab.kernel.accessAllowed ? 'block' : 'none';\n",
              "\n",
              "        async function convertToInteractive(key) {\n",
              "          const element = document.querySelector('#df-9887acd4-6ef8-40b9-a667-950b55d5b409');\n",
              "          const dataTable =\n",
              "            await google.colab.kernel.invokeFunction('convertToInteractive',\n",
              "                                                     [key], {});\n",
              "          if (!dataTable) return;\n",
              "\n",
              "          const docLinkHtml = 'Like what you see? Visit the ' +\n",
              "            '<a target=\"_blank\" href=https://colab.research.google.com/notebooks/data_table.ipynb>data table notebook</a>'\n",
              "            + ' to learn more about interactive tables.';\n",
              "          element.innerHTML = '';\n",
              "          dataTable['output_type'] = 'display_data';\n",
              "          await google.colab.output.renderOutput(dataTable, element);\n",
              "          const docLink = document.createElement('div');\n",
              "          docLink.innerHTML = docLinkHtml;\n",
              "          element.appendChild(docLink);\n",
              "        }\n",
              "      </script>\n",
              "    </div>\n",
              "  </div>\n",
              "  "
            ]
          },
          "metadata": {},
          "execution_count": 16
        }
      ]
    },
    {
      "cell_type": "markdown",
      "source": [
        "### Merge data\n",
        "\n",
        "We create a unique dataframe containing data both from NVIDIA and bitcoin."
      ],
      "metadata": {
        "id": "JJsV5VxvLZQm"
      }
    },
    {
      "cell_type": "code",
      "source": [
        "bitcoin.rename(columns = {'Close': 'Close_B', 'High': 'High_B', 'Low': 'Low_B', \n",
        "                       'Adj Close': 'Adj Close_B', 'Volume': 'Volume_B', 'Open': 'Open_B'}, \n",
        "            inplace = True)"
      ],
      "metadata": {
        "id": "DD9lzU40fnrE"
      },
      "execution_count": 17,
      "outputs": []
    },
    {
      "cell_type": "code",
      "source": [
        "bitcoin['t1_B'] = bitcoin['Close_B'].shift(-1)"
      ],
      "metadata": {
        "id": "lG3vbW5dKPbC"
      },
      "execution_count": 18,
      "outputs": []
    },
    {
      "cell_type": "code",
      "source": [
        "bitcoin['Target_B'] = (bitcoin['t1_B'] > bitcoin['Close_B']).astype(int)"
      ],
      "metadata": {
        "id": "QQQhUx-JKcfM"
      },
      "execution_count": 19,
      "outputs": []
    },
    {
      "cell_type": "code",
      "source": [
        "del bitcoin['Dividends']\n",
        "del bitcoin['Stock Splits']"
      ],
      "metadata": {
        "id": "O3kH0e1BgMzc"
      },
      "execution_count": 20,
      "outputs": []
    },
    {
      "cell_type": "code",
      "source": [
        "bitcoin"
      ],
      "metadata": {
        "colab": {
          "base_uri": "https://localhost:8080/",
          "height": 455
        },
        "id": "6SZg8ph_gG1K",
        "outputId": "35367c04-bb97-47c7-c10b-246cc39d4608"
      },
      "execution_count": 21,
      "outputs": [
        {
          "output_type": "execute_result",
          "data": {
            "text/plain": [
              "                               Open_B      High_B       Low_B     Close_B  \\\n",
              "Date                                                                        \n",
              "2020-10-01 00:00:00-04:00  100.000000  100.000000  100.000000  100.000000   \n",
              "2020-10-02 00:00:00-04:00  100.000000  100.000000  100.000000  100.000000   \n",
              "2020-10-05 00:00:00-04:00  100.029999  100.040001   99.995003   99.995003   \n",
              "2020-10-06 00:00:00-04:00  100.010002  100.029999  100.010002  100.029999   \n",
              "2020-10-07 00:00:00-04:00   99.949997   99.959999   99.919998   99.919998   \n",
              "...                               ...         ...         ...         ...   \n",
              "2022-12-21 00:00:00-05:00   90.965698   90.965698   90.965698   90.965698   \n",
              "2022-12-22 00:00:00-05:00   90.945198   90.945198   90.945198   90.945198   \n",
              "2022-12-23 00:00:00-05:00   90.771004   90.804497   90.760002   90.804497   \n",
              "2022-12-27 00:00:00-05:00   90.509598   90.509598   90.509598   90.509598   \n",
              "2022-12-28 00:00:00-05:00   90.420998   90.434700   90.420998   90.434700   \n",
              "\n",
              "                           Volume_B  Capital Gains        t1_B  Target_B  \n",
              "Date                                                                      \n",
              "2020-10-01 00:00:00-04:00         0            0.0  100.000000         0  \n",
              "2020-10-02 00:00:00-04:00         0            0.0   99.995003         0  \n",
              "2020-10-05 00:00:00-04:00     10725            0.0  100.029999         1  \n",
              "2020-10-06 00:00:00-04:00     10080            0.0   99.919998         0  \n",
              "2020-10-07 00:00:00-04:00      6350            0.0   99.995003         1  \n",
              "...                             ...            ...         ...       ...  \n",
              "2022-12-21 00:00:00-05:00       171            0.0   90.945198         0  \n",
              "2022-12-22 00:00:00-05:00         2            0.0   90.804497         0  \n",
              "2022-12-23 00:00:00-05:00      1308            0.0   90.509598         0  \n",
              "2022-12-27 00:00:00-05:00        15            0.0   90.434700         0  \n",
              "2022-12-28 00:00:00-05:00       168            0.0         NaN         0  \n",
              "\n",
              "[565 rows x 8 columns]"
            ],
            "text/html": [
              "\n",
              "  <div id=\"df-2f91d6a2-bb35-4fde-bbd6-232b05ac9f37\">\n",
              "    <div class=\"colab-df-container\">\n",
              "      <div>\n",
              "<style scoped>\n",
              "    .dataframe tbody tr th:only-of-type {\n",
              "        vertical-align: middle;\n",
              "    }\n",
              "\n",
              "    .dataframe tbody tr th {\n",
              "        vertical-align: top;\n",
              "    }\n",
              "\n",
              "    .dataframe thead th {\n",
              "        text-align: right;\n",
              "    }\n",
              "</style>\n",
              "<table border=\"1\" class=\"dataframe\">\n",
              "  <thead>\n",
              "    <tr style=\"text-align: right;\">\n",
              "      <th></th>\n",
              "      <th>Open_B</th>\n",
              "      <th>High_B</th>\n",
              "      <th>Low_B</th>\n",
              "      <th>Close_B</th>\n",
              "      <th>Volume_B</th>\n",
              "      <th>Capital Gains</th>\n",
              "      <th>t1_B</th>\n",
              "      <th>Target_B</th>\n",
              "    </tr>\n",
              "    <tr>\n",
              "      <th>Date</th>\n",
              "      <th></th>\n",
              "      <th></th>\n",
              "      <th></th>\n",
              "      <th></th>\n",
              "      <th></th>\n",
              "      <th></th>\n",
              "      <th></th>\n",
              "      <th></th>\n",
              "    </tr>\n",
              "  </thead>\n",
              "  <tbody>\n",
              "    <tr>\n",
              "      <th>2020-10-01 00:00:00-04:00</th>\n",
              "      <td>100.000000</td>\n",
              "      <td>100.000000</td>\n",
              "      <td>100.000000</td>\n",
              "      <td>100.000000</td>\n",
              "      <td>0</td>\n",
              "      <td>0.0</td>\n",
              "      <td>100.000000</td>\n",
              "      <td>0</td>\n",
              "    </tr>\n",
              "    <tr>\n",
              "      <th>2020-10-02 00:00:00-04:00</th>\n",
              "      <td>100.000000</td>\n",
              "      <td>100.000000</td>\n",
              "      <td>100.000000</td>\n",
              "      <td>100.000000</td>\n",
              "      <td>0</td>\n",
              "      <td>0.0</td>\n",
              "      <td>99.995003</td>\n",
              "      <td>0</td>\n",
              "    </tr>\n",
              "    <tr>\n",
              "      <th>2020-10-05 00:00:00-04:00</th>\n",
              "      <td>100.029999</td>\n",
              "      <td>100.040001</td>\n",
              "      <td>99.995003</td>\n",
              "      <td>99.995003</td>\n",
              "      <td>10725</td>\n",
              "      <td>0.0</td>\n",
              "      <td>100.029999</td>\n",
              "      <td>1</td>\n",
              "    </tr>\n",
              "    <tr>\n",
              "      <th>2020-10-06 00:00:00-04:00</th>\n",
              "      <td>100.010002</td>\n",
              "      <td>100.029999</td>\n",
              "      <td>100.010002</td>\n",
              "      <td>100.029999</td>\n",
              "      <td>10080</td>\n",
              "      <td>0.0</td>\n",
              "      <td>99.919998</td>\n",
              "      <td>0</td>\n",
              "    </tr>\n",
              "    <tr>\n",
              "      <th>2020-10-07 00:00:00-04:00</th>\n",
              "      <td>99.949997</td>\n",
              "      <td>99.959999</td>\n",
              "      <td>99.919998</td>\n",
              "      <td>99.919998</td>\n",
              "      <td>6350</td>\n",
              "      <td>0.0</td>\n",
              "      <td>99.995003</td>\n",
              "      <td>1</td>\n",
              "    </tr>\n",
              "    <tr>\n",
              "      <th>...</th>\n",
              "      <td>...</td>\n",
              "      <td>...</td>\n",
              "      <td>...</td>\n",
              "      <td>...</td>\n",
              "      <td>...</td>\n",
              "      <td>...</td>\n",
              "      <td>...</td>\n",
              "      <td>...</td>\n",
              "    </tr>\n",
              "    <tr>\n",
              "      <th>2022-12-21 00:00:00-05:00</th>\n",
              "      <td>90.965698</td>\n",
              "      <td>90.965698</td>\n",
              "      <td>90.965698</td>\n",
              "      <td>90.965698</td>\n",
              "      <td>171</td>\n",
              "      <td>0.0</td>\n",
              "      <td>90.945198</td>\n",
              "      <td>0</td>\n",
              "    </tr>\n",
              "    <tr>\n",
              "      <th>2022-12-22 00:00:00-05:00</th>\n",
              "      <td>90.945198</td>\n",
              "      <td>90.945198</td>\n",
              "      <td>90.945198</td>\n",
              "      <td>90.945198</td>\n",
              "      <td>2</td>\n",
              "      <td>0.0</td>\n",
              "      <td>90.804497</td>\n",
              "      <td>0</td>\n",
              "    </tr>\n",
              "    <tr>\n",
              "      <th>2022-12-23 00:00:00-05:00</th>\n",
              "      <td>90.771004</td>\n",
              "      <td>90.804497</td>\n",
              "      <td>90.760002</td>\n",
              "      <td>90.804497</td>\n",
              "      <td>1308</td>\n",
              "      <td>0.0</td>\n",
              "      <td>90.509598</td>\n",
              "      <td>0</td>\n",
              "    </tr>\n",
              "    <tr>\n",
              "      <th>2022-12-27 00:00:00-05:00</th>\n",
              "      <td>90.509598</td>\n",
              "      <td>90.509598</td>\n",
              "      <td>90.509598</td>\n",
              "      <td>90.509598</td>\n",
              "      <td>15</td>\n",
              "      <td>0.0</td>\n",
              "      <td>90.434700</td>\n",
              "      <td>0</td>\n",
              "    </tr>\n",
              "    <tr>\n",
              "      <th>2022-12-28 00:00:00-05:00</th>\n",
              "      <td>90.420998</td>\n",
              "      <td>90.434700</td>\n",
              "      <td>90.420998</td>\n",
              "      <td>90.434700</td>\n",
              "      <td>168</td>\n",
              "      <td>0.0</td>\n",
              "      <td>NaN</td>\n",
              "      <td>0</td>\n",
              "    </tr>\n",
              "  </tbody>\n",
              "</table>\n",
              "<p>565 rows × 8 columns</p>\n",
              "</div>\n",
              "      <button class=\"colab-df-convert\" onclick=\"convertToInteractive('df-2f91d6a2-bb35-4fde-bbd6-232b05ac9f37')\"\n",
              "              title=\"Convert this dataframe to an interactive table.\"\n",
              "              style=\"display:none;\">\n",
              "        \n",
              "  <svg xmlns=\"http://www.w3.org/2000/svg\" height=\"24px\"viewBox=\"0 0 24 24\"\n",
              "       width=\"24px\">\n",
              "    <path d=\"M0 0h24v24H0V0z\" fill=\"none\"/>\n",
              "    <path d=\"M18.56 5.44l.94 2.06.94-2.06 2.06-.94-2.06-.94-.94-2.06-.94 2.06-2.06.94zm-11 1L8.5 8.5l.94-2.06 2.06-.94-2.06-.94L8.5 2.5l-.94 2.06-2.06.94zm10 10l.94 2.06.94-2.06 2.06-.94-2.06-.94-.94-2.06-.94 2.06-2.06.94z\"/><path d=\"M17.41 7.96l-1.37-1.37c-.4-.4-.92-.59-1.43-.59-.52 0-1.04.2-1.43.59L10.3 9.45l-7.72 7.72c-.78.78-.78 2.05 0 2.83L4 21.41c.39.39.9.59 1.41.59.51 0 1.02-.2 1.41-.59l7.78-7.78 2.81-2.81c.8-.78.8-2.07 0-2.86zM5.41 20L4 18.59l7.72-7.72 1.47 1.35L5.41 20z\"/>\n",
              "  </svg>\n",
              "      </button>\n",
              "      \n",
              "  <style>\n",
              "    .colab-df-container {\n",
              "      display:flex;\n",
              "      flex-wrap:wrap;\n",
              "      gap: 12px;\n",
              "    }\n",
              "\n",
              "    .colab-df-convert {\n",
              "      background-color: #E8F0FE;\n",
              "      border: none;\n",
              "      border-radius: 50%;\n",
              "      cursor: pointer;\n",
              "      display: none;\n",
              "      fill: #1967D2;\n",
              "      height: 32px;\n",
              "      padding: 0 0 0 0;\n",
              "      width: 32px;\n",
              "    }\n",
              "\n",
              "    .colab-df-convert:hover {\n",
              "      background-color: #E2EBFA;\n",
              "      box-shadow: 0px 1px 2px rgba(60, 64, 67, 0.3), 0px 1px 3px 1px rgba(60, 64, 67, 0.15);\n",
              "      fill: #174EA6;\n",
              "    }\n",
              "\n",
              "    [theme=dark] .colab-df-convert {\n",
              "      background-color: #3B4455;\n",
              "      fill: #D2E3FC;\n",
              "    }\n",
              "\n",
              "    [theme=dark] .colab-df-convert:hover {\n",
              "      background-color: #434B5C;\n",
              "      box-shadow: 0px 1px 3px 1px rgba(0, 0, 0, 0.15);\n",
              "      filter: drop-shadow(0px 1px 2px rgba(0, 0, 0, 0.3));\n",
              "      fill: #FFFFFF;\n",
              "    }\n",
              "  </style>\n",
              "\n",
              "      <script>\n",
              "        const buttonEl =\n",
              "          document.querySelector('#df-2f91d6a2-bb35-4fde-bbd6-232b05ac9f37 button.colab-df-convert');\n",
              "        buttonEl.style.display =\n",
              "          google.colab.kernel.accessAllowed ? 'block' : 'none';\n",
              "\n",
              "        async function convertToInteractive(key) {\n",
              "          const element = document.querySelector('#df-2f91d6a2-bb35-4fde-bbd6-232b05ac9f37');\n",
              "          const dataTable =\n",
              "            await google.colab.kernel.invokeFunction('convertToInteractive',\n",
              "                                                     [key], {});\n",
              "          if (!dataTable) return;\n",
              "\n",
              "          const docLinkHtml = 'Like what you see? Visit the ' +\n",
              "            '<a target=\"_blank\" href=https://colab.research.google.com/notebooks/data_table.ipynb>data table notebook</a>'\n",
              "            + ' to learn more about interactive tables.';\n",
              "          element.innerHTML = '';\n",
              "          dataTable['output_type'] = 'display_data';\n",
              "          await google.colab.output.renderOutput(dataTable, element);\n",
              "          const docLink = document.createElement('div');\n",
              "          docLink.innerHTML = docLinkHtml;\n",
              "          element.appendChild(docLink);\n",
              "        }\n",
              "      </script>\n",
              "    </div>\n",
              "  </div>\n",
              "  "
            ]
          },
          "metadata": {},
          "execution_count": 21
        }
      ]
    },
    {
      "cell_type": "code",
      "source": [
        "nvidia = nvidia.merge(bitcoin, how='inner', on='Date')"
      ],
      "metadata": {
        "id": "USqCfB8wLXRq"
      },
      "execution_count": 22,
      "outputs": []
    },
    {
      "cell_type": "code",
      "source": [
        "nvidia"
      ],
      "metadata": {
        "colab": {
          "base_uri": "https://localhost:8080/",
          "height": 499
        },
        "id": "xx38MExSLdfZ",
        "outputId": "218ed3cc-520b-43f9-b7a9-58a84c0bb5cb"
      },
      "execution_count": 23,
      "outputs": [
        {
          "output_type": "execute_result",
          "data": {
            "text/plain": [
              "                                 Open        High         Low       Close  \\\n",
              "Date                                                                        \n",
              "2020-10-01 00:00:00-04:00  137.290961  137.338362  134.324702  135.858978   \n",
              "2020-10-02 00:00:00-04:00  131.972198  134.911019  130.235847  130.348114   \n",
              "2020-10-05 00:00:00-04:00  132.081920  136.155847  131.949691  136.138382   \n",
              "2020-10-06 00:00:00-04:00  138.009465  141.122905  136.362922  137.076431   \n",
              "2020-10-07 00:00:00-04:00  139.703396  140.895893  138.343756  139.346649   \n",
              "...                               ...         ...         ...         ...   \n",
              "2022-12-21 00:00:00-05:00  161.139999  166.270004  161.020004  165.009995   \n",
              "2022-12-22 00:00:00-05:00  160.940002  161.380005  148.820007  153.389999   \n",
              "2022-12-23 00:00:00-05:00  151.960007  153.389999  148.830002  152.059998   \n",
              "2022-12-27 00:00:00-05:00  150.740005  151.000000  140.559998  141.210007   \n",
              "2022-12-28 00:00:00-05:00  139.270004  142.619995  138.839996  140.360001   \n",
              "\n",
              "                             Volume          t1  Target      Open_B  \\\n",
              "Date                                                                  \n",
              "2020-10-01 00:00:00-04:00  52500400  130.348114       0  100.000000   \n",
              "2020-10-02 00:00:00-04:00  55249600  136.138382       1  100.000000   \n",
              "2020-10-05 00:00:00-04:00  47982000  137.076431       1  100.029999   \n",
              "2020-10-06 00:00:00-04:00  78442000  139.346649       1  100.010002   \n",
              "2020-10-07 00:00:00-04:00  41808400  138.096771       0   99.949997   \n",
              "...                             ...         ...     ...         ...   \n",
              "2022-12-21 00:00:00-05:00  32502500  153.389999       0   90.965698   \n",
              "2022-12-22 00:00:00-05:00  56504500  152.059998       0   90.945198   \n",
              "2022-12-23 00:00:00-05:00  34910900  141.210007       0   90.771004   \n",
              "2022-12-27 00:00:00-05:00  46490200  140.360001       0   90.509598   \n",
              "2022-12-28 00:00:00-05:00  35066700         NaN       0   90.420998   \n",
              "\n",
              "                               High_B       Low_B     Close_B  Volume_B  \\\n",
              "Date                                                                      \n",
              "2020-10-01 00:00:00-04:00  100.000000  100.000000  100.000000         0   \n",
              "2020-10-02 00:00:00-04:00  100.000000  100.000000  100.000000         0   \n",
              "2020-10-05 00:00:00-04:00  100.040001   99.995003   99.995003     10725   \n",
              "2020-10-06 00:00:00-04:00  100.029999  100.010002  100.029999     10080   \n",
              "2020-10-07 00:00:00-04:00   99.959999   99.919998   99.919998      6350   \n",
              "...                               ...         ...         ...       ...   \n",
              "2022-12-21 00:00:00-05:00   90.965698   90.965698   90.965698       171   \n",
              "2022-12-22 00:00:00-05:00   90.945198   90.945198   90.945198         2   \n",
              "2022-12-23 00:00:00-05:00   90.804497   90.760002   90.804497      1308   \n",
              "2022-12-27 00:00:00-05:00   90.509598   90.509598   90.509598        15   \n",
              "2022-12-28 00:00:00-05:00   90.434700   90.420998   90.434700       168   \n",
              "\n",
              "                           Capital Gains        t1_B  Target_B  \n",
              "Date                                                            \n",
              "2020-10-01 00:00:00-04:00            0.0  100.000000         0  \n",
              "2020-10-02 00:00:00-04:00            0.0   99.995003         0  \n",
              "2020-10-05 00:00:00-04:00            0.0  100.029999         1  \n",
              "2020-10-06 00:00:00-04:00            0.0   99.919998         0  \n",
              "2020-10-07 00:00:00-04:00            0.0   99.995003         1  \n",
              "...                                  ...         ...       ...  \n",
              "2022-12-21 00:00:00-05:00            0.0   90.945198         0  \n",
              "2022-12-22 00:00:00-05:00            0.0   90.804497         0  \n",
              "2022-12-23 00:00:00-05:00            0.0   90.509598         0  \n",
              "2022-12-27 00:00:00-05:00            0.0   90.434700         0  \n",
              "2022-12-28 00:00:00-05:00            0.0         NaN         0  \n",
              "\n",
              "[565 rows x 15 columns]"
            ],
            "text/html": [
              "\n",
              "  <div id=\"df-294a6af5-38b5-400b-9a2c-ab7732d5710e\">\n",
              "    <div class=\"colab-df-container\">\n",
              "      <div>\n",
              "<style scoped>\n",
              "    .dataframe tbody tr th:only-of-type {\n",
              "        vertical-align: middle;\n",
              "    }\n",
              "\n",
              "    .dataframe tbody tr th {\n",
              "        vertical-align: top;\n",
              "    }\n",
              "\n",
              "    .dataframe thead th {\n",
              "        text-align: right;\n",
              "    }\n",
              "</style>\n",
              "<table border=\"1\" class=\"dataframe\">\n",
              "  <thead>\n",
              "    <tr style=\"text-align: right;\">\n",
              "      <th></th>\n",
              "      <th>Open</th>\n",
              "      <th>High</th>\n",
              "      <th>Low</th>\n",
              "      <th>Close</th>\n",
              "      <th>Volume</th>\n",
              "      <th>t1</th>\n",
              "      <th>Target</th>\n",
              "      <th>Open_B</th>\n",
              "      <th>High_B</th>\n",
              "      <th>Low_B</th>\n",
              "      <th>Close_B</th>\n",
              "      <th>Volume_B</th>\n",
              "      <th>Capital Gains</th>\n",
              "      <th>t1_B</th>\n",
              "      <th>Target_B</th>\n",
              "    </tr>\n",
              "    <tr>\n",
              "      <th>Date</th>\n",
              "      <th></th>\n",
              "      <th></th>\n",
              "      <th></th>\n",
              "      <th></th>\n",
              "      <th></th>\n",
              "      <th></th>\n",
              "      <th></th>\n",
              "      <th></th>\n",
              "      <th></th>\n",
              "      <th></th>\n",
              "      <th></th>\n",
              "      <th></th>\n",
              "      <th></th>\n",
              "      <th></th>\n",
              "      <th></th>\n",
              "    </tr>\n",
              "  </thead>\n",
              "  <tbody>\n",
              "    <tr>\n",
              "      <th>2020-10-01 00:00:00-04:00</th>\n",
              "      <td>137.290961</td>\n",
              "      <td>137.338362</td>\n",
              "      <td>134.324702</td>\n",
              "      <td>135.858978</td>\n",
              "      <td>52500400</td>\n",
              "      <td>130.348114</td>\n",
              "      <td>0</td>\n",
              "      <td>100.000000</td>\n",
              "      <td>100.000000</td>\n",
              "      <td>100.000000</td>\n",
              "      <td>100.000000</td>\n",
              "      <td>0</td>\n",
              "      <td>0.0</td>\n",
              "      <td>100.000000</td>\n",
              "      <td>0</td>\n",
              "    </tr>\n",
              "    <tr>\n",
              "      <th>2020-10-02 00:00:00-04:00</th>\n",
              "      <td>131.972198</td>\n",
              "      <td>134.911019</td>\n",
              "      <td>130.235847</td>\n",
              "      <td>130.348114</td>\n",
              "      <td>55249600</td>\n",
              "      <td>136.138382</td>\n",
              "      <td>1</td>\n",
              "      <td>100.000000</td>\n",
              "      <td>100.000000</td>\n",
              "      <td>100.000000</td>\n",
              "      <td>100.000000</td>\n",
              "      <td>0</td>\n",
              "      <td>0.0</td>\n",
              "      <td>99.995003</td>\n",
              "      <td>0</td>\n",
              "    </tr>\n",
              "    <tr>\n",
              "      <th>2020-10-05 00:00:00-04:00</th>\n",
              "      <td>132.081920</td>\n",
              "      <td>136.155847</td>\n",
              "      <td>131.949691</td>\n",
              "      <td>136.138382</td>\n",
              "      <td>47982000</td>\n",
              "      <td>137.076431</td>\n",
              "      <td>1</td>\n",
              "      <td>100.029999</td>\n",
              "      <td>100.040001</td>\n",
              "      <td>99.995003</td>\n",
              "      <td>99.995003</td>\n",
              "      <td>10725</td>\n",
              "      <td>0.0</td>\n",
              "      <td>100.029999</td>\n",
              "      <td>1</td>\n",
              "    </tr>\n",
              "    <tr>\n",
              "      <th>2020-10-06 00:00:00-04:00</th>\n",
              "      <td>138.009465</td>\n",
              "      <td>141.122905</td>\n",
              "      <td>136.362922</td>\n",
              "      <td>137.076431</td>\n",
              "      <td>78442000</td>\n",
              "      <td>139.346649</td>\n",
              "      <td>1</td>\n",
              "      <td>100.010002</td>\n",
              "      <td>100.029999</td>\n",
              "      <td>100.010002</td>\n",
              "      <td>100.029999</td>\n",
              "      <td>10080</td>\n",
              "      <td>0.0</td>\n",
              "      <td>99.919998</td>\n",
              "      <td>0</td>\n",
              "    </tr>\n",
              "    <tr>\n",
              "      <th>2020-10-07 00:00:00-04:00</th>\n",
              "      <td>139.703396</td>\n",
              "      <td>140.895893</td>\n",
              "      <td>138.343756</td>\n",
              "      <td>139.346649</td>\n",
              "      <td>41808400</td>\n",
              "      <td>138.096771</td>\n",
              "      <td>0</td>\n",
              "      <td>99.949997</td>\n",
              "      <td>99.959999</td>\n",
              "      <td>99.919998</td>\n",
              "      <td>99.919998</td>\n",
              "      <td>6350</td>\n",
              "      <td>0.0</td>\n",
              "      <td>99.995003</td>\n",
              "      <td>1</td>\n",
              "    </tr>\n",
              "    <tr>\n",
              "      <th>...</th>\n",
              "      <td>...</td>\n",
              "      <td>...</td>\n",
              "      <td>...</td>\n",
              "      <td>...</td>\n",
              "      <td>...</td>\n",
              "      <td>...</td>\n",
              "      <td>...</td>\n",
              "      <td>...</td>\n",
              "      <td>...</td>\n",
              "      <td>...</td>\n",
              "      <td>...</td>\n",
              "      <td>...</td>\n",
              "      <td>...</td>\n",
              "      <td>...</td>\n",
              "      <td>...</td>\n",
              "    </tr>\n",
              "    <tr>\n",
              "      <th>2022-12-21 00:00:00-05:00</th>\n",
              "      <td>161.139999</td>\n",
              "      <td>166.270004</td>\n",
              "      <td>161.020004</td>\n",
              "      <td>165.009995</td>\n",
              "      <td>32502500</td>\n",
              "      <td>153.389999</td>\n",
              "      <td>0</td>\n",
              "      <td>90.965698</td>\n",
              "      <td>90.965698</td>\n",
              "      <td>90.965698</td>\n",
              "      <td>90.965698</td>\n",
              "      <td>171</td>\n",
              "      <td>0.0</td>\n",
              "      <td>90.945198</td>\n",
              "      <td>0</td>\n",
              "    </tr>\n",
              "    <tr>\n",
              "      <th>2022-12-22 00:00:00-05:00</th>\n",
              "      <td>160.940002</td>\n",
              "      <td>161.380005</td>\n",
              "      <td>148.820007</td>\n",
              "      <td>153.389999</td>\n",
              "      <td>56504500</td>\n",
              "      <td>152.059998</td>\n",
              "      <td>0</td>\n",
              "      <td>90.945198</td>\n",
              "      <td>90.945198</td>\n",
              "      <td>90.945198</td>\n",
              "      <td>90.945198</td>\n",
              "      <td>2</td>\n",
              "      <td>0.0</td>\n",
              "      <td>90.804497</td>\n",
              "      <td>0</td>\n",
              "    </tr>\n",
              "    <tr>\n",
              "      <th>2022-12-23 00:00:00-05:00</th>\n",
              "      <td>151.960007</td>\n",
              "      <td>153.389999</td>\n",
              "      <td>148.830002</td>\n",
              "      <td>152.059998</td>\n",
              "      <td>34910900</td>\n",
              "      <td>141.210007</td>\n",
              "      <td>0</td>\n",
              "      <td>90.771004</td>\n",
              "      <td>90.804497</td>\n",
              "      <td>90.760002</td>\n",
              "      <td>90.804497</td>\n",
              "      <td>1308</td>\n",
              "      <td>0.0</td>\n",
              "      <td>90.509598</td>\n",
              "      <td>0</td>\n",
              "    </tr>\n",
              "    <tr>\n",
              "      <th>2022-12-27 00:00:00-05:00</th>\n",
              "      <td>150.740005</td>\n",
              "      <td>151.000000</td>\n",
              "      <td>140.559998</td>\n",
              "      <td>141.210007</td>\n",
              "      <td>46490200</td>\n",
              "      <td>140.360001</td>\n",
              "      <td>0</td>\n",
              "      <td>90.509598</td>\n",
              "      <td>90.509598</td>\n",
              "      <td>90.509598</td>\n",
              "      <td>90.509598</td>\n",
              "      <td>15</td>\n",
              "      <td>0.0</td>\n",
              "      <td>90.434700</td>\n",
              "      <td>0</td>\n",
              "    </tr>\n",
              "    <tr>\n",
              "      <th>2022-12-28 00:00:00-05:00</th>\n",
              "      <td>139.270004</td>\n",
              "      <td>142.619995</td>\n",
              "      <td>138.839996</td>\n",
              "      <td>140.360001</td>\n",
              "      <td>35066700</td>\n",
              "      <td>NaN</td>\n",
              "      <td>0</td>\n",
              "      <td>90.420998</td>\n",
              "      <td>90.434700</td>\n",
              "      <td>90.420998</td>\n",
              "      <td>90.434700</td>\n",
              "      <td>168</td>\n",
              "      <td>0.0</td>\n",
              "      <td>NaN</td>\n",
              "      <td>0</td>\n",
              "    </tr>\n",
              "  </tbody>\n",
              "</table>\n",
              "<p>565 rows × 15 columns</p>\n",
              "</div>\n",
              "      <button class=\"colab-df-convert\" onclick=\"convertToInteractive('df-294a6af5-38b5-400b-9a2c-ab7732d5710e')\"\n",
              "              title=\"Convert this dataframe to an interactive table.\"\n",
              "              style=\"display:none;\">\n",
              "        \n",
              "  <svg xmlns=\"http://www.w3.org/2000/svg\" height=\"24px\"viewBox=\"0 0 24 24\"\n",
              "       width=\"24px\">\n",
              "    <path d=\"M0 0h24v24H0V0z\" fill=\"none\"/>\n",
              "    <path d=\"M18.56 5.44l.94 2.06.94-2.06 2.06-.94-2.06-.94-.94-2.06-.94 2.06-2.06.94zm-11 1L8.5 8.5l.94-2.06 2.06-.94-2.06-.94L8.5 2.5l-.94 2.06-2.06.94zm10 10l.94 2.06.94-2.06 2.06-.94-2.06-.94-.94-2.06-.94 2.06-2.06.94z\"/><path d=\"M17.41 7.96l-1.37-1.37c-.4-.4-.92-.59-1.43-.59-.52 0-1.04.2-1.43.59L10.3 9.45l-7.72 7.72c-.78.78-.78 2.05 0 2.83L4 21.41c.39.39.9.59 1.41.59.51 0 1.02-.2 1.41-.59l7.78-7.78 2.81-2.81c.8-.78.8-2.07 0-2.86zM5.41 20L4 18.59l7.72-7.72 1.47 1.35L5.41 20z\"/>\n",
              "  </svg>\n",
              "      </button>\n",
              "      \n",
              "  <style>\n",
              "    .colab-df-container {\n",
              "      display:flex;\n",
              "      flex-wrap:wrap;\n",
              "      gap: 12px;\n",
              "    }\n",
              "\n",
              "    .colab-df-convert {\n",
              "      background-color: #E8F0FE;\n",
              "      border: none;\n",
              "      border-radius: 50%;\n",
              "      cursor: pointer;\n",
              "      display: none;\n",
              "      fill: #1967D2;\n",
              "      height: 32px;\n",
              "      padding: 0 0 0 0;\n",
              "      width: 32px;\n",
              "    }\n",
              "\n",
              "    .colab-df-convert:hover {\n",
              "      background-color: #E2EBFA;\n",
              "      box-shadow: 0px 1px 2px rgba(60, 64, 67, 0.3), 0px 1px 3px 1px rgba(60, 64, 67, 0.15);\n",
              "      fill: #174EA6;\n",
              "    }\n",
              "\n",
              "    [theme=dark] .colab-df-convert {\n",
              "      background-color: #3B4455;\n",
              "      fill: #D2E3FC;\n",
              "    }\n",
              "\n",
              "    [theme=dark] .colab-df-convert:hover {\n",
              "      background-color: #434B5C;\n",
              "      box-shadow: 0px 1px 3px 1px rgba(0, 0, 0, 0.15);\n",
              "      filter: drop-shadow(0px 1px 2px rgba(0, 0, 0, 0.3));\n",
              "      fill: #FFFFFF;\n",
              "    }\n",
              "  </style>\n",
              "\n",
              "      <script>\n",
              "        const buttonEl =\n",
              "          document.querySelector('#df-294a6af5-38b5-400b-9a2c-ab7732d5710e button.colab-df-convert');\n",
              "        buttonEl.style.display =\n",
              "          google.colab.kernel.accessAllowed ? 'block' : 'none';\n",
              "\n",
              "        async function convertToInteractive(key) {\n",
              "          const element = document.querySelector('#df-294a6af5-38b5-400b-9a2c-ab7732d5710e');\n",
              "          const dataTable =\n",
              "            await google.colab.kernel.invokeFunction('convertToInteractive',\n",
              "                                                     [key], {});\n",
              "          if (!dataTable) return;\n",
              "\n",
              "          const docLinkHtml = 'Like what you see? Visit the ' +\n",
              "            '<a target=\"_blank\" href=https://colab.research.google.com/notebooks/data_table.ipynb>data table notebook</a>'\n",
              "            + ' to learn more about interactive tables.';\n",
              "          element.innerHTML = '';\n",
              "          dataTable['output_type'] = 'display_data';\n",
              "          await google.colab.output.renderOutput(dataTable, element);\n",
              "          const docLink = document.createElement('div');\n",
              "          docLink.innerHTML = docLinkHtml;\n",
              "          element.appendChild(docLink);\n",
              "        }\n",
              "      </script>\n",
              "    </div>\n",
              "  </div>\n",
              "  "
            ]
          },
          "metadata": {},
          "execution_count": 23
        }
      ]
    },
    {
      "cell_type": "markdown",
      "source": [
        "### Model\n",
        "\n",
        "Now that we have merged data on a single dataframe, we are ready to run our **predictive model**."
      ],
      "metadata": {
        "id": "b0u8z1UOLCh3"
      }
    },
    {
      "cell_type": "code",
      "source": [
        "model = RandomForestClassifier(n_estimators=100, min_samples_split=100, random_state=1)"
      ],
      "metadata": {
        "id": "TGP_h1HjLNVg"
      },
      "execution_count": 24,
      "outputs": []
    },
    {
      "cell_type": "code",
      "source": [
        "nvidia = nvidia.dropna()"
      ],
      "metadata": {
        "id": "BpVj1j4EL3Hw"
      },
      "execution_count": 25,
      "outputs": []
    },
    {
      "cell_type": "code",
      "source": [
        "print(nvidia.columns)"
      ],
      "metadata": {
        "colab": {
          "base_uri": "https://localhost:8080/"
        },
        "id": "BR98o5LBMIpt",
        "outputId": "f98297f3-5567-48c8-ad7e-fe5a354867f9"
      },
      "execution_count": 26,
      "outputs": [
        {
          "output_type": "stream",
          "name": "stdout",
          "text": [
            "Index(['Open', 'High', 'Low', 'Close', 'Volume', 't1', 'Target', 'Open_B',\n",
            "       'High_B', 'Low_B', 'Close_B', 'Volume_B', 'Capital Gains', 't1_B',\n",
            "       'Target_B'],\n",
            "      dtype='object')\n"
          ]
        }
      ]
    },
    {
      "cell_type": "code",
      "source": [
        "train = nvidia.iloc[:-50]\n",
        "test = nvidia.iloc[-50:]\n",
        "\n",
        "predictors = ['Open', 'High', 'Low', 'Close', 'Volume', 't1', 'Open_B',\n",
        "       'High_B', 'Low_B', 'Close_B', 'Volume_B', 't1_B', 'Target_B']\n",
        "\n",
        "model.fit(train[predictors], train['Target'])"
      ],
      "metadata": {
        "colab": {
          "base_uri": "https://localhost:8080/"
        },
        "id": "dctaLyDvMQ03",
        "outputId": "d1b571a4-c53e-4fb4-fb82-b971fe6706c7"
      },
      "execution_count": 27,
      "outputs": [
        {
          "output_type": "execute_result",
          "data": {
            "text/plain": [
              "RandomForestClassifier(min_samples_split=100, random_state=1)"
            ]
          },
          "metadata": {},
          "execution_count": 27
        }
      ]
    },
    {
      "cell_type": "code",
      "source": [
        "preds = model.predict(test[predictors])\n",
        "preds = pd.Series(preds, index = test.index)"
      ],
      "metadata": {
        "id": "3kCVA8uxMlxs"
      },
      "execution_count": 28,
      "outputs": []
    },
    {
      "cell_type": "code",
      "source": [
        "precision_score(test['Target'], preds)"
      ],
      "metadata": {
        "colab": {
          "base_uri": "https://localhost:8080/"
        },
        "id": "XrbHXXdFMsDQ",
        "outputId": "bc78464a-294f-4c55-efe6-2e36351cc2e3"
      },
      "execution_count": 29,
      "outputs": [
        {
          "output_type": "execute_result",
          "data": {
            "text/plain": [
              "1.0"
            ]
          },
          "metadata": {},
          "execution_count": 29
        }
      ]
    },
    {
      "cell_type": "markdown",
      "source": [
        "## Model n°2 - Financia Indicators\n",
        "\n",
        "We will use some technical indicators, implemented in Pandas through the `FinTA` library, to better predict the behavior of the NVIDIA stock."
      ],
      "metadata": {
        "id": "JhokvAe6Nr1f"
      }
    },
    {
      "cell_type": "code",
      "source": [
        "stock = 'NVDA'\n",
        "\n",
        "nvidia = yf.Ticker(stock)\n",
        "nvidia = nvidia.history(period='max')\n",
        "\n",
        "nvidia"
      ],
      "metadata": {
        "id": "FKR6tF2RUFYC"
      },
      "execution_count": null,
      "outputs": []
    },
    {
      "cell_type": "code",
      "source": [
        "nvidia['t1'] = nvidia['Close'].shift(-1)"
      ],
      "metadata": {
        "id": "3BBe-6KUUWbC"
      },
      "execution_count": null,
      "outputs": []
    },
    {
      "cell_type": "code",
      "source": [
        "nvidia['Target'] = (nvidia['t1'] > nvidia['Close']).astype(int)"
      ],
      "metadata": {
        "id": "RUDzr1b2USf1"
      },
      "execution_count": null,
      "outputs": []
    },
    {
      "cell_type": "code",
      "source": [
        "del nvidia['Dividends']\n",
        "del nvidia['Stock Splits']"
      ],
      "metadata": {
        "id": "IZBxdWNsUTKM"
      },
      "execution_count": null,
      "outputs": []
    },
    {
      "cell_type": "code",
      "source": [
        "nvidia"
      ],
      "metadata": {
        "colab": {
          "base_uri": "https://localhost:8080/",
          "height": 455
        },
        "id": "lIl0kdcZUe9W",
        "outputId": "1588d1db-8117-4b90-b44b-086a7b144869"
      },
      "execution_count": null,
      "outputs": [
        {
          "output_type": "execute_result",
          "data": {
            "text/plain": [
              "                                 Open        High         Low       Close  \\\n",
              "Date                                                                        \n",
              "1999-01-22 00:00:00-05:00    0.401517    0.448121    0.356107    0.376422   \n",
              "1999-01-25 00:00:00-05:00    0.406296    0.420636    0.376422    0.415857   \n",
              "1999-01-26 00:00:00-05:00    0.420636    0.429001    0.377616    0.383592   \n",
              "1999-01-27 00:00:00-05:00    0.384787    0.394347    0.363277    0.382397   \n",
              "1999-01-28 00:00:00-05:00    0.382397    0.384787    0.378811    0.381202   \n",
              "...                               ...         ...         ...         ...   \n",
              "2022-12-02 00:00:00-05:00  166.589996  169.330002  164.449997  168.759995   \n",
              "2022-12-05 00:00:00-05:00  166.789993  169.949997  164.720001  166.100006   \n",
              "2022-12-06 00:00:00-05:00  165.300003  165.729996  158.190002  159.869995   \n",
              "2022-12-07 00:00:00-05:00  157.720001  161.860001  156.669998  161.199997   \n",
              "2022-12-08 00:00:00-05:00  162.729996  165.470001  159.589996  164.654007   \n",
              "\n",
              "                                Volume          t1  Target  \n",
              "Date                                                        \n",
              "1999-01-22 00:00:00-05:00  271468800.0    0.415857       1  \n",
              "1999-01-25 00:00:00-05:00   51048000.0    0.383592       0  \n",
              "1999-01-26 00:00:00-05:00   34320000.0    0.382397       0  \n",
              "1999-01-27 00:00:00-05:00   24436800.0    0.381202       0  \n",
              "1999-01-28 00:00:00-05:00   22752000.0    0.363277       0  \n",
              "...                                ...         ...     ...  \n",
              "2022-12-02 00:00:00-05:00   37119700.0  166.100006       0  \n",
              "2022-12-05 00:00:00-05:00   35225500.0  159.869995       0  \n",
              "2022-12-06 00:00:00-05:00   35269400.0  161.199997       1  \n",
              "2022-12-07 00:00:00-05:00   37195300.0  164.654007       1  \n",
              "2022-12-08 00:00:00-05:00   10558078.0         NaN       0  \n",
              "\n",
              "[6012 rows x 7 columns]"
            ],
            "text/html": [
              "\n",
              "  <div id=\"df-bc624c78-ed62-4691-a85e-5c8e388ecab8\">\n",
              "    <div class=\"colab-df-container\">\n",
              "      <div>\n",
              "<style scoped>\n",
              "    .dataframe tbody tr th:only-of-type {\n",
              "        vertical-align: middle;\n",
              "    }\n",
              "\n",
              "    .dataframe tbody tr th {\n",
              "        vertical-align: top;\n",
              "    }\n",
              "\n",
              "    .dataframe thead th {\n",
              "        text-align: right;\n",
              "    }\n",
              "</style>\n",
              "<table border=\"1\" class=\"dataframe\">\n",
              "  <thead>\n",
              "    <tr style=\"text-align: right;\">\n",
              "      <th></th>\n",
              "      <th>Open</th>\n",
              "      <th>High</th>\n",
              "      <th>Low</th>\n",
              "      <th>Close</th>\n",
              "      <th>Volume</th>\n",
              "      <th>t1</th>\n",
              "      <th>Target</th>\n",
              "    </tr>\n",
              "    <tr>\n",
              "      <th>Date</th>\n",
              "      <th></th>\n",
              "      <th></th>\n",
              "      <th></th>\n",
              "      <th></th>\n",
              "      <th></th>\n",
              "      <th></th>\n",
              "      <th></th>\n",
              "    </tr>\n",
              "  </thead>\n",
              "  <tbody>\n",
              "    <tr>\n",
              "      <th>1999-01-22 00:00:00-05:00</th>\n",
              "      <td>0.401517</td>\n",
              "      <td>0.448121</td>\n",
              "      <td>0.356107</td>\n",
              "      <td>0.376422</td>\n",
              "      <td>271468800.0</td>\n",
              "      <td>0.415857</td>\n",
              "      <td>1</td>\n",
              "    </tr>\n",
              "    <tr>\n",
              "      <th>1999-01-25 00:00:00-05:00</th>\n",
              "      <td>0.406296</td>\n",
              "      <td>0.420636</td>\n",
              "      <td>0.376422</td>\n",
              "      <td>0.415857</td>\n",
              "      <td>51048000.0</td>\n",
              "      <td>0.383592</td>\n",
              "      <td>0</td>\n",
              "    </tr>\n",
              "    <tr>\n",
              "      <th>1999-01-26 00:00:00-05:00</th>\n",
              "      <td>0.420636</td>\n",
              "      <td>0.429001</td>\n",
              "      <td>0.377616</td>\n",
              "      <td>0.383592</td>\n",
              "      <td>34320000.0</td>\n",
              "      <td>0.382397</td>\n",
              "      <td>0</td>\n",
              "    </tr>\n",
              "    <tr>\n",
              "      <th>1999-01-27 00:00:00-05:00</th>\n",
              "      <td>0.384787</td>\n",
              "      <td>0.394347</td>\n",
              "      <td>0.363277</td>\n",
              "      <td>0.382397</td>\n",
              "      <td>24436800.0</td>\n",
              "      <td>0.381202</td>\n",
              "      <td>0</td>\n",
              "    </tr>\n",
              "    <tr>\n",
              "      <th>1999-01-28 00:00:00-05:00</th>\n",
              "      <td>0.382397</td>\n",
              "      <td>0.384787</td>\n",
              "      <td>0.378811</td>\n",
              "      <td>0.381202</td>\n",
              "      <td>22752000.0</td>\n",
              "      <td>0.363277</td>\n",
              "      <td>0</td>\n",
              "    </tr>\n",
              "    <tr>\n",
              "      <th>...</th>\n",
              "      <td>...</td>\n",
              "      <td>...</td>\n",
              "      <td>...</td>\n",
              "      <td>...</td>\n",
              "      <td>...</td>\n",
              "      <td>...</td>\n",
              "      <td>...</td>\n",
              "    </tr>\n",
              "    <tr>\n",
              "      <th>2022-12-02 00:00:00-05:00</th>\n",
              "      <td>166.589996</td>\n",
              "      <td>169.330002</td>\n",
              "      <td>164.449997</td>\n",
              "      <td>168.759995</td>\n",
              "      <td>37119700.0</td>\n",
              "      <td>166.100006</td>\n",
              "      <td>0</td>\n",
              "    </tr>\n",
              "    <tr>\n",
              "      <th>2022-12-05 00:00:00-05:00</th>\n",
              "      <td>166.789993</td>\n",
              "      <td>169.949997</td>\n",
              "      <td>164.720001</td>\n",
              "      <td>166.100006</td>\n",
              "      <td>35225500.0</td>\n",
              "      <td>159.869995</td>\n",
              "      <td>0</td>\n",
              "    </tr>\n",
              "    <tr>\n",
              "      <th>2022-12-06 00:00:00-05:00</th>\n",
              "      <td>165.300003</td>\n",
              "      <td>165.729996</td>\n",
              "      <td>158.190002</td>\n",
              "      <td>159.869995</td>\n",
              "      <td>35269400.0</td>\n",
              "      <td>161.199997</td>\n",
              "      <td>1</td>\n",
              "    </tr>\n",
              "    <tr>\n",
              "      <th>2022-12-07 00:00:00-05:00</th>\n",
              "      <td>157.720001</td>\n",
              "      <td>161.860001</td>\n",
              "      <td>156.669998</td>\n",
              "      <td>161.199997</td>\n",
              "      <td>37195300.0</td>\n",
              "      <td>164.654007</td>\n",
              "      <td>1</td>\n",
              "    </tr>\n",
              "    <tr>\n",
              "      <th>2022-12-08 00:00:00-05:00</th>\n",
              "      <td>162.729996</td>\n",
              "      <td>165.470001</td>\n",
              "      <td>159.589996</td>\n",
              "      <td>164.654007</td>\n",
              "      <td>10558078.0</td>\n",
              "      <td>NaN</td>\n",
              "      <td>0</td>\n",
              "    </tr>\n",
              "  </tbody>\n",
              "</table>\n",
              "<p>6012 rows × 7 columns</p>\n",
              "</div>\n",
              "      <button class=\"colab-df-convert\" onclick=\"convertToInteractive('df-bc624c78-ed62-4691-a85e-5c8e388ecab8')\"\n",
              "              title=\"Convert this dataframe to an interactive table.\"\n",
              "              style=\"display:none;\">\n",
              "        \n",
              "  <svg xmlns=\"http://www.w3.org/2000/svg\" height=\"24px\"viewBox=\"0 0 24 24\"\n",
              "       width=\"24px\">\n",
              "    <path d=\"M0 0h24v24H0V0z\" fill=\"none\"/>\n",
              "    <path d=\"M18.56 5.44l.94 2.06.94-2.06 2.06-.94-2.06-.94-.94-2.06-.94 2.06-2.06.94zm-11 1L8.5 8.5l.94-2.06 2.06-.94-2.06-.94L8.5 2.5l-.94 2.06-2.06.94zm10 10l.94 2.06.94-2.06 2.06-.94-2.06-.94-.94-2.06-.94 2.06-2.06.94z\"/><path d=\"M17.41 7.96l-1.37-1.37c-.4-.4-.92-.59-1.43-.59-.52 0-1.04.2-1.43.59L10.3 9.45l-7.72 7.72c-.78.78-.78 2.05 0 2.83L4 21.41c.39.39.9.59 1.41.59.51 0 1.02-.2 1.41-.59l7.78-7.78 2.81-2.81c.8-.78.8-2.07 0-2.86zM5.41 20L4 18.59l7.72-7.72 1.47 1.35L5.41 20z\"/>\n",
              "  </svg>\n",
              "      </button>\n",
              "      \n",
              "  <style>\n",
              "    .colab-df-container {\n",
              "      display:flex;\n",
              "      flex-wrap:wrap;\n",
              "      gap: 12px;\n",
              "    }\n",
              "\n",
              "    .colab-df-convert {\n",
              "      background-color: #E8F0FE;\n",
              "      border: none;\n",
              "      border-radius: 50%;\n",
              "      cursor: pointer;\n",
              "      display: none;\n",
              "      fill: #1967D2;\n",
              "      height: 32px;\n",
              "      padding: 0 0 0 0;\n",
              "      width: 32px;\n",
              "    }\n",
              "\n",
              "    .colab-df-convert:hover {\n",
              "      background-color: #E2EBFA;\n",
              "      box-shadow: 0px 1px 2px rgba(60, 64, 67, 0.3), 0px 1px 3px 1px rgba(60, 64, 67, 0.15);\n",
              "      fill: #174EA6;\n",
              "    }\n",
              "\n",
              "    [theme=dark] .colab-df-convert {\n",
              "      background-color: #3B4455;\n",
              "      fill: #D2E3FC;\n",
              "    }\n",
              "\n",
              "    [theme=dark] .colab-df-convert:hover {\n",
              "      background-color: #434B5C;\n",
              "      box-shadow: 0px 1px 3px 1px rgba(0, 0, 0, 0.15);\n",
              "      filter: drop-shadow(0px 1px 2px rgba(0, 0, 0, 0.3));\n",
              "      fill: #FFFFFF;\n",
              "    }\n",
              "  </style>\n",
              "\n",
              "      <script>\n",
              "        const buttonEl =\n",
              "          document.querySelector('#df-bc624c78-ed62-4691-a85e-5c8e388ecab8 button.colab-df-convert');\n",
              "        buttonEl.style.display =\n",
              "          google.colab.kernel.accessAllowed ? 'block' : 'none';\n",
              "\n",
              "        async function convertToInteractive(key) {\n",
              "          const element = document.querySelector('#df-bc624c78-ed62-4691-a85e-5c8e388ecab8');\n",
              "          const dataTable =\n",
              "            await google.colab.kernel.invokeFunction('convertToInteractive',\n",
              "                                                     [key], {});\n",
              "          if (!dataTable) return;\n",
              "\n",
              "          const docLinkHtml = 'Like what you see? Visit the ' +\n",
              "            '<a target=\"_blank\" href=https://colab.research.google.com/notebooks/data_table.ipynb>data table notebook</a>'\n",
              "            + ' to learn more about interactive tables.';\n",
              "          element.innerHTML = '';\n",
              "          dataTable['output_type'] = 'display_data';\n",
              "          await google.colab.output.renderOutput(dataTable, element);\n",
              "          const docLink = document.createElement('div');\n",
              "          docLink.innerHTML = docLinkHtml;\n",
              "          element.appendChild(docLink);\n",
              "        }\n",
              "      </script>\n",
              "    </div>\n",
              "  </div>\n",
              "  "
            ]
          },
          "metadata": {},
          "execution_count": 56
        }
      ]
    },
    {
      "cell_type": "markdown",
      "source": [
        "### Smooth Data\n",
        "\n",
        "To calculate indicators in a more accurate way, we need to remove noise by **smoothing** data with a simple function.\n",
        "The purpose of this function is to ignore one-time *outliers* and take into account the effects of *seasonality* on the stock."
      ],
      "metadata": {
        "id": "ZV5mmUMYOjA2"
      }
    },
    {
      "cell_type": "code",
      "source": [
        "def smooth_data(data, alpha):\n",
        "  return data.ewm(alpha=alpha).mean()"
      ],
      "metadata": {
        "id": "tSajdK39K-co"
      },
      "execution_count": 44,
      "outputs": []
    },
    {
      "cell_type": "code",
      "source": [
        "alpha = 0.65\n",
        "data = smooth_data(nvidia, alpha)\n",
        "\n",
        "smooth_trend = data.iloc[-60:]['Close']\n",
        "real_trend = nvidia.iloc[-60:]['Close']\n",
        "\n",
        "plt.plot(smooth_trend)\n",
        "plt.plot(real_trend)\n",
        "\n",
        "plt.legend([\"smooth\", \"real\"], loc =\"lower right\")\n",
        "plt.show()"
      ],
      "metadata": {
        "colab": {
          "base_uri": "https://localhost:8080/",
          "height": 265
        },
        "id": "bid9sSV4LFfn",
        "outputId": "8479c488-f188-41f2-fd1a-337c9a06db12"
      },
      "execution_count": null,
      "outputs": [
        {
          "output_type": "display_data",
          "data": {
            "text/plain": [
              "<Figure size 432x288 with 1 Axes>"
            ],
            "image/png": "[encoded data removed]"
          },
          "metadata": {
            "needs_background": "light"
          }
        }
      ]
    },
    {
      "cell_type": "markdown",
      "source": [
        "### Financial Indicators\n",
        "\n",
        "The FinTA library expects properly formatted DataFrames, with column names in lowercase: [\"open\", \"high\", \"low\", \"close\", \"volume\"]"
      ],
      "metadata": {
        "id": "JnN8CCopVwaP"
      }
    },
    {
      "cell_type": "code",
      "source": [
        "data.rename(columns = {'Close': 'close', 'High': 'high', 'Low': 'low', \n",
        "                       'Adj Close': 'adj close', 'Volume': 'volume', 'Open': 'open'}, \n",
        "            inplace = True)"
      ],
      "metadata": {
        "id": "pnicQERULlKO"
      },
      "execution_count": null,
      "outputs": []
    },
    {
      "cell_type": "markdown",
      "source": [
        "We choose the following indicators:\n",
        "\n",
        "- **OBV**: On Balance Volume\n",
        "- **ADL**: Accumulation Distribution Line\n",
        "- **ADX**: Average Directional Index\n",
        "- **RSI**: Relative Strenght Index\n",
        "- **STOCH**: Stochastic Oscillator\n",
        "- **SMA**: Simple Moving Average"
      ],
      "metadata": {
        "id": "N-cFa-BiWuSP"
      }
    },
    {
      "cell_type": "code",
      "source": [
        "indicators = ['OBV', 'ADL', 'ADX', 'RSI', 'STOCH', 'SMA']"
      ],
      "metadata": {
        "id": "HjVgQompVMFn"
      },
      "execution_count": null,
      "outputs": []
    },
    {
      "cell_type": "code",
      "source": [
        "# indicators = ['RSI', 'STOCH', 'ADL', 'ATR', 'MOM', 'MFI', 'ROC', 'OBV', 'CCI', 'EMV']"
      ],
      "metadata": {
        "id": "V-0x8iEnLnO2"
      },
      "execution_count": null,
      "outputs": []
    },
    {
      "cell_type": "code",
      "source": [
        "# indicators = ['SMA', 'SMM', 'SSMA', 'EMA', 'DEMA', 'TEMA', 'TRIMA', 'TRIX', 'VAMA', 'ER', 'KAMA', \n",
        "#              'ZLEMA', 'WMA', 'HMA', 'EVWMA', 'VWAP', 'SMMA', 'MOM', 'ROC', 'RSI', 'IFT_RSI']"
      ],
      "metadata": {
        "id": "g04kaMm_eDez"
      },
      "execution_count": null,
      "outputs": []
    },
    {
      "cell_type": "code",
      "source": [
        "for indicator in indicators:\n",
        "  data[indicator] = eval('TA.' + indicator + '(data)')"
      ],
      "metadata": {
        "id": "SWpd5AOLOWZM"
      },
      "execution_count": null,
      "outputs": []
    },
    {
      "cell_type": "code",
      "source": [
        "print(data.columns)"
      ],
      "metadata": {
        "colab": {
          "base_uri": "https://localhost:8080/"
        },
        "id": "Y24G2qOpO1ak",
        "outputId": "819ce7c8-34e3-47bc-c555-4a3adee358a7"
      },
      "execution_count": null,
      "outputs": [
        {
          "output_type": "stream",
          "name": "stdout",
          "text": [
            "Index(['open', 'high', 'low', 'close', 'volume', 't1', 'Target', 'OBV', 'ADL',\n",
            "       'ADX', 'RSI', 'STOCH', 'SMA'],\n",
            "      dtype='object')\n"
          ]
        }
      ]
    },
    {
      "cell_type": "code",
      "source": [
        "print(nvidia.columns)"
      ],
      "metadata": {
        "colab": {
          "base_uri": "https://localhost:8080/"
        },
        "id": "Upp_Px92VQDh",
        "outputId": "02ac16c2-26f9-4cc5-da17-8b4fe23624fb"
      },
      "execution_count": null,
      "outputs": [
        {
          "output_type": "stream",
          "name": "stdout",
          "text": [
            "Index(['Open', 'High', 'Low', 'Close', 'Volume', 't1', 'Target'], dtype='object')\n"
          ]
        }
      ]
    },
    {
      "cell_type": "code",
      "source": [
        "to_del = ['open', 'high', 'low', 'close', 'volume', 't1', 'Target']"
      ],
      "metadata": {
        "id": "1jEMNpckSx0S"
      },
      "execution_count": null,
      "outputs": []
    },
    {
      "cell_type": "code",
      "source": [
        "for column in to_del:\n",
        "  del data[column]"
      ],
      "metadata": {
        "id": "jg7Nn3ChTJjE"
      },
      "execution_count": null,
      "outputs": []
    },
    {
      "cell_type": "code",
      "source": [
        "nvidia = nvidia.merge(data, how='inner', on='Date')"
      ],
      "metadata": {
        "id": "BRd0iAr2V8ve"
      },
      "execution_count": null,
      "outputs": []
    },
    {
      "cell_type": "code",
      "source": [
        "print(len(nvidia))"
      ],
      "metadata": {
        "colab": {
          "base_uri": "https://localhost:8080/"
        },
        "id": "MfYn7P1iUw8K",
        "outputId": "d0bb2731-0fb5-4e04-c5c4-492f54192b87"
      },
      "execution_count": null,
      "outputs": [
        {
          "output_type": "stream",
          "name": "stdout",
          "text": [
            "6012\n"
          ]
        }
      ]
    },
    {
      "cell_type": "code",
      "source": [
        "nvidia = nvidia.dropna()"
      ],
      "metadata": {
        "id": "G7qmQErPXBRj"
      },
      "execution_count": null,
      "outputs": []
    },
    {
      "cell_type": "code",
      "source": [
        "print(len(nvidia))"
      ],
      "metadata": {
        "colab": {
          "base_uri": "https://localhost:8080/"
        },
        "id": "l1qQIN4RXmYC",
        "outputId": "fd891d09-235a-4cd4-8615-6bf5d203250a"
      },
      "execution_count": null,
      "outputs": [
        {
          "output_type": "stream",
          "name": "stdout",
          "text": [
            "5969\n"
          ]
        }
      ]
    },
    {
      "cell_type": "code",
      "source": [
        "nvidia"
      ],
      "metadata": {
        "colab": {
          "base_uri": "https://localhost:8080/",
          "height": 455
        },
        "id": "uaE17bcdhYBS",
        "outputId": "9ae24bcb-d417-4a87-aa6b-ea598fdccb0f"
      },
      "execution_count": null,
      "outputs": [
        {
          "output_type": "execute_result",
          "data": {
            "text/plain": [
              "                                 Open        High         Low       Close  \\\n",
              "Date                                                                        \n",
              "1999-03-22 00:00:00-05:00    0.409882    0.411077    0.389567    0.389567   \n",
              "1999-03-23 00:00:00-05:00    0.391956    0.391956    0.358497    0.365667   \n",
              "1999-03-24 00:00:00-05:00    0.363277    0.365667    0.348937    0.363277   \n",
              "1999-03-25 00:00:00-05:00    0.362082    0.382397    0.360887    0.368057   \n",
              "1999-03-26 00:00:00-05:00    0.372837    0.401517    0.372837    0.400322   \n",
              "...                               ...         ...         ...         ...   \n",
              "2022-12-01 00:00:00-05:00  169.990005  172.649994  166.350006  171.350006   \n",
              "2022-12-02 00:00:00-05:00  166.589996  169.330002  164.449997  168.759995   \n",
              "2022-12-05 00:00:00-05:00  166.789993  169.949997  164.720001  166.100006   \n",
              "2022-12-06 00:00:00-05:00  165.300003  165.729996  158.190002  159.869995   \n",
              "2022-12-07 00:00:00-05:00  157.720001  161.860001  156.669998  161.199997   \n",
              "\n",
              "                               Volume          t1  Target           OBV  \\\n",
              "Date                                                                      \n",
              "1999-03-22 00:00:00-05:00   3667200.0    0.365667       0  2.132452e+07   \n",
              "1999-03-23 00:00:00-05:00  16396800.0    0.363277       0  8.768430e+06   \n",
              "1999-03-24 00:00:00-05:00   6086400.0    0.368057       1  4.176385e+05   \n",
              "1999-03-25 00:00:00-05:00   4032000.0    0.400322       1  5.961215e+06   \n",
              "1999-03-26 00:00:00-05:00   8827200.0    0.412272       1  1.363915e+07   \n",
              "...                               ...         ...     ...           ...   \n",
              "2022-12-01 00:00:00-05:00  47097700.0  168.759995       0  1.986902e+10   \n",
              "2022-12-02 00:00:00-05:00  37119700.0  166.100006       0  1.982842e+10   \n",
              "2022-12-05 00:00:00-05:00  35225500.0  159.869995       0  1.979131e+10   \n",
              "2022-12-06 00:00:00-05:00  35269400.0  161.199997       1  1.975540e+10   \n",
              "2022-12-07 00:00:00-05:00  37195300.0  164.654007       1  1.971865e+10   \n",
              "\n",
              "                                    ADL        ADX        RSI      STOCH  \\\n",
              "Date                                                                       \n",
              "1999-03-22 00:00:00-05:00 -2.407830e+08  39.377604  47.304309  22.624717   \n",
              "1999-03-23 00:00:00-05:00 -2.486523e+08  37.734846  39.629783   9.472836   \n",
              "1999-03-24 00:00:00-05:00 -2.480554e+08  37.328375  36.823550  15.969228   \n",
              "1999-03-25 00:00:00-05:00 -2.491327e+08  36.505427  37.040011  16.475307   \n",
              "1999-03-26 00:00:00-05:00 -2.445306e+08  34.157348  48.373097  46.583324   \n",
              "...                                 ...        ...        ...        ...   \n",
              "2022-12-01 00:00:00-05:00  4.383381e+09  35.181409  69.806974  93.598374   \n",
              "2022-12-02 00:00:00-05:00  4.412721e+09  35.693665  69.385154  91.961796   \n",
              "2022-12-05 00:00:00-05:00  4.411889e+09  36.187863  66.476843  82.421359   \n",
              "2022-12-06 00:00:00-05:00  4.397334e+09  35.470383  59.566126  57.900652   \n",
              "2022-12-07 00:00:00-05:00  4.407225e+09  34.186073  58.481976  53.840307   \n",
              "\n",
              "                                  SMA  \n",
              "Date                                   \n",
              "1999-03-22 00:00:00-05:00    0.392218  \n",
              "1999-03-23 00:00:00-05:00    0.392193  \n",
              "1999-03-24 00:00:00-05:00    0.391263  \n",
              "1999-03-25 00:00:00-05:00    0.390707  \n",
              "1999-03-26 00:00:00-05:00    0.390798  \n",
              "...                               ...  \n",
              "2022-12-01 00:00:00-05:00  139.659584  \n",
              "2022-12-02 00:00:00-05:00  140.584605  \n",
              "2022-12-05 00:00:00-05:00  141.460603  \n",
              "2022-12-06 00:00:00-05:00  142.387728  \n",
              "2022-12-07 00:00:00-05:00  143.418183  \n",
              "\n",
              "[5969 rows x 13 columns]"
            ],
            "text/html": [
              "\n",
              "  <div id=\"df-e0f23cf6-98e9-47b1-ae94-5fcf800f32af\">\n",
              "    <div class=\"colab-df-container\">\n",
              "      <div>\n",
              "<style scoped>\n",
              "    .dataframe tbody tr th:only-of-type {\n",
              "        vertical-align: middle;\n",
              "    }\n",
              "\n",
              "    .dataframe tbody tr th {\n",
              "        vertical-align: top;\n",
              "    }\n",
              "\n",
              "    .dataframe thead th {\n",
              "        text-align: right;\n",
              "    }\n",
              "</style>\n",
              "<table border=\"1\" class=\"dataframe\">\n",
              "  <thead>\n",
              "    <tr style=\"text-align: right;\">\n",
              "      <th></th>\n",
              "      <th>Open</th>\n",
              "      <th>High</th>\n",
              "      <th>Low</th>\n",
              "      <th>Close</th>\n",
              "      <th>Volume</th>\n",
              "      <th>t1</th>\n",
              "      <th>Target</th>\n",
              "      <th>OBV</th>\n",
              "      <th>ADL</th>\n",
              "      <th>ADX</th>\n",
              "      <th>RSI</th>\n",
              "      <th>STOCH</th>\n",
              "      <th>SMA</th>\n",
              "    </tr>\n",
              "    <tr>\n",
              "      <th>Date</th>\n",
              "      <th></th>\n",
              "      <th></th>\n",
              "      <th></th>\n",
              "      <th></th>\n",
              "      <th></th>\n",
              "      <th></th>\n",
              "      <th></th>\n",
              "      <th></th>\n",
              "      <th></th>\n",
              "      <th></th>\n",
              "      <th></th>\n",
              "      <th></th>\n",
              "      <th></th>\n",
              "    </tr>\n",
              "  </thead>\n",
              "  <tbody>\n",
              "    <tr>\n",
              "      <th>1999-03-22 00:00:00-05:00</th>\n",
              "      <td>0.409882</td>\n",
              "      <td>0.411077</td>\n",
              "      <td>0.389567</td>\n",
              "      <td>0.389567</td>\n",
              "      <td>3667200.0</td>\n",
              "      <td>0.365667</td>\n",
              "      <td>0</td>\n",
              "      <td>2.132452e+07</td>\n",
              "      <td>-2.407830e+08</td>\n",
              "      <td>39.377604</td>\n",
              "      <td>47.304309</td>\n",
              "      <td>22.624717</td>\n",
              "      <td>0.392218</td>\n",
              "    </tr>\n",
              "    <tr>\n",
              "      <th>1999-03-23 00:00:00-05:00</th>\n",
              "      <td>0.391956</td>\n",
              "      <td>0.391956</td>\n",
              "      <td>0.358497</td>\n",
              "      <td>0.365667</td>\n",
              "      <td>16396800.0</td>\n",
              "      <td>0.363277</td>\n",
              "      <td>0</td>\n",
              "      <td>8.768430e+06</td>\n",
              "      <td>-2.486523e+08</td>\n",
              "      <td>37.734846</td>\n",
              "      <td>39.629783</td>\n",
              "      <td>9.472836</td>\n",
              "      <td>0.392193</td>\n",
              "    </tr>\n",
              "    <tr>\n",
              "      <th>1999-03-24 00:00:00-05:00</th>\n",
              "      <td>0.363277</td>\n",
              "      <td>0.365667</td>\n",
              "      <td>0.348937</td>\n",
              "      <td>0.363277</td>\n",
              "      <td>6086400.0</td>\n",
              "      <td>0.368057</td>\n",
              "      <td>1</td>\n",
              "      <td>4.176385e+05</td>\n",
              "      <td>-2.480554e+08</td>\n",
              "      <td>37.328375</td>\n",
              "      <td>36.823550</td>\n",
              "      <td>15.969228</td>\n",
              "      <td>0.391263</td>\n",
              "    </tr>\n",
              "    <tr>\n",
              "      <th>1999-03-25 00:00:00-05:00</th>\n",
              "      <td>0.362082</td>\n",
              "      <td>0.382397</td>\n",
              "      <td>0.360887</td>\n",
              "      <td>0.368057</td>\n",
              "      <td>4032000.0</td>\n",
              "      <td>0.400322</td>\n",
              "      <td>1</td>\n",
              "      <td>5.961215e+06</td>\n",
              "      <td>-2.491327e+08</td>\n",
              "      <td>36.505427</td>\n",
              "      <td>37.040011</td>\n",
              "      <td>16.475307</td>\n",
              "      <td>0.390707</td>\n",
              "    </tr>\n",
              "    <tr>\n",
              "      <th>1999-03-26 00:00:00-05:00</th>\n",
              "      <td>0.372837</td>\n",
              "      <td>0.401517</td>\n",
              "      <td>0.372837</td>\n",
              "      <td>0.400322</td>\n",
              "      <td>8827200.0</td>\n",
              "      <td>0.412272</td>\n",
              "      <td>1</td>\n",
              "      <td>1.363915e+07</td>\n",
              "      <td>-2.445306e+08</td>\n",
              "      <td>34.157348</td>\n",
              "      <td>48.373097</td>\n",
              "      <td>46.583324</td>\n",
              "      <td>0.390798</td>\n",
              "    </tr>\n",
              "    <tr>\n",
              "      <th>...</th>\n",
              "      <td>...</td>\n",
              "      <td>...</td>\n",
              "      <td>...</td>\n",
              "      <td>...</td>\n",
              "      <td>...</td>\n",
              "      <td>...</td>\n",
              "      <td>...</td>\n",
              "      <td>...</td>\n",
              "      <td>...</td>\n",
              "      <td>...</td>\n",
              "      <td>...</td>\n",
              "      <td>...</td>\n",
              "      <td>...</td>\n",
              "    </tr>\n",
              "    <tr>\n",
              "      <th>2022-12-01 00:00:00-05:00</th>\n",
              "      <td>169.990005</td>\n",
              "      <td>172.649994</td>\n",
              "      <td>166.350006</td>\n",
              "      <td>171.350006</td>\n",
              "      <td>47097700.0</td>\n",
              "      <td>168.759995</td>\n",
              "      <td>0</td>\n",
              "      <td>1.986902e+10</td>\n",
              "      <td>4.383381e+09</td>\n",
              "      <td>35.181409</td>\n",
              "      <td>69.806974</td>\n",
              "      <td>93.598374</td>\n",
              "      <td>139.659584</td>\n",
              "    </tr>\n",
              "    <tr>\n",
              "      <th>2022-12-02 00:00:00-05:00</th>\n",
              "      <td>166.589996</td>\n",
              "      <td>169.330002</td>\n",
              "      <td>164.449997</td>\n",
              "      <td>168.759995</td>\n",
              "      <td>37119700.0</td>\n",
              "      <td>166.100006</td>\n",
              "      <td>0</td>\n",
              "      <td>1.982842e+10</td>\n",
              "      <td>4.412721e+09</td>\n",
              "      <td>35.693665</td>\n",
              "      <td>69.385154</td>\n",
              "      <td>91.961796</td>\n",
              "      <td>140.584605</td>\n",
              "    </tr>\n",
              "    <tr>\n",
              "      <th>2022-12-05 00:00:00-05:00</th>\n",
              "      <td>166.789993</td>\n",
              "      <td>169.949997</td>\n",
              "      <td>164.720001</td>\n",
              "      <td>166.100006</td>\n",
              "      <td>35225500.0</td>\n",
              "      <td>159.869995</td>\n",
              "      <td>0</td>\n",
              "      <td>1.979131e+10</td>\n",
              "      <td>4.411889e+09</td>\n",
              "      <td>36.187863</td>\n",
              "      <td>66.476843</td>\n",
              "      <td>82.421359</td>\n",
              "      <td>141.460603</td>\n",
              "    </tr>\n",
              "    <tr>\n",
              "      <th>2022-12-06 00:00:00-05:00</th>\n",
              "      <td>165.300003</td>\n",
              "      <td>165.729996</td>\n",
              "      <td>158.190002</td>\n",
              "      <td>159.869995</td>\n",
              "      <td>35269400.0</td>\n",
              "      <td>161.199997</td>\n",
              "      <td>1</td>\n",
              "      <td>1.975540e+10</td>\n",
              "      <td>4.397334e+09</td>\n",
              "      <td>35.470383</td>\n",
              "      <td>59.566126</td>\n",
              "      <td>57.900652</td>\n",
              "      <td>142.387728</td>\n",
              "    </tr>\n",
              "    <tr>\n",
              "      <th>2022-12-07 00:00:00-05:00</th>\n",
              "      <td>157.720001</td>\n",
              "      <td>161.860001</td>\n",
              "      <td>156.669998</td>\n",
              "      <td>161.199997</td>\n",
              "      <td>37195300.0</td>\n",
              "      <td>164.654007</td>\n",
              "      <td>1</td>\n",
              "      <td>1.971865e+10</td>\n",
              "      <td>4.407225e+09</td>\n",
              "      <td>34.186073</td>\n",
              "      <td>58.481976</td>\n",
              "      <td>53.840307</td>\n",
              "      <td>143.418183</td>\n",
              "    </tr>\n",
              "  </tbody>\n",
              "</table>\n",
              "<p>5969 rows × 13 columns</p>\n",
              "</div>\n",
              "      <button class=\"colab-df-convert\" onclick=\"convertToInteractive('df-e0f23cf6-98e9-47b1-ae94-5fcf800f32af')\"\n",
              "              title=\"Convert this dataframe to an interactive table.\"\n",
              "              style=\"display:none;\">\n",
              "        \n",
              "  <svg xmlns=\"http://www.w3.org/2000/svg\" height=\"24px\"viewBox=\"0 0 24 24\"\n",
              "       width=\"24px\">\n",
              "    <path d=\"M0 0h24v24H0V0z\" fill=\"none\"/>\n",
              "    <path d=\"M18.56 5.44l.94 2.06.94-2.06 2.06-.94-2.06-.94-.94-2.06-.94 2.06-2.06.94zm-11 1L8.5 8.5l.94-2.06 2.06-.94-2.06-.94L8.5 2.5l-.94 2.06-2.06.94zm10 10l.94 2.06.94-2.06 2.06-.94-2.06-.94-.94-2.06-.94 2.06-2.06.94z\"/><path d=\"M17.41 7.96l-1.37-1.37c-.4-.4-.92-.59-1.43-.59-.52 0-1.04.2-1.43.59L10.3 9.45l-7.72 7.72c-.78.78-.78 2.05 0 2.83L4 21.41c.39.39.9.59 1.41.59.51 0 1.02-.2 1.41-.59l7.78-7.78 2.81-2.81c.8-.78.8-2.07 0-2.86zM5.41 20L4 18.59l7.72-7.72 1.47 1.35L5.41 20z\"/>\n",
              "  </svg>\n",
              "      </button>\n",
              "      \n",
              "  <style>\n",
              "    .colab-df-container {\n",
              "      display:flex;\n",
              "      flex-wrap:wrap;\n",
              "      gap: 12px;\n",
              "    }\n",
              "\n",
              "    .colab-df-convert {\n",
              "      background-color: #E8F0FE;\n",
              "      border: none;\n",
              "      border-radius: 50%;\n",
              "      cursor: pointer;\n",
              "      display: none;\n",
              "      fill: #1967D2;\n",
              "      height: 32px;\n",
              "      padding: 0 0 0 0;\n",
              "      width: 32px;\n",
              "    }\n",
              "\n",
              "    .colab-df-convert:hover {\n",
              "      background-color: #E2EBFA;\n",
              "      box-shadow: 0px 1px 2px rgba(60, 64, 67, 0.3), 0px 1px 3px 1px rgba(60, 64, 67, 0.15);\n",
              "      fill: #174EA6;\n",
              "    }\n",
              "\n",
              "    [theme=dark] .colab-df-convert {\n",
              "      background-color: #3B4455;\n",
              "      fill: #D2E3FC;\n",
              "    }\n",
              "\n",
              "    [theme=dark] .colab-df-convert:hover {\n",
              "      background-color: #434B5C;\n",
              "      box-shadow: 0px 1px 3px 1px rgba(0, 0, 0, 0.15);\n",
              "      filter: drop-shadow(0px 1px 2px rgba(0, 0, 0, 0.3));\n",
              "      fill: #FFFFFF;\n",
              "    }\n",
              "  </style>\n",
              "\n",
              "      <script>\n",
              "        const buttonEl =\n",
              "          document.querySelector('#df-e0f23cf6-98e9-47b1-ae94-5fcf800f32af button.colab-df-convert');\n",
              "        buttonEl.style.display =\n",
              "          google.colab.kernel.accessAllowed ? 'block' : 'none';\n",
              "\n",
              "        async function convertToInteractive(key) {\n",
              "          const element = document.querySelector('#df-e0f23cf6-98e9-47b1-ae94-5fcf800f32af');\n",
              "          const dataTable =\n",
              "            await google.colab.kernel.invokeFunction('convertToInteractive',\n",
              "                                                     [key], {});\n",
              "          if (!dataTable) return;\n",
              "\n",
              "          const docLinkHtml = 'Like what you see? Visit the ' +\n",
              "            '<a target=\"_blank\" href=https://colab.research.google.com/notebooks/data_table.ipynb>data table notebook</a>'\n",
              "            + ' to learn more about interactive tables.';\n",
              "          element.innerHTML = '';\n",
              "          dataTable['output_type'] = 'display_data';\n",
              "          await google.colab.output.renderOutput(dataTable, element);\n",
              "          const docLink = document.createElement('div');\n",
              "          docLink.innerHTML = docLinkHtml;\n",
              "          element.appendChild(docLink);\n",
              "        }\n",
              "      </script>\n",
              "    </div>\n",
              "  </div>\n",
              "  "
            ]
          },
          "metadata": {},
          "execution_count": 71
        }
      ]
    },
    {
      "cell_type": "code",
      "source": [
        "model = RandomForestClassifier(n_estimators=100, min_samples_split=100, random_state=1)"
      ],
      "metadata": {
        "id": "Kb_ztutyH3Xy"
      },
      "execution_count": null,
      "outputs": []
    },
    {
      "cell_type": "code",
      "source": [
        "print(nvidia.columns)"
      ],
      "metadata": {
        "colab": {
          "base_uri": "https://localhost:8080/"
        },
        "id": "KUQlS1JcXZyT",
        "outputId": "d6ced2ff-8d41-43b6-fdc2-2be9150a6e73"
      },
      "execution_count": null,
      "outputs": [
        {
          "output_type": "stream",
          "name": "stdout",
          "text": [
            "Index(['Open', 'High', 'Low', 'Close', 'Volume', 't1', 'Target', 'OBV', 'ADL',\n",
            "       'ADX', 'RSI', 'STOCH', 'SMA'],\n",
            "      dtype='object')\n"
          ]
        }
      ]
    },
    {
      "cell_type": "code",
      "source": [
        "train = nvidia.iloc[:-50]\n",
        "test = nvidia.iloc[-50:]\n",
        "\n",
        "predictors = ['Open', 'High', 'Low', 'Close', 'Volume', 't1', 'OBV', 'ADL',\n",
        "       'ADX', 'RSI', 'STOCH', 'SMA']\n",
        "\n",
        "model.fit(train[predictors], train['Target'])"
      ],
      "metadata": {
        "colab": {
          "base_uri": "https://localhost:8080/"
        },
        "id": "POy6qAM34Q8Z",
        "outputId": "92ed6ddb-3e48-4ba6-e338-8682514a403f"
      },
      "execution_count": null,
      "outputs": [
        {
          "output_type": "execute_result",
          "data": {
            "text/plain": [
              "RandomForestClassifier(min_samples_split=100, random_state=1)"
            ]
          },
          "metadata": {},
          "execution_count": 74
        }
      ]
    },
    {
      "cell_type": "code",
      "source": [
        "preds = model.predict(test[predictors])\n",
        "preds = pd.Series(preds, index = test.index)"
      ],
      "metadata": {
        "id": "YnFxqqcZPfOn"
      },
      "execution_count": null,
      "outputs": []
    },
    {
      "cell_type": "code",
      "source": [
        "precision_score(test['Target'], preds)"
      ],
      "metadata": {
        "colab": {
          "base_uri": "https://localhost:8080/"
        },
        "id": "p9vdCtqJP3Y-",
        "outputId": "eb7f2c06-48e2-4a75-a03e-20e580bb8ac3"
      },
      "execution_count": null,
      "outputs": [
        {
          "output_type": "execute_result",
          "data": {
            "text/plain": [
              "0.6857142857142857"
            ]
          },
          "metadata": {},
          "execution_count": 76
        }
      ]
    },
    {
      "cell_type": "code",
      "source": [
        "def predict(train, test, predictors, model):\n",
        "  model.fit(train[predictors], train['Target'])\n",
        "  preds = model.predict(test[predictors])\n",
        "  preds = pd.Series(preds, index = test.index, name = 'Predictions')\n",
        "  combined = pd.concat([test['Target'], preds], axis = 1)\n",
        "  return combined"
      ],
      "metadata": {
        "id": "-sGSpzeRRTsg"
      },
      "execution_count": null,
      "outputs": []
    },
    {
      "cell_type": "code",
      "source": [
        "def backtest(data, model, predictors, start=2500, step=250):\n",
        "  all_predictions = []\n",
        "\n",
        "  for i in range(start, data.shape[0], step):\n",
        "    train = data.iloc[0:i].copy()\n",
        "    test = data.iloc[i:(i + step)].copy()\n",
        "    predictions = predict(train, test, predictors, model)\n",
        "    all_predictions.append(predictions)\n",
        "  return pd.concat(all_predictions)"
      ],
      "metadata": {
        "id": "VYw_zTSNSDg8"
      },
      "execution_count": null,
      "outputs": []
    },
    {
      "cell_type": "code",
      "source": [
        "predictions = backtest(nvidia, model, predictors)"
      ],
      "metadata": {
        "id": "0FWkeOkgS8CT"
      },
      "execution_count": null,
      "outputs": []
    },
    {
      "cell_type": "code",
      "source": [
        "predictions['Predictions'].value_counts()"
      ],
      "metadata": {
        "colab": {
          "base_uri": "https://localhost:8080/"
        },
        "id": "rX8YOevLT2Bl",
        "outputId": "363a55ab-dc2d-4361-ebf7-4264dbcfff7e"
      },
      "execution_count": null,
      "outputs": [
        {
          "output_type": "execute_result",
          "data": {
            "text/plain": [
              "0    2268\n",
              "1    1234\n",
              "Name: Predictions, dtype: int64"
            ]
          },
          "metadata": {},
          "execution_count": 64
        }
      ]
    },
    {
      "cell_type": "code",
      "source": [
        "precision_score(predictions['Target'], predictions['Predictions'])"
      ],
      "metadata": {
        "colab": {
          "base_uri": "https://localhost:8080/"
        },
        "id": "cxnqJip3UBIh",
        "outputId": "b1b22ff9-a077-45c1-d584-f59ff5fb6af3"
      },
      "execution_count": null,
      "outputs": [
        {
          "output_type": "execute_result",
          "data": {
            "text/plain": [
              "0.6176948051948052"
            ]
          },
          "metadata": {},
          "execution_count": 80
        }
      ]
    },
    {
      "cell_type": "markdown",
      "source": [
        "## Model n°3 - Linear Regression\n",
        "\n",
        "We train a regression model using historic pricing data and technical indicators to make predictions on future prices. The goal is to find the right combination of features that maximizes the model accuracy."
      ],
      "metadata": {
        "id": "gPkO-14GWNqQ"
      }
    },
    {
      "cell_type": "code",
      "source": [
        "#import pandas_ta as ta\n",
        "from sklearn.metrics import mean_squared_error, r2_score, mean_absolute_error\n",
        "from sklearn.metrics import accuracy_score, confusion_matrix\n",
        "from sklearn.metrics import plot_confusion_matrix"
      ],
      "metadata": {
        "id": "07FfpavNspdQ"
      },
      "execution_count": 31,
      "outputs": []
    },
    {
      "cell_type": "code",
      "source": [
        "stock = 'NVDA'\n",
        "\n",
        "nvidia = yf.Ticker(stock)\n",
        "nvidia = nvidia.history(period='max')\n",
        "\n",
        "nvidia"
      ],
      "metadata": {
        "colab": {
          "base_uri": "https://localhost:8080/",
          "height": 455
        },
        "id": "gNyECdl_XloA",
        "outputId": "fe69e200-5f8d-48b0-8a35-76acb2f45be2"
      },
      "execution_count": 88,
      "outputs": [
        {
          "output_type": "execute_result",
          "data": {
            "text/plain": [
              "                                 Open        High         Low       Close  \\\n",
              "Date                                                                        \n",
              "1999-01-22 00:00:00-05:00    0.401517    0.448121    0.356107    0.376422   \n",
              "1999-01-25 00:00:00-05:00    0.406296    0.420636    0.376422    0.415857   \n",
              "1999-01-26 00:00:00-05:00    0.420636    0.429002    0.377617    0.383592   \n",
              "1999-01-27 00:00:00-05:00    0.384787    0.394347    0.363277    0.382397   \n",
              "1999-01-28 00:00:00-05:00    0.382397    0.384787    0.378811    0.381202   \n",
              "...                               ...         ...         ...         ...   \n",
              "2022-12-22 00:00:00-05:00  160.940002  161.380005  148.820007  153.389999   \n",
              "2022-12-23 00:00:00-05:00  151.960007  153.389999  148.830002  152.059998   \n",
              "2022-12-27 00:00:00-05:00  150.740005  151.000000  140.559998  141.210007   \n",
              "2022-12-28 00:00:00-05:00  139.270004  142.619995  138.839996  140.360001   \n",
              "2022-12-29 00:00:00-05:00  139.270004  144.110001  143.050003  143.250000   \n",
              "\n",
              "                              Volume  Dividends  Stock Splits  \n",
              "Date                                                           \n",
              "1999-01-22 00:00:00-05:00  271468800        0.0           0.0  \n",
              "1999-01-25 00:00:00-05:00   51048000        0.0           0.0  \n",
              "1999-01-26 00:00:00-05:00   34320000        0.0           0.0  \n",
              "1999-01-27 00:00:00-05:00   24436800        0.0           0.0  \n",
              "1999-01-28 00:00:00-05:00   22752000        0.0           0.0  \n",
              "...                              ...        ...           ...  \n",
              "2022-12-22 00:00:00-05:00   56504500        0.0           0.0  \n",
              "2022-12-23 00:00:00-05:00   34910900        0.0           0.0  \n",
              "2022-12-27 00:00:00-05:00   46490200        0.0           0.0  \n",
              "2022-12-28 00:00:00-05:00   35066700        0.0           0.0  \n",
              "2022-12-29 00:00:00-05:00    1240185        0.0           0.0  \n",
              "\n",
              "[6025 rows x 7 columns]"
            ],
            "text/html": [
              "\n",
              "  <div id=\"df-d087a50a-c061-41b4-b0e8-8c8534742109\">\n",
              "    <div class=\"colab-df-container\">\n",
              "      <div>\n",
              "<style scoped>\n",
              "    .dataframe tbody tr th:only-of-type {\n",
              "        vertical-align: middle;\n",
              "    }\n",
              "\n",
              "    .dataframe tbody tr th {\n",
              "        vertical-align: top;\n",
              "    }\n",
              "\n",
              "    .dataframe thead th {\n",
              "        text-align: right;\n",
              "    }\n",
              "</style>\n",
              "<table border=\"1\" class=\"dataframe\">\n",
              "  <thead>\n",
              "    <tr style=\"text-align: right;\">\n",
              "      <th></th>\n",
              "      <th>Open</th>\n",
              "      <th>High</th>\n",
              "      <th>Low</th>\n",
              "      <th>Close</th>\n",
              "      <th>Volume</th>\n",
              "      <th>Dividends</th>\n",
              "      <th>Stock Splits</th>\n",
              "    </tr>\n",
              "    <tr>\n",
              "      <th>Date</th>\n",
              "      <th></th>\n",
              "      <th></th>\n",
              "      <th></th>\n",
              "      <th></th>\n",
              "      <th></th>\n",
              "      <th></th>\n",
              "      <th></th>\n",
              "    </tr>\n",
              "  </thead>\n",
              "  <tbody>\n",
              "    <tr>\n",
              "      <th>1999-01-22 00:00:00-05:00</th>\n",
              "      <td>0.401517</td>\n",
              "      <td>0.448121</td>\n",
              "      <td>0.356107</td>\n",
              "      <td>0.376422</td>\n",
              "      <td>271468800</td>\n",
              "      <td>0.0</td>\n",
              "      <td>0.0</td>\n",
              "    </tr>\n",
              "    <tr>\n",
              "      <th>1999-01-25 00:00:00-05:00</th>\n",
              "      <td>0.406296</td>\n",
              "      <td>0.420636</td>\n",
              "      <td>0.376422</td>\n",
              "      <td>0.415857</td>\n",
              "      <td>51048000</td>\n",
              "      <td>0.0</td>\n",
              "      <td>0.0</td>\n",
              "    </tr>\n",
              "    <tr>\n",
              "      <th>1999-01-26 00:00:00-05:00</th>\n",
              "      <td>0.420636</td>\n",
              "      <td>0.429002</td>\n",
              "      <td>0.377617</td>\n",
              "      <td>0.383592</td>\n",
              "      <td>34320000</td>\n",
              "      <td>0.0</td>\n",
              "      <td>0.0</td>\n",
              "    </tr>\n",
              "    <tr>\n",
              "      <th>1999-01-27 00:00:00-05:00</th>\n",
              "      <td>0.384787</td>\n",
              "      <td>0.394347</td>\n",
              "      <td>0.363277</td>\n",
              "      <td>0.382397</td>\n",
              "      <td>24436800</td>\n",
              "      <td>0.0</td>\n",
              "      <td>0.0</td>\n",
              "    </tr>\n",
              "    <tr>\n",
              "      <th>1999-01-28 00:00:00-05:00</th>\n",
              "      <td>0.382397</td>\n",
              "      <td>0.384787</td>\n",
              "      <td>0.378811</td>\n",
              "      <td>0.381202</td>\n",
              "      <td>22752000</td>\n",
              "      <td>0.0</td>\n",
              "      <td>0.0</td>\n",
              "    </tr>\n",
              "    <tr>\n",
              "      <th>...</th>\n",
              "      <td>...</td>\n",
              "      <td>...</td>\n",
              "      <td>...</td>\n",
              "      <td>...</td>\n",
              "      <td>...</td>\n",
              "      <td>...</td>\n",
              "      <td>...</td>\n",
              "    </tr>\n",
              "    <tr>\n",
              "      <th>2022-12-22 00:00:00-05:00</th>\n",
              "      <td>160.940002</td>\n",
              "      <td>161.380005</td>\n",
              "      <td>148.820007</td>\n",
              "      <td>153.389999</td>\n",
              "      <td>56504500</td>\n",
              "      <td>0.0</td>\n",
              "      <td>0.0</td>\n",
              "    </tr>\n",
              "    <tr>\n",
              "      <th>2022-12-23 00:00:00-05:00</th>\n",
              "      <td>151.960007</td>\n",
              "      <td>153.389999</td>\n",
              "      <td>148.830002</td>\n",
              "      <td>152.059998</td>\n",
              "      <td>34910900</td>\n",
              "      <td>0.0</td>\n",
              "      <td>0.0</td>\n",
              "    </tr>\n",
              "    <tr>\n",
              "      <th>2022-12-27 00:00:00-05:00</th>\n",
              "      <td>150.740005</td>\n",
              "      <td>151.000000</td>\n",
              "      <td>140.559998</td>\n",
              "      <td>141.210007</td>\n",
              "      <td>46490200</td>\n",
              "      <td>0.0</td>\n",
              "      <td>0.0</td>\n",
              "    </tr>\n",
              "    <tr>\n",
              "      <th>2022-12-28 00:00:00-05:00</th>\n",
              "      <td>139.270004</td>\n",
              "      <td>142.619995</td>\n",
              "      <td>138.839996</td>\n",
              "      <td>140.360001</td>\n",
              "      <td>35066700</td>\n",
              "      <td>0.0</td>\n",
              "      <td>0.0</td>\n",
              "    </tr>\n",
              "    <tr>\n",
              "      <th>2022-12-29 00:00:00-05:00</th>\n",
              "      <td>139.270004</td>\n",
              "      <td>144.110001</td>\n",
              "      <td>143.050003</td>\n",
              "      <td>143.250000</td>\n",
              "      <td>1240185</td>\n",
              "      <td>0.0</td>\n",
              "      <td>0.0</td>\n",
              "    </tr>\n",
              "  </tbody>\n",
              "</table>\n",
              "<p>6025 rows × 7 columns</p>\n",
              "</div>\n",
              "      <button class=\"colab-df-convert\" onclick=\"convertToInteractive('df-d087a50a-c061-41b4-b0e8-8c8534742109')\"\n",
              "              title=\"Convert this dataframe to an interactive table.\"\n",
              "              style=\"display:none;\">\n",
              "        \n",
              "  <svg xmlns=\"http://www.w3.org/2000/svg\" height=\"24px\"viewBox=\"0 0 24 24\"\n",
              "       width=\"24px\">\n",
              "    <path d=\"M0 0h24v24H0V0z\" fill=\"none\"/>\n",
              "    <path d=\"M18.56 5.44l.94 2.06.94-2.06 2.06-.94-2.06-.94-.94-2.06-.94 2.06-2.06.94zm-11 1L8.5 8.5l.94-2.06 2.06-.94-2.06-.94L8.5 2.5l-.94 2.06-2.06.94zm10 10l.94 2.06.94-2.06 2.06-.94-2.06-.94-.94-2.06-.94 2.06-2.06.94z\"/><path d=\"M17.41 7.96l-1.37-1.37c-.4-.4-.92-.59-1.43-.59-.52 0-1.04.2-1.43.59L10.3 9.45l-7.72 7.72c-.78.78-.78 2.05 0 2.83L4 21.41c.39.39.9.59 1.41.59.51 0 1.02-.2 1.41-.59l7.78-7.78 2.81-2.81c.8-.78.8-2.07 0-2.86zM5.41 20L4 18.59l7.72-7.72 1.47 1.35L5.41 20z\"/>\n",
              "  </svg>\n",
              "      </button>\n",
              "      \n",
              "  <style>\n",
              "    .colab-df-container {\n",
              "      display:flex;\n",
              "      flex-wrap:wrap;\n",
              "      gap: 12px;\n",
              "    }\n",
              "\n",
              "    .colab-df-convert {\n",
              "      background-color: #E8F0FE;\n",
              "      border: none;\n",
              "      border-radius: 50%;\n",
              "      cursor: pointer;\n",
              "      display: none;\n",
              "      fill: #1967D2;\n",
              "      height: 32px;\n",
              "      padding: 0 0 0 0;\n",
              "      width: 32px;\n",
              "    }\n",
              "\n",
              "    .colab-df-convert:hover {\n",
              "      background-color: #E2EBFA;\n",
              "      box-shadow: 0px 1px 2px rgba(60, 64, 67, 0.3), 0px 1px 3px 1px rgba(60, 64, 67, 0.15);\n",
              "      fill: #174EA6;\n",
              "    }\n",
              "\n",
              "    [theme=dark] .colab-df-convert {\n",
              "      background-color: #3B4455;\n",
              "      fill: #D2E3FC;\n",
              "    }\n",
              "\n",
              "    [theme=dark] .colab-df-convert:hover {\n",
              "      background-color: #434B5C;\n",
              "      box-shadow: 0px 1px 3px 1px rgba(0, 0, 0, 0.15);\n",
              "      filter: drop-shadow(0px 1px 2px rgba(0, 0, 0, 0.3));\n",
              "      fill: #FFFFFF;\n",
              "    }\n",
              "  </style>\n",
              "\n",
              "      <script>\n",
              "        const buttonEl =\n",
              "          document.querySelector('#df-d087a50a-c061-41b4-b0e8-8c8534742109 button.colab-df-convert');\n",
              "        buttonEl.style.display =\n",
              "          google.colab.kernel.accessAllowed ? 'block' : 'none';\n",
              "\n",
              "        async function convertToInteractive(key) {\n",
              "          const element = document.querySelector('#df-d087a50a-c061-41b4-b0e8-8c8534742109');\n",
              "          const dataTable =\n",
              "            await google.colab.kernel.invokeFunction('convertToInteractive',\n",
              "                                                     [key], {});\n",
              "          if (!dataTable) return;\n",
              "\n",
              "          const docLinkHtml = 'Like what you see? Visit the ' +\n",
              "            '<a target=\"_blank\" href=https://colab.research.google.com/notebooks/data_table.ipynb>data table notebook</a>'\n",
              "            + ' to learn more about interactive tables.';\n",
              "          element.innerHTML = '';\n",
              "          dataTable['output_type'] = 'display_data';\n",
              "          await google.colab.output.renderOutput(dataTable, element);\n",
              "          const docLink = document.createElement('div');\n",
              "          docLink.innerHTML = docLinkHtml;\n",
              "          element.appendChild(docLink);\n",
              "        }\n",
              "      </script>\n",
              "    </div>\n",
              "  </div>\n",
              "  "
            ]
          },
          "metadata": {},
          "execution_count": 88
        }
      ]
    },
    {
      "cell_type": "code",
      "source": [
        "print(nvidia.info())"
      ],
      "metadata": {
        "colab": {
          "base_uri": "https://localhost:8080/"
        },
        "id": "ZJKjb6IbaLAN",
        "outputId": "d973e27b-365c-4969-beff-d6e8f2d569fa"
      },
      "execution_count": 89,
      "outputs": [
        {
          "output_type": "stream",
          "name": "stdout",
          "text": [
            "<class 'pandas.core.frame.DataFrame'>\n",
            "DatetimeIndex: 6025 entries, 1999-01-22 00:00:00-05:00 to 2022-12-29 00:00:00-05:00\n",
            "Data columns (total 7 columns):\n",
            " #   Column        Non-Null Count  Dtype  \n",
            "---  ------        --------------  -----  \n",
            " 0   Open          6025 non-null   float64\n",
            " 1   High          6025 non-null   float64\n",
            " 2   Low           6025 non-null   float64\n",
            " 3   Close         6025 non-null   float64\n",
            " 4   Volume        6025 non-null   int64  \n",
            " 5   Dividends     6025 non-null   float64\n",
            " 6   Stock Splits  6025 non-null   float64\n",
            "dtypes: float64(6), int64(1)\n",
            "memory usage: 505.6 KB\n",
            "None\n"
          ]
        }
      ]
    },
    {
      "cell_type": "code",
      "source": [
        "plt.plot(nvidia.iloc[-100:]['Close'])"
      ],
      "metadata": {
        "colab": {
          "base_uri": "https://localhost:8080/",
          "height": 282
        },
        "id": "A8AfuviHckTz",
        "outputId": "21416eee-c4ff-4cd9-da39-54dda97c16f2"
      },
      "execution_count": 90,
      "outputs": [
        {
          "output_type": "execute_result",
          "data": {
            "text/plain": [
              "[<matplotlib.lines.Line2D at 0x7fdea57248e0>]"
            ]
          },
          "metadata": {},
          "execution_count": 90
        },
        {
          "output_type": "display_data",
          "data": {
            "text/plain": [
              "<Figure size 432x288 with 1 Axes>"
            ],
            "image/png": "[encoded data removed]"
          },
          "metadata": {
            "needs_background": "light"
          }
        }
      ]
    },
    {
      "cell_type": "markdown",
      "source": [
        "We calculate the Exponential Moving Average (**EMA**) and we add it to the dataframe as a new column. The idea is to use this indicator to predict the nvidia stock prices."
      ],
      "metadata": {
        "id": "80XCfuil7stl"
      }
    },
    {
      "cell_type": "code",
      "source": [
        "nvidia['EMA'] = TA.EMA(nvidia)"
      ],
      "metadata": {
        "id": "8I6k3ZZz4Ikx"
      },
      "execution_count": 92,
      "outputs": []
    },
    {
      "cell_type": "code",
      "source": [
        "to_del = ['Open', 'High', 'Low', 'Volume', 'Dividends', 'Stock Splits']\n",
        "\n",
        "for col in to_del:\n",
        "  del nvidia[col]"
      ],
      "metadata": {
        "id": "gXwmxT2if4mm"
      },
      "execution_count": 93,
      "outputs": []
    },
    {
      "cell_type": "code",
      "source": [
        "nvidia"
      ],
      "metadata": {
        "colab": {
          "base_uri": "https://localhost:8080/",
          "height": 455
        },
        "id": "AYzwh8d-e8Fy",
        "outputId": "9c036ba0-301b-407e-d9d7-bf4fba791e11"
      },
      "execution_count": 94,
      "outputs": [
        {
          "output_type": "execute_result",
          "data": {
            "text/plain": [
              "                                Close         EMA\n",
              "Date                                             \n",
              "1999-01-22 00:00:00-05:00    0.376422    0.376422\n",
              "1999-01-25 00:00:00-05:00    0.415857    0.398330\n",
              "1999-01-26 00:00:00-05:00    0.383592    0.392290\n",
              "1999-01-27 00:00:00-05:00    0.382397    0.388939\n",
              "1999-01-28 00:00:00-05:00    0.381202    0.386637\n",
              "...                               ...         ...\n",
              "2022-12-22 00:00:00-05:00  153.389999  163.971122\n",
              "2022-12-23 00:00:00-05:00  152.059998  161.588897\n",
              "2022-12-27 00:00:00-05:00  141.210007  157.513119\n",
              "2022-12-28 00:00:00-05:00  140.360001  154.082495\n",
              "2022-12-29 00:00:00-05:00  143.250000  151.915996\n",
              "\n",
              "[6025 rows x 2 columns]"
            ],
            "text/html": [
              "\n",
              "  <div id=\"df-40faaf54-292a-4626-8b83-4c9c1107c6db\">\n",
              "    <div class=\"colab-df-container\">\n",
              "      <div>\n",
              "<style scoped>\n",
              "    .dataframe tbody tr th:only-of-type {\n",
              "        vertical-align: middle;\n",
              "    }\n",
              "\n",
              "    .dataframe tbody tr th {\n",
              "        vertical-align: top;\n",
              "    }\n",
              "\n",
              "    .dataframe thead th {\n",
              "        text-align: right;\n",
              "    }\n",
              "</style>\n",
              "<table border=\"1\" class=\"dataframe\">\n",
              "  <thead>\n",
              "    <tr style=\"text-align: right;\">\n",
              "      <th></th>\n",
              "      <th>Close</th>\n",
              "      <th>EMA</th>\n",
              "    </tr>\n",
              "    <tr>\n",
              "      <th>Date</th>\n",
              "      <th></th>\n",
              "      <th></th>\n",
              "    </tr>\n",
              "  </thead>\n",
              "  <tbody>\n",
              "    <tr>\n",
              "      <th>1999-01-22 00:00:00-05:00</th>\n",
              "      <td>0.376422</td>\n",
              "      <td>0.376422</td>\n",
              "    </tr>\n",
              "    <tr>\n",
              "      <th>1999-01-25 00:00:00-05:00</th>\n",
              "      <td>0.415857</td>\n",
              "      <td>0.398330</td>\n",
              "    </tr>\n",
              "    <tr>\n",
              "      <th>1999-01-26 00:00:00-05:00</th>\n",
              "      <td>0.383592</td>\n",
              "      <td>0.392290</td>\n",
              "    </tr>\n",
              "    <tr>\n",
              "      <th>1999-01-27 00:00:00-05:00</th>\n",
              "      <td>0.382397</td>\n",
              "      <td>0.388939</td>\n",
              "    </tr>\n",
              "    <tr>\n",
              "      <th>1999-01-28 00:00:00-05:00</th>\n",
              "      <td>0.381202</td>\n",
              "      <td>0.386637</td>\n",
              "    </tr>\n",
              "    <tr>\n",
              "      <th>...</th>\n",
              "      <td>...</td>\n",
              "      <td>...</td>\n",
              "    </tr>\n",
              "    <tr>\n",
              "      <th>2022-12-22 00:00:00-05:00</th>\n",
              "      <td>153.389999</td>\n",
              "      <td>163.971122</td>\n",
              "    </tr>\n",
              "    <tr>\n",
              "      <th>2022-12-23 00:00:00-05:00</th>\n",
              "      <td>152.059998</td>\n",
              "      <td>161.588897</td>\n",
              "    </tr>\n",
              "    <tr>\n",
              "      <th>2022-12-27 00:00:00-05:00</th>\n",
              "      <td>141.210007</td>\n",
              "      <td>157.513119</td>\n",
              "    </tr>\n",
              "    <tr>\n",
              "      <th>2022-12-28 00:00:00-05:00</th>\n",
              "      <td>140.360001</td>\n",
              "      <td>154.082495</td>\n",
              "    </tr>\n",
              "    <tr>\n",
              "      <th>2022-12-29 00:00:00-05:00</th>\n",
              "      <td>143.250000</td>\n",
              "      <td>151.915996</td>\n",
              "    </tr>\n",
              "  </tbody>\n",
              "</table>\n",
              "<p>6025 rows × 2 columns</p>\n",
              "</div>\n",
              "      <button class=\"colab-df-convert\" onclick=\"convertToInteractive('df-40faaf54-292a-4626-8b83-4c9c1107c6db')\"\n",
              "              title=\"Convert this dataframe to an interactive table.\"\n",
              "              style=\"display:none;\">\n",
              "        \n",
              "  <svg xmlns=\"http://www.w3.org/2000/svg\" height=\"24px\"viewBox=\"0 0 24 24\"\n",
              "       width=\"24px\">\n",
              "    <path d=\"M0 0h24v24H0V0z\" fill=\"none\"/>\n",
              "    <path d=\"M18.56 5.44l.94 2.06.94-2.06 2.06-.94-2.06-.94-.94-2.06-.94 2.06-2.06.94zm-11 1L8.5 8.5l.94-2.06 2.06-.94-2.06-.94L8.5 2.5l-.94 2.06-2.06.94zm10 10l.94 2.06.94-2.06 2.06-.94-2.06-.94-.94-2.06-.94 2.06-2.06.94z\"/><path d=\"M17.41 7.96l-1.37-1.37c-.4-.4-.92-.59-1.43-.59-.52 0-1.04.2-1.43.59L10.3 9.45l-7.72 7.72c-.78.78-.78 2.05 0 2.83L4 21.41c.39.39.9.59 1.41.59.51 0 1.02-.2 1.41-.59l7.78-7.78 2.81-2.81c.8-.78.8-2.07 0-2.86zM5.41 20L4 18.59l7.72-7.72 1.47 1.35L5.41 20z\"/>\n",
              "  </svg>\n",
              "      </button>\n",
              "      \n",
              "  <style>\n",
              "    .colab-df-container {\n",
              "      display:flex;\n",
              "      flex-wrap:wrap;\n",
              "      gap: 12px;\n",
              "    }\n",
              "\n",
              "    .colab-df-convert {\n",
              "      background-color: #E8F0FE;\n",
              "      border: none;\n",
              "      border-radius: 50%;\n",
              "      cursor: pointer;\n",
              "      display: none;\n",
              "      fill: #1967D2;\n",
              "      height: 32px;\n",
              "      padding: 0 0 0 0;\n",
              "      width: 32px;\n",
              "    }\n",
              "\n",
              "    .colab-df-convert:hover {\n",
              "      background-color: #E2EBFA;\n",
              "      box-shadow: 0px 1px 2px rgba(60, 64, 67, 0.3), 0px 1px 3px 1px rgba(60, 64, 67, 0.15);\n",
              "      fill: #174EA6;\n",
              "    }\n",
              "\n",
              "    [theme=dark] .colab-df-convert {\n",
              "      background-color: #3B4455;\n",
              "      fill: #D2E3FC;\n",
              "    }\n",
              "\n",
              "    [theme=dark] .colab-df-convert:hover {\n",
              "      background-color: #434B5C;\n",
              "      box-shadow: 0px 1px 3px 1px rgba(0, 0, 0, 0.15);\n",
              "      filter: drop-shadow(0px 1px 2px rgba(0, 0, 0, 0.3));\n",
              "      fill: #FFFFFF;\n",
              "    }\n",
              "  </style>\n",
              "\n",
              "      <script>\n",
              "        const buttonEl =\n",
              "          document.querySelector('#df-40faaf54-292a-4626-8b83-4c9c1107c6db button.colab-df-convert');\n",
              "        buttonEl.style.display =\n",
              "          google.colab.kernel.accessAllowed ? 'block' : 'none';\n",
              "\n",
              "        async function convertToInteractive(key) {\n",
              "          const element = document.querySelector('#df-40faaf54-292a-4626-8b83-4c9c1107c6db');\n",
              "          const dataTable =\n",
              "            await google.colab.kernel.invokeFunction('convertToInteractive',\n",
              "                                                     [key], {});\n",
              "          if (!dataTable) return;\n",
              "\n",
              "          const docLinkHtml = 'Like what you see? Visit the ' +\n",
              "            '<a target=\"_blank\" href=https://colab.research.google.com/notebooks/data_table.ipynb>data table notebook</a>'\n",
              "            + ' to learn more about interactive tables.';\n",
              "          element.innerHTML = '';\n",
              "          dataTable['output_type'] = 'display_data';\n",
              "          await google.colab.output.renderOutput(dataTable, element);\n",
              "          const docLink = document.createElement('div');\n",
              "          docLink.innerHTML = docLinkHtml;\n",
              "          element.appendChild(docLink);\n",
              "        }\n",
              "      </script>\n",
              "    </div>\n",
              "  </div>\n",
              "  "
            ]
          },
          "metadata": {},
          "execution_count": 94
        }
      ]
    },
    {
      "cell_type": "code",
      "source": [
        "plt.plot(nvidia.iloc[-100:]['Close'])\n",
        "plt.plot(nvidia.iloc[-100:]['EMA'])\n",
        "\n",
        "plt.legend([\"Close\", \"EMA\"], loc =\"lower right\")\n",
        "plt.show()"
      ],
      "metadata": {
        "colab": {
          "base_uri": "https://localhost:8080/",
          "height": 265
        },
        "id": "PxNpHjm1gTSZ",
        "outputId": "86dc69ac-fefb-41c4-fea9-3ce994e9d5dd"
      },
      "execution_count": 95,
      "outputs": [
        {
          "output_type": "display_data",
          "data": {
            "text/plain": [
              "<Figure size 432x288 with 1 Axes>"
            ],
            "image/png": "[encoded data removed]"
          },
          "metadata": {
            "needs_background": "light"
          }
        }
      ]
    },
    {
      "cell_type": "markdown",
      "source": [
        "We divide the dataframe in train and test set following a 80/20 split using sklearn `train_test_split` method."
      ],
      "metadata": {
        "id": "HLGYZJ7e5zy5"
      }
    },
    {
      "cell_type": "code",
      "source": [
        "X_train, X_test, y_train, y_test = train_test_split(nvidia[['Close']], nvidia[['EMA']], test_size=.2)"
      ],
      "metadata": {
        "id": "dM1ZY_hFhK-B"
      },
      "execution_count": 96,
      "outputs": []
    },
    {
      "cell_type": "code",
      "source": [
        "print(X_test.describe())\n",
        "print(X_train.describe())"
      ],
      "metadata": {
        "colab": {
          "base_uri": "https://localhost:8080/"
        },
        "id": "4biDp1xOhl-p",
        "outputId": "90518b42-b2de-4907-ec3d-f1843340886a"
      },
      "execution_count": 97,
      "outputs": [
        {
          "output_type": "stream",
          "name": "stdout",
          "text": [
            "             Close\n",
            "count  1205.000000\n",
            "mean     30.182255\n",
            "std      59.345082\n",
            "min       0.313088\n",
            "25%       2.211783\n",
            "50%       3.759725\n",
            "75%      23.212061\n",
            "max     329.501556\n",
            "             Close\n",
            "count  4820.000000\n",
            "mean     28.119923\n",
            "std      55.683092\n",
            "min       0.313088\n",
            "25%       2.469518\n",
            "50%       3.890122\n",
            "75%      24.755666\n",
            "max     333.407410\n"
          ]
        }
      ]
    },
    {
      "cell_type": "code",
      "source": [
        "model = LinearRegression()"
      ],
      "metadata": {
        "id": "V2CFDgDgh-NN"
      },
      "execution_count": 98,
      "outputs": []
    },
    {
      "cell_type": "code",
      "source": [
        "model.fit(X_train, y_train)"
      ],
      "metadata": {
        "colab": {
          "base_uri": "https://localhost:8080/"
        },
        "id": "ZU1iaryyiBCP",
        "outputId": "a1050a77-d0ef-4eeb-ab97-882d39c9877f"
      },
      "execution_count": 99,
      "outputs": [
        {
          "output_type": "execute_result",
          "data": {
            "text/plain": [
              "LinearRegression()"
            ]
          },
          "metadata": {},
          "execution_count": 99
        }
      ]
    },
    {
      "cell_type": "code",
      "source": [
        "y_pred = model.predict(X_test)"
      ],
      "metadata": {
        "id": "Jhfd6vMCiEfC"
      },
      "execution_count": 100,
      "outputs": []
    },
    {
      "cell_type": "code",
      "source": [
        "print('Model Coefficients: {}'.format(model.coef_))\n",
        "print('Standard Deviation: {}'.format(np.std(y_pred)))\n",
        "print('Mean Absolute Error: {}'.format(mean_absolute_error(y_test, y_pred)))\n",
        "print('Coefficient of Determination: {}'.format(r2_score(y_test, y_pred)))"
      ],
      "metadata": {
        "colab": {
          "base_uri": "https://localhost:8080/"
        },
        "id": "_07bZhVh-Qvd",
        "outputId": "132b911e-d224-4d80-a1b4-430b7a89562c"
      },
      "execution_count": 101,
      "outputs": [
        {
          "output_type": "stream",
          "name": "stdout",
          "text": [
            "Model Coefficients: [[0.99508094]]\n",
            "Standard Deviation: 59.028651757472986\n",
            "Mean Absolute Error: 1.081741444924155\n",
            "Coefficient of Determination: 0.9969281352667896\n"
          ]
        }
      ]
    }
  ]
}