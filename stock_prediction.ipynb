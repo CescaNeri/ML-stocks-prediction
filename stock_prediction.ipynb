{
  "nbformat": 4,
  "nbformat_minor": 0,
  "metadata": {
    "colab": {
      "provenance": [],
      "collapsed_sections": [
        "lpEw8fssyw-x",
        "FCdOYQhEu8i3",
        "altpuOUPzShL",
        "JhokvAe6Nr1f"
      ],
      "authorship_tag": "ABX9TyMgiJbis3N1BszRShT2v31K",
      "include_colab_link": true
    },
    "kernelspec": {
      "name": "python3",
      "display_name": "Python 3"
    },
    "language_info": {
      "name": "python"
    }
  },
  "cells": [
    {
      "cell_type": "markdown",
      "metadata": {
        "id": "view-in-github",
        "colab_type": "text"
      },
      "source": [
        "<a href=\"https://colab.research.google.com/github/CescaNeri/ML-stocks-prediction/blob/main/stock_prediction.ipynb\" target=\"_parent\"><img src=\"https://colab.research.google.com/assets/colab-badge.svg\" alt=\"Open In Colab\"/></a>"
      ]
    },
    {
      "cell_type": "markdown",
      "source": [
        "## Import packages\n",
        "\n",
        "We start by installing and importing the packages that we will need later on."
      ],
      "metadata": {
        "id": "lpEw8fssyw-x"
      }
    },
    {
      "cell_type": "code",
      "source": [
        "%pip install yfinance --upgrade --no-cache-dir"
      ],
      "metadata": {
        "id": "bojtQGM6D1Qw"
      },
      "execution_count": null,
      "outputs": []
    },
    {
      "cell_type": "code",
      "source": [
        "%pip install finta"
      ],
      "metadata": {
        "id": "pU-67CaeKjIn"
      },
      "execution_count": null,
      "outputs": []
    },
    {
      "cell_type": "code",
      "execution_count": null,
      "metadata": {
        "id": "1br7AiG0DPjd"
      },
      "outputs": [],
      "source": [
        "import yfinance as yf\n",
        "import pandas as pd\n",
        "import numpy as np\n",
        "import matplotlib.pyplot as plt\n",
        "import datetime\n",
        "from finta import TA"
      ]
    },
    {
      "cell_type": "code",
      "source": [
        "from sklearn.ensemble import RandomForestClassifier\n",
        "from sklearn.metrics import precision_score\n",
        "from numpy.core.arrayprint import format_float_scientific\n",
        "from sklearn.ensemble import AdaBoostClassifier\n",
        "from sklearn.tree import DecisionTreeClassifier\n",
        "from sklearn.discriminant_analysis import QuadraticDiscriminantAnalysis\n",
        "from sklearn.neural_network import MLPClassifier\n",
        "from sklearn import svm"
      ],
      "metadata": {
        "id": "uxH3bG9PK4Zu"
      },
      "execution_count": null,
      "outputs": []
    },
    {
      "cell_type": "markdown",
      "source": [
        "## Data Acquisition\n",
        "\n",
        "We import data directly from Yahoo Finance through the `yfinance` API just by indicating the name of the stock.\n",
        "\n",
        "By selecting the period as *max*, the method `history()` will import all the available data about NVDA, from the oldest to the latest. "
      ],
      "metadata": {
        "id": "FCdOYQhEu8i3"
      }
    },
    {
      "cell_type": "code",
      "source": [
        "stock = 'NVDA'\n",
        "\n",
        "nvidia = yf.Ticker(stock)\n",
        "nvidia = nvidia.history(period='max')\n",
        "\n",
        "nvidia"
      ],
      "metadata": {
        "id": "oaUaNlEbEebf",
        "colab": {
          "base_uri": "https://localhost:8080/"
        },
        "outputId": "7dd65fac-0473-4c17-a89a-b3c8485376ed"
      },
      "execution_count": null,
      "outputs": [
        {
          "output_type": "execute_result",
          "data": {
            "text/plain": [
              "                                 Open        High         Low       Close  \\\n",
              "Date                                                                        \n",
              "1999-01-22 00:00:00-05:00    0.401517    0.448121    0.356107    0.376422   \n",
              "1999-01-25 00:00:00-05:00    0.406296    0.420636    0.376422    0.415856   \n",
              "1999-01-26 00:00:00-05:00    0.420636    0.429001    0.377616    0.383592   \n",
              "1999-01-27 00:00:00-05:00    0.384787    0.394347    0.363277    0.382397   \n",
              "1999-01-28 00:00:00-05:00    0.382397    0.384787    0.378811    0.381202   \n",
              "...                               ...         ...         ...         ...   \n",
              "2022-12-01 00:00:00-05:00  169.990005  172.649994  166.350006  171.350006   \n",
              "2022-12-02 00:00:00-05:00  166.589996  169.330002  164.449997  168.759995   \n",
              "2022-12-05 00:00:00-05:00  166.789993  169.949997  164.720001  166.100006   \n",
              "2022-12-06 00:00:00-05:00  165.300003  165.729996  158.190002  159.869995   \n",
              "2022-12-07 00:00:00-05:00  157.720001  161.860001  156.669998  161.199997   \n",
              "\n",
              "                                Volume  Dividends  Stock Splits  \n",
              "Date                                                             \n",
              "1999-01-22 00:00:00-05:00  271468800.0        0.0           0.0  \n",
              "1999-01-25 00:00:00-05:00   51048000.0        0.0           0.0  \n",
              "1999-01-26 00:00:00-05:00   34320000.0        0.0           0.0  \n",
              "1999-01-27 00:00:00-05:00   24436800.0        0.0           0.0  \n",
              "1999-01-28 00:00:00-05:00   22752000.0        0.0           0.0  \n",
              "...                                ...        ...           ...  \n",
              "2022-12-01 00:00:00-05:00   47097700.0        0.0           0.0  \n",
              "2022-12-02 00:00:00-05:00   37119700.0        0.0           0.0  \n",
              "2022-12-05 00:00:00-05:00   35225500.0        0.0           0.0  \n",
              "2022-12-06 00:00:00-05:00   35269400.0        0.0           0.0  \n",
              "2022-12-07 00:00:00-05:00   37195300.0        0.0           0.0  \n",
              "\n",
              "[6011 rows x 7 columns]"
            ],
            "text/html": [
              "\n",
              "  <div id=\"df-35fbf0b3-9954-4f1a-82f7-67d67072444e\">\n",
              "    <div class=\"colab-df-container\">\n",
              "      <div>\n",
              "<style scoped>\n",
              "    .dataframe tbody tr th:only-of-type {\n",
              "        vertical-align: middle;\n",
              "    }\n",
              "\n",
              "    .dataframe tbody tr th {\n",
              "        vertical-align: top;\n",
              "    }\n",
              "\n",
              "    .dataframe thead th {\n",
              "        text-align: right;\n",
              "    }\n",
              "</style>\n",
              "<table border=\"1\" class=\"dataframe\">\n",
              "  <thead>\n",
              "    <tr style=\"text-align: right;\">\n",
              "      <th></th>\n",
              "      <th>Open</th>\n",
              "      <th>High</th>\n",
              "      <th>Low</th>\n",
              "      <th>Close</th>\n",
              "      <th>Volume</th>\n",
              "      <th>Dividends</th>\n",
              "      <th>Stock Splits</th>\n",
              "    </tr>\n",
              "    <tr>\n",
              "      <th>Date</th>\n",
              "      <th></th>\n",
              "      <th></th>\n",
              "      <th></th>\n",
              "      <th></th>\n",
              "      <th></th>\n",
              "      <th></th>\n",
              "      <th></th>\n",
              "    </tr>\n",
              "  </thead>\n",
              "  <tbody>\n",
              "    <tr>\n",
              "      <th>1999-01-22 00:00:00-05:00</th>\n",
              "      <td>0.401517</td>\n",
              "      <td>0.448121</td>\n",
              "      <td>0.356107</td>\n",
              "      <td>0.376422</td>\n",
              "      <td>271468800.0</td>\n",
              "      <td>0.0</td>\n",
              "      <td>0.0</td>\n",
              "    </tr>\n",
              "    <tr>\n",
              "      <th>1999-01-25 00:00:00-05:00</th>\n",
              "      <td>0.406296</td>\n",
              "      <td>0.420636</td>\n",
              "      <td>0.376422</td>\n",
              "      <td>0.415856</td>\n",
              "      <td>51048000.0</td>\n",
              "      <td>0.0</td>\n",
              "      <td>0.0</td>\n",
              "    </tr>\n",
              "    <tr>\n",
              "      <th>1999-01-26 00:00:00-05:00</th>\n",
              "      <td>0.420636</td>\n",
              "      <td>0.429001</td>\n",
              "      <td>0.377616</td>\n",
              "      <td>0.383592</td>\n",
              "      <td>34320000.0</td>\n",
              "      <td>0.0</td>\n",
              "      <td>0.0</td>\n",
              "    </tr>\n",
              "    <tr>\n",
              "      <th>1999-01-27 00:00:00-05:00</th>\n",
              "      <td>0.384787</td>\n",
              "      <td>0.394347</td>\n",
              "      <td>0.363277</td>\n",
              "      <td>0.382397</td>\n",
              "      <td>24436800.0</td>\n",
              "      <td>0.0</td>\n",
              "      <td>0.0</td>\n",
              "    </tr>\n",
              "    <tr>\n",
              "      <th>1999-01-28 00:00:00-05:00</th>\n",
              "      <td>0.382397</td>\n",
              "      <td>0.384787</td>\n",
              "      <td>0.378811</td>\n",
              "      <td>0.381202</td>\n",
              "      <td>22752000.0</td>\n",
              "      <td>0.0</td>\n",
              "      <td>0.0</td>\n",
              "    </tr>\n",
              "    <tr>\n",
              "      <th>...</th>\n",
              "      <td>...</td>\n",
              "      <td>...</td>\n",
              "      <td>...</td>\n",
              "      <td>...</td>\n",
              "      <td>...</td>\n",
              "      <td>...</td>\n",
              "      <td>...</td>\n",
              "    </tr>\n",
              "    <tr>\n",
              "      <th>2022-12-01 00:00:00-05:00</th>\n",
              "      <td>169.990005</td>\n",
              "      <td>172.649994</td>\n",
              "      <td>166.350006</td>\n",
              "      <td>171.350006</td>\n",
              "      <td>47097700.0</td>\n",
              "      <td>0.0</td>\n",
              "      <td>0.0</td>\n",
              "    </tr>\n",
              "    <tr>\n",
              "      <th>2022-12-02 00:00:00-05:00</th>\n",
              "      <td>166.589996</td>\n",
              "      <td>169.330002</td>\n",
              "      <td>164.449997</td>\n",
              "      <td>168.759995</td>\n",
              "      <td>37119700.0</td>\n",
              "      <td>0.0</td>\n",
              "      <td>0.0</td>\n",
              "    </tr>\n",
              "    <tr>\n",
              "      <th>2022-12-05 00:00:00-05:00</th>\n",
              "      <td>166.789993</td>\n",
              "      <td>169.949997</td>\n",
              "      <td>164.720001</td>\n",
              "      <td>166.100006</td>\n",
              "      <td>35225500.0</td>\n",
              "      <td>0.0</td>\n",
              "      <td>0.0</td>\n",
              "    </tr>\n",
              "    <tr>\n",
              "      <th>2022-12-06 00:00:00-05:00</th>\n",
              "      <td>165.300003</td>\n",
              "      <td>165.729996</td>\n",
              "      <td>158.190002</td>\n",
              "      <td>159.869995</td>\n",
              "      <td>35269400.0</td>\n",
              "      <td>0.0</td>\n",
              "      <td>0.0</td>\n",
              "    </tr>\n",
              "    <tr>\n",
              "      <th>2022-12-07 00:00:00-05:00</th>\n",
              "      <td>157.720001</td>\n",
              "      <td>161.860001</td>\n",
              "      <td>156.669998</td>\n",
              "      <td>161.199997</td>\n",
              "      <td>37195300.0</td>\n",
              "      <td>0.0</td>\n",
              "      <td>0.0</td>\n",
              "    </tr>\n",
              "  </tbody>\n",
              "</table>\n",
              "<p>6011 rows × 7 columns</p>\n",
              "</div>\n",
              "      <button class=\"colab-df-convert\" onclick=\"convertToInteractive('df-35fbf0b3-9954-4f1a-82f7-67d67072444e')\"\n",
              "              title=\"Convert this dataframe to an interactive table.\"\n",
              "              style=\"display:none;\">\n",
              "        \n",
              "  <svg xmlns=\"http://www.w3.org/2000/svg\" height=\"24px\"viewBox=\"0 0 24 24\"\n",
              "       width=\"24px\">\n",
              "    <path d=\"M0 0h24v24H0V0z\" fill=\"none\"/>\n",
              "    <path d=\"M18.56 5.44l.94 2.06.94-2.06 2.06-.94-2.06-.94-.94-2.06-.94 2.06-2.06.94zm-11 1L8.5 8.5l.94-2.06 2.06-.94-2.06-.94L8.5 2.5l-.94 2.06-2.06.94zm10 10l.94 2.06.94-2.06 2.06-.94-2.06-.94-.94-2.06-.94 2.06-2.06.94z\"/><path d=\"M17.41 7.96l-1.37-1.37c-.4-.4-.92-.59-1.43-.59-.52 0-1.04.2-1.43.59L10.3 9.45l-7.72 7.72c-.78.78-.78 2.05 0 2.83L4 21.41c.39.39.9.59 1.41.59.51 0 1.02-.2 1.41-.59l7.78-7.78 2.81-2.81c.8-.78.8-2.07 0-2.86zM5.41 20L4 18.59l7.72-7.72 1.47 1.35L5.41 20z\"/>\n",
              "  </svg>\n",
              "      </button>\n",
              "      \n",
              "  <style>\n",
              "    .colab-df-container {\n",
              "      display:flex;\n",
              "      flex-wrap:wrap;\n",
              "      gap: 12px;\n",
              "    }\n",
              "\n",
              "    .colab-df-convert {\n",
              "      background-color: #E8F0FE;\n",
              "      border: none;\n",
              "      border-radius: 50%;\n",
              "      cursor: pointer;\n",
              "      display: none;\n",
              "      fill: #1967D2;\n",
              "      height: 32px;\n",
              "      padding: 0 0 0 0;\n",
              "      width: 32px;\n",
              "    }\n",
              "\n",
              "    .colab-df-convert:hover {\n",
              "      background-color: #E2EBFA;\n",
              "      box-shadow: 0px 1px 2px rgba(60, 64, 67, 0.3), 0px 1px 3px 1px rgba(60, 64, 67, 0.15);\n",
              "      fill: #174EA6;\n",
              "    }\n",
              "\n",
              "    [theme=dark] .colab-df-convert {\n",
              "      background-color: #3B4455;\n",
              "      fill: #D2E3FC;\n",
              "    }\n",
              "\n",
              "    [theme=dark] .colab-df-convert:hover {\n",
              "      background-color: #434B5C;\n",
              "      box-shadow: 0px 1px 3px 1px rgba(0, 0, 0, 0.15);\n",
              "      filter: drop-shadow(0px 1px 2px rgba(0, 0, 0, 0.3));\n",
              "      fill: #FFFFFF;\n",
              "    }\n",
              "  </style>\n",
              "\n",
              "      <script>\n",
              "        const buttonEl =\n",
              "          document.querySelector('#df-35fbf0b3-9954-4f1a-82f7-67d67072444e button.colab-df-convert');\n",
              "        buttonEl.style.display =\n",
              "          google.colab.kernel.accessAllowed ? 'block' : 'none';\n",
              "\n",
              "        async function convertToInteractive(key) {\n",
              "          const element = document.querySelector('#df-35fbf0b3-9954-4f1a-82f7-67d67072444e');\n",
              "          const dataTable =\n",
              "            await google.colab.kernel.invokeFunction('convertToInteractive',\n",
              "                                                     [key], {});\n",
              "          if (!dataTable) return;\n",
              "\n",
              "          const docLinkHtml = 'Like what you see? Visit the ' +\n",
              "            '<a target=\"_blank\" href=https://colab.research.google.com/notebooks/data_table.ipynb>data table notebook</a>'\n",
              "            + ' to learn more about interactive tables.';\n",
              "          element.innerHTML = '';\n",
              "          dataTable['output_type'] = 'display_data';\n",
              "          await google.colab.output.renderOutput(dataTable, element);\n",
              "          const docLink = document.createElement('div');\n",
              "          docLink.innerHTML = docLinkHtml;\n",
              "          element.appendChild(docLink);\n",
              "        }\n",
              "      </script>\n",
              "    </div>\n",
              "  </div>\n",
              "  "
            ]
          },
          "metadata": {},
          "execution_count": 4
        }
      ]
    },
    {
      "cell_type": "markdown",
      "source": [
        "## Model n°1 - Bitcoin\n",
        "\n",
        "NVIDIA GPUs are excellent graphic cards for **crypto mining**. Following this idea, we want to see whether the trend of the NVIDIA stock can be predicted by including in the model the trend of one of the most popular cryptocurrency: **Bitcoin**. "
      ],
      "metadata": {
        "id": "altpuOUPzShL"
      }
    },
    {
      "cell_type": "markdown",
      "source": [
        "We start by importing all the available historical data  about bitcoin from Yahoo Finance. "
      ],
      "metadata": {
        "id": "S6nqE7EE21Bw"
      }
    },
    {
      "cell_type": "code",
      "source": [
        "bitcoin = yf.Ticker('BTC')\n",
        "bitcoin = bitcoin.history(period='max')"
      ],
      "metadata": {
        "id": "p-Ei7jOLaPJY"
      },
      "execution_count": null,
      "outputs": []
    },
    {
      "cell_type": "code",
      "source": [
        "bitcoin"
      ],
      "metadata": {
        "id": "ezoVmpSya0fT"
      },
      "execution_count": null,
      "outputs": []
    },
    {
      "cell_type": "code",
      "source": [
        "print(len(bitcoin))"
      ],
      "metadata": {
        "colab": {
          "base_uri": "https://localhost:8080/"
        },
        "id": "gau1aaF5Om1L",
        "outputId": "ecfd9034-ebd4-4ab3-cd7d-e7776edee389"
      },
      "execution_count": null,
      "outputs": [
        {
          "output_type": "stream",
          "name": "stdout",
          "text": [
            "551\n"
          ]
        }
      ]
    },
    {
      "cell_type": "code",
      "source": [
        "nvidia.index"
      ],
      "metadata": {
        "id": "eQgLSGl4GF4I"
      },
      "execution_count": null,
      "outputs": []
    },
    {
      "cell_type": "markdown",
      "source": [
        "### Data Understanding\n",
        "\n",
        "We plot the trend of the nvidia stock over the last 300 trading days and we compare it with the trend of bitcoin over the same period in order spot similarities and commonalities."
      ],
      "metadata": {
        "id": "sFPz9imk4rM1"
      }
    },
    {
      "cell_type": "code",
      "source": [
        "nvidia.iloc[-300:].plot.line(y='Close', use_index=True)"
      ],
      "metadata": {
        "colab": {
          "base_uri": "https://localhost:8080/"
        },
        "id": "pJ_myxCFGVz4",
        "outputId": "10aeb374-c5bc-4268-9368-27ab3aed1282"
      },
      "execution_count": null,
      "outputs": [
        {
          "output_type": "execute_result",
          "data": {
            "text/plain": [
              "<matplotlib.axes._subplots.AxesSubplot at 0x7fe146e51940>"
            ]
          },
          "metadata": {},
          "execution_count": 7
        },
        {
          "output_type": "display_data",
          "data": {
            "text/plain": [
              "<Figure size 432x288 with 1 Axes>"
            ],
            "image/png": "[encoded data removed]"
          },
          "metadata": {
            "needs_background": "light"
          }
        }
      ]
    },
    {
      "cell_type": "code",
      "source": [
        "bitcoin.iloc[-300:].plot.line(y='Close', use_index=True)"
      ],
      "metadata": {
        "colab": {
          "base_uri": "https://localhost:8080/"
        },
        "id": "DBnLqNXJbDeO",
        "outputId": "ff7d3bfb-3cfa-473a-dc74-192f10d350d7"
      },
      "execution_count": null,
      "outputs": [
        {
          "output_type": "execute_result",
          "data": {
            "text/plain": [
              "<matplotlib.axes._subplots.AxesSubplot at 0x7fe146de10a0>"
            ]
          },
          "metadata": {},
          "execution_count": 8
        },
        {
          "output_type": "display_data",
          "data": {
            "text/plain": [
              "<Figure size 432x288 with 1 Axes>"
            ],
            "image/png": "[encoded data removed]"
          },
          "metadata": {
            "needs_background": "light"
          }
        }
      ]
    },
    {
      "cell_type": "markdown",
      "source": [
        "### ETL\n",
        "\n",
        "We clean data by eliminating useless columns (dividends and stock splits) and we create a new column `t1` which stores the closing price of the stock on the day after."
      ],
      "metadata": {
        "id": "7A-K4sC5FRSA"
      }
    },
    {
      "cell_type": "code",
      "source": [
        "del nvidia['Dividends']\n",
        "del nvidia['Stock Splits']"
      ],
      "metadata": {
        "id": "asQ-wO5fGhiT"
      },
      "execution_count": null,
      "outputs": []
    },
    {
      "cell_type": "code",
      "source": [
        "nvidia['t1'] = nvidia['Close'].shift(-1)"
      ],
      "metadata": {
        "id": "pMiTu1_7GuMv"
      },
      "execution_count": null,
      "outputs": []
    },
    {
      "cell_type": "code",
      "source": [
        "nvidia"
      ],
      "metadata": {
        "colab": {
          "base_uri": "https://localhost:8080/"
        },
        "id": "IO0IiYzlHHsn",
        "outputId": "eaddaf12-a920-4f5e-c6dc-f89cd62c4577"
      },
      "execution_count": null,
      "outputs": [
        {
          "output_type": "execute_result",
          "data": {
            "text/plain": [
              "                                 Open        High         Low       Close  \\\n",
              "Date                                                                        \n",
              "1999-01-22 00:00:00-05:00    0.401517    0.448121    0.356107    0.376422   \n",
              "1999-01-25 00:00:00-05:00    0.406296    0.420636    0.376422    0.415856   \n",
              "1999-01-26 00:00:00-05:00    0.420636    0.429001    0.377616    0.383592   \n",
              "1999-01-27 00:00:00-05:00    0.384787    0.394347    0.363277    0.382397   \n",
              "1999-01-28 00:00:00-05:00    0.382397    0.384787    0.378811    0.381202   \n",
              "...                               ...         ...         ...         ...   \n",
              "2022-12-01 00:00:00-05:00  169.990005  172.649994  166.350006  171.350006   \n",
              "2022-12-02 00:00:00-05:00  166.589996  169.330002  164.449997  168.759995   \n",
              "2022-12-05 00:00:00-05:00  166.789993  169.949997  164.720001  166.100006   \n",
              "2022-12-06 00:00:00-05:00  165.300003  165.729996  158.190002  159.869995   \n",
              "2022-12-07 00:00:00-05:00  157.720001  161.860001  156.669998  161.199997   \n",
              "\n",
              "                                Volume          t1  \n",
              "Date                                                \n",
              "1999-01-22 00:00:00-05:00  271468800.0    0.415856  \n",
              "1999-01-25 00:00:00-05:00   51048000.0    0.383592  \n",
              "1999-01-26 00:00:00-05:00   34320000.0    0.382397  \n",
              "1999-01-27 00:00:00-05:00   24436800.0    0.381202  \n",
              "1999-01-28 00:00:00-05:00   22752000.0    0.363277  \n",
              "...                                ...         ...  \n",
              "2022-12-01 00:00:00-05:00   47097700.0  168.759995  \n",
              "2022-12-02 00:00:00-05:00   37119700.0  166.100006  \n",
              "2022-12-05 00:00:00-05:00   35225500.0  159.869995  \n",
              "2022-12-06 00:00:00-05:00   35269400.0  161.199997  \n",
              "2022-12-07 00:00:00-05:00   37195300.0         NaN  \n",
              "\n",
              "[6011 rows x 6 columns]"
            ],
            "text/html": [
              "\n",
              "  <div id=\"df-2b1ffe54-99c6-4ea9-adf9-8294bdf39708\">\n",
              "    <div class=\"colab-df-container\">\n",
              "      <div>\n",
              "<style scoped>\n",
              "    .dataframe tbody tr th:only-of-type {\n",
              "        vertical-align: middle;\n",
              "    }\n",
              "\n",
              "    .dataframe tbody tr th {\n",
              "        vertical-align: top;\n",
              "    }\n",
              "\n",
              "    .dataframe thead th {\n",
              "        text-align: right;\n",
              "    }\n",
              "</style>\n",
              "<table border=\"1\" class=\"dataframe\">\n",
              "  <thead>\n",
              "    <tr style=\"text-align: right;\">\n",
              "      <th></th>\n",
              "      <th>Open</th>\n",
              "      <th>High</th>\n",
              "      <th>Low</th>\n",
              "      <th>Close</th>\n",
              "      <th>Volume</th>\n",
              "      <th>t1</th>\n",
              "    </tr>\n",
              "    <tr>\n",
              "      <th>Date</th>\n",
              "      <th></th>\n",
              "      <th></th>\n",
              "      <th></th>\n",
              "      <th></th>\n",
              "      <th></th>\n",
              "      <th></th>\n",
              "    </tr>\n",
              "  </thead>\n",
              "  <tbody>\n",
              "    <tr>\n",
              "      <th>1999-01-22 00:00:00-05:00</th>\n",
              "      <td>0.401517</td>\n",
              "      <td>0.448121</td>\n",
              "      <td>0.356107</td>\n",
              "      <td>0.376422</td>\n",
              "      <td>271468800.0</td>\n",
              "      <td>0.415856</td>\n",
              "    </tr>\n",
              "    <tr>\n",
              "      <th>1999-01-25 00:00:00-05:00</th>\n",
              "      <td>0.406296</td>\n",
              "      <td>0.420636</td>\n",
              "      <td>0.376422</td>\n",
              "      <td>0.415856</td>\n",
              "      <td>51048000.0</td>\n",
              "      <td>0.383592</td>\n",
              "    </tr>\n",
              "    <tr>\n",
              "      <th>1999-01-26 00:00:00-05:00</th>\n",
              "      <td>0.420636</td>\n",
              "      <td>0.429001</td>\n",
              "      <td>0.377616</td>\n",
              "      <td>0.383592</td>\n",
              "      <td>34320000.0</td>\n",
              "      <td>0.382397</td>\n",
              "    </tr>\n",
              "    <tr>\n",
              "      <th>1999-01-27 00:00:00-05:00</th>\n",
              "      <td>0.384787</td>\n",
              "      <td>0.394347</td>\n",
              "      <td>0.363277</td>\n",
              "      <td>0.382397</td>\n",
              "      <td>24436800.0</td>\n",
              "      <td>0.381202</td>\n",
              "    </tr>\n",
              "    <tr>\n",
              "      <th>1999-01-28 00:00:00-05:00</th>\n",
              "      <td>0.382397</td>\n",
              "      <td>0.384787</td>\n",
              "      <td>0.378811</td>\n",
              "      <td>0.381202</td>\n",
              "      <td>22752000.0</td>\n",
              "      <td>0.363277</td>\n",
              "    </tr>\n",
              "    <tr>\n",
              "      <th>...</th>\n",
              "      <td>...</td>\n",
              "      <td>...</td>\n",
              "      <td>...</td>\n",
              "      <td>...</td>\n",
              "      <td>...</td>\n",
              "      <td>...</td>\n",
              "    </tr>\n",
              "    <tr>\n",
              "      <th>2022-12-01 00:00:00-05:00</th>\n",
              "      <td>169.990005</td>\n",
              "      <td>172.649994</td>\n",
              "      <td>166.350006</td>\n",
              "      <td>171.350006</td>\n",
              "      <td>47097700.0</td>\n",
              "      <td>168.759995</td>\n",
              "    </tr>\n",
              "    <tr>\n",
              "      <th>2022-12-02 00:00:00-05:00</th>\n",
              "      <td>166.589996</td>\n",
              "      <td>169.330002</td>\n",
              "      <td>164.449997</td>\n",
              "      <td>168.759995</td>\n",
              "      <td>37119700.0</td>\n",
              "      <td>166.100006</td>\n",
              "    </tr>\n",
              "    <tr>\n",
              "      <th>2022-12-05 00:00:00-05:00</th>\n",
              "      <td>166.789993</td>\n",
              "      <td>169.949997</td>\n",
              "      <td>164.720001</td>\n",
              "      <td>166.100006</td>\n",
              "      <td>35225500.0</td>\n",
              "      <td>159.869995</td>\n",
              "    </tr>\n",
              "    <tr>\n",
              "      <th>2022-12-06 00:00:00-05:00</th>\n",
              "      <td>165.300003</td>\n",
              "      <td>165.729996</td>\n",
              "      <td>158.190002</td>\n",
              "      <td>159.869995</td>\n",
              "      <td>35269400.0</td>\n",
              "      <td>161.199997</td>\n",
              "    </tr>\n",
              "    <tr>\n",
              "      <th>2022-12-07 00:00:00-05:00</th>\n",
              "      <td>157.720001</td>\n",
              "      <td>161.860001</td>\n",
              "      <td>156.669998</td>\n",
              "      <td>161.199997</td>\n",
              "      <td>37195300.0</td>\n",
              "      <td>NaN</td>\n",
              "    </tr>\n",
              "  </tbody>\n",
              "</table>\n",
              "<p>6011 rows × 6 columns</p>\n",
              "</div>\n",
              "      <button class=\"colab-df-convert\" onclick=\"convertToInteractive('df-2b1ffe54-99c6-4ea9-adf9-8294bdf39708')\"\n",
              "              title=\"Convert this dataframe to an interactive table.\"\n",
              "              style=\"display:none;\">\n",
              "        \n",
              "  <svg xmlns=\"http://www.w3.org/2000/svg\" height=\"24px\"viewBox=\"0 0 24 24\"\n",
              "       width=\"24px\">\n",
              "    <path d=\"M0 0h24v24H0V0z\" fill=\"none\"/>\n",
              "    <path d=\"M18.56 5.44l.94 2.06.94-2.06 2.06-.94-2.06-.94-.94-2.06-.94 2.06-2.06.94zm-11 1L8.5 8.5l.94-2.06 2.06-.94-2.06-.94L8.5 2.5l-.94 2.06-2.06.94zm10 10l.94 2.06.94-2.06 2.06-.94-2.06-.94-.94-2.06-.94 2.06-2.06.94z\"/><path d=\"M17.41 7.96l-1.37-1.37c-.4-.4-.92-.59-1.43-.59-.52 0-1.04.2-1.43.59L10.3 9.45l-7.72 7.72c-.78.78-.78 2.05 0 2.83L4 21.41c.39.39.9.59 1.41.59.51 0 1.02-.2 1.41-.59l7.78-7.78 2.81-2.81c.8-.78.8-2.07 0-2.86zM5.41 20L4 18.59l7.72-7.72 1.47 1.35L5.41 20z\"/>\n",
              "  </svg>\n",
              "      </button>\n",
              "      \n",
              "  <style>\n",
              "    .colab-df-container {\n",
              "      display:flex;\n",
              "      flex-wrap:wrap;\n",
              "      gap: 12px;\n",
              "    }\n",
              "\n",
              "    .colab-df-convert {\n",
              "      background-color: #E8F0FE;\n",
              "      border: none;\n",
              "      border-radius: 50%;\n",
              "      cursor: pointer;\n",
              "      display: none;\n",
              "      fill: #1967D2;\n",
              "      height: 32px;\n",
              "      padding: 0 0 0 0;\n",
              "      width: 32px;\n",
              "    }\n",
              "\n",
              "    .colab-df-convert:hover {\n",
              "      background-color: #E2EBFA;\n",
              "      box-shadow: 0px 1px 2px rgba(60, 64, 67, 0.3), 0px 1px 3px 1px rgba(60, 64, 67, 0.15);\n",
              "      fill: #174EA6;\n",
              "    }\n",
              "\n",
              "    [theme=dark] .colab-df-convert {\n",
              "      background-color: #3B4455;\n",
              "      fill: #D2E3FC;\n",
              "    }\n",
              "\n",
              "    [theme=dark] .colab-df-convert:hover {\n",
              "      background-color: #434B5C;\n",
              "      box-shadow: 0px 1px 3px 1px rgba(0, 0, 0, 0.15);\n",
              "      filter: drop-shadow(0px 1px 2px rgba(0, 0, 0, 0.3));\n",
              "      fill: #FFFFFF;\n",
              "    }\n",
              "  </style>\n",
              "\n",
              "      <script>\n",
              "        const buttonEl =\n",
              "          document.querySelector('#df-2b1ffe54-99c6-4ea9-adf9-8294bdf39708 button.colab-df-convert');\n",
              "        buttonEl.style.display =\n",
              "          google.colab.kernel.accessAllowed ? 'block' : 'none';\n",
              "\n",
              "        async function convertToInteractive(key) {\n",
              "          const element = document.querySelector('#df-2b1ffe54-99c6-4ea9-adf9-8294bdf39708');\n",
              "          const dataTable =\n",
              "            await google.colab.kernel.invokeFunction('convertToInteractive',\n",
              "                                                     [key], {});\n",
              "          if (!dataTable) return;\n",
              "\n",
              "          const docLinkHtml = 'Like what you see? Visit the ' +\n",
              "            '<a target=\"_blank\" href=https://colab.research.google.com/notebooks/data_table.ipynb>data table notebook</a>'\n",
              "            + ' to learn more about interactive tables.';\n",
              "          element.innerHTML = '';\n",
              "          dataTable['output_type'] = 'display_data';\n",
              "          await google.colab.output.renderOutput(dataTable, element);\n",
              "          const docLink = document.createElement('div');\n",
              "          docLink.innerHTML = docLinkHtml;\n",
              "          element.appendChild(docLink);\n",
              "        }\n",
              "      </script>\n",
              "    </div>\n",
              "  </div>\n",
              "  "
            ]
          },
          "metadata": {},
          "execution_count": 11
        }
      ]
    },
    {
      "cell_type": "markdown",
      "source": [
        "### Target\n",
        "\n",
        "We add the column `Target` which takes value 0 and 1. \n",
        "\n",
        "- When the closing price during time *t1* is higher than the closing price on *t*, the target value will be one: **buy**\n",
        "- When the closing price during time *t1* is lower than the closing price in *t*, the target value will be zero: **sell**"
      ],
      "metadata": {
        "id": "xk-Q1JoqHKdo"
      }
    },
    {
      "cell_type": "code",
      "source": [
        "nvidia['Target'] = (nvidia['t1'] > nvidia['Close']).astype(int)"
      ],
      "metadata": {
        "id": "8VVeXxHIHOIk"
      },
      "execution_count": null,
      "outputs": []
    },
    {
      "cell_type": "code",
      "source": [
        "nvidia"
      ],
      "metadata": {
        "colab": {
          "base_uri": "https://localhost:8080/"
        },
        "id": "_ENwwdgmHYbR",
        "outputId": "2d0bfa07-2358-4e26-a4ca-036eaffe4cc4"
      },
      "execution_count": null,
      "outputs": [
        {
          "output_type": "execute_result",
          "data": {
            "text/plain": [
              "                                 Open        High         Low       Close  \\\n",
              "Date                                                                        \n",
              "1999-01-22 00:00:00-05:00    0.401517    0.448121    0.356107    0.376422   \n",
              "1999-01-25 00:00:00-05:00    0.406296    0.420636    0.376422    0.415856   \n",
              "1999-01-26 00:00:00-05:00    0.420636    0.429001    0.377616    0.383592   \n",
              "1999-01-27 00:00:00-05:00    0.384787    0.394347    0.363277    0.382397   \n",
              "1999-01-28 00:00:00-05:00    0.382397    0.384787    0.378811    0.381202   \n",
              "...                               ...         ...         ...         ...   \n",
              "2022-12-01 00:00:00-05:00  169.990005  172.649994  166.350006  171.350006   \n",
              "2022-12-02 00:00:00-05:00  166.589996  169.330002  164.449997  168.759995   \n",
              "2022-12-05 00:00:00-05:00  166.789993  169.949997  164.720001  166.100006   \n",
              "2022-12-06 00:00:00-05:00  165.300003  165.729996  158.190002  159.869995   \n",
              "2022-12-07 00:00:00-05:00  157.720001  161.860001  156.669998  161.199997   \n",
              "\n",
              "                                Volume          t1  Target  \n",
              "Date                                                        \n",
              "1999-01-22 00:00:00-05:00  271468800.0    0.415856       1  \n",
              "1999-01-25 00:00:00-05:00   51048000.0    0.383592       0  \n",
              "1999-01-26 00:00:00-05:00   34320000.0    0.382397       0  \n",
              "1999-01-27 00:00:00-05:00   24436800.0    0.381202       0  \n",
              "1999-01-28 00:00:00-05:00   22752000.0    0.363277       0  \n",
              "...                                ...         ...     ...  \n",
              "2022-12-01 00:00:00-05:00   47097700.0  168.759995       0  \n",
              "2022-12-02 00:00:00-05:00   37119700.0  166.100006       0  \n",
              "2022-12-05 00:00:00-05:00   35225500.0  159.869995       0  \n",
              "2022-12-06 00:00:00-05:00   35269400.0  161.199997       1  \n",
              "2022-12-07 00:00:00-05:00   37195300.0         NaN       0  \n",
              "\n",
              "[6011 rows x 7 columns]"
            ],
            "text/html": [
              "\n",
              "  <div id=\"df-bc850034-9b09-4d33-b4b5-4dee229cac50\">\n",
              "    <div class=\"colab-df-container\">\n",
              "      <div>\n",
              "<style scoped>\n",
              "    .dataframe tbody tr th:only-of-type {\n",
              "        vertical-align: middle;\n",
              "    }\n",
              "\n",
              "    .dataframe tbody tr th {\n",
              "        vertical-align: top;\n",
              "    }\n",
              "\n",
              "    .dataframe thead th {\n",
              "        text-align: right;\n",
              "    }\n",
              "</style>\n",
              "<table border=\"1\" class=\"dataframe\">\n",
              "  <thead>\n",
              "    <tr style=\"text-align: right;\">\n",
              "      <th></th>\n",
              "      <th>Open</th>\n",
              "      <th>High</th>\n",
              "      <th>Low</th>\n",
              "      <th>Close</th>\n",
              "      <th>Volume</th>\n",
              "      <th>t1</th>\n",
              "      <th>Target</th>\n",
              "    </tr>\n",
              "    <tr>\n",
              "      <th>Date</th>\n",
              "      <th></th>\n",
              "      <th></th>\n",
              "      <th></th>\n",
              "      <th></th>\n",
              "      <th></th>\n",
              "      <th></th>\n",
              "      <th></th>\n",
              "    </tr>\n",
              "  </thead>\n",
              "  <tbody>\n",
              "    <tr>\n",
              "      <th>1999-01-22 00:00:00-05:00</th>\n",
              "      <td>0.401517</td>\n",
              "      <td>0.448121</td>\n",
              "      <td>0.356107</td>\n",
              "      <td>0.376422</td>\n",
              "      <td>271468800.0</td>\n",
              "      <td>0.415856</td>\n",
              "      <td>1</td>\n",
              "    </tr>\n",
              "    <tr>\n",
              "      <th>1999-01-25 00:00:00-05:00</th>\n",
              "      <td>0.406296</td>\n",
              "      <td>0.420636</td>\n",
              "      <td>0.376422</td>\n",
              "      <td>0.415856</td>\n",
              "      <td>51048000.0</td>\n",
              "      <td>0.383592</td>\n",
              "      <td>0</td>\n",
              "    </tr>\n",
              "    <tr>\n",
              "      <th>1999-01-26 00:00:00-05:00</th>\n",
              "      <td>0.420636</td>\n",
              "      <td>0.429001</td>\n",
              "      <td>0.377616</td>\n",
              "      <td>0.383592</td>\n",
              "      <td>34320000.0</td>\n",
              "      <td>0.382397</td>\n",
              "      <td>0</td>\n",
              "    </tr>\n",
              "    <tr>\n",
              "      <th>1999-01-27 00:00:00-05:00</th>\n",
              "      <td>0.384787</td>\n",
              "      <td>0.394347</td>\n",
              "      <td>0.363277</td>\n",
              "      <td>0.382397</td>\n",
              "      <td>24436800.0</td>\n",
              "      <td>0.381202</td>\n",
              "      <td>0</td>\n",
              "    </tr>\n",
              "    <tr>\n",
              "      <th>1999-01-28 00:00:00-05:00</th>\n",
              "      <td>0.382397</td>\n",
              "      <td>0.384787</td>\n",
              "      <td>0.378811</td>\n",
              "      <td>0.381202</td>\n",
              "      <td>22752000.0</td>\n",
              "      <td>0.363277</td>\n",
              "      <td>0</td>\n",
              "    </tr>\n",
              "    <tr>\n",
              "      <th>...</th>\n",
              "      <td>...</td>\n",
              "      <td>...</td>\n",
              "      <td>...</td>\n",
              "      <td>...</td>\n",
              "      <td>...</td>\n",
              "      <td>...</td>\n",
              "      <td>...</td>\n",
              "    </tr>\n",
              "    <tr>\n",
              "      <th>2022-12-01 00:00:00-05:00</th>\n",
              "      <td>169.990005</td>\n",
              "      <td>172.649994</td>\n",
              "      <td>166.350006</td>\n",
              "      <td>171.350006</td>\n",
              "      <td>47097700.0</td>\n",
              "      <td>168.759995</td>\n",
              "      <td>0</td>\n",
              "    </tr>\n",
              "    <tr>\n",
              "      <th>2022-12-02 00:00:00-05:00</th>\n",
              "      <td>166.589996</td>\n",
              "      <td>169.330002</td>\n",
              "      <td>164.449997</td>\n",
              "      <td>168.759995</td>\n",
              "      <td>37119700.0</td>\n",
              "      <td>166.100006</td>\n",
              "      <td>0</td>\n",
              "    </tr>\n",
              "    <tr>\n",
              "      <th>2022-12-05 00:00:00-05:00</th>\n",
              "      <td>166.789993</td>\n",
              "      <td>169.949997</td>\n",
              "      <td>164.720001</td>\n",
              "      <td>166.100006</td>\n",
              "      <td>35225500.0</td>\n",
              "      <td>159.869995</td>\n",
              "      <td>0</td>\n",
              "    </tr>\n",
              "    <tr>\n",
              "      <th>2022-12-06 00:00:00-05:00</th>\n",
              "      <td>165.300003</td>\n",
              "      <td>165.729996</td>\n",
              "      <td>158.190002</td>\n",
              "      <td>159.869995</td>\n",
              "      <td>35269400.0</td>\n",
              "      <td>161.199997</td>\n",
              "      <td>1</td>\n",
              "    </tr>\n",
              "    <tr>\n",
              "      <th>2022-12-07 00:00:00-05:00</th>\n",
              "      <td>157.720001</td>\n",
              "      <td>161.860001</td>\n",
              "      <td>156.669998</td>\n",
              "      <td>161.199997</td>\n",
              "      <td>37195300.0</td>\n",
              "      <td>NaN</td>\n",
              "      <td>0</td>\n",
              "    </tr>\n",
              "  </tbody>\n",
              "</table>\n",
              "<p>6011 rows × 7 columns</p>\n",
              "</div>\n",
              "      <button class=\"colab-df-convert\" onclick=\"convertToInteractive('df-bc850034-9b09-4d33-b4b5-4dee229cac50')\"\n",
              "              title=\"Convert this dataframe to an interactive table.\"\n",
              "              style=\"display:none;\">\n",
              "        \n",
              "  <svg xmlns=\"http://www.w3.org/2000/svg\" height=\"24px\"viewBox=\"0 0 24 24\"\n",
              "       width=\"24px\">\n",
              "    <path d=\"M0 0h24v24H0V0z\" fill=\"none\"/>\n",
              "    <path d=\"M18.56 5.44l.94 2.06.94-2.06 2.06-.94-2.06-.94-.94-2.06-.94 2.06-2.06.94zm-11 1L8.5 8.5l.94-2.06 2.06-.94-2.06-.94L8.5 2.5l-.94 2.06-2.06.94zm10 10l.94 2.06.94-2.06 2.06-.94-2.06-.94-.94-2.06-.94 2.06-2.06.94z\"/><path d=\"M17.41 7.96l-1.37-1.37c-.4-.4-.92-.59-1.43-.59-.52 0-1.04.2-1.43.59L10.3 9.45l-7.72 7.72c-.78.78-.78 2.05 0 2.83L4 21.41c.39.39.9.59 1.41.59.51 0 1.02-.2 1.41-.59l7.78-7.78 2.81-2.81c.8-.78.8-2.07 0-2.86zM5.41 20L4 18.59l7.72-7.72 1.47 1.35L5.41 20z\"/>\n",
              "  </svg>\n",
              "      </button>\n",
              "      \n",
              "  <style>\n",
              "    .colab-df-container {\n",
              "      display:flex;\n",
              "      flex-wrap:wrap;\n",
              "      gap: 12px;\n",
              "    }\n",
              "\n",
              "    .colab-df-convert {\n",
              "      background-color: #E8F0FE;\n",
              "      border: none;\n",
              "      border-radius: 50%;\n",
              "      cursor: pointer;\n",
              "      display: none;\n",
              "      fill: #1967D2;\n",
              "      height: 32px;\n",
              "      padding: 0 0 0 0;\n",
              "      width: 32px;\n",
              "    }\n",
              "\n",
              "    .colab-df-convert:hover {\n",
              "      background-color: #E2EBFA;\n",
              "      box-shadow: 0px 1px 2px rgba(60, 64, 67, 0.3), 0px 1px 3px 1px rgba(60, 64, 67, 0.15);\n",
              "      fill: #174EA6;\n",
              "    }\n",
              "\n",
              "    [theme=dark] .colab-df-convert {\n",
              "      background-color: #3B4455;\n",
              "      fill: #D2E3FC;\n",
              "    }\n",
              "\n",
              "    [theme=dark] .colab-df-convert:hover {\n",
              "      background-color: #434B5C;\n",
              "      box-shadow: 0px 1px 3px 1px rgba(0, 0, 0, 0.15);\n",
              "      filter: drop-shadow(0px 1px 2px rgba(0, 0, 0, 0.3));\n",
              "      fill: #FFFFFF;\n",
              "    }\n",
              "  </style>\n",
              "\n",
              "      <script>\n",
              "        const buttonEl =\n",
              "          document.querySelector('#df-bc850034-9b09-4d33-b4b5-4dee229cac50 button.colab-df-convert');\n",
              "        buttonEl.style.display =\n",
              "          google.colab.kernel.accessAllowed ? 'block' : 'none';\n",
              "\n",
              "        async function convertToInteractive(key) {\n",
              "          const element = document.querySelector('#df-bc850034-9b09-4d33-b4b5-4dee229cac50');\n",
              "          const dataTable =\n",
              "            await google.colab.kernel.invokeFunction('convertToInteractive',\n",
              "                                                     [key], {});\n",
              "          if (!dataTable) return;\n",
              "\n",
              "          const docLinkHtml = 'Like what you see? Visit the ' +\n",
              "            '<a target=\"_blank\" href=https://colab.research.google.com/notebooks/data_table.ipynb>data table notebook</a>'\n",
              "            + ' to learn more about interactive tables.';\n",
              "          element.innerHTML = '';\n",
              "          dataTable['output_type'] = 'display_data';\n",
              "          await google.colab.output.renderOutput(dataTable, element);\n",
              "          const docLink = document.createElement('div');\n",
              "          docLink.innerHTML = docLinkHtml;\n",
              "          element.appendChild(docLink);\n",
              "        }\n",
              "      </script>\n",
              "    </div>\n",
              "  </div>\n",
              "  "
            ]
          },
          "metadata": {},
          "execution_count": 13
        }
      ]
    },
    {
      "cell_type": "markdown",
      "source": [
        "### Merge data\n",
        "\n",
        "We create a unique dataframe containing data both from NVIDIA and bitcoin."
      ],
      "metadata": {
        "id": "JJsV5VxvLZQm"
      }
    },
    {
      "cell_type": "code",
      "source": [
        "bitcoin.rename(columns = {'Close': 'Close_B', 'High': 'High_B', 'Low': 'Low_B', \n",
        "                       'Adj Close': 'Adj Close_B', 'Volume': 'Volume_B', 'Open': 'Open_B'}, \n",
        "            inplace = True)"
      ],
      "metadata": {
        "id": "DD9lzU40fnrE"
      },
      "execution_count": null,
      "outputs": []
    },
    {
      "cell_type": "code",
      "source": [
        "bitcoin['t1_B'] = bitcoin['Close_B'].shift(-1)"
      ],
      "metadata": {
        "id": "lG3vbW5dKPbC"
      },
      "execution_count": null,
      "outputs": []
    },
    {
      "cell_type": "code",
      "source": [
        "bitcoin['Target_B'] = (bitcoin['t1_B'] > bitcoin['Close_B']).astype(int)"
      ],
      "metadata": {
        "id": "QQQhUx-JKcfM"
      },
      "execution_count": null,
      "outputs": []
    },
    {
      "cell_type": "code",
      "source": [
        "del bitcoin['Dividends']\n",
        "del bitcoin['Stock Splits']"
      ],
      "metadata": {
        "id": "O3kH0e1BgMzc"
      },
      "execution_count": null,
      "outputs": []
    },
    {
      "cell_type": "code",
      "source": [
        "bitcoin"
      ],
      "metadata": {
        "colab": {
          "base_uri": "https://localhost:8080/"
        },
        "id": "6SZg8ph_gG1K",
        "outputId": "84203510-3353-4f9d-e07a-fd5cc47fb64b"
      },
      "execution_count": null,
      "outputs": [
        {
          "output_type": "execute_result",
          "data": {
            "text/plain": [
              "                               Open_B      High_B       Low_B     Close_B  \\\n",
              "Date                                                                        \n",
              "2020-10-01 00:00:00-04:00  100.000000  100.000000  100.000000  100.000000   \n",
              "2020-10-02 00:00:00-04:00  100.000000  100.000000  100.000000  100.000000   \n",
              "2020-10-05 00:00:00-04:00  100.029999  100.040001   99.995003   99.995003   \n",
              "2020-10-06 00:00:00-04:00  100.010002  100.029999  100.010002  100.029999   \n",
              "2020-10-07 00:00:00-04:00   99.949997   99.959999   99.919998   99.919998   \n",
              "...                               ...         ...         ...         ...   \n",
              "2022-12-01 00:00:00-05:00   91.324997   91.516098   91.324997   91.516098   \n",
              "2022-12-02 00:00:00-05:00   91.600098   91.600098   91.600098   91.600098   \n",
              "2022-12-05 00:00:00-05:00   91.254997   91.300003   91.154900   91.154900   \n",
              "2022-12-06 00:00:00-05:00   91.309998   91.309998   91.309998   91.309998   \n",
              "2022-12-07 00:00:00-05:00   91.659897   91.694901   91.653297   91.694901   \n",
              "\n",
              "                           Volume_B        t1_B  Target_B  \n",
              "Date                                                       \n",
              "2020-10-01 00:00:00-04:00         0  100.000000         0  \n",
              "2020-10-02 00:00:00-04:00         0   99.995003         0  \n",
              "2020-10-05 00:00:00-04:00     10725  100.029999         1  \n",
              "2020-10-06 00:00:00-04:00     10080   99.919998         0  \n",
              "2020-10-07 00:00:00-04:00      6350   99.995003         1  \n",
              "...                             ...         ...       ...  \n",
              "2022-12-01 00:00:00-05:00     14968   91.600098         1  \n",
              "2022-12-02 00:00:00-05:00         2   91.154900         0  \n",
              "2022-12-05 00:00:00-05:00      1397   91.309998         1  \n",
              "2022-12-06 00:00:00-05:00       103   91.694901         1  \n",
              "2022-12-07 00:00:00-05:00       715         NaN         0  \n",
              "\n",
              "[551 rows x 7 columns]"
            ],
            "text/html": [
              "\n",
              "  <div id=\"df-3dd06aa8-bac7-4f8a-b861-c673933c70e0\">\n",
              "    <div class=\"colab-df-container\">\n",
              "      <div>\n",
              "<style scoped>\n",
              "    .dataframe tbody tr th:only-of-type {\n",
              "        vertical-align: middle;\n",
              "    }\n",
              "\n",
              "    .dataframe tbody tr th {\n",
              "        vertical-align: top;\n",
              "    }\n",
              "\n",
              "    .dataframe thead th {\n",
              "        text-align: right;\n",
              "    }\n",
              "</style>\n",
              "<table border=\"1\" class=\"dataframe\">\n",
              "  <thead>\n",
              "    <tr style=\"text-align: right;\">\n",
              "      <th></th>\n",
              "      <th>Open_B</th>\n",
              "      <th>High_B</th>\n",
              "      <th>Low_B</th>\n",
              "      <th>Close_B</th>\n",
              "      <th>Volume_B</th>\n",
              "      <th>t1_B</th>\n",
              "      <th>Target_B</th>\n",
              "    </tr>\n",
              "    <tr>\n",
              "      <th>Date</th>\n",
              "      <th></th>\n",
              "      <th></th>\n",
              "      <th></th>\n",
              "      <th></th>\n",
              "      <th></th>\n",
              "      <th></th>\n",
              "      <th></th>\n",
              "    </tr>\n",
              "  </thead>\n",
              "  <tbody>\n",
              "    <tr>\n",
              "      <th>2020-10-01 00:00:00-04:00</th>\n",
              "      <td>100.000000</td>\n",
              "      <td>100.000000</td>\n",
              "      <td>100.000000</td>\n",
              "      <td>100.000000</td>\n",
              "      <td>0</td>\n",
              "      <td>100.000000</td>\n",
              "      <td>0</td>\n",
              "    </tr>\n",
              "    <tr>\n",
              "      <th>2020-10-02 00:00:00-04:00</th>\n",
              "      <td>100.000000</td>\n",
              "      <td>100.000000</td>\n",
              "      <td>100.000000</td>\n",
              "      <td>100.000000</td>\n",
              "      <td>0</td>\n",
              "      <td>99.995003</td>\n",
              "      <td>0</td>\n",
              "    </tr>\n",
              "    <tr>\n",
              "      <th>2020-10-05 00:00:00-04:00</th>\n",
              "      <td>100.029999</td>\n",
              "      <td>100.040001</td>\n",
              "      <td>99.995003</td>\n",
              "      <td>99.995003</td>\n",
              "      <td>10725</td>\n",
              "      <td>100.029999</td>\n",
              "      <td>1</td>\n",
              "    </tr>\n",
              "    <tr>\n",
              "      <th>2020-10-06 00:00:00-04:00</th>\n",
              "      <td>100.010002</td>\n",
              "      <td>100.029999</td>\n",
              "      <td>100.010002</td>\n",
              "      <td>100.029999</td>\n",
              "      <td>10080</td>\n",
              "      <td>99.919998</td>\n",
              "      <td>0</td>\n",
              "    </tr>\n",
              "    <tr>\n",
              "      <th>2020-10-07 00:00:00-04:00</th>\n",
              "      <td>99.949997</td>\n",
              "      <td>99.959999</td>\n",
              "      <td>99.919998</td>\n",
              "      <td>99.919998</td>\n",
              "      <td>6350</td>\n",
              "      <td>99.995003</td>\n",
              "      <td>1</td>\n",
              "    </tr>\n",
              "    <tr>\n",
              "      <th>...</th>\n",
              "      <td>...</td>\n",
              "      <td>...</td>\n",
              "      <td>...</td>\n",
              "      <td>...</td>\n",
              "      <td>...</td>\n",
              "      <td>...</td>\n",
              "      <td>...</td>\n",
              "    </tr>\n",
              "    <tr>\n",
              "      <th>2022-12-01 00:00:00-05:00</th>\n",
              "      <td>91.324997</td>\n",
              "      <td>91.516098</td>\n",
              "      <td>91.324997</td>\n",
              "      <td>91.516098</td>\n",
              "      <td>14968</td>\n",
              "      <td>91.600098</td>\n",
              "      <td>1</td>\n",
              "    </tr>\n",
              "    <tr>\n",
              "      <th>2022-12-02 00:00:00-05:00</th>\n",
              "      <td>91.600098</td>\n",
              "      <td>91.600098</td>\n",
              "      <td>91.600098</td>\n",
              "      <td>91.600098</td>\n",
              "      <td>2</td>\n",
              "      <td>91.154900</td>\n",
              "      <td>0</td>\n",
              "    </tr>\n",
              "    <tr>\n",
              "      <th>2022-12-05 00:00:00-05:00</th>\n",
              "      <td>91.254997</td>\n",
              "      <td>91.300003</td>\n",
              "      <td>91.154900</td>\n",
              "      <td>91.154900</td>\n",
              "      <td>1397</td>\n",
              "      <td>91.309998</td>\n",
              "      <td>1</td>\n",
              "    </tr>\n",
              "    <tr>\n",
              "      <th>2022-12-06 00:00:00-05:00</th>\n",
              "      <td>91.309998</td>\n",
              "      <td>91.309998</td>\n",
              "      <td>91.309998</td>\n",
              "      <td>91.309998</td>\n",
              "      <td>103</td>\n",
              "      <td>91.694901</td>\n",
              "      <td>1</td>\n",
              "    </tr>\n",
              "    <tr>\n",
              "      <th>2022-12-07 00:00:00-05:00</th>\n",
              "      <td>91.659897</td>\n",
              "      <td>91.694901</td>\n",
              "      <td>91.653297</td>\n",
              "      <td>91.694901</td>\n",
              "      <td>715</td>\n",
              "      <td>NaN</td>\n",
              "      <td>0</td>\n",
              "    </tr>\n",
              "  </tbody>\n",
              "</table>\n",
              "<p>551 rows × 7 columns</p>\n",
              "</div>\n",
              "      <button class=\"colab-df-convert\" onclick=\"convertToInteractive('df-3dd06aa8-bac7-4f8a-b861-c673933c70e0')\"\n",
              "              title=\"Convert this dataframe to an interactive table.\"\n",
              "              style=\"display:none;\">\n",
              "        \n",
              "  <svg xmlns=\"http://www.w3.org/2000/svg\" height=\"24px\"viewBox=\"0 0 24 24\"\n",
              "       width=\"24px\">\n",
              "    <path d=\"M0 0h24v24H0V0z\" fill=\"none\"/>\n",
              "    <path d=\"M18.56 5.44l.94 2.06.94-2.06 2.06-.94-2.06-.94-.94-2.06-.94 2.06-2.06.94zm-11 1L8.5 8.5l.94-2.06 2.06-.94-2.06-.94L8.5 2.5l-.94 2.06-2.06.94zm10 10l.94 2.06.94-2.06 2.06-.94-2.06-.94-.94-2.06-.94 2.06-2.06.94z\"/><path d=\"M17.41 7.96l-1.37-1.37c-.4-.4-.92-.59-1.43-.59-.52 0-1.04.2-1.43.59L10.3 9.45l-7.72 7.72c-.78.78-.78 2.05 0 2.83L4 21.41c.39.39.9.59 1.41.59.51 0 1.02-.2 1.41-.59l7.78-7.78 2.81-2.81c.8-.78.8-2.07 0-2.86zM5.41 20L4 18.59l7.72-7.72 1.47 1.35L5.41 20z\"/>\n",
              "  </svg>\n",
              "      </button>\n",
              "      \n",
              "  <style>\n",
              "    .colab-df-container {\n",
              "      display:flex;\n",
              "      flex-wrap:wrap;\n",
              "      gap: 12px;\n",
              "    }\n",
              "\n",
              "    .colab-df-convert {\n",
              "      background-color: #E8F0FE;\n",
              "      border: none;\n",
              "      border-radius: 50%;\n",
              "      cursor: pointer;\n",
              "      display: none;\n",
              "      fill: #1967D2;\n",
              "      height: 32px;\n",
              "      padding: 0 0 0 0;\n",
              "      width: 32px;\n",
              "    }\n",
              "\n",
              "    .colab-df-convert:hover {\n",
              "      background-color: #E2EBFA;\n",
              "      box-shadow: 0px 1px 2px rgba(60, 64, 67, 0.3), 0px 1px 3px 1px rgba(60, 64, 67, 0.15);\n",
              "      fill: #174EA6;\n",
              "    }\n",
              "\n",
              "    [theme=dark] .colab-df-convert {\n",
              "      background-color: #3B4455;\n",
              "      fill: #D2E3FC;\n",
              "    }\n",
              "\n",
              "    [theme=dark] .colab-df-convert:hover {\n",
              "      background-color: #434B5C;\n",
              "      box-shadow: 0px 1px 3px 1px rgba(0, 0, 0, 0.15);\n",
              "      filter: drop-shadow(0px 1px 2px rgba(0, 0, 0, 0.3));\n",
              "      fill: #FFFFFF;\n",
              "    }\n",
              "  </style>\n",
              "\n",
              "      <script>\n",
              "        const buttonEl =\n",
              "          document.querySelector('#df-3dd06aa8-bac7-4f8a-b861-c673933c70e0 button.colab-df-convert');\n",
              "        buttonEl.style.display =\n",
              "          google.colab.kernel.accessAllowed ? 'block' : 'none';\n",
              "\n",
              "        async function convertToInteractive(key) {\n",
              "          const element = document.querySelector('#df-3dd06aa8-bac7-4f8a-b861-c673933c70e0');\n",
              "          const dataTable =\n",
              "            await google.colab.kernel.invokeFunction('convertToInteractive',\n",
              "                                                     [key], {});\n",
              "          if (!dataTable) return;\n",
              "\n",
              "          const docLinkHtml = 'Like what you see? Visit the ' +\n",
              "            '<a target=\"_blank\" href=https://colab.research.google.com/notebooks/data_table.ipynb>data table notebook</a>'\n",
              "            + ' to learn more about interactive tables.';\n",
              "          element.innerHTML = '';\n",
              "          dataTable['output_type'] = 'display_data';\n",
              "          await google.colab.output.renderOutput(dataTable, element);\n",
              "          const docLink = document.createElement('div');\n",
              "          docLink.innerHTML = docLinkHtml;\n",
              "          element.appendChild(docLink);\n",
              "        }\n",
              "      </script>\n",
              "    </div>\n",
              "  </div>\n",
              "  "
            ]
          },
          "metadata": {},
          "execution_count": 20
        }
      ]
    },
    {
      "cell_type": "code",
      "source": [
        "nvidia = nvidia.merge(bitcoin, how='inner', on='Date')"
      ],
      "metadata": {
        "id": "USqCfB8wLXRq"
      },
      "execution_count": null,
      "outputs": []
    },
    {
      "cell_type": "code",
      "source": [
        "nvidia"
      ],
      "metadata": {
        "colab": {
          "base_uri": "https://localhost:8080/"
        },
        "id": "xx38MExSLdfZ",
        "outputId": "0f96566f-69a4-42e7-b6c9-8ce09c61af64"
      },
      "execution_count": null,
      "outputs": [
        {
          "output_type": "execute_result",
          "data": {
            "text/plain": [
              "                                 Open        High         Low       Close  \\\n",
              "Date                                                                        \n",
              "2020-10-01 00:00:00-04:00  137.290961  137.338362  134.324702  135.858978   \n",
              "2020-10-02 00:00:00-04:00  131.972167  134.910987  130.235817  130.348083   \n",
              "2020-10-05 00:00:00-04:00  132.081935  136.155862  131.949706  136.138397   \n",
              "2020-10-06 00:00:00-04:00  138.009449  141.122890  136.362907  137.076416   \n",
              "2020-10-07 00:00:00-04:00  139.703412  140.895909  138.343771  139.346664   \n",
              "...                               ...         ...         ...         ...   \n",
              "2022-12-01 00:00:00-05:00  169.990005  172.649994  166.350006  171.350006   \n",
              "2022-12-02 00:00:00-05:00  166.589996  169.330002  164.449997  168.759995   \n",
              "2022-12-05 00:00:00-05:00  166.789993  169.949997  164.720001  166.100006   \n",
              "2022-12-06 00:00:00-05:00  165.300003  165.729996  158.190002  159.869995   \n",
              "2022-12-07 00:00:00-05:00  157.720001  161.860001  156.669998  161.199997   \n",
              "\n",
              "                               Volume          t1  Target      Open_B  \\\n",
              "Date                                                                    \n",
              "2020-10-01 00:00:00-04:00  52500400.0  130.348083       0  100.000000   \n",
              "2020-10-02 00:00:00-04:00  55249600.0  136.138397       1  100.000000   \n",
              "2020-10-05 00:00:00-04:00  47982000.0  137.076416       1  100.029999   \n",
              "2020-10-06 00:00:00-04:00  78442000.0  139.346664       1  100.010002   \n",
              "2020-10-07 00:00:00-04:00  41808400.0  138.096786       0   99.949997   \n",
              "...                               ...         ...     ...         ...   \n",
              "2022-12-01 00:00:00-05:00  47097700.0  168.759995       0   91.324997   \n",
              "2022-12-02 00:00:00-05:00  37119700.0  166.100006       0   91.600098   \n",
              "2022-12-05 00:00:00-05:00  35225500.0  159.869995       0   91.254997   \n",
              "2022-12-06 00:00:00-05:00  35269400.0  161.199997       1   91.309998   \n",
              "2022-12-07 00:00:00-05:00  37195300.0         NaN       0   91.659897   \n",
              "\n",
              "                               High_B       Low_B     Close_B  Volume_B  \\\n",
              "Date                                                                      \n",
              "2020-10-01 00:00:00-04:00  100.000000  100.000000  100.000000         0   \n",
              "2020-10-02 00:00:00-04:00  100.000000  100.000000  100.000000         0   \n",
              "2020-10-05 00:00:00-04:00  100.040001   99.995003   99.995003     10725   \n",
              "2020-10-06 00:00:00-04:00  100.029999  100.010002  100.029999     10080   \n",
              "2020-10-07 00:00:00-04:00   99.959999   99.919998   99.919998      6350   \n",
              "...                               ...         ...         ...       ...   \n",
              "2022-12-01 00:00:00-05:00   91.516098   91.324997   91.516098     14968   \n",
              "2022-12-02 00:00:00-05:00   91.600098   91.600098   91.600098         2   \n",
              "2022-12-05 00:00:00-05:00   91.300003   91.154900   91.154900      1397   \n",
              "2022-12-06 00:00:00-05:00   91.309998   91.309998   91.309998       103   \n",
              "2022-12-07 00:00:00-05:00   91.694901   91.653297   91.694901       715   \n",
              "\n",
              "                                 t1_B  Target_B  \n",
              "Date                                             \n",
              "2020-10-01 00:00:00-04:00  100.000000         0  \n",
              "2020-10-02 00:00:00-04:00   99.995003         0  \n",
              "2020-10-05 00:00:00-04:00  100.029999         1  \n",
              "2020-10-06 00:00:00-04:00   99.919998         0  \n",
              "2020-10-07 00:00:00-04:00   99.995003         1  \n",
              "...                               ...       ...  \n",
              "2022-12-01 00:00:00-05:00   91.600098         1  \n",
              "2022-12-02 00:00:00-05:00   91.154900         0  \n",
              "2022-12-05 00:00:00-05:00   91.309998         1  \n",
              "2022-12-06 00:00:00-05:00   91.694901         1  \n",
              "2022-12-07 00:00:00-05:00         NaN         0  \n",
              "\n",
              "[551 rows x 14 columns]"
            ],
            "text/html": [
              "\n",
              "  <div id=\"df-bbde848d-e3a9-44a7-b219-95791c6288e2\">\n",
              "    <div class=\"colab-df-container\">\n",
              "      <div>\n",
              "<style scoped>\n",
              "    .dataframe tbody tr th:only-of-type {\n",
              "        vertical-align: middle;\n",
              "    }\n",
              "\n",
              "    .dataframe tbody tr th {\n",
              "        vertical-align: top;\n",
              "    }\n",
              "\n",
              "    .dataframe thead th {\n",
              "        text-align: right;\n",
              "    }\n",
              "</style>\n",
              "<table border=\"1\" class=\"dataframe\">\n",
              "  <thead>\n",
              "    <tr style=\"text-align: right;\">\n",
              "      <th></th>\n",
              "      <th>Open</th>\n",
              "      <th>High</th>\n",
              "      <th>Low</th>\n",
              "      <th>Close</th>\n",
              "      <th>Volume</th>\n",
              "      <th>t1</th>\n",
              "      <th>Target</th>\n",
              "      <th>Open_B</th>\n",
              "      <th>High_B</th>\n",
              "      <th>Low_B</th>\n",
              "      <th>Close_B</th>\n",
              "      <th>Volume_B</th>\n",
              "      <th>t1_B</th>\n",
              "      <th>Target_B</th>\n",
              "    </tr>\n",
              "    <tr>\n",
              "      <th>Date</th>\n",
              "      <th></th>\n",
              "      <th></th>\n",
              "      <th></th>\n",
              "      <th></th>\n",
              "      <th></th>\n",
              "      <th></th>\n",
              "      <th></th>\n",
              "      <th></th>\n",
              "      <th></th>\n",
              "      <th></th>\n",
              "      <th></th>\n",
              "      <th></th>\n",
              "      <th></th>\n",
              "      <th></th>\n",
              "    </tr>\n",
              "  </thead>\n",
              "  <tbody>\n",
              "    <tr>\n",
              "      <th>2020-10-01 00:00:00-04:00</th>\n",
              "      <td>137.290961</td>\n",
              "      <td>137.338362</td>\n",
              "      <td>134.324702</td>\n",
              "      <td>135.858978</td>\n",
              "      <td>52500400.0</td>\n",
              "      <td>130.348083</td>\n",
              "      <td>0</td>\n",
              "      <td>100.000000</td>\n",
              "      <td>100.000000</td>\n",
              "      <td>100.000000</td>\n",
              "      <td>100.000000</td>\n",
              "      <td>0</td>\n",
              "      <td>100.000000</td>\n",
              "      <td>0</td>\n",
              "    </tr>\n",
              "    <tr>\n",
              "      <th>2020-10-02 00:00:00-04:00</th>\n",
              "      <td>131.972167</td>\n",
              "      <td>134.910987</td>\n",
              "      <td>130.235817</td>\n",
              "      <td>130.348083</td>\n",
              "      <td>55249600.0</td>\n",
              "      <td>136.138397</td>\n",
              "      <td>1</td>\n",
              "      <td>100.000000</td>\n",
              "      <td>100.000000</td>\n",
              "      <td>100.000000</td>\n",
              "      <td>100.000000</td>\n",
              "      <td>0</td>\n",
              "      <td>99.995003</td>\n",
              "      <td>0</td>\n",
              "    </tr>\n",
              "    <tr>\n",
              "      <th>2020-10-05 00:00:00-04:00</th>\n",
              "      <td>132.081935</td>\n",
              "      <td>136.155862</td>\n",
              "      <td>131.949706</td>\n",
              "      <td>136.138397</td>\n",
              "      <td>47982000.0</td>\n",
              "      <td>137.076416</td>\n",
              "      <td>1</td>\n",
              "      <td>100.029999</td>\n",
              "      <td>100.040001</td>\n",
              "      <td>99.995003</td>\n",
              "      <td>99.995003</td>\n",
              "      <td>10725</td>\n",
              "      <td>100.029999</td>\n",
              "      <td>1</td>\n",
              "    </tr>\n",
              "    <tr>\n",
              "      <th>2020-10-06 00:00:00-04:00</th>\n",
              "      <td>138.009449</td>\n",
              "      <td>141.122890</td>\n",
              "      <td>136.362907</td>\n",
              "      <td>137.076416</td>\n",
              "      <td>78442000.0</td>\n",
              "      <td>139.346664</td>\n",
              "      <td>1</td>\n",
              "      <td>100.010002</td>\n",
              "      <td>100.029999</td>\n",
              "      <td>100.010002</td>\n",
              "      <td>100.029999</td>\n",
              "      <td>10080</td>\n",
              "      <td>99.919998</td>\n",
              "      <td>0</td>\n",
              "    </tr>\n",
              "    <tr>\n",
              "      <th>2020-10-07 00:00:00-04:00</th>\n",
              "      <td>139.703412</td>\n",
              "      <td>140.895909</td>\n",
              "      <td>138.343771</td>\n",
              "      <td>139.346664</td>\n",
              "      <td>41808400.0</td>\n",
              "      <td>138.096786</td>\n",
              "      <td>0</td>\n",
              "      <td>99.949997</td>\n",
              "      <td>99.959999</td>\n",
              "      <td>99.919998</td>\n",
              "      <td>99.919998</td>\n",
              "      <td>6350</td>\n",
              "      <td>99.995003</td>\n",
              "      <td>1</td>\n",
              "    </tr>\n",
              "    <tr>\n",
              "      <th>...</th>\n",
              "      <td>...</td>\n",
              "      <td>...</td>\n",
              "      <td>...</td>\n",
              "      <td>...</td>\n",
              "      <td>...</td>\n",
              "      <td>...</td>\n",
              "      <td>...</td>\n",
              "      <td>...</td>\n",
              "      <td>...</td>\n",
              "      <td>...</td>\n",
              "      <td>...</td>\n",
              "      <td>...</td>\n",
              "      <td>...</td>\n",
              "      <td>...</td>\n",
              "    </tr>\n",
              "    <tr>\n",
              "      <th>2022-12-01 00:00:00-05:00</th>\n",
              "      <td>169.990005</td>\n",
              "      <td>172.649994</td>\n",
              "      <td>166.350006</td>\n",
              "      <td>171.350006</td>\n",
              "      <td>47097700.0</td>\n",
              "      <td>168.759995</td>\n",
              "      <td>0</td>\n",
              "      <td>91.324997</td>\n",
              "      <td>91.516098</td>\n",
              "      <td>91.324997</td>\n",
              "      <td>91.516098</td>\n",
              "      <td>14968</td>\n",
              "      <td>91.600098</td>\n",
              "      <td>1</td>\n",
              "    </tr>\n",
              "    <tr>\n",
              "      <th>2022-12-02 00:00:00-05:00</th>\n",
              "      <td>166.589996</td>\n",
              "      <td>169.330002</td>\n",
              "      <td>164.449997</td>\n",
              "      <td>168.759995</td>\n",
              "      <td>37119700.0</td>\n",
              "      <td>166.100006</td>\n",
              "      <td>0</td>\n",
              "      <td>91.600098</td>\n",
              "      <td>91.600098</td>\n",
              "      <td>91.600098</td>\n",
              "      <td>91.600098</td>\n",
              "      <td>2</td>\n",
              "      <td>91.154900</td>\n",
              "      <td>0</td>\n",
              "    </tr>\n",
              "    <tr>\n",
              "      <th>2022-12-05 00:00:00-05:00</th>\n",
              "      <td>166.789993</td>\n",
              "      <td>169.949997</td>\n",
              "      <td>164.720001</td>\n",
              "      <td>166.100006</td>\n",
              "      <td>35225500.0</td>\n",
              "      <td>159.869995</td>\n",
              "      <td>0</td>\n",
              "      <td>91.254997</td>\n",
              "      <td>91.300003</td>\n",
              "      <td>91.154900</td>\n",
              "      <td>91.154900</td>\n",
              "      <td>1397</td>\n",
              "      <td>91.309998</td>\n",
              "      <td>1</td>\n",
              "    </tr>\n",
              "    <tr>\n",
              "      <th>2022-12-06 00:00:00-05:00</th>\n",
              "      <td>165.300003</td>\n",
              "      <td>165.729996</td>\n",
              "      <td>158.190002</td>\n",
              "      <td>159.869995</td>\n",
              "      <td>35269400.0</td>\n",
              "      <td>161.199997</td>\n",
              "      <td>1</td>\n",
              "      <td>91.309998</td>\n",
              "      <td>91.309998</td>\n",
              "      <td>91.309998</td>\n",
              "      <td>91.309998</td>\n",
              "      <td>103</td>\n",
              "      <td>91.694901</td>\n",
              "      <td>1</td>\n",
              "    </tr>\n",
              "    <tr>\n",
              "      <th>2022-12-07 00:00:00-05:00</th>\n",
              "      <td>157.720001</td>\n",
              "      <td>161.860001</td>\n",
              "      <td>156.669998</td>\n",
              "      <td>161.199997</td>\n",
              "      <td>37195300.0</td>\n",
              "      <td>NaN</td>\n",
              "      <td>0</td>\n",
              "      <td>91.659897</td>\n",
              "      <td>91.694901</td>\n",
              "      <td>91.653297</td>\n",
              "      <td>91.694901</td>\n",
              "      <td>715</td>\n",
              "      <td>NaN</td>\n",
              "      <td>0</td>\n",
              "    </tr>\n",
              "  </tbody>\n",
              "</table>\n",
              "<p>551 rows × 14 columns</p>\n",
              "</div>\n",
              "      <button class=\"colab-df-convert\" onclick=\"convertToInteractive('df-bbde848d-e3a9-44a7-b219-95791c6288e2')\"\n",
              "              title=\"Convert this dataframe to an interactive table.\"\n",
              "              style=\"display:none;\">\n",
              "        \n",
              "  <svg xmlns=\"http://www.w3.org/2000/svg\" height=\"24px\"viewBox=\"0 0 24 24\"\n",
              "       width=\"24px\">\n",
              "    <path d=\"M0 0h24v24H0V0z\" fill=\"none\"/>\n",
              "    <path d=\"M18.56 5.44l.94 2.06.94-2.06 2.06-.94-2.06-.94-.94-2.06-.94 2.06-2.06.94zm-11 1L8.5 8.5l.94-2.06 2.06-.94-2.06-.94L8.5 2.5l-.94 2.06-2.06.94zm10 10l.94 2.06.94-2.06 2.06-.94-2.06-.94-.94-2.06-.94 2.06-2.06.94z\"/><path d=\"M17.41 7.96l-1.37-1.37c-.4-.4-.92-.59-1.43-.59-.52 0-1.04.2-1.43.59L10.3 9.45l-7.72 7.72c-.78.78-.78 2.05 0 2.83L4 21.41c.39.39.9.59 1.41.59.51 0 1.02-.2 1.41-.59l7.78-7.78 2.81-2.81c.8-.78.8-2.07 0-2.86zM5.41 20L4 18.59l7.72-7.72 1.47 1.35L5.41 20z\"/>\n",
              "  </svg>\n",
              "      </button>\n",
              "      \n",
              "  <style>\n",
              "    .colab-df-container {\n",
              "      display:flex;\n",
              "      flex-wrap:wrap;\n",
              "      gap: 12px;\n",
              "    }\n",
              "\n",
              "    .colab-df-convert {\n",
              "      background-color: #E8F0FE;\n",
              "      border: none;\n",
              "      border-radius: 50%;\n",
              "      cursor: pointer;\n",
              "      display: none;\n",
              "      fill: #1967D2;\n",
              "      height: 32px;\n",
              "      padding: 0 0 0 0;\n",
              "      width: 32px;\n",
              "    }\n",
              "\n",
              "    .colab-df-convert:hover {\n",
              "      background-color: #E2EBFA;\n",
              "      box-shadow: 0px 1px 2px rgba(60, 64, 67, 0.3), 0px 1px 3px 1px rgba(60, 64, 67, 0.15);\n",
              "      fill: #174EA6;\n",
              "    }\n",
              "\n",
              "    [theme=dark] .colab-df-convert {\n",
              "      background-color: #3B4455;\n",
              "      fill: #D2E3FC;\n",
              "    }\n",
              "\n",
              "    [theme=dark] .colab-df-convert:hover {\n",
              "      background-color: #434B5C;\n",
              "      box-shadow: 0px 1px 3px 1px rgba(0, 0, 0, 0.15);\n",
              "      filter: drop-shadow(0px 1px 2px rgba(0, 0, 0, 0.3));\n",
              "      fill: #FFFFFF;\n",
              "    }\n",
              "  </style>\n",
              "\n",
              "      <script>\n",
              "        const buttonEl =\n",
              "          document.querySelector('#df-bbde848d-e3a9-44a7-b219-95791c6288e2 button.colab-df-convert');\n",
              "        buttonEl.style.display =\n",
              "          google.colab.kernel.accessAllowed ? 'block' : 'none';\n",
              "\n",
              "        async function convertToInteractive(key) {\n",
              "          const element = document.querySelector('#df-bbde848d-e3a9-44a7-b219-95791c6288e2');\n",
              "          const dataTable =\n",
              "            await google.colab.kernel.invokeFunction('convertToInteractive',\n",
              "                                                     [key], {});\n",
              "          if (!dataTable) return;\n",
              "\n",
              "          const docLinkHtml = 'Like what you see? Visit the ' +\n",
              "            '<a target=\"_blank\" href=https://colab.research.google.com/notebooks/data_table.ipynb>data table notebook</a>'\n",
              "            + ' to learn more about interactive tables.';\n",
              "          element.innerHTML = '';\n",
              "          dataTable['output_type'] = 'display_data';\n",
              "          await google.colab.output.renderOutput(dataTable, element);\n",
              "          const docLink = document.createElement('div');\n",
              "          docLink.innerHTML = docLinkHtml;\n",
              "          element.appendChild(docLink);\n",
              "        }\n",
              "      </script>\n",
              "    </div>\n",
              "  </div>\n",
              "  "
            ]
          },
          "metadata": {},
          "execution_count": 23
        }
      ]
    },
    {
      "cell_type": "markdown",
      "source": [
        "### Model\n",
        "\n",
        "Now that we have merged data on a single dataframe, we are ready to run our **predictive model**."
      ],
      "metadata": {
        "id": "b0u8z1UOLCh3"
      }
    },
    {
      "cell_type": "code",
      "source": [
        "model = RandomForestClassifier(n_estimators=100, min_samples_split=100, random_state=1)"
      ],
      "metadata": {
        "id": "TGP_h1HjLNVg"
      },
      "execution_count": null,
      "outputs": []
    },
    {
      "cell_type": "code",
      "source": [
        "nvidia = nvidia.dropna()"
      ],
      "metadata": {
        "id": "BpVj1j4EL3Hw"
      },
      "execution_count": null,
      "outputs": []
    },
    {
      "cell_type": "code",
      "source": [
        "print(nvidia.columns)"
      ],
      "metadata": {
        "colab": {
          "base_uri": "https://localhost:8080/"
        },
        "id": "BR98o5LBMIpt",
        "outputId": "6db84f11-9110-4b7e-8dbf-4d9f1867743c"
      },
      "execution_count": null,
      "outputs": [
        {
          "output_type": "stream",
          "name": "stdout",
          "text": [
            "Index(['Open', 'High', 'Low', 'Close', 'Volume', 't1', 'Target', 'Open_B',\n",
            "       'High_B', 'Low_B', 'Close_B', 'Volume_B', 't1_B', 'Target_B'],\n",
            "      dtype='object')\n"
          ]
        }
      ]
    },
    {
      "cell_type": "code",
      "source": [
        "train = nvidia.iloc[:-50]\n",
        "test = nvidia.iloc[-50:]\n",
        "\n",
        "predictors = ['Open', 'High', 'Low', 'Close', 'Volume', 't1', 'Open_B',\n",
        "       'High_B', 'Low_B', 'Close_B', 'Volume_B', 't1_B', 'Target_B']\n",
        "\n",
        "model.fit(train[predictors], train['Target'])"
      ],
      "metadata": {
        "colab": {
          "base_uri": "https://localhost:8080/"
        },
        "id": "dctaLyDvMQ03",
        "outputId": "a25af0f2-9312-4103-9412-b8dd58ef1161"
      },
      "execution_count": null,
      "outputs": [
        {
          "output_type": "execute_result",
          "data": {
            "text/plain": [
              "RandomForestClassifier(min_samples_split=100, random_state=1)"
            ]
          },
          "metadata": {},
          "execution_count": 30
        }
      ]
    },
    {
      "cell_type": "code",
      "source": [
        "preds = model.predict(test[predictors])\n",
        "preds = pd.Series(preds, index = test.index)"
      ],
      "metadata": {
        "id": "3kCVA8uxMlxs"
      },
      "execution_count": null,
      "outputs": []
    },
    {
      "cell_type": "code",
      "source": [
        "precision_score(test['Target'], preds)"
      ],
      "metadata": {
        "colab": {
          "base_uri": "https://localhost:8080/"
        },
        "id": "XrbHXXdFMsDQ",
        "outputId": "b52f2d67-7727-4015-93ee-3f21ec286511"
      },
      "execution_count": null,
      "outputs": [
        {
          "output_type": "execute_result",
          "data": {
            "text/plain": [
              "0.9090909090909091"
            ]
          },
          "metadata": {},
          "execution_count": 32
        }
      ]
    },
    {
      "cell_type": "markdown",
      "source": [
        "## Model n°2 - Financia Indicators\n",
        "\n",
        "We will use some technical indicators, implemented in Pandas through the `FinTA` library, to better predict the behavior of the NVIDIA stock."
      ],
      "metadata": {
        "id": "JhokvAe6Nr1f"
      }
    },
    {
      "cell_type": "code",
      "source": [
        "stock = 'NVDA'\n",
        "\n",
        "nvidia = yf.Ticker(stock)\n",
        "nvidia = nvidia.history(period='max')\n",
        "\n",
        "nvidia"
      ],
      "metadata": {
        "id": "FKR6tF2RUFYC"
      },
      "execution_count": null,
      "outputs": []
    },
    {
      "cell_type": "code",
      "source": [
        "nvidia['t1'] = nvidia['Close'].shift(-1)"
      ],
      "metadata": {
        "id": "3BBe-6KUUWbC"
      },
      "execution_count": null,
      "outputs": []
    },
    {
      "cell_type": "code",
      "source": [
        "nvidia['Target'] = (nvidia['t1'] > nvidia['Close']).astype(int)"
      ],
      "metadata": {
        "id": "RUDzr1b2USf1"
      },
      "execution_count": null,
      "outputs": []
    },
    {
      "cell_type": "code",
      "source": [
        "del nvidia['Dividends']\n",
        "del nvidia['Stock Splits']"
      ],
      "metadata": {
        "id": "IZBxdWNsUTKM"
      },
      "execution_count": null,
      "outputs": []
    },
    {
      "cell_type": "code",
      "source": [
        "nvidia"
      ],
      "metadata": {
        "colab": {
          "base_uri": "https://localhost:8080/",
          "height": 455
        },
        "id": "lIl0kdcZUe9W",
        "outputId": "1588d1db-8117-4b90-b44b-086a7b144869"
      },
      "execution_count": null,
      "outputs": [
        {
          "output_type": "execute_result",
          "data": {
            "text/plain": [
              "                                 Open        High         Low       Close  \\\n",
              "Date                                                                        \n",
              "1999-01-22 00:00:00-05:00    0.401517    0.448121    0.356107    0.376422   \n",
              "1999-01-25 00:00:00-05:00    0.406296    0.420636    0.376422    0.415857   \n",
              "1999-01-26 00:00:00-05:00    0.420636    0.429001    0.377616    0.383592   \n",
              "1999-01-27 00:00:00-05:00    0.384787    0.394347    0.363277    0.382397   \n",
              "1999-01-28 00:00:00-05:00    0.382397    0.384787    0.378811    0.381202   \n",
              "...                               ...         ...         ...         ...   \n",
              "2022-12-02 00:00:00-05:00  166.589996  169.330002  164.449997  168.759995   \n",
              "2022-12-05 00:00:00-05:00  166.789993  169.949997  164.720001  166.100006   \n",
              "2022-12-06 00:00:00-05:00  165.300003  165.729996  158.190002  159.869995   \n",
              "2022-12-07 00:00:00-05:00  157.720001  161.860001  156.669998  161.199997   \n",
              "2022-12-08 00:00:00-05:00  162.729996  165.470001  159.589996  164.654007   \n",
              "\n",
              "                                Volume          t1  Target  \n",
              "Date                                                        \n",
              "1999-01-22 00:00:00-05:00  271468800.0    0.415857       1  \n",
              "1999-01-25 00:00:00-05:00   51048000.0    0.383592       0  \n",
              "1999-01-26 00:00:00-05:00   34320000.0    0.382397       0  \n",
              "1999-01-27 00:00:00-05:00   24436800.0    0.381202       0  \n",
              "1999-01-28 00:00:00-05:00   22752000.0    0.363277       0  \n",
              "...                                ...         ...     ...  \n",
              "2022-12-02 00:00:00-05:00   37119700.0  166.100006       0  \n",
              "2022-12-05 00:00:00-05:00   35225500.0  159.869995       0  \n",
              "2022-12-06 00:00:00-05:00   35269400.0  161.199997       1  \n",
              "2022-12-07 00:00:00-05:00   37195300.0  164.654007       1  \n",
              "2022-12-08 00:00:00-05:00   10558078.0         NaN       0  \n",
              "\n",
              "[6012 rows x 7 columns]"
            ],
            "text/html": [
              "\n",
              "  <div id=\"df-bc624c78-ed62-4691-a85e-5c8e388ecab8\">\n",
              "    <div class=\"colab-df-container\">\n",
              "      <div>\n",
              "<style scoped>\n",
              "    .dataframe tbody tr th:only-of-type {\n",
              "        vertical-align: middle;\n",
              "    }\n",
              "\n",
              "    .dataframe tbody tr th {\n",
              "        vertical-align: top;\n",
              "    }\n",
              "\n",
              "    .dataframe thead th {\n",
              "        text-align: right;\n",
              "    }\n",
              "</style>\n",
              "<table border=\"1\" class=\"dataframe\">\n",
              "  <thead>\n",
              "    <tr style=\"text-align: right;\">\n",
              "      <th></th>\n",
              "      <th>Open</th>\n",
              "      <th>High</th>\n",
              "      <th>Low</th>\n",
              "      <th>Close</th>\n",
              "      <th>Volume</th>\n",
              "      <th>t1</th>\n",
              "      <th>Target</th>\n",
              "    </tr>\n",
              "    <tr>\n",
              "      <th>Date</th>\n",
              "      <th></th>\n",
              "      <th></th>\n",
              "      <th></th>\n",
              "      <th></th>\n",
              "      <th></th>\n",
              "      <th></th>\n",
              "      <th></th>\n",
              "    </tr>\n",
              "  </thead>\n",
              "  <tbody>\n",
              "    <tr>\n",
              "      <th>1999-01-22 00:00:00-05:00</th>\n",
              "      <td>0.401517</td>\n",
              "      <td>0.448121</td>\n",
              "      <td>0.356107</td>\n",
              "      <td>0.376422</td>\n",
              "      <td>271468800.0</td>\n",
              "      <td>0.415857</td>\n",
              "      <td>1</td>\n",
              "    </tr>\n",
              "    <tr>\n",
              "      <th>1999-01-25 00:00:00-05:00</th>\n",
              "      <td>0.406296</td>\n",
              "      <td>0.420636</td>\n",
              "      <td>0.376422</td>\n",
              "      <td>0.415857</td>\n",
              "      <td>51048000.0</td>\n",
              "      <td>0.383592</td>\n",
              "      <td>0</td>\n",
              "    </tr>\n",
              "    <tr>\n",
              "      <th>1999-01-26 00:00:00-05:00</th>\n",
              "      <td>0.420636</td>\n",
              "      <td>0.429001</td>\n",
              "      <td>0.377616</td>\n",
              "      <td>0.383592</td>\n",
              "      <td>34320000.0</td>\n",
              "      <td>0.382397</td>\n",
              "      <td>0</td>\n",
              "    </tr>\n",
              "    <tr>\n",
              "      <th>1999-01-27 00:00:00-05:00</th>\n",
              "      <td>0.384787</td>\n",
              "      <td>0.394347</td>\n",
              "      <td>0.363277</td>\n",
              "      <td>0.382397</td>\n",
              "      <td>24436800.0</td>\n",
              "      <td>0.381202</td>\n",
              "      <td>0</td>\n",
              "    </tr>\n",
              "    <tr>\n",
              "      <th>1999-01-28 00:00:00-05:00</th>\n",
              "      <td>0.382397</td>\n",
              "      <td>0.384787</td>\n",
              "      <td>0.378811</td>\n",
              "      <td>0.381202</td>\n",
              "      <td>22752000.0</td>\n",
              "      <td>0.363277</td>\n",
              "      <td>0</td>\n",
              "    </tr>\n",
              "    <tr>\n",
              "      <th>...</th>\n",
              "      <td>...</td>\n",
              "      <td>...</td>\n",
              "      <td>...</td>\n",
              "      <td>...</td>\n",
              "      <td>...</td>\n",
              "      <td>...</td>\n",
              "      <td>...</td>\n",
              "    </tr>\n",
              "    <tr>\n",
              "      <th>2022-12-02 00:00:00-05:00</th>\n",
              "      <td>166.589996</td>\n",
              "      <td>169.330002</td>\n",
              "      <td>164.449997</td>\n",
              "      <td>168.759995</td>\n",
              "      <td>37119700.0</td>\n",
              "      <td>166.100006</td>\n",
              "      <td>0</td>\n",
              "    </tr>\n",
              "    <tr>\n",
              "      <th>2022-12-05 00:00:00-05:00</th>\n",
              "      <td>166.789993</td>\n",
              "      <td>169.949997</td>\n",
              "      <td>164.720001</td>\n",
              "      <td>166.100006</td>\n",
              "      <td>35225500.0</td>\n",
              "      <td>159.869995</td>\n",
              "      <td>0</td>\n",
              "    </tr>\n",
              "    <tr>\n",
              "      <th>2022-12-06 00:00:00-05:00</th>\n",
              "      <td>165.300003</td>\n",
              "      <td>165.729996</td>\n",
              "      <td>158.190002</td>\n",
              "      <td>159.869995</td>\n",
              "      <td>35269400.0</td>\n",
              "      <td>161.199997</td>\n",
              "      <td>1</td>\n",
              "    </tr>\n",
              "    <tr>\n",
              "      <th>2022-12-07 00:00:00-05:00</th>\n",
              "      <td>157.720001</td>\n",
              "      <td>161.860001</td>\n",
              "      <td>156.669998</td>\n",
              "      <td>161.199997</td>\n",
              "      <td>37195300.0</td>\n",
              "      <td>164.654007</td>\n",
              "      <td>1</td>\n",
              "    </tr>\n",
              "    <tr>\n",
              "      <th>2022-12-08 00:00:00-05:00</th>\n",
              "      <td>162.729996</td>\n",
              "      <td>165.470001</td>\n",
              "      <td>159.589996</td>\n",
              "      <td>164.654007</td>\n",
              "      <td>10558078.0</td>\n",
              "      <td>NaN</td>\n",
              "      <td>0</td>\n",
              "    </tr>\n",
              "  </tbody>\n",
              "</table>\n",
              "<p>6012 rows × 7 columns</p>\n",
              "</div>\n",
              "      <button class=\"colab-df-convert\" onclick=\"convertToInteractive('df-bc624c78-ed62-4691-a85e-5c8e388ecab8')\"\n",
              "              title=\"Convert this dataframe to an interactive table.\"\n",
              "              style=\"display:none;\">\n",
              "        \n",
              "  <svg xmlns=\"http://www.w3.org/2000/svg\" height=\"24px\"viewBox=\"0 0 24 24\"\n",
              "       width=\"24px\">\n",
              "    <path d=\"M0 0h24v24H0V0z\" fill=\"none\"/>\n",
              "    <path d=\"M18.56 5.44l.94 2.06.94-2.06 2.06-.94-2.06-.94-.94-2.06-.94 2.06-2.06.94zm-11 1L8.5 8.5l.94-2.06 2.06-.94-2.06-.94L8.5 2.5l-.94 2.06-2.06.94zm10 10l.94 2.06.94-2.06 2.06-.94-2.06-.94-.94-2.06-.94 2.06-2.06.94z\"/><path d=\"M17.41 7.96l-1.37-1.37c-.4-.4-.92-.59-1.43-.59-.52 0-1.04.2-1.43.59L10.3 9.45l-7.72 7.72c-.78.78-.78 2.05 0 2.83L4 21.41c.39.39.9.59 1.41.59.51 0 1.02-.2 1.41-.59l7.78-7.78 2.81-2.81c.8-.78.8-2.07 0-2.86zM5.41 20L4 18.59l7.72-7.72 1.47 1.35L5.41 20z\"/>\n",
              "  </svg>\n",
              "      </button>\n",
              "      \n",
              "  <style>\n",
              "    .colab-df-container {\n",
              "      display:flex;\n",
              "      flex-wrap:wrap;\n",
              "      gap: 12px;\n",
              "    }\n",
              "\n",
              "    .colab-df-convert {\n",
              "      background-color: #E8F0FE;\n",
              "      border: none;\n",
              "      border-radius: 50%;\n",
              "      cursor: pointer;\n",
              "      display: none;\n",
              "      fill: #1967D2;\n",
              "      height: 32px;\n",
              "      padding: 0 0 0 0;\n",
              "      width: 32px;\n",
              "    }\n",
              "\n",
              "    .colab-df-convert:hover {\n",
              "      background-color: #E2EBFA;\n",
              "      box-shadow: 0px 1px 2px rgba(60, 64, 67, 0.3), 0px 1px 3px 1px rgba(60, 64, 67, 0.15);\n",
              "      fill: #174EA6;\n",
              "    }\n",
              "\n",
              "    [theme=dark] .colab-df-convert {\n",
              "      background-color: #3B4455;\n",
              "      fill: #D2E3FC;\n",
              "    }\n",
              "\n",
              "    [theme=dark] .colab-df-convert:hover {\n",
              "      background-color: #434B5C;\n",
              "      box-shadow: 0px 1px 3px 1px rgba(0, 0, 0, 0.15);\n",
              "      filter: drop-shadow(0px 1px 2px rgba(0, 0, 0, 0.3));\n",
              "      fill: #FFFFFF;\n",
              "    }\n",
              "  </style>\n",
              "\n",
              "      <script>\n",
              "        const buttonEl =\n",
              "          document.querySelector('#df-bc624c78-ed62-4691-a85e-5c8e388ecab8 button.colab-df-convert');\n",
              "        buttonEl.style.display =\n",
              "          google.colab.kernel.accessAllowed ? 'block' : 'none';\n",
              "\n",
              "        async function convertToInteractive(key) {\n",
              "          const element = document.querySelector('#df-bc624c78-ed62-4691-a85e-5c8e388ecab8');\n",
              "          const dataTable =\n",
              "            await google.colab.kernel.invokeFunction('convertToInteractive',\n",
              "                                                     [key], {});\n",
              "          if (!dataTable) return;\n",
              "\n",
              "          const docLinkHtml = 'Like what you see? Visit the ' +\n",
              "            '<a target=\"_blank\" href=https://colab.research.google.com/notebooks/data_table.ipynb>data table notebook</a>'\n",
              "            + ' to learn more about interactive tables.';\n",
              "          element.innerHTML = '';\n",
              "          dataTable['output_type'] = 'display_data';\n",
              "          await google.colab.output.renderOutput(dataTable, element);\n",
              "          const docLink = document.createElement('div');\n",
              "          docLink.innerHTML = docLinkHtml;\n",
              "          element.appendChild(docLink);\n",
              "        }\n",
              "      </script>\n",
              "    </div>\n",
              "  </div>\n",
              "  "
            ]
          },
          "metadata": {},
          "execution_count": 56
        }
      ]
    },
    {
      "cell_type": "markdown",
      "source": [
        "### Smooth Data\n",
        "\n",
        "To calculate indicators in a more accurate way, we need to remove noise by **smoothing** data with a simple function.\n",
        "The purpose of this function is to ignore one-time *outliers* and take into account the effects of *seasonality* on the stock."
      ],
      "metadata": {
        "id": "ZV5mmUMYOjA2"
      }
    },
    {
      "cell_type": "code",
      "source": [
        "def smooth_data(data, alpha):\n",
        "  return data.ewm(alpha=alpha).mean()"
      ],
      "metadata": {
        "id": "tSajdK39K-co"
      },
      "execution_count": null,
      "outputs": []
    },
    {
      "cell_type": "code",
      "source": [
        "alpha = 0.65\n",
        "data = smooth_data(nvidia, alpha)\n",
        "\n",
        "smooth_trend = data.iloc[-60:]['Close']\n",
        "real_trend = nvidia.iloc[-60:]['Close']\n",
        "\n",
        "plt.plot(smooth_trend)\n",
        "plt.plot(real_trend)\n",
        "\n",
        "plt.legend([\"smooth\", \"real\"], loc =\"lower right\")\n",
        "plt.show()"
      ],
      "metadata": {
        "colab": {
          "base_uri": "https://localhost:8080/",
          "height": 265
        },
        "id": "bid9sSV4LFfn",
        "outputId": "8479c488-f188-41f2-fd1a-337c9a06db12"
      },
      "execution_count": null,
      "outputs": [
        {
          "output_type": "display_data",
          "data": {
            "text/plain": [
              "<Figure size 432x288 with 1 Axes>"
            ],
            "image/png": "[encoded data removed]"
          },
          "metadata": {
            "needs_background": "light"
          }
        }
      ]
    },
    {
      "cell_type": "markdown",
      "source": [
        "### Financial Indicators\n",
        "\n",
        "The FinTA library expects properly formatted DataFrames, with column names in lowercase: [\"open\", \"high\", \"low\", \"close\", \"volume\"]"
      ],
      "metadata": {
        "id": "JnN8CCopVwaP"
      }
    },
    {
      "cell_type": "code",
      "source": [
        "data.rename(columns = {'Close': 'close', 'High': 'high', 'Low': 'low', \n",
        "                       'Adj Close': 'adj close', 'Volume': 'volume', 'Open': 'open'}, \n",
        "            inplace = True)"
      ],
      "metadata": {
        "id": "pnicQERULlKO"
      },
      "execution_count": null,
      "outputs": []
    },
    {
      "cell_type": "markdown",
      "source": [
        "We choose the following indicators:\n",
        "\n",
        "- **OBV**: On Balance Volume\n",
        "- **ADL**: Accumulation Distribution Line\n",
        "- **ADX**: Average Directional Index\n",
        "- **RSI**: Relative Strenght Index\n",
        "- **STOCH**: Stochastic Oscillator\n",
        "- **SMA**: Simple Moving Average"
      ],
      "metadata": {
        "id": "N-cFa-BiWuSP"
      }
    },
    {
      "cell_type": "code",
      "source": [
        "indicators = ['OBV', 'ADL', 'ADX', 'RSI', 'STOCH', 'SMA']"
      ],
      "metadata": {
        "id": "HjVgQompVMFn"
      },
      "execution_count": null,
      "outputs": []
    },
    {
      "cell_type": "code",
      "source": [
        "# indicators = ['RSI', 'STOCH', 'ADL', 'ATR', 'MOM', 'MFI', 'ROC', 'OBV', 'CCI', 'EMV']"
      ],
      "metadata": {
        "id": "V-0x8iEnLnO2"
      },
      "execution_count": null,
      "outputs": []
    },
    {
      "cell_type": "code",
      "source": [
        "# indicators = ['SMA', 'SMM', 'SSMA', 'EMA', 'DEMA', 'TEMA', 'TRIMA', 'TRIX', 'VAMA', 'ER', 'KAMA', \n",
        "#              'ZLEMA', 'WMA', 'HMA', 'EVWMA', 'VWAP', 'SMMA', 'MOM', 'ROC', 'RSI', 'IFT_RSI']"
      ],
      "metadata": {
        "id": "g04kaMm_eDez"
      },
      "execution_count": null,
      "outputs": []
    },
    {
      "cell_type": "code",
      "source": [
        "for indicator in indicators:\n",
        "  data[indicator] = eval('TA.' + indicator + '(data)')"
      ],
      "metadata": {
        "id": "SWpd5AOLOWZM"
      },
      "execution_count": null,
      "outputs": []
    },
    {
      "cell_type": "code",
      "source": [
        "print(data.columns)"
      ],
      "metadata": {
        "colab": {
          "base_uri": "https://localhost:8080/"
        },
        "id": "Y24G2qOpO1ak",
        "outputId": "819ce7c8-34e3-47bc-c555-4a3adee358a7"
      },
      "execution_count": null,
      "outputs": [
        {
          "output_type": "stream",
          "name": "stdout",
          "text": [
            "Index(['open', 'high', 'low', 'close', 'volume', 't1', 'Target', 'OBV', 'ADL',\n",
            "       'ADX', 'RSI', 'STOCH', 'SMA'],\n",
            "      dtype='object')\n"
          ]
        }
      ]
    },
    {
      "cell_type": "code",
      "source": [
        "print(nvidia.columns)"
      ],
      "metadata": {
        "colab": {
          "base_uri": "https://localhost:8080/"
        },
        "id": "Upp_Px92VQDh",
        "outputId": "02ac16c2-26f9-4cc5-da17-8b4fe23624fb"
      },
      "execution_count": null,
      "outputs": [
        {
          "output_type": "stream",
          "name": "stdout",
          "text": [
            "Index(['Open', 'High', 'Low', 'Close', 'Volume', 't1', 'Target'], dtype='object')\n"
          ]
        }
      ]
    },
    {
      "cell_type": "code",
      "source": [
        "to_del = ['open', 'high', 'low', 'close', 'volume', 't1', 'Target']"
      ],
      "metadata": {
        "id": "1jEMNpckSx0S"
      },
      "execution_count": null,
      "outputs": []
    },
    {
      "cell_type": "code",
      "source": [
        "for column in to_del:\n",
        "  del data[column]"
      ],
      "metadata": {
        "id": "jg7Nn3ChTJjE"
      },
      "execution_count": null,
      "outputs": []
    },
    {
      "cell_type": "code",
      "source": [
        "nvidia = nvidia.merge(data, how='inner', on='Date')"
      ],
      "metadata": {
        "id": "BRd0iAr2V8ve"
      },
      "execution_count": null,
      "outputs": []
    },
    {
      "cell_type": "code",
      "source": [
        "print(len(nvidia))"
      ],
      "metadata": {
        "colab": {
          "base_uri": "https://localhost:8080/"
        },
        "id": "MfYn7P1iUw8K",
        "outputId": "d0bb2731-0fb5-4e04-c5c4-492f54192b87"
      },
      "execution_count": null,
      "outputs": [
        {
          "output_type": "stream",
          "name": "stdout",
          "text": [
            "6012\n"
          ]
        }
      ]
    },
    {
      "cell_type": "code",
      "source": [
        "nvidia = nvidia.dropna()"
      ],
      "metadata": {
        "id": "G7qmQErPXBRj"
      },
      "execution_count": null,
      "outputs": []
    },
    {
      "cell_type": "code",
      "source": [
        "print(len(nvidia))"
      ],
      "metadata": {
        "colab": {
          "base_uri": "https://localhost:8080/"
        },
        "id": "l1qQIN4RXmYC",
        "outputId": "fd891d09-235a-4cd4-8615-6bf5d203250a"
      },
      "execution_count": null,
      "outputs": [
        {
          "output_type": "stream",
          "name": "stdout",
          "text": [
            "5969\n"
          ]
        }
      ]
    },
    {
      "cell_type": "code",
      "source": [
        "nvidia"
      ],
      "metadata": {
        "colab": {
          "base_uri": "https://localhost:8080/",
          "height": 455
        },
        "id": "uaE17bcdhYBS",
        "outputId": "9ae24bcb-d417-4a87-aa6b-ea598fdccb0f"
      },
      "execution_count": null,
      "outputs": [
        {
          "output_type": "execute_result",
          "data": {
            "text/plain": [
              "                                 Open        High         Low       Close  \\\n",
              "Date                                                                        \n",
              "1999-03-22 00:00:00-05:00    0.409882    0.411077    0.389567    0.389567   \n",
              "1999-03-23 00:00:00-05:00    0.391956    0.391956    0.358497    0.365667   \n",
              "1999-03-24 00:00:00-05:00    0.363277    0.365667    0.348937    0.363277   \n",
              "1999-03-25 00:00:00-05:00    0.362082    0.382397    0.360887    0.368057   \n",
              "1999-03-26 00:00:00-05:00    0.372837    0.401517    0.372837    0.400322   \n",
              "...                               ...         ...         ...         ...   \n",
              "2022-12-01 00:00:00-05:00  169.990005  172.649994  166.350006  171.350006   \n",
              "2022-12-02 00:00:00-05:00  166.589996  169.330002  164.449997  168.759995   \n",
              "2022-12-05 00:00:00-05:00  166.789993  169.949997  164.720001  166.100006   \n",
              "2022-12-06 00:00:00-05:00  165.300003  165.729996  158.190002  159.869995   \n",
              "2022-12-07 00:00:00-05:00  157.720001  161.860001  156.669998  161.199997   \n",
              "\n",
              "                               Volume          t1  Target           OBV  \\\n",
              "Date                                                                      \n",
              "1999-03-22 00:00:00-05:00   3667200.0    0.365667       0  2.132452e+07   \n",
              "1999-03-23 00:00:00-05:00  16396800.0    0.363277       0  8.768430e+06   \n",
              "1999-03-24 00:00:00-05:00   6086400.0    0.368057       1  4.176385e+05   \n",
              "1999-03-25 00:00:00-05:00   4032000.0    0.400322       1  5.961215e+06   \n",
              "1999-03-26 00:00:00-05:00   8827200.0    0.412272       1  1.363915e+07   \n",
              "...                               ...         ...     ...           ...   \n",
              "2022-12-01 00:00:00-05:00  47097700.0  168.759995       0  1.986902e+10   \n",
              "2022-12-02 00:00:00-05:00  37119700.0  166.100006       0  1.982842e+10   \n",
              "2022-12-05 00:00:00-05:00  35225500.0  159.869995       0  1.979131e+10   \n",
              "2022-12-06 00:00:00-05:00  35269400.0  161.199997       1  1.975540e+10   \n",
              "2022-12-07 00:00:00-05:00  37195300.0  164.654007       1  1.971865e+10   \n",
              "\n",
              "                                    ADL        ADX        RSI      STOCH  \\\n",
              "Date                                                                       \n",
              "1999-03-22 00:00:00-05:00 -2.407830e+08  39.377604  47.304309  22.624717   \n",
              "1999-03-23 00:00:00-05:00 -2.486523e+08  37.734846  39.629783   9.472836   \n",
              "1999-03-24 00:00:00-05:00 -2.480554e+08  37.328375  36.823550  15.969228   \n",
              "1999-03-25 00:00:00-05:00 -2.491327e+08  36.505427  37.040011  16.475307   \n",
              "1999-03-26 00:00:00-05:00 -2.445306e+08  34.157348  48.373097  46.583324   \n",
              "...                                 ...        ...        ...        ...   \n",
              "2022-12-01 00:00:00-05:00  4.383381e+09  35.181409  69.806974  93.598374   \n",
              "2022-12-02 00:00:00-05:00  4.412721e+09  35.693665  69.385154  91.961796   \n",
              "2022-12-05 00:00:00-05:00  4.411889e+09  36.187863  66.476843  82.421359   \n",
              "2022-12-06 00:00:00-05:00  4.397334e+09  35.470383  59.566126  57.900652   \n",
              "2022-12-07 00:00:00-05:00  4.407225e+09  34.186073  58.481976  53.840307   \n",
              "\n",
              "                                  SMA  \n",
              "Date                                   \n",
              "1999-03-22 00:00:00-05:00    0.392218  \n",
              "1999-03-23 00:00:00-05:00    0.392193  \n",
              "1999-03-24 00:00:00-05:00    0.391263  \n",
              "1999-03-25 00:00:00-05:00    0.390707  \n",
              "1999-03-26 00:00:00-05:00    0.390798  \n",
              "...                               ...  \n",
              "2022-12-01 00:00:00-05:00  139.659584  \n",
              "2022-12-02 00:00:00-05:00  140.584605  \n",
              "2022-12-05 00:00:00-05:00  141.460603  \n",
              "2022-12-06 00:00:00-05:00  142.387728  \n",
              "2022-12-07 00:00:00-05:00  143.418183  \n",
              "\n",
              "[5969 rows x 13 columns]"
            ],
            "text/html": [
              "\n",
              "  <div id=\"df-e0f23cf6-98e9-47b1-ae94-5fcf800f32af\">\n",
              "    <div class=\"colab-df-container\">\n",
              "      <div>\n",
              "<style scoped>\n",
              "    .dataframe tbody tr th:only-of-type {\n",
              "        vertical-align: middle;\n",
              "    }\n",
              "\n",
              "    .dataframe tbody tr th {\n",
              "        vertical-align: top;\n",
              "    }\n",
              "\n",
              "    .dataframe thead th {\n",
              "        text-align: right;\n",
              "    }\n",
              "</style>\n",
              "<table border=\"1\" class=\"dataframe\">\n",
              "  <thead>\n",
              "    <tr style=\"text-align: right;\">\n",
              "      <th></th>\n",
              "      <th>Open</th>\n",
              "      <th>High</th>\n",
              "      <th>Low</th>\n",
              "      <th>Close</th>\n",
              "      <th>Volume</th>\n",
              "      <th>t1</th>\n",
              "      <th>Target</th>\n",
              "      <th>OBV</th>\n",
              "      <th>ADL</th>\n",
              "      <th>ADX</th>\n",
              "      <th>RSI</th>\n",
              "      <th>STOCH</th>\n",
              "      <th>SMA</th>\n",
              "    </tr>\n",
              "    <tr>\n",
              "      <th>Date</th>\n",
              "      <th></th>\n",
              "      <th></th>\n",
              "      <th></th>\n",
              "      <th></th>\n",
              "      <th></th>\n",
              "      <th></th>\n",
              "      <th></th>\n",
              "      <th></th>\n",
              "      <th></th>\n",
              "      <th></th>\n",
              "      <th></th>\n",
              "      <th></th>\n",
              "      <th></th>\n",
              "    </tr>\n",
              "  </thead>\n",
              "  <tbody>\n",
              "    <tr>\n",
              "      <th>1999-03-22 00:00:00-05:00</th>\n",
              "      <td>0.409882</td>\n",
              "      <td>0.411077</td>\n",
              "      <td>0.389567</td>\n",
              "      <td>0.389567</td>\n",
              "      <td>3667200.0</td>\n",
              "      <td>0.365667</td>\n",
              "      <td>0</td>\n",
              "      <td>2.132452e+07</td>\n",
              "      <td>-2.407830e+08</td>\n",
              "      <td>39.377604</td>\n",
              "      <td>47.304309</td>\n",
              "      <td>22.624717</td>\n",
              "      <td>0.392218</td>\n",
              "    </tr>\n",
              "    <tr>\n",
              "      <th>1999-03-23 00:00:00-05:00</th>\n",
              "      <td>0.391956</td>\n",
              "      <td>0.391956</td>\n",
              "      <td>0.358497</td>\n",
              "      <td>0.365667</td>\n",
              "      <td>16396800.0</td>\n",
              "      <td>0.363277</td>\n",
              "      <td>0</td>\n",
              "      <td>8.768430e+06</td>\n",
              "      <td>-2.486523e+08</td>\n",
              "      <td>37.734846</td>\n",
              "      <td>39.629783</td>\n",
              "      <td>9.472836</td>\n",
              "      <td>0.392193</td>\n",
              "    </tr>\n",
              "    <tr>\n",
              "      <th>1999-03-24 00:00:00-05:00</th>\n",
              "      <td>0.363277</td>\n",
              "      <td>0.365667</td>\n",
              "      <td>0.348937</td>\n",
              "      <td>0.363277</td>\n",
              "      <td>6086400.0</td>\n",
              "      <td>0.368057</td>\n",
              "      <td>1</td>\n",
              "      <td>4.176385e+05</td>\n",
              "      <td>-2.480554e+08</td>\n",
              "      <td>37.328375</td>\n",
              "      <td>36.823550</td>\n",
              "      <td>15.969228</td>\n",
              "      <td>0.391263</td>\n",
              "    </tr>\n",
              "    <tr>\n",
              "      <th>1999-03-25 00:00:00-05:00</th>\n",
              "      <td>0.362082</td>\n",
              "      <td>0.382397</td>\n",
              "      <td>0.360887</td>\n",
              "      <td>0.368057</td>\n",
              "      <td>4032000.0</td>\n",
              "      <td>0.400322</td>\n",
              "      <td>1</td>\n",
              "      <td>5.961215e+06</td>\n",
              "      <td>-2.491327e+08</td>\n",
              "      <td>36.505427</td>\n",
              "      <td>37.040011</td>\n",
              "      <td>16.475307</td>\n",
              "      <td>0.390707</td>\n",
              "    </tr>\n",
              "    <tr>\n",
              "      <th>1999-03-26 00:00:00-05:00</th>\n",
              "      <td>0.372837</td>\n",
              "      <td>0.401517</td>\n",
              "      <td>0.372837</td>\n",
              "      <td>0.400322</td>\n",
              "      <td>8827200.0</td>\n",
              "      <td>0.412272</td>\n",
              "      <td>1</td>\n",
              "      <td>1.363915e+07</td>\n",
              "      <td>-2.445306e+08</td>\n",
              "      <td>34.157348</td>\n",
              "      <td>48.373097</td>\n",
              "      <td>46.583324</td>\n",
              "      <td>0.390798</td>\n",
              "    </tr>\n",
              "    <tr>\n",
              "      <th>...</th>\n",
              "      <td>...</td>\n",
              "      <td>...</td>\n",
              "      <td>...</td>\n",
              "      <td>...</td>\n",
              "      <td>...</td>\n",
              "      <td>...</td>\n",
              "      <td>...</td>\n",
              "      <td>...</td>\n",
              "      <td>...</td>\n",
              "      <td>...</td>\n",
              "      <td>...</td>\n",
              "      <td>...</td>\n",
              "      <td>...</td>\n",
              "    </tr>\n",
              "    <tr>\n",
              "      <th>2022-12-01 00:00:00-05:00</th>\n",
              "      <td>169.990005</td>\n",
              "      <td>172.649994</td>\n",
              "      <td>166.350006</td>\n",
              "      <td>171.350006</td>\n",
              "      <td>47097700.0</td>\n",
              "      <td>168.759995</td>\n",
              "      <td>0</td>\n",
              "      <td>1.986902e+10</td>\n",
              "      <td>4.383381e+09</td>\n",
              "      <td>35.181409</td>\n",
              "      <td>69.806974</td>\n",
              "      <td>93.598374</td>\n",
              "      <td>139.659584</td>\n",
              "    </tr>\n",
              "    <tr>\n",
              "      <th>2022-12-02 00:00:00-05:00</th>\n",
              "      <td>166.589996</td>\n",
              "      <td>169.330002</td>\n",
              "      <td>164.449997</td>\n",
              "      <td>168.759995</td>\n",
              "      <td>37119700.0</td>\n",
              "      <td>166.100006</td>\n",
              "      <td>0</td>\n",
              "      <td>1.982842e+10</td>\n",
              "      <td>4.412721e+09</td>\n",
              "      <td>35.693665</td>\n",
              "      <td>69.385154</td>\n",
              "      <td>91.961796</td>\n",
              "      <td>140.584605</td>\n",
              "    </tr>\n",
              "    <tr>\n",
              "      <th>2022-12-05 00:00:00-05:00</th>\n",
              "      <td>166.789993</td>\n",
              "      <td>169.949997</td>\n",
              "      <td>164.720001</td>\n",
              "      <td>166.100006</td>\n",
              "      <td>35225500.0</td>\n",
              "      <td>159.869995</td>\n",
              "      <td>0</td>\n",
              "      <td>1.979131e+10</td>\n",
              "      <td>4.411889e+09</td>\n",
              "      <td>36.187863</td>\n",
              "      <td>66.476843</td>\n",
              "      <td>82.421359</td>\n",
              "      <td>141.460603</td>\n",
              "    </tr>\n",
              "    <tr>\n",
              "      <th>2022-12-06 00:00:00-05:00</th>\n",
              "      <td>165.300003</td>\n",
              "      <td>165.729996</td>\n",
              "      <td>158.190002</td>\n",
              "      <td>159.869995</td>\n",
              "      <td>35269400.0</td>\n",
              "      <td>161.199997</td>\n",
              "      <td>1</td>\n",
              "      <td>1.975540e+10</td>\n",
              "      <td>4.397334e+09</td>\n",
              "      <td>35.470383</td>\n",
              "      <td>59.566126</td>\n",
              "      <td>57.900652</td>\n",
              "      <td>142.387728</td>\n",
              "    </tr>\n",
              "    <tr>\n",
              "      <th>2022-12-07 00:00:00-05:00</th>\n",
              "      <td>157.720001</td>\n",
              "      <td>161.860001</td>\n",
              "      <td>156.669998</td>\n",
              "      <td>161.199997</td>\n",
              "      <td>37195300.0</td>\n",
              "      <td>164.654007</td>\n",
              "      <td>1</td>\n",
              "      <td>1.971865e+10</td>\n",
              "      <td>4.407225e+09</td>\n",
              "      <td>34.186073</td>\n",
              "      <td>58.481976</td>\n",
              "      <td>53.840307</td>\n",
              "      <td>143.418183</td>\n",
              "    </tr>\n",
              "  </tbody>\n",
              "</table>\n",
              "<p>5969 rows × 13 columns</p>\n",
              "</div>\n",
              "      <button class=\"colab-df-convert\" onclick=\"convertToInteractive('df-e0f23cf6-98e9-47b1-ae94-5fcf800f32af')\"\n",
              "              title=\"Convert this dataframe to an interactive table.\"\n",
              "              style=\"display:none;\">\n",
              "        \n",
              "  <svg xmlns=\"http://www.w3.org/2000/svg\" height=\"24px\"viewBox=\"0 0 24 24\"\n",
              "       width=\"24px\">\n",
              "    <path d=\"M0 0h24v24H0V0z\" fill=\"none\"/>\n",
              "    <path d=\"M18.56 5.44l.94 2.06.94-2.06 2.06-.94-2.06-.94-.94-2.06-.94 2.06-2.06.94zm-11 1L8.5 8.5l.94-2.06 2.06-.94-2.06-.94L8.5 2.5l-.94 2.06-2.06.94zm10 10l.94 2.06.94-2.06 2.06-.94-2.06-.94-.94-2.06-.94 2.06-2.06.94z\"/><path d=\"M17.41 7.96l-1.37-1.37c-.4-.4-.92-.59-1.43-.59-.52 0-1.04.2-1.43.59L10.3 9.45l-7.72 7.72c-.78.78-.78 2.05 0 2.83L4 21.41c.39.39.9.59 1.41.59.51 0 1.02-.2 1.41-.59l7.78-7.78 2.81-2.81c.8-.78.8-2.07 0-2.86zM5.41 20L4 18.59l7.72-7.72 1.47 1.35L5.41 20z\"/>\n",
              "  </svg>\n",
              "      </button>\n",
              "      \n",
              "  <style>\n",
              "    .colab-df-container {\n",
              "      display:flex;\n",
              "      flex-wrap:wrap;\n",
              "      gap: 12px;\n",
              "    }\n",
              "\n",
              "    .colab-df-convert {\n",
              "      background-color: #E8F0FE;\n",
              "      border: none;\n",
              "      border-radius: 50%;\n",
              "      cursor: pointer;\n",
              "      display: none;\n",
              "      fill: #1967D2;\n",
              "      height: 32px;\n",
              "      padding: 0 0 0 0;\n",
              "      width: 32px;\n",
              "    }\n",
              "\n",
              "    .colab-df-convert:hover {\n",
              "      background-color: #E2EBFA;\n",
              "      box-shadow: 0px 1px 2px rgba(60, 64, 67, 0.3), 0px 1px 3px 1px rgba(60, 64, 67, 0.15);\n",
              "      fill: #174EA6;\n",
              "    }\n",
              "\n",
              "    [theme=dark] .colab-df-convert {\n",
              "      background-color: #3B4455;\n",
              "      fill: #D2E3FC;\n",
              "    }\n",
              "\n",
              "    [theme=dark] .colab-df-convert:hover {\n",
              "      background-color: #434B5C;\n",
              "      box-shadow: 0px 1px 3px 1px rgba(0, 0, 0, 0.15);\n",
              "      filter: drop-shadow(0px 1px 2px rgba(0, 0, 0, 0.3));\n",
              "      fill: #FFFFFF;\n",
              "    }\n",
              "  </style>\n",
              "\n",
              "      <script>\n",
              "        const buttonEl =\n",
              "          document.querySelector('#df-e0f23cf6-98e9-47b1-ae94-5fcf800f32af button.colab-df-convert');\n",
              "        buttonEl.style.display =\n",
              "          google.colab.kernel.accessAllowed ? 'block' : 'none';\n",
              "\n",
              "        async function convertToInteractive(key) {\n",
              "          const element = document.querySelector('#df-e0f23cf6-98e9-47b1-ae94-5fcf800f32af');\n",
              "          const dataTable =\n",
              "            await google.colab.kernel.invokeFunction('convertToInteractive',\n",
              "                                                     [key], {});\n",
              "          if (!dataTable) return;\n",
              "\n",
              "          const docLinkHtml = 'Like what you see? Visit the ' +\n",
              "            '<a target=\"_blank\" href=https://colab.research.google.com/notebooks/data_table.ipynb>data table notebook</a>'\n",
              "            + ' to learn more about interactive tables.';\n",
              "          element.innerHTML = '';\n",
              "          dataTable['output_type'] = 'display_data';\n",
              "          await google.colab.output.renderOutput(dataTable, element);\n",
              "          const docLink = document.createElement('div');\n",
              "          docLink.innerHTML = docLinkHtml;\n",
              "          element.appendChild(docLink);\n",
              "        }\n",
              "      </script>\n",
              "    </div>\n",
              "  </div>\n",
              "  "
            ]
          },
          "metadata": {},
          "execution_count": 71
        }
      ]
    },
    {
      "cell_type": "code",
      "source": [
        "model = RandomForestClassifier(n_estimators=100, min_samples_split=100, random_state=1)"
      ],
      "metadata": {
        "id": "Kb_ztutyH3Xy"
      },
      "execution_count": null,
      "outputs": []
    },
    {
      "cell_type": "code",
      "source": [
        "print(nvidia.columns)"
      ],
      "metadata": {
        "colab": {
          "base_uri": "https://localhost:8080/"
        },
        "id": "KUQlS1JcXZyT",
        "outputId": "d6ced2ff-8d41-43b6-fdc2-2be9150a6e73"
      },
      "execution_count": null,
      "outputs": [
        {
          "output_type": "stream",
          "name": "stdout",
          "text": [
            "Index(['Open', 'High', 'Low', 'Close', 'Volume', 't1', 'Target', 'OBV', 'ADL',\n",
            "       'ADX', 'RSI', 'STOCH', 'SMA'],\n",
            "      dtype='object')\n"
          ]
        }
      ]
    },
    {
      "cell_type": "code",
      "source": [
        "train = nvidia.iloc[:-50]\n",
        "test = nvidia.iloc[-50:]\n",
        "\n",
        "predictors = ['Open', 'High', 'Low', 'Close', 'Volume', 't1', 'OBV', 'ADL',\n",
        "       'ADX', 'RSI', 'STOCH', 'SMA']\n",
        "\n",
        "model.fit(train[predictors], train['Target'])"
      ],
      "metadata": {
        "colab": {
          "base_uri": "https://localhost:8080/"
        },
        "id": "POy6qAM34Q8Z",
        "outputId": "92ed6ddb-3e48-4ba6-e338-8682514a403f"
      },
      "execution_count": null,
      "outputs": [
        {
          "output_type": "execute_result",
          "data": {
            "text/plain": [
              "RandomForestClassifier(min_samples_split=100, random_state=1)"
            ]
          },
          "metadata": {},
          "execution_count": 74
        }
      ]
    },
    {
      "cell_type": "code",
      "source": [
        "preds = model.predict(test[predictors])\n",
        "preds = pd.Series(preds, index = test.index)"
      ],
      "metadata": {
        "id": "YnFxqqcZPfOn"
      },
      "execution_count": null,
      "outputs": []
    },
    {
      "cell_type": "code",
      "source": [
        "precision_score(test['Target'], preds)"
      ],
      "metadata": {
        "colab": {
          "base_uri": "https://localhost:8080/"
        },
        "id": "p9vdCtqJP3Y-",
        "outputId": "eb7f2c06-48e2-4a75-a03e-20e580bb8ac3"
      },
      "execution_count": null,
      "outputs": [
        {
          "output_type": "execute_result",
          "data": {
            "text/plain": [
              "0.6857142857142857"
            ]
          },
          "metadata": {},
          "execution_count": 76
        }
      ]
    },
    {
      "cell_type": "code",
      "source": [
        "def predict(train, test, predictors, model):\n",
        "  model.fit(train[predictors], train['Target'])\n",
        "  preds = model.predict(test[predictors])\n",
        "  preds = pd.Series(preds, index = test.index, name = 'Predictions')\n",
        "  combined = pd.concat([test['Target'], preds], axis = 1)\n",
        "  return combined"
      ],
      "metadata": {
        "id": "-sGSpzeRRTsg"
      },
      "execution_count": null,
      "outputs": []
    },
    {
      "cell_type": "code",
      "source": [
        "def backtest(data, model, predictors, start=2500, step=250):\n",
        "  all_predictions = []\n",
        "\n",
        "  for i in range(start, data.shape[0], step):\n",
        "    train = data.iloc[0:i].copy()\n",
        "    test = data.iloc[i:(i + step)].copy()\n",
        "    predictions = predict(train, test, predictors, model)\n",
        "    all_predictions.append(predictions)\n",
        "  return pd.concat(all_predictions)"
      ],
      "metadata": {
        "id": "VYw_zTSNSDg8"
      },
      "execution_count": null,
      "outputs": []
    },
    {
      "cell_type": "code",
      "source": [
        "predictions = backtest(nvidia, model, predictors)"
      ],
      "metadata": {
        "id": "0FWkeOkgS8CT"
      },
      "execution_count": null,
      "outputs": []
    },
    {
      "cell_type": "code",
      "source": [
        "predictions['Predictions'].value_counts()"
      ],
      "metadata": {
        "colab": {
          "base_uri": "https://localhost:8080/"
        },
        "id": "rX8YOevLT2Bl",
        "outputId": "363a55ab-dc2d-4361-ebf7-4264dbcfff7e"
      },
      "execution_count": null,
      "outputs": [
        {
          "output_type": "execute_result",
          "data": {
            "text/plain": [
              "0    2268\n",
              "1    1234\n",
              "Name: Predictions, dtype: int64"
            ]
          },
          "metadata": {},
          "execution_count": 64
        }
      ]
    },
    {
      "cell_type": "code",
      "source": [
        "precision_score(predictions['Target'], predictions['Predictions'])"
      ],
      "metadata": {
        "colab": {
          "base_uri": "https://localhost:8080/"
        },
        "id": "cxnqJip3UBIh",
        "outputId": "b1b22ff9-a077-45c1-d584-f59ff5fb6af3"
      },
      "execution_count": null,
      "outputs": [
        {
          "output_type": "execute_result",
          "data": {
            "text/plain": [
              "0.6176948051948052"
            ]
          },
          "metadata": {},
          "execution_count": 80
        }
      ]
    }
  ]
}