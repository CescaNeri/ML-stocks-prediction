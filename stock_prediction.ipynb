{
  "nbformat": 4,
  "nbformat_minor": 0,
  "metadata": {
    "colab": {
      "provenance": [],
      "collapsed_sections": [
        "FCdOYQhEu8i3",
        "altpuOUPzShL"
      ],
      "authorship_tag": "ABX9TyN9qCpnihc17Wi9gtw0CHoE",
      "include_colab_link": true
    },
    "kernelspec": {
      "name": "python3",
      "display_name": "Python 3"
    },
    "language_info": {
      "name": "python"
    }
  },
  "cells": [
    {
      "cell_type": "markdown",
      "metadata": {
        "id": "view-in-github",
        "colab_type": "text"
      },
      "source": [
        "<a href=\"https://colab.research.google.com/github/CescaNeri/ML-stocks-prediction/blob/main/stock_prediction.ipynb\" target=\"_parent\"><img src=\"https://colab.research.google.com/assets/colab-badge.svg\" alt=\"Open In Colab\"/></a>"
      ]
    },
    {
      "cell_type": "markdown",
      "source": [
        "## Import packages\n",
        "\n",
        "We start by installing and importing the packages that we will need later on."
      ],
      "metadata": {
        "id": "lpEw8fssyw-x"
      }
    },
    {
      "cell_type": "code",
      "source": [
        "%pip install yfinance --upgrade --no-cache-dir"
      ],
      "metadata": {
        "id": "bojtQGM6D1Qw",
        "colab": {
          "base_uri": "https://localhost:8080/"
        },
        "outputId": "aef8ddca-d823-4835-cb4a-7aab57199163"
      },
      "execution_count": 1,
      "outputs": [
        {
          "output_type": "stream",
          "name": "stdout",
          "text": [
            "Looking in indexes: https://pypi.org/simple, https://us-python.pkg.dev/colab-wheels/public/simple/\n",
            "Collecting yfinance\n",
            "  Downloading yfinance-0.2.3-py2.py3-none-any.whl (50 kB)\n",
            "\u001b[K     |████████████████████████████████| 50 kB 22.6 MB/s \n",
            "\u001b[?25hRequirement already satisfied: numpy>=1.16.5 in /usr/local/lib/python3.8/dist-packages (from yfinance) (1.21.6)\n",
            "Requirement already satisfied: lxml>=4.9.1 in /usr/local/lib/python3.8/dist-packages (from yfinance) (4.9.2)\n",
            "Requirement already satisfied: pytz>=2022.5 in /usr/local/lib/python3.8/dist-packages (from yfinance) (2022.6)\n",
            "Requirement already satisfied: multitasking>=0.0.7 in /usr/local/lib/python3.8/dist-packages (from yfinance) (0.0.11)\n",
            "Requirement already satisfied: appdirs>=1.4.4 in /usr/local/lib/python3.8/dist-packages (from yfinance) (1.4.4)\n",
            "Collecting cryptography>=3.3.2\n",
            "  Downloading cryptography-38.0.4-cp36-abi3-manylinux_2_24_x86_64.whl (4.0 MB)\n",
            "\u001b[K     |████████████████████████████████| 4.0 MB 74.5 MB/s \n",
            "\u001b[?25hCollecting frozendict>=2.3.4\n",
            "  Downloading frozendict-2.3.4-cp38-cp38-manylinux_2_17_x86_64.manylinux2014_x86_64.whl (110 kB)\n",
            "\u001b[K     |████████████████████████████████| 110 kB 90.3 MB/s \n",
            "\u001b[?25hCollecting html5lib>=1.1\n",
            "  Downloading html5lib-1.1-py2.py3-none-any.whl (112 kB)\n",
            "\u001b[K     |████████████████████████████████| 112 kB 91.0 MB/s \n",
            "\u001b[?25hCollecting beautifulsoup4>=4.11.1\n",
            "  Downloading beautifulsoup4-4.11.1-py3-none-any.whl (128 kB)\n",
            "\u001b[K     |████████████████████████████████| 128 kB 91.2 MB/s \n",
            "\u001b[?25hCollecting requests>=2.26\n",
            "  Downloading requests-2.28.1-py3-none-any.whl (62 kB)\n",
            "\u001b[K     |████████████████████████████████| 62 kB 49.2 MB/s \n",
            "\u001b[?25hRequirement already satisfied: pandas>=1.3.0 in /usr/local/lib/python3.8/dist-packages (from yfinance) (1.3.5)\n",
            "Collecting soupsieve>1.2\n",
            "  Downloading soupsieve-2.3.2.post1-py3-none-any.whl (37 kB)\n",
            "Requirement already satisfied: cffi>=1.12 in /usr/local/lib/python3.8/dist-packages (from cryptography>=3.3.2->yfinance) (1.15.1)\n",
            "Requirement already satisfied: pycparser in /usr/local/lib/python3.8/dist-packages (from cffi>=1.12->cryptography>=3.3.2->yfinance) (2.21)\n",
            "Requirement already satisfied: six>=1.9 in /usr/local/lib/python3.8/dist-packages (from html5lib>=1.1->yfinance) (1.15.0)\n",
            "Requirement already satisfied: webencodings in /usr/local/lib/python3.8/dist-packages (from html5lib>=1.1->yfinance) (0.5.1)\n",
            "Requirement already satisfied: python-dateutil>=2.7.3 in /usr/local/lib/python3.8/dist-packages (from pandas>=1.3.0->yfinance) (2.8.2)\n",
            "Requirement already satisfied: certifi>=2017.4.17 in /usr/local/lib/python3.8/dist-packages (from requests>=2.26->yfinance) (2022.12.7)\n",
            "Requirement already satisfied: idna<4,>=2.5 in /usr/local/lib/python3.8/dist-packages (from requests>=2.26->yfinance) (2.10)\n",
            "Requirement already satisfied: charset-normalizer<3,>=2 in /usr/local/lib/python3.8/dist-packages (from requests>=2.26->yfinance) (2.1.1)\n",
            "Requirement already satisfied: urllib3<1.27,>=1.21.1 in /usr/local/lib/python3.8/dist-packages (from requests>=2.26->yfinance) (1.24.3)\n",
            "Installing collected packages: soupsieve, requests, html5lib, frozendict, cryptography, beautifulsoup4, yfinance\n",
            "  Attempting uninstall: requests\n",
            "    Found existing installation: requests 2.23.0\n",
            "    Uninstalling requests-2.23.0:\n",
            "      Successfully uninstalled requests-2.23.0\n",
            "  Attempting uninstall: html5lib\n",
            "    Found existing installation: html5lib 1.0.1\n",
            "    Uninstalling html5lib-1.0.1:\n",
            "      Successfully uninstalled html5lib-1.0.1\n",
            "  Attempting uninstall: beautifulsoup4\n",
            "    Found existing installation: beautifulsoup4 4.6.3\n",
            "    Uninstalling beautifulsoup4-4.6.3:\n",
            "      Successfully uninstalled beautifulsoup4-4.6.3\n",
            "Successfully installed beautifulsoup4-4.11.1 cryptography-38.0.4 frozendict-2.3.4 html5lib-1.1 requests-2.28.1 soupsieve-2.3.2.post1 yfinance-0.2.3\n"
          ]
        }
      ]
    },
    {
      "cell_type": "code",
      "source": [
        "%pip install finta"
      ],
      "metadata": {
        "id": "pU-67CaeKjIn",
        "colab": {
          "base_uri": "https://localhost:8080/"
        },
        "outputId": "3134aef0-f77c-4695-d32d-aa7bb7d9d8ae"
      },
      "execution_count": 2,
      "outputs": [
        {
          "output_type": "stream",
          "name": "stdout",
          "text": [
            "Looking in indexes: https://pypi.org/simple, https://us-python.pkg.dev/colab-wheels/public/simple/\n",
            "Collecting finta\n",
            "  Downloading finta-1.3-py3-none-any.whl (29 kB)\n",
            "Requirement already satisfied: pandas in /usr/local/lib/python3.8/dist-packages (from finta) (1.3.5)\n",
            "Requirement already satisfied: numpy in /usr/local/lib/python3.8/dist-packages (from finta) (1.21.6)\n",
            "Requirement already satisfied: python-dateutil>=2.7.3 in /usr/local/lib/python3.8/dist-packages (from pandas->finta) (2.8.2)\n",
            "Requirement already satisfied: pytz>=2017.3 in /usr/local/lib/python3.8/dist-packages (from pandas->finta) (2022.6)\n",
            "Requirement already satisfied: six>=1.5 in /usr/local/lib/python3.8/dist-packages (from python-dateutil>=2.7.3->pandas->finta) (1.15.0)\n",
            "Installing collected packages: finta\n",
            "Successfully installed finta-1.3\n"
          ]
        }
      ]
    },
    {
      "cell_type": "code",
      "execution_count": 3,
      "metadata": {
        "id": "1br7AiG0DPjd"
      },
      "outputs": [],
      "source": [
        "import yfinance as yf\n",
        "import pandas as pd\n",
        "import numpy as np\n",
        "import matplotlib.pyplot as plt\n",
        "import datetime\n",
        "from finta import TA"
      ]
    },
    {
      "cell_type": "code",
      "source": [
        "from sklearn.ensemble import RandomForestClassifier\n",
        "from sklearn.metrics import precision_score\n",
        "from numpy.core.arrayprint import format_float_scientific\n",
        "from sklearn.ensemble import AdaBoostClassifier\n",
        "from sklearn.tree import DecisionTreeClassifier\n",
        "from sklearn.discriminant_analysis import QuadraticDiscriminantAnalysis\n",
        "from sklearn.neural_network import MLPClassifier\n",
        "from sklearn import svm\n",
        "from sklearn.linear_model import LinearRegression\n",
        "from sklearn.model_selection import train_test_split"
      ],
      "metadata": {
        "id": "uxH3bG9PK4Zu"
      },
      "execution_count": 49,
      "outputs": []
    },
    {
      "cell_type": "markdown",
      "source": [
        "## Data Acquisition\n",
        "\n",
        "We import data directly from Yahoo Finance through the `yfinance` API just by indicating the name of the stock.\n",
        "\n",
        "By selecting the period as *max*, the method `history()` will import all the available data about NVDA, from the oldest to the latest. "
      ],
      "metadata": {
        "id": "FCdOYQhEu8i3"
      }
    },
    {
      "cell_type": "code",
      "source": [
        "stock = 'NVDA'\n",
        "\n",
        "nvidia = yf.Ticker(stock)\n",
        "nvidia = nvidia.history(period='max')\n",
        "\n",
        "nvidia"
      ],
      "metadata": {
        "id": "oaUaNlEbEebf",
        "colab": {
          "base_uri": "https://localhost:8080/",
          "height": 0
        },
        "outputId": "31641121-f74e-4e8a-88f2-d629e1be6165"
      },
      "execution_count": 5,
      "outputs": [
        {
          "output_type": "execute_result",
          "data": {
            "text/plain": [
              "                                 Open        High         Low       Close  \\\n",
              "Date                                                                        \n",
              "1999-01-22 00:00:00-05:00    0.401517    0.448121    0.356107    0.376422   \n",
              "1999-01-25 00:00:00-05:00    0.406296    0.420636    0.376422    0.415856   \n",
              "1999-01-26 00:00:00-05:00    0.420636    0.429001    0.377616    0.383592   \n",
              "1999-01-27 00:00:00-05:00    0.384787    0.394347    0.363277    0.382397   \n",
              "1999-01-28 00:00:00-05:00    0.382397    0.384787    0.378811    0.381202   \n",
              "...                               ...         ...         ...         ...   \n",
              "2022-12-20 00:00:00-05:00  160.639999  163.100006  158.520004  160.850006   \n",
              "2022-12-21 00:00:00-05:00  161.139999  166.270004  161.020004  165.009995   \n",
              "2022-12-22 00:00:00-05:00  160.940002  161.380005  148.820007  153.389999   \n",
              "2022-12-23 00:00:00-05:00  151.960007  153.389999  148.830002  152.059998   \n",
              "2022-12-27 00:00:00-05:00  150.740005  151.000000  140.560593  141.320007   \n",
              "\n",
              "                              Volume  Dividends  Stock Splits  \n",
              "Date                                                           \n",
              "1999-01-22 00:00:00-05:00  271468800        0.0           0.0  \n",
              "1999-01-25 00:00:00-05:00   51048000        0.0           0.0  \n",
              "1999-01-26 00:00:00-05:00   34320000        0.0           0.0  \n",
              "1999-01-27 00:00:00-05:00   24436800        0.0           0.0  \n",
              "1999-01-28 00:00:00-05:00   22752000        0.0           0.0  \n",
              "...                              ...        ...           ...  \n",
              "2022-12-20 00:00:00-05:00   40326000        0.0           0.0  \n",
              "2022-12-21 00:00:00-05:00   32502500        0.0           0.0  \n",
              "2022-12-22 00:00:00-05:00   56504500        0.0           0.0  \n",
              "2022-12-23 00:00:00-05:00   34910900        0.0           0.0  \n",
              "2022-12-27 00:00:00-05:00   41330671        0.0           0.0  \n",
              "\n",
              "[6023 rows x 7 columns]"
            ],
            "text/html": [
              "\n",
              "  <div id=\"df-5eda50e0-624c-4066-a4bb-7ff17e190556\">\n",
              "    <div class=\"colab-df-container\">\n",
              "      <div>\n",
              "<style scoped>\n",
              "    .dataframe tbody tr th:only-of-type {\n",
              "        vertical-align: middle;\n",
              "    }\n",
              "\n",
              "    .dataframe tbody tr th {\n",
              "        vertical-align: top;\n",
              "    }\n",
              "\n",
              "    .dataframe thead th {\n",
              "        text-align: right;\n",
              "    }\n",
              "</style>\n",
              "<table border=\"1\" class=\"dataframe\">\n",
              "  <thead>\n",
              "    <tr style=\"text-align: right;\">\n",
              "      <th></th>\n",
              "      <th>Open</th>\n",
              "      <th>High</th>\n",
              "      <th>Low</th>\n",
              "      <th>Close</th>\n",
              "      <th>Volume</th>\n",
              "      <th>Dividends</th>\n",
              "      <th>Stock Splits</th>\n",
              "    </tr>\n",
              "    <tr>\n",
              "      <th>Date</th>\n",
              "      <th></th>\n",
              "      <th></th>\n",
              "      <th></th>\n",
              "      <th></th>\n",
              "      <th></th>\n",
              "      <th></th>\n",
              "      <th></th>\n",
              "    </tr>\n",
              "  </thead>\n",
              "  <tbody>\n",
              "    <tr>\n",
              "      <th>1999-01-22 00:00:00-05:00</th>\n",
              "      <td>0.401517</td>\n",
              "      <td>0.448121</td>\n",
              "      <td>0.356107</td>\n",
              "      <td>0.376422</td>\n",
              "      <td>271468800</td>\n",
              "      <td>0.0</td>\n",
              "      <td>0.0</td>\n",
              "    </tr>\n",
              "    <tr>\n",
              "      <th>1999-01-25 00:00:00-05:00</th>\n",
              "      <td>0.406296</td>\n",
              "      <td>0.420636</td>\n",
              "      <td>0.376422</td>\n",
              "      <td>0.415856</td>\n",
              "      <td>51048000</td>\n",
              "      <td>0.0</td>\n",
              "      <td>0.0</td>\n",
              "    </tr>\n",
              "    <tr>\n",
              "      <th>1999-01-26 00:00:00-05:00</th>\n",
              "      <td>0.420636</td>\n",
              "      <td>0.429001</td>\n",
              "      <td>0.377616</td>\n",
              "      <td>0.383592</td>\n",
              "      <td>34320000</td>\n",
              "      <td>0.0</td>\n",
              "      <td>0.0</td>\n",
              "    </tr>\n",
              "    <tr>\n",
              "      <th>1999-01-27 00:00:00-05:00</th>\n",
              "      <td>0.384787</td>\n",
              "      <td>0.394347</td>\n",
              "      <td>0.363277</td>\n",
              "      <td>0.382397</td>\n",
              "      <td>24436800</td>\n",
              "      <td>0.0</td>\n",
              "      <td>0.0</td>\n",
              "    </tr>\n",
              "    <tr>\n",
              "      <th>1999-01-28 00:00:00-05:00</th>\n",
              "      <td>0.382397</td>\n",
              "      <td>0.384787</td>\n",
              "      <td>0.378811</td>\n",
              "      <td>0.381202</td>\n",
              "      <td>22752000</td>\n",
              "      <td>0.0</td>\n",
              "      <td>0.0</td>\n",
              "    </tr>\n",
              "    <tr>\n",
              "      <th>...</th>\n",
              "      <td>...</td>\n",
              "      <td>...</td>\n",
              "      <td>...</td>\n",
              "      <td>...</td>\n",
              "      <td>...</td>\n",
              "      <td>...</td>\n",
              "      <td>...</td>\n",
              "    </tr>\n",
              "    <tr>\n",
              "      <th>2022-12-20 00:00:00-05:00</th>\n",
              "      <td>160.639999</td>\n",
              "      <td>163.100006</td>\n",
              "      <td>158.520004</td>\n",
              "      <td>160.850006</td>\n",
              "      <td>40326000</td>\n",
              "      <td>0.0</td>\n",
              "      <td>0.0</td>\n",
              "    </tr>\n",
              "    <tr>\n",
              "      <th>2022-12-21 00:00:00-05:00</th>\n",
              "      <td>161.139999</td>\n",
              "      <td>166.270004</td>\n",
              "      <td>161.020004</td>\n",
              "      <td>165.009995</td>\n",
              "      <td>32502500</td>\n",
              "      <td>0.0</td>\n",
              "      <td>0.0</td>\n",
              "    </tr>\n",
              "    <tr>\n",
              "      <th>2022-12-22 00:00:00-05:00</th>\n",
              "      <td>160.940002</td>\n",
              "      <td>161.380005</td>\n",
              "      <td>148.820007</td>\n",
              "      <td>153.389999</td>\n",
              "      <td>56504500</td>\n",
              "      <td>0.0</td>\n",
              "      <td>0.0</td>\n",
              "    </tr>\n",
              "    <tr>\n",
              "      <th>2022-12-23 00:00:00-05:00</th>\n",
              "      <td>151.960007</td>\n",
              "      <td>153.389999</td>\n",
              "      <td>148.830002</td>\n",
              "      <td>152.059998</td>\n",
              "      <td>34910900</td>\n",
              "      <td>0.0</td>\n",
              "      <td>0.0</td>\n",
              "    </tr>\n",
              "    <tr>\n",
              "      <th>2022-12-27 00:00:00-05:00</th>\n",
              "      <td>150.740005</td>\n",
              "      <td>151.000000</td>\n",
              "      <td>140.560593</td>\n",
              "      <td>141.320007</td>\n",
              "      <td>41330671</td>\n",
              "      <td>0.0</td>\n",
              "      <td>0.0</td>\n",
              "    </tr>\n",
              "  </tbody>\n",
              "</table>\n",
              "<p>6023 rows × 7 columns</p>\n",
              "</div>\n",
              "      <button class=\"colab-df-convert\" onclick=\"convertToInteractive('df-5eda50e0-624c-4066-a4bb-7ff17e190556')\"\n",
              "              title=\"Convert this dataframe to an interactive table.\"\n",
              "              style=\"display:none;\">\n",
              "        \n",
              "  <svg xmlns=\"http://www.w3.org/2000/svg\" height=\"24px\"viewBox=\"0 0 24 24\"\n",
              "       width=\"24px\">\n",
              "    <path d=\"M0 0h24v24H0V0z\" fill=\"none\"/>\n",
              "    <path d=\"M18.56 5.44l.94 2.06.94-2.06 2.06-.94-2.06-.94-.94-2.06-.94 2.06-2.06.94zm-11 1L8.5 8.5l.94-2.06 2.06-.94-2.06-.94L8.5 2.5l-.94 2.06-2.06.94zm10 10l.94 2.06.94-2.06 2.06-.94-2.06-.94-.94-2.06-.94 2.06-2.06.94z\"/><path d=\"M17.41 7.96l-1.37-1.37c-.4-.4-.92-.59-1.43-.59-.52 0-1.04.2-1.43.59L10.3 9.45l-7.72 7.72c-.78.78-.78 2.05 0 2.83L4 21.41c.39.39.9.59 1.41.59.51 0 1.02-.2 1.41-.59l7.78-7.78 2.81-2.81c.8-.78.8-2.07 0-2.86zM5.41 20L4 18.59l7.72-7.72 1.47 1.35L5.41 20z\"/>\n",
              "  </svg>\n",
              "      </button>\n",
              "      \n",
              "  <style>\n",
              "    .colab-df-container {\n",
              "      display:flex;\n",
              "      flex-wrap:wrap;\n",
              "      gap: 12px;\n",
              "    }\n",
              "\n",
              "    .colab-df-convert {\n",
              "      background-color: #E8F0FE;\n",
              "      border: none;\n",
              "      border-radius: 50%;\n",
              "      cursor: pointer;\n",
              "      display: none;\n",
              "      fill: #1967D2;\n",
              "      height: 32px;\n",
              "      padding: 0 0 0 0;\n",
              "      width: 32px;\n",
              "    }\n",
              "\n",
              "    .colab-df-convert:hover {\n",
              "      background-color: #E2EBFA;\n",
              "      box-shadow: 0px 1px 2px rgba(60, 64, 67, 0.3), 0px 1px 3px 1px rgba(60, 64, 67, 0.15);\n",
              "      fill: #174EA6;\n",
              "    }\n",
              "\n",
              "    [theme=dark] .colab-df-convert {\n",
              "      background-color: #3B4455;\n",
              "      fill: #D2E3FC;\n",
              "    }\n",
              "\n",
              "    [theme=dark] .colab-df-convert:hover {\n",
              "      background-color: #434B5C;\n",
              "      box-shadow: 0px 1px 3px 1px rgba(0, 0, 0, 0.15);\n",
              "      filter: drop-shadow(0px 1px 2px rgba(0, 0, 0, 0.3));\n",
              "      fill: #FFFFFF;\n",
              "    }\n",
              "  </style>\n",
              "\n",
              "      <script>\n",
              "        const buttonEl =\n",
              "          document.querySelector('#df-5eda50e0-624c-4066-a4bb-7ff17e190556 button.colab-df-convert');\n",
              "        buttonEl.style.display =\n",
              "          google.colab.kernel.accessAllowed ? 'block' : 'none';\n",
              "\n",
              "        async function convertToInteractive(key) {\n",
              "          const element = document.querySelector('#df-5eda50e0-624c-4066-a4bb-7ff17e190556');\n",
              "          const dataTable =\n",
              "            await google.colab.kernel.invokeFunction('convertToInteractive',\n",
              "                                                     [key], {});\n",
              "          if (!dataTable) return;\n",
              "\n",
              "          const docLinkHtml = 'Like what you see? Visit the ' +\n",
              "            '<a target=\"_blank\" href=https://colab.research.google.com/notebooks/data_table.ipynb>data table notebook</a>'\n",
              "            + ' to learn more about interactive tables.';\n",
              "          element.innerHTML = '';\n",
              "          dataTable['output_type'] = 'display_data';\n",
              "          await google.colab.output.renderOutput(dataTable, element);\n",
              "          const docLink = document.createElement('div');\n",
              "          docLink.innerHTML = docLinkHtml;\n",
              "          element.appendChild(docLink);\n",
              "        }\n",
              "      </script>\n",
              "    </div>\n",
              "  </div>\n",
              "  "
            ]
          },
          "metadata": {},
          "execution_count": 5
        }
      ]
    },
    {
      "cell_type": "markdown",
      "source": [
        "## Model n°1 - Bitcoin\n",
        "\n",
        "NVIDIA GPUs are excellent graphic cards for **crypto mining**. Following this idea, we want to see whether the trend of the NVIDIA stock can be predicted by including in the model the trend of one of the most popular cryptocurrency: **Bitcoin**. "
      ],
      "metadata": {
        "id": "altpuOUPzShL"
      }
    },
    {
      "cell_type": "markdown",
      "source": [
        "We start by importing all the available historical data  about bitcoin from Yahoo Finance. "
      ],
      "metadata": {
        "id": "S6nqE7EE21Bw"
      }
    },
    {
      "cell_type": "code",
      "source": [
        "bitcoin = yf.Ticker('BTC')\n",
        "bitcoin = bitcoin.history(period='max')"
      ],
      "metadata": {
        "id": "p-Ei7jOLaPJY"
      },
      "execution_count": null,
      "outputs": []
    },
    {
      "cell_type": "code",
      "source": [
        "bitcoin"
      ],
      "metadata": {
        "id": "ezoVmpSya0fT"
      },
      "execution_count": null,
      "outputs": []
    },
    {
      "cell_type": "code",
      "source": [
        "print(len(bitcoin))"
      ],
      "metadata": {
        "colab": {
          "base_uri": "https://localhost:8080/"
        },
        "id": "gau1aaF5Om1L",
        "outputId": "ecfd9034-ebd4-4ab3-cd7d-e7776edee389"
      },
      "execution_count": null,
      "outputs": [
        {
          "output_type": "stream",
          "name": "stdout",
          "text": [
            "551\n"
          ]
        }
      ]
    },
    {
      "cell_type": "code",
      "source": [
        "nvidia.index"
      ],
      "metadata": {
        "id": "eQgLSGl4GF4I"
      },
      "execution_count": null,
      "outputs": []
    },
    {
      "cell_type": "markdown",
      "source": [
        "### Data Understanding\n",
        "\n",
        "We plot the trend of the nvidia stock over the last 300 trading days and we compare it with the trend of bitcoin over the same period in order spot similarities and commonalities."
      ],
      "metadata": {
        "id": "sFPz9imk4rM1"
      }
    },
    {
      "cell_type": "code",
      "source": [
        "nvidia.iloc[-300:].plot.line(y='Close', use_index=True)"
      ],
      "metadata": {
        "colab": {
          "base_uri": "https://localhost:8080/"
        },
        "id": "pJ_myxCFGVz4",
        "outputId": "10aeb374-c5bc-4268-9368-27ab3aed1282"
      },
      "execution_count": null,
      "outputs": [
        {
          "output_type": "execute_result",
          "data": {
            "text/plain": [
              "<matplotlib.axes._subplots.AxesSubplot at 0x7fe146e51940>"
            ]
          },
          "metadata": {},
          "execution_count": 7
        },
        {
          "output_type": "display_data",
          "data": {
            "text/plain": [
              "<Figure size 432x288 with 1 Axes>"
            ],
            "image/png": "[encoded data removed]"
          },
          "metadata": {
            "needs_background": "light"
          }
        }
      ]
    },
    {
      "cell_type": "code",
      "source": [
        "bitcoin.iloc[-300:].plot.line(y='Close', use_index=True)"
      ],
      "metadata": {
        "colab": {
          "base_uri": "https://localhost:8080/"
        },
        "id": "DBnLqNXJbDeO",
        "outputId": "ff7d3bfb-3cfa-473a-dc74-192f10d350d7"
      },
      "execution_count": null,
      "outputs": [
        {
          "output_type": "execute_result",
          "data": {
            "text/plain": [
              "<matplotlib.axes._subplots.AxesSubplot at 0x7fe146de10a0>"
            ]
          },
          "metadata": {},
          "execution_count": 8
        },
        {
          "output_type": "display_data",
          "data": {
            "text/plain": [
              "<Figure size 432x288 with 1 Axes>"
            ],
            "image/png": "[encoded data removed]"
          },
          "metadata": {
            "needs_background": "light"
          }
        }
      ]
    },
    {
      "cell_type": "markdown",
      "source": [
        "### ETL\n",
        "\n",
        "We clean data by eliminating useless columns (dividends and stock splits) and we create a new column `t1` which stores the closing price of the stock on the day after."
      ],
      "metadata": {
        "id": "7A-K4sC5FRSA"
      }
    },
    {
      "cell_type": "code",
      "source": [
        "del nvidia['Dividends']\n",
        "del nvidia['Stock Splits']"
      ],
      "metadata": {
        "id": "asQ-wO5fGhiT"
      },
      "execution_count": null,
      "outputs": []
    },
    {
      "cell_type": "code",
      "source": [
        "nvidia['t1'] = nvidia['Close'].shift(-1)"
      ],
      "metadata": {
        "id": "pMiTu1_7GuMv"
      },
      "execution_count": null,
      "outputs": []
    },
    {
      "cell_type": "code",
      "source": [
        "nvidia"
      ],
      "metadata": {
        "colab": {
          "base_uri": "https://localhost:8080/"
        },
        "id": "IO0IiYzlHHsn",
        "outputId": "eaddaf12-a920-4f5e-c6dc-f89cd62c4577"
      },
      "execution_count": null,
      "outputs": [
        {
          "output_type": "execute_result",
          "data": {
            "text/plain": [
              "                                 Open        High         Low       Close  \\\n",
              "Date                                                                        \n",
              "1999-01-22 00:00:00-05:00    0.401517    0.448121    0.356107    0.376422   \n",
              "1999-01-25 00:00:00-05:00    0.406296    0.420636    0.376422    0.415856   \n",
              "1999-01-26 00:00:00-05:00    0.420636    0.429001    0.377616    0.383592   \n",
              "1999-01-27 00:00:00-05:00    0.384787    0.394347    0.363277    0.382397   \n",
              "1999-01-28 00:00:00-05:00    0.382397    0.384787    0.378811    0.381202   \n",
              "...                               ...         ...         ...         ...   \n",
              "2022-12-01 00:00:00-05:00  169.990005  172.649994  166.350006  171.350006   \n",
              "2022-12-02 00:00:00-05:00  166.589996  169.330002  164.449997  168.759995   \n",
              "2022-12-05 00:00:00-05:00  166.789993  169.949997  164.720001  166.100006   \n",
              "2022-12-06 00:00:00-05:00  165.300003  165.729996  158.190002  159.869995   \n",
              "2022-12-07 00:00:00-05:00  157.720001  161.860001  156.669998  161.199997   \n",
              "\n",
              "                                Volume          t1  \n",
              "Date                                                \n",
              "1999-01-22 00:00:00-05:00  271468800.0    0.415856  \n",
              "1999-01-25 00:00:00-05:00   51048000.0    0.383592  \n",
              "1999-01-26 00:00:00-05:00   34320000.0    0.382397  \n",
              "1999-01-27 00:00:00-05:00   24436800.0    0.381202  \n",
              "1999-01-28 00:00:00-05:00   22752000.0    0.363277  \n",
              "...                                ...         ...  \n",
              "2022-12-01 00:00:00-05:00   47097700.0  168.759995  \n",
              "2022-12-02 00:00:00-05:00   37119700.0  166.100006  \n",
              "2022-12-05 00:00:00-05:00   35225500.0  159.869995  \n",
              "2022-12-06 00:00:00-05:00   35269400.0  161.199997  \n",
              "2022-12-07 00:00:00-05:00   37195300.0         NaN  \n",
              "\n",
              "[6011 rows x 6 columns]"
            ],
            "text/html": [
              "\n",
              "  <div id=\"df-2b1ffe54-99c6-4ea9-adf9-8294bdf39708\">\n",
              "    <div class=\"colab-df-container\">\n",
              "      <div>\n",
              "<style scoped>\n",
              "    .dataframe tbody tr th:only-of-type {\n",
              "        vertical-align: middle;\n",
              "    }\n",
              "\n",
              "    .dataframe tbody tr th {\n",
              "        vertical-align: top;\n",
              "    }\n",
              "\n",
              "    .dataframe thead th {\n",
              "        text-align: right;\n",
              "    }\n",
              "</style>\n",
              "<table border=\"1\" class=\"dataframe\">\n",
              "  <thead>\n",
              "    <tr style=\"text-align: right;\">\n",
              "      <th></th>\n",
              "      <th>Open</th>\n",
              "      <th>High</th>\n",
              "      <th>Low</th>\n",
              "      <th>Close</th>\n",
              "      <th>Volume</th>\n",
              "      <th>t1</th>\n",
              "    </tr>\n",
              "    <tr>\n",
              "      <th>Date</th>\n",
              "      <th></th>\n",
              "      <th></th>\n",
              "      <th></th>\n",
              "      <th></th>\n",
              "      <th></th>\n",
              "      <th></th>\n",
              "    </tr>\n",
              "  </thead>\n",
              "  <tbody>\n",
              "    <tr>\n",
              "      <th>1999-01-22 00:00:00-05:00</th>\n",
              "      <td>0.401517</td>\n",
              "      <td>0.448121</td>\n",
              "      <td>0.356107</td>\n",
              "      <td>0.376422</td>\n",
              "      <td>271468800.0</td>\n",
              "      <td>0.415856</td>\n",
              "    </tr>\n",
              "    <tr>\n",
              "      <th>1999-01-25 00:00:00-05:00</th>\n",
              "      <td>0.406296</td>\n",
              "      <td>0.420636</td>\n",
              "      <td>0.376422</td>\n",
              "      <td>0.415856</td>\n",
              "      <td>51048000.0</td>\n",
              "      <td>0.383592</td>\n",
              "    </tr>\n",
              "    <tr>\n",
              "      <th>1999-01-26 00:00:00-05:00</th>\n",
              "      <td>0.420636</td>\n",
              "      <td>0.429001</td>\n",
              "      <td>0.377616</td>\n",
              "      <td>0.383592</td>\n",
              "      <td>34320000.0</td>\n",
              "      <td>0.382397</td>\n",
              "    </tr>\n",
              "    <tr>\n",
              "      <th>1999-01-27 00:00:00-05:00</th>\n",
              "      <td>0.384787</td>\n",
              "      <td>0.394347</td>\n",
              "      <td>0.363277</td>\n",
              "      <td>0.382397</td>\n",
              "      <td>24436800.0</td>\n",
              "      <td>0.381202</td>\n",
              "    </tr>\n",
              "    <tr>\n",
              "      <th>1999-01-28 00:00:00-05:00</th>\n",
              "      <td>0.382397</td>\n",
              "      <td>0.384787</td>\n",
              "      <td>0.378811</td>\n",
              "      <td>0.381202</td>\n",
              "      <td>22752000.0</td>\n",
              "      <td>0.363277</td>\n",
              "    </tr>\n",
              "    <tr>\n",
              "      <th>...</th>\n",
              "      <td>...</td>\n",
              "      <td>...</td>\n",
              "      <td>...</td>\n",
              "      <td>...</td>\n",
              "      <td>...</td>\n",
              "      <td>...</td>\n",
              "    </tr>\n",
              "    <tr>\n",
              "      <th>2022-12-01 00:00:00-05:00</th>\n",
              "      <td>169.990005</td>\n",
              "      <td>172.649994</td>\n",
              "      <td>166.350006</td>\n",
              "      <td>171.350006</td>\n",
              "      <td>47097700.0</td>\n",
              "      <td>168.759995</td>\n",
              "    </tr>\n",
              "    <tr>\n",
              "      <th>2022-12-02 00:00:00-05:00</th>\n",
              "      <td>166.589996</td>\n",
              "      <td>169.330002</td>\n",
              "      <td>164.449997</td>\n",
              "      <td>168.759995</td>\n",
              "      <td>37119700.0</td>\n",
              "      <td>166.100006</td>\n",
              "    </tr>\n",
              "    <tr>\n",
              "      <th>2022-12-05 00:00:00-05:00</th>\n",
              "      <td>166.789993</td>\n",
              "      <td>169.949997</td>\n",
              "      <td>164.720001</td>\n",
              "      <td>166.100006</td>\n",
              "      <td>35225500.0</td>\n",
              "      <td>159.869995</td>\n",
              "    </tr>\n",
              "    <tr>\n",
              "      <th>2022-12-06 00:00:00-05:00</th>\n",
              "      <td>165.300003</td>\n",
              "      <td>165.729996</td>\n",
              "      <td>158.190002</td>\n",
              "      <td>159.869995</td>\n",
              "      <td>35269400.0</td>\n",
              "      <td>161.199997</td>\n",
              "    </tr>\n",
              "    <tr>\n",
              "      <th>2022-12-07 00:00:00-05:00</th>\n",
              "      <td>157.720001</td>\n",
              "      <td>161.860001</td>\n",
              "      <td>156.669998</td>\n",
              "      <td>161.199997</td>\n",
              "      <td>37195300.0</td>\n",
              "      <td>NaN</td>\n",
              "    </tr>\n",
              "  </tbody>\n",
              "</table>\n",
              "<p>6011 rows × 6 columns</p>\n",
              "</div>\n",
              "      <button class=\"colab-df-convert\" onclick=\"convertToInteractive('df-2b1ffe54-99c6-4ea9-adf9-8294bdf39708')\"\n",
              "              title=\"Convert this dataframe to an interactive table.\"\n",
              "              style=\"display:none;\">\n",
              "        \n",
              "  <svg xmlns=\"http://www.w3.org/2000/svg\" height=\"24px\"viewBox=\"0 0 24 24\"\n",
              "       width=\"24px\">\n",
              "    <path d=\"M0 0h24v24H0V0z\" fill=\"none\"/>\n",
              "    <path d=\"M18.56 5.44l.94 2.06.94-2.06 2.06-.94-2.06-.94-.94-2.06-.94 2.06-2.06.94zm-11 1L8.5 8.5l.94-2.06 2.06-.94-2.06-.94L8.5 2.5l-.94 2.06-2.06.94zm10 10l.94 2.06.94-2.06 2.06-.94-2.06-.94-.94-2.06-.94 2.06-2.06.94z\"/><path d=\"M17.41 7.96l-1.37-1.37c-.4-.4-.92-.59-1.43-.59-.52 0-1.04.2-1.43.59L10.3 9.45l-7.72 7.72c-.78.78-.78 2.05 0 2.83L4 21.41c.39.39.9.59 1.41.59.51 0 1.02-.2 1.41-.59l7.78-7.78 2.81-2.81c.8-.78.8-2.07 0-2.86zM5.41 20L4 18.59l7.72-7.72 1.47 1.35L5.41 20z\"/>\n",
              "  </svg>\n",
              "      </button>\n",
              "      \n",
              "  <style>\n",
              "    .colab-df-container {\n",
              "      display:flex;\n",
              "      flex-wrap:wrap;\n",
              "      gap: 12px;\n",
              "    }\n",
              "\n",
              "    .colab-df-convert {\n",
              "      background-color: #E8F0FE;\n",
              "      border: none;\n",
              "      border-radius: 50%;\n",
              "      cursor: pointer;\n",
              "      display: none;\n",
              "      fill: #1967D2;\n",
              "      height: 32px;\n",
              "      padding: 0 0 0 0;\n",
              "      width: 32px;\n",
              "    }\n",
              "\n",
              "    .colab-df-convert:hover {\n",
              "      background-color: #E2EBFA;\n",
              "      box-shadow: 0px 1px 2px rgba(60, 64, 67, 0.3), 0px 1px 3px 1px rgba(60, 64, 67, 0.15);\n",
              "      fill: #174EA6;\n",
              "    }\n",
              "\n",
              "    [theme=dark] .colab-df-convert {\n",
              "      background-color: #3B4455;\n",
              "      fill: #D2E3FC;\n",
              "    }\n",
              "\n",
              "    [theme=dark] .colab-df-convert:hover {\n",
              "      background-color: #434B5C;\n",
              "      box-shadow: 0px 1px 3px 1px rgba(0, 0, 0, 0.15);\n",
              "      filter: drop-shadow(0px 1px 2px rgba(0, 0, 0, 0.3));\n",
              "      fill: #FFFFFF;\n",
              "    }\n",
              "  </style>\n",
              "\n",
              "      <script>\n",
              "        const buttonEl =\n",
              "          document.querySelector('#df-2b1ffe54-99c6-4ea9-adf9-8294bdf39708 button.colab-df-convert');\n",
              "        buttonEl.style.display =\n",
              "          google.colab.kernel.accessAllowed ? 'block' : 'none';\n",
              "\n",
              "        async function convertToInteractive(key) {\n",
              "          const element = document.querySelector('#df-2b1ffe54-99c6-4ea9-adf9-8294bdf39708');\n",
              "          const dataTable =\n",
              "            await google.colab.kernel.invokeFunction('convertToInteractive',\n",
              "                                                     [key], {});\n",
              "          if (!dataTable) return;\n",
              "\n",
              "          const docLinkHtml = 'Like what you see? Visit the ' +\n",
              "            '<a target=\"_blank\" href=https://colab.research.google.com/notebooks/data_table.ipynb>data table notebook</a>'\n",
              "            + ' to learn more about interactive tables.';\n",
              "          element.innerHTML = '';\n",
              "          dataTable['output_type'] = 'display_data';\n",
              "          await google.colab.output.renderOutput(dataTable, element);\n",
              "          const docLink = document.createElement('div');\n",
              "          docLink.innerHTML = docLinkHtml;\n",
              "          element.appendChild(docLink);\n",
              "        }\n",
              "      </script>\n",
              "    </div>\n",
              "  </div>\n",
              "  "
            ]
          },
          "metadata": {},
          "execution_count": 11
        }
      ]
    },
    {
      "cell_type": "markdown",
      "source": [
        "### Target\n",
        "\n",
        "We add the column `Target` which takes value 0 and 1. \n",
        "\n",
        "- When the closing price during time *t1* is higher than the closing price on *t*, the target value will be one: **buy**\n",
        "- When the closing price during time *t1* is lower than the closing price in *t*, the target value will be zero: **sell**"
      ],
      "metadata": {
        "id": "xk-Q1JoqHKdo"
      }
    },
    {
      "cell_type": "code",
      "source": [
        "nvidia['Target'] = (nvidia['t1'] > nvidia['Close']).astype(int)"
      ],
      "metadata": {
        "id": "8VVeXxHIHOIk"
      },
      "execution_count": null,
      "outputs": []
    },
    {
      "cell_type": "code",
      "source": [
        "nvidia"
      ],
      "metadata": {
        "colab": {
          "base_uri": "https://localhost:8080/"
        },
        "id": "_ENwwdgmHYbR",
        "outputId": "2d0bfa07-2358-4e26-a4ca-036eaffe4cc4"
      },
      "execution_count": null,
      "outputs": [
        {
          "output_type": "execute_result",
          "data": {
            "text/plain": [
              "                                 Open        High         Low       Close  \\\n",
              "Date                                                                        \n",
              "1999-01-22 00:00:00-05:00    0.401517    0.448121    0.356107    0.376422   \n",
              "1999-01-25 00:00:00-05:00    0.406296    0.420636    0.376422    0.415856   \n",
              "1999-01-26 00:00:00-05:00    0.420636    0.429001    0.377616    0.383592   \n",
              "1999-01-27 00:00:00-05:00    0.384787    0.394347    0.363277    0.382397   \n",
              "1999-01-28 00:00:00-05:00    0.382397    0.384787    0.378811    0.381202   \n",
              "...                               ...         ...         ...         ...   \n",
              "2022-12-01 00:00:00-05:00  169.990005  172.649994  166.350006  171.350006   \n",
              "2022-12-02 00:00:00-05:00  166.589996  169.330002  164.449997  168.759995   \n",
              "2022-12-05 00:00:00-05:00  166.789993  169.949997  164.720001  166.100006   \n",
              "2022-12-06 00:00:00-05:00  165.300003  165.729996  158.190002  159.869995   \n",
              "2022-12-07 00:00:00-05:00  157.720001  161.860001  156.669998  161.199997   \n",
              "\n",
              "                                Volume          t1  Target  \n",
              "Date                                                        \n",
              "1999-01-22 00:00:00-05:00  271468800.0    0.415856       1  \n",
              "1999-01-25 00:00:00-05:00   51048000.0    0.383592       0  \n",
              "1999-01-26 00:00:00-05:00   34320000.0    0.382397       0  \n",
              "1999-01-27 00:00:00-05:00   24436800.0    0.381202       0  \n",
              "1999-01-28 00:00:00-05:00   22752000.0    0.363277       0  \n",
              "...                                ...         ...     ...  \n",
              "2022-12-01 00:00:00-05:00   47097700.0  168.759995       0  \n",
              "2022-12-02 00:00:00-05:00   37119700.0  166.100006       0  \n",
              "2022-12-05 00:00:00-05:00   35225500.0  159.869995       0  \n",
              "2022-12-06 00:00:00-05:00   35269400.0  161.199997       1  \n",
              "2022-12-07 00:00:00-05:00   37195300.0         NaN       0  \n",
              "\n",
              "[6011 rows x 7 columns]"
            ],
            "text/html": [
              "\n",
              "  <div id=\"df-bc850034-9b09-4d33-b4b5-4dee229cac50\">\n",
              "    <div class=\"colab-df-container\">\n",
              "      <div>\n",
              "<style scoped>\n",
              "    .dataframe tbody tr th:only-of-type {\n",
              "        vertical-align: middle;\n",
              "    }\n",
              "\n",
              "    .dataframe tbody tr th {\n",
              "        vertical-align: top;\n",
              "    }\n",
              "\n",
              "    .dataframe thead th {\n",
              "        text-align: right;\n",
              "    }\n",
              "</style>\n",
              "<table border=\"1\" class=\"dataframe\">\n",
              "  <thead>\n",
              "    <tr style=\"text-align: right;\">\n",
              "      <th></th>\n",
              "      <th>Open</th>\n",
              "      <th>High</th>\n",
              "      <th>Low</th>\n",
              "      <th>Close</th>\n",
              "      <th>Volume</th>\n",
              "      <th>t1</th>\n",
              "      <th>Target</th>\n",
              "    </tr>\n",
              "    <tr>\n",
              "      <th>Date</th>\n",
              "      <th></th>\n",
              "      <th></th>\n",
              "      <th></th>\n",
              "      <th></th>\n",
              "      <th></th>\n",
              "      <th></th>\n",
              "      <th></th>\n",
              "    </tr>\n",
              "  </thead>\n",
              "  <tbody>\n",
              "    <tr>\n",
              "      <th>1999-01-22 00:00:00-05:00</th>\n",
              "      <td>0.401517</td>\n",
              "      <td>0.448121</td>\n",
              "      <td>0.356107</td>\n",
              "      <td>0.376422</td>\n",
              "      <td>271468800.0</td>\n",
              "      <td>0.415856</td>\n",
              "      <td>1</td>\n",
              "    </tr>\n",
              "    <tr>\n",
              "      <th>1999-01-25 00:00:00-05:00</th>\n",
              "      <td>0.406296</td>\n",
              "      <td>0.420636</td>\n",
              "      <td>0.376422</td>\n",
              "      <td>0.415856</td>\n",
              "      <td>51048000.0</td>\n",
              "      <td>0.383592</td>\n",
              "      <td>0</td>\n",
              "    </tr>\n",
              "    <tr>\n",
              "      <th>1999-01-26 00:00:00-05:00</th>\n",
              "      <td>0.420636</td>\n",
              "      <td>0.429001</td>\n",
              "      <td>0.377616</td>\n",
              "      <td>0.383592</td>\n",
              "      <td>34320000.0</td>\n",
              "      <td>0.382397</td>\n",
              "      <td>0</td>\n",
              "    </tr>\n",
              "    <tr>\n",
              "      <th>1999-01-27 00:00:00-05:00</th>\n",
              "      <td>0.384787</td>\n",
              "      <td>0.394347</td>\n",
              "      <td>0.363277</td>\n",
              "      <td>0.382397</td>\n",
              "      <td>24436800.0</td>\n",
              "      <td>0.381202</td>\n",
              "      <td>0</td>\n",
              "    </tr>\n",
              "    <tr>\n",
              "      <th>1999-01-28 00:00:00-05:00</th>\n",
              "      <td>0.382397</td>\n",
              "      <td>0.384787</td>\n",
              "      <td>0.378811</td>\n",
              "      <td>0.381202</td>\n",
              "      <td>22752000.0</td>\n",
              "      <td>0.363277</td>\n",
              "      <td>0</td>\n",
              "    </tr>\n",
              "    <tr>\n",
              "      <th>...</th>\n",
              "      <td>...</td>\n",
              "      <td>...</td>\n",
              "      <td>...</td>\n",
              "      <td>...</td>\n",
              "      <td>...</td>\n",
              "      <td>...</td>\n",
              "      <td>...</td>\n",
              "    </tr>\n",
              "    <tr>\n",
              "      <th>2022-12-01 00:00:00-05:00</th>\n",
              "      <td>169.990005</td>\n",
              "      <td>172.649994</td>\n",
              "      <td>166.350006</td>\n",
              "      <td>171.350006</td>\n",
              "      <td>47097700.0</td>\n",
              "      <td>168.759995</td>\n",
              "      <td>0</td>\n",
              "    </tr>\n",
              "    <tr>\n",
              "      <th>2022-12-02 00:00:00-05:00</th>\n",
              "      <td>166.589996</td>\n",
              "      <td>169.330002</td>\n",
              "      <td>164.449997</td>\n",
              "      <td>168.759995</td>\n",
              "      <td>37119700.0</td>\n",
              "      <td>166.100006</td>\n",
              "      <td>0</td>\n",
              "    </tr>\n",
              "    <tr>\n",
              "      <th>2022-12-05 00:00:00-05:00</th>\n",
              "      <td>166.789993</td>\n",
              "      <td>169.949997</td>\n",
              "      <td>164.720001</td>\n",
              "      <td>166.100006</td>\n",
              "      <td>35225500.0</td>\n",
              "      <td>159.869995</td>\n",
              "      <td>0</td>\n",
              "    </tr>\n",
              "    <tr>\n",
              "      <th>2022-12-06 00:00:00-05:00</th>\n",
              "      <td>165.300003</td>\n",
              "      <td>165.729996</td>\n",
              "      <td>158.190002</td>\n",
              "      <td>159.869995</td>\n",
              "      <td>35269400.0</td>\n",
              "      <td>161.199997</td>\n",
              "      <td>1</td>\n",
              "    </tr>\n",
              "    <tr>\n",
              "      <th>2022-12-07 00:00:00-05:00</th>\n",
              "      <td>157.720001</td>\n",
              "      <td>161.860001</td>\n",
              "      <td>156.669998</td>\n",
              "      <td>161.199997</td>\n",
              "      <td>37195300.0</td>\n",
              "      <td>NaN</td>\n",
              "      <td>0</td>\n",
              "    </tr>\n",
              "  </tbody>\n",
              "</table>\n",
              "<p>6011 rows × 7 columns</p>\n",
              "</div>\n",
              "      <button class=\"colab-df-convert\" onclick=\"convertToInteractive('df-bc850034-9b09-4d33-b4b5-4dee229cac50')\"\n",
              "              title=\"Convert this dataframe to an interactive table.\"\n",
              "              style=\"display:none;\">\n",
              "        \n",
              "  <svg xmlns=\"http://www.w3.org/2000/svg\" height=\"24px\"viewBox=\"0 0 24 24\"\n",
              "       width=\"24px\">\n",
              "    <path d=\"M0 0h24v24H0V0z\" fill=\"none\"/>\n",
              "    <path d=\"M18.56 5.44l.94 2.06.94-2.06 2.06-.94-2.06-.94-.94-2.06-.94 2.06-2.06.94zm-11 1L8.5 8.5l.94-2.06 2.06-.94-2.06-.94L8.5 2.5l-.94 2.06-2.06.94zm10 10l.94 2.06.94-2.06 2.06-.94-2.06-.94-.94-2.06-.94 2.06-2.06.94z\"/><path d=\"M17.41 7.96l-1.37-1.37c-.4-.4-.92-.59-1.43-.59-.52 0-1.04.2-1.43.59L10.3 9.45l-7.72 7.72c-.78.78-.78 2.05 0 2.83L4 21.41c.39.39.9.59 1.41.59.51 0 1.02-.2 1.41-.59l7.78-7.78 2.81-2.81c.8-.78.8-2.07 0-2.86zM5.41 20L4 18.59l7.72-7.72 1.47 1.35L5.41 20z\"/>\n",
              "  </svg>\n",
              "      </button>\n",
              "      \n",
              "  <style>\n",
              "    .colab-df-container {\n",
              "      display:flex;\n",
              "      flex-wrap:wrap;\n",
              "      gap: 12px;\n",
              "    }\n",
              "\n",
              "    .colab-df-convert {\n",
              "      background-color: #E8F0FE;\n",
              "      border: none;\n",
              "      border-radius: 50%;\n",
              "      cursor: pointer;\n",
              "      display: none;\n",
              "      fill: #1967D2;\n",
              "      height: 32px;\n",
              "      padding: 0 0 0 0;\n",
              "      width: 32px;\n",
              "    }\n",
              "\n",
              "    .colab-df-convert:hover {\n",
              "      background-color: #E2EBFA;\n",
              "      box-shadow: 0px 1px 2px rgba(60, 64, 67, 0.3), 0px 1px 3px 1px rgba(60, 64, 67, 0.15);\n",
              "      fill: #174EA6;\n",
              "    }\n",
              "\n",
              "    [theme=dark] .colab-df-convert {\n",
              "      background-color: #3B4455;\n",
              "      fill: #D2E3FC;\n",
              "    }\n",
              "\n",
              "    [theme=dark] .colab-df-convert:hover {\n",
              "      background-color: #434B5C;\n",
              "      box-shadow: 0px 1px 3px 1px rgba(0, 0, 0, 0.15);\n",
              "      filter: drop-shadow(0px 1px 2px rgba(0, 0, 0, 0.3));\n",
              "      fill: #FFFFFF;\n",
              "    }\n",
              "  </style>\n",
              "\n",
              "      <script>\n",
              "        const buttonEl =\n",
              "          document.querySelector('#df-bc850034-9b09-4d33-b4b5-4dee229cac50 button.colab-df-convert');\n",
              "        buttonEl.style.display =\n",
              "          google.colab.kernel.accessAllowed ? 'block' : 'none';\n",
              "\n",
              "        async function convertToInteractive(key) {\n",
              "          const element = document.querySelector('#df-bc850034-9b09-4d33-b4b5-4dee229cac50');\n",
              "          const dataTable =\n",
              "            await google.colab.kernel.invokeFunction('convertToInteractive',\n",
              "                                                     [key], {});\n",
              "          if (!dataTable) return;\n",
              "\n",
              "          const docLinkHtml = 'Like what you see? Visit the ' +\n",
              "            '<a target=\"_blank\" href=https://colab.research.google.com/notebooks/data_table.ipynb>data table notebook</a>'\n",
              "            + ' to learn more about interactive tables.';\n",
              "          element.innerHTML = '';\n",
              "          dataTable['output_type'] = 'display_data';\n",
              "          await google.colab.output.renderOutput(dataTable, element);\n",
              "          const docLink = document.createElement('div');\n",
              "          docLink.innerHTML = docLinkHtml;\n",
              "          element.appendChild(docLink);\n",
              "        }\n",
              "      </script>\n",
              "    </div>\n",
              "  </div>\n",
              "  "
            ]
          },
          "metadata": {},
          "execution_count": 13
        }
      ]
    },
    {
      "cell_type": "markdown",
      "source": [
        "### Merge data\n",
        "\n",
        "We create a unique dataframe containing data both from NVIDIA and bitcoin."
      ],
      "metadata": {
        "id": "JJsV5VxvLZQm"
      }
    },
    {
      "cell_type": "code",
      "source": [
        "bitcoin.rename(columns = {'Close': 'Close_B', 'High': 'High_B', 'Low': 'Low_B', \n",
        "                       'Adj Close': 'Adj Close_B', 'Volume': 'Volume_B', 'Open': 'Open_B'}, \n",
        "            inplace = True)"
      ],
      "metadata": {
        "id": "DD9lzU40fnrE"
      },
      "execution_count": null,
      "outputs": []
    },
    {
      "cell_type": "code",
      "source": [
        "bitcoin['t1_B'] = bitcoin['Close_B'].shift(-1)"
      ],
      "metadata": {
        "id": "lG3vbW5dKPbC"
      },
      "execution_count": null,
      "outputs": []
    },
    {
      "cell_type": "code",
      "source": [
        "bitcoin['Target_B'] = (bitcoin['t1_B'] > bitcoin['Close_B']).astype(int)"
      ],
      "metadata": {
        "id": "QQQhUx-JKcfM"
      },
      "execution_count": null,
      "outputs": []
    },
    {
      "cell_type": "code",
      "source": [
        "del bitcoin['Dividends']\n",
        "del bitcoin['Stock Splits']"
      ],
      "metadata": {
        "id": "O3kH0e1BgMzc"
      },
      "execution_count": null,
      "outputs": []
    },
    {
      "cell_type": "code",
      "source": [
        "bitcoin"
      ],
      "metadata": {
        "colab": {
          "base_uri": "https://localhost:8080/"
        },
        "id": "6SZg8ph_gG1K",
        "outputId": "84203510-3353-4f9d-e07a-fd5cc47fb64b"
      },
      "execution_count": null,
      "outputs": [
        {
          "output_type": "execute_result",
          "data": {
            "text/plain": [
              "                               Open_B      High_B       Low_B     Close_B  \\\n",
              "Date                                                                        \n",
              "2020-10-01 00:00:00-04:00  100.000000  100.000000  100.000000  100.000000   \n",
              "2020-10-02 00:00:00-04:00  100.000000  100.000000  100.000000  100.000000   \n",
              "2020-10-05 00:00:00-04:00  100.029999  100.040001   99.995003   99.995003   \n",
              "2020-10-06 00:00:00-04:00  100.010002  100.029999  100.010002  100.029999   \n",
              "2020-10-07 00:00:00-04:00   99.949997   99.959999   99.919998   99.919998   \n",
              "...                               ...         ...         ...         ...   \n",
              "2022-12-01 00:00:00-05:00   91.324997   91.516098   91.324997   91.516098   \n",
              "2022-12-02 00:00:00-05:00   91.600098   91.600098   91.600098   91.600098   \n",
              "2022-12-05 00:00:00-05:00   91.254997   91.300003   91.154900   91.154900   \n",
              "2022-12-06 00:00:00-05:00   91.309998   91.309998   91.309998   91.309998   \n",
              "2022-12-07 00:00:00-05:00   91.659897   91.694901   91.653297   91.694901   \n",
              "\n",
              "                           Volume_B        t1_B  Target_B  \n",
              "Date                                                       \n",
              "2020-10-01 00:00:00-04:00         0  100.000000         0  \n",
              "2020-10-02 00:00:00-04:00         0   99.995003         0  \n",
              "2020-10-05 00:00:00-04:00     10725  100.029999         1  \n",
              "2020-10-06 00:00:00-04:00     10080   99.919998         0  \n",
              "2020-10-07 00:00:00-04:00      6350   99.995003         1  \n",
              "...                             ...         ...       ...  \n",
              "2022-12-01 00:00:00-05:00     14968   91.600098         1  \n",
              "2022-12-02 00:00:00-05:00         2   91.154900         0  \n",
              "2022-12-05 00:00:00-05:00      1397   91.309998         1  \n",
              "2022-12-06 00:00:00-05:00       103   91.694901         1  \n",
              "2022-12-07 00:00:00-05:00       715         NaN         0  \n",
              "\n",
              "[551 rows x 7 columns]"
            ],
            "text/html": [
              "\n",
              "  <div id=\"df-3dd06aa8-bac7-4f8a-b861-c673933c70e0\">\n",
              "    <div class=\"colab-df-container\">\n",
              "      <div>\n",
              "<style scoped>\n",
              "    .dataframe tbody tr th:only-of-type {\n",
              "        vertical-align: middle;\n",
              "    }\n",
              "\n",
              "    .dataframe tbody tr th {\n",
              "        vertical-align: top;\n",
              "    }\n",
              "\n",
              "    .dataframe thead th {\n",
              "        text-align: right;\n",
              "    }\n",
              "</style>\n",
              "<table border=\"1\" class=\"dataframe\">\n",
              "  <thead>\n",
              "    <tr style=\"text-align: right;\">\n",
              "      <th></th>\n",
              "      <th>Open_B</th>\n",
              "      <th>High_B</th>\n",
              "      <th>Low_B</th>\n",
              "      <th>Close_B</th>\n",
              "      <th>Volume_B</th>\n",
              "      <th>t1_B</th>\n",
              "      <th>Target_B</th>\n",
              "    </tr>\n",
              "    <tr>\n",
              "      <th>Date</th>\n",
              "      <th></th>\n",
              "      <th></th>\n",
              "      <th></th>\n",
              "      <th></th>\n",
              "      <th></th>\n",
              "      <th></th>\n",
              "      <th></th>\n",
              "    </tr>\n",
              "  </thead>\n",
              "  <tbody>\n",
              "    <tr>\n",
              "      <th>2020-10-01 00:00:00-04:00</th>\n",
              "      <td>100.000000</td>\n",
              "      <td>100.000000</td>\n",
              "      <td>100.000000</td>\n",
              "      <td>100.000000</td>\n",
              "      <td>0</td>\n",
              "      <td>100.000000</td>\n",
              "      <td>0</td>\n",
              "    </tr>\n",
              "    <tr>\n",
              "      <th>2020-10-02 00:00:00-04:00</th>\n",
              "      <td>100.000000</td>\n",
              "      <td>100.000000</td>\n",
              "      <td>100.000000</td>\n",
              "      <td>100.000000</td>\n",
              "      <td>0</td>\n",
              "      <td>99.995003</td>\n",
              "      <td>0</td>\n",
              "    </tr>\n",
              "    <tr>\n",
              "      <th>2020-10-05 00:00:00-04:00</th>\n",
              "      <td>100.029999</td>\n",
              "      <td>100.040001</td>\n",
              "      <td>99.995003</td>\n",
              "      <td>99.995003</td>\n",
              "      <td>10725</td>\n",
              "      <td>100.029999</td>\n",
              "      <td>1</td>\n",
              "    </tr>\n",
              "    <tr>\n",
              "      <th>2020-10-06 00:00:00-04:00</th>\n",
              "      <td>100.010002</td>\n",
              "      <td>100.029999</td>\n",
              "      <td>100.010002</td>\n",
              "      <td>100.029999</td>\n",
              "      <td>10080</td>\n",
              "      <td>99.919998</td>\n",
              "      <td>0</td>\n",
              "    </tr>\n",
              "    <tr>\n",
              "      <th>2020-10-07 00:00:00-04:00</th>\n",
              "      <td>99.949997</td>\n",
              "      <td>99.959999</td>\n",
              "      <td>99.919998</td>\n",
              "      <td>99.919998</td>\n",
              "      <td>6350</td>\n",
              "      <td>99.995003</td>\n",
              "      <td>1</td>\n",
              "    </tr>\n",
              "    <tr>\n",
              "      <th>...</th>\n",
              "      <td>...</td>\n",
              "      <td>...</td>\n",
              "      <td>...</td>\n",
              "      <td>...</td>\n",
              "      <td>...</td>\n",
              "      <td>...</td>\n",
              "      <td>...</td>\n",
              "    </tr>\n",
              "    <tr>\n",
              "      <th>2022-12-01 00:00:00-05:00</th>\n",
              "      <td>91.324997</td>\n",
              "      <td>91.516098</td>\n",
              "      <td>91.324997</td>\n",
              "      <td>91.516098</td>\n",
              "      <td>14968</td>\n",
              "      <td>91.600098</td>\n",
              "      <td>1</td>\n",
              "    </tr>\n",
              "    <tr>\n",
              "      <th>2022-12-02 00:00:00-05:00</th>\n",
              "      <td>91.600098</td>\n",
              "      <td>91.600098</td>\n",
              "      <td>91.600098</td>\n",
              "      <td>91.600098</td>\n",
              "      <td>2</td>\n",
              "      <td>91.154900</td>\n",
              "      <td>0</td>\n",
              "    </tr>\n",
              "    <tr>\n",
              "      <th>2022-12-05 00:00:00-05:00</th>\n",
              "      <td>91.254997</td>\n",
              "      <td>91.300003</td>\n",
              "      <td>91.154900</td>\n",
              "      <td>91.154900</td>\n",
              "      <td>1397</td>\n",
              "      <td>91.309998</td>\n",
              "      <td>1</td>\n",
              "    </tr>\n",
              "    <tr>\n",
              "      <th>2022-12-06 00:00:00-05:00</th>\n",
              "      <td>91.309998</td>\n",
              "      <td>91.309998</td>\n",
              "      <td>91.309998</td>\n",
              "      <td>91.309998</td>\n",
              "      <td>103</td>\n",
              "      <td>91.694901</td>\n",
              "      <td>1</td>\n",
              "    </tr>\n",
              "    <tr>\n",
              "      <th>2022-12-07 00:00:00-05:00</th>\n",
              "      <td>91.659897</td>\n",
              "      <td>91.694901</td>\n",
              "      <td>91.653297</td>\n",
              "      <td>91.694901</td>\n",
              "      <td>715</td>\n",
              "      <td>NaN</td>\n",
              "      <td>0</td>\n",
              "    </tr>\n",
              "  </tbody>\n",
              "</table>\n",
              "<p>551 rows × 7 columns</p>\n",
              "</div>\n",
              "      <button class=\"colab-df-convert\" onclick=\"convertToInteractive('df-3dd06aa8-bac7-4f8a-b861-c673933c70e0')\"\n",
              "              title=\"Convert this dataframe to an interactive table.\"\n",
              "              style=\"display:none;\">\n",
              "        \n",
              "  <svg xmlns=\"http://www.w3.org/2000/svg\" height=\"24px\"viewBox=\"0 0 24 24\"\n",
              "       width=\"24px\">\n",
              "    <path d=\"M0 0h24v24H0V0z\" fill=\"none\"/>\n",
              "    <path d=\"M18.56 5.44l.94 2.06.94-2.06 2.06-.94-2.06-.94-.94-2.06-.94 2.06-2.06.94zm-11 1L8.5 8.5l.94-2.06 2.06-.94-2.06-.94L8.5 2.5l-.94 2.06-2.06.94zm10 10l.94 2.06.94-2.06 2.06-.94-2.06-.94-.94-2.06-.94 2.06-2.06.94z\"/><path d=\"M17.41 7.96l-1.37-1.37c-.4-.4-.92-.59-1.43-.59-.52 0-1.04.2-1.43.59L10.3 9.45l-7.72 7.72c-.78.78-.78 2.05 0 2.83L4 21.41c.39.39.9.59 1.41.59.51 0 1.02-.2 1.41-.59l7.78-7.78 2.81-2.81c.8-.78.8-2.07 0-2.86zM5.41 20L4 18.59l7.72-7.72 1.47 1.35L5.41 20z\"/>\n",
              "  </svg>\n",
              "      </button>\n",
              "      \n",
              "  <style>\n",
              "    .colab-df-container {\n",
              "      display:flex;\n",
              "      flex-wrap:wrap;\n",
              "      gap: 12px;\n",
              "    }\n",
              "\n",
              "    .colab-df-convert {\n",
              "      background-color: #E8F0FE;\n",
              "      border: none;\n",
              "      border-radius: 50%;\n",
              "      cursor: pointer;\n",
              "      display: none;\n",
              "      fill: #1967D2;\n",
              "      height: 32px;\n",
              "      padding: 0 0 0 0;\n",
              "      width: 32px;\n",
              "    }\n",
              "\n",
              "    .colab-df-convert:hover {\n",
              "      background-color: #E2EBFA;\n",
              "      box-shadow: 0px 1px 2px rgba(60, 64, 67, 0.3), 0px 1px 3px 1px rgba(60, 64, 67, 0.15);\n",
              "      fill: #174EA6;\n",
              "    }\n",
              "\n",
              "    [theme=dark] .colab-df-convert {\n",
              "      background-color: #3B4455;\n",
              "      fill: #D2E3FC;\n",
              "    }\n",
              "\n",
              "    [theme=dark] .colab-df-convert:hover {\n",
              "      background-color: #434B5C;\n",
              "      box-shadow: 0px 1px 3px 1px rgba(0, 0, 0, 0.15);\n",
              "      filter: drop-shadow(0px 1px 2px rgba(0, 0, 0, 0.3));\n",
              "      fill: #FFFFFF;\n",
              "    }\n",
              "  </style>\n",
              "\n",
              "      <script>\n",
              "        const buttonEl =\n",
              "          document.querySelector('#df-3dd06aa8-bac7-4f8a-b861-c673933c70e0 button.colab-df-convert');\n",
              "        buttonEl.style.display =\n",
              "          google.colab.kernel.accessAllowed ? 'block' : 'none';\n",
              "\n",
              "        async function convertToInteractive(key) {\n",
              "          const element = document.querySelector('#df-3dd06aa8-bac7-4f8a-b861-c673933c70e0');\n",
              "          const dataTable =\n",
              "            await google.colab.kernel.invokeFunction('convertToInteractive',\n",
              "                                                     [key], {});\n",
              "          if (!dataTable) return;\n",
              "\n",
              "          const docLinkHtml = 'Like what you see? Visit the ' +\n",
              "            '<a target=\"_blank\" href=https://colab.research.google.com/notebooks/data_table.ipynb>data table notebook</a>'\n",
              "            + ' to learn more about interactive tables.';\n",
              "          element.innerHTML = '';\n",
              "          dataTable['output_type'] = 'display_data';\n",
              "          await google.colab.output.renderOutput(dataTable, element);\n",
              "          const docLink = document.createElement('div');\n",
              "          docLink.innerHTML = docLinkHtml;\n",
              "          element.appendChild(docLink);\n",
              "        }\n",
              "      </script>\n",
              "    </div>\n",
              "  </div>\n",
              "  "
            ]
          },
          "metadata": {},
          "execution_count": 20
        }
      ]
    },
    {
      "cell_type": "code",
      "source": [
        "nvidia = nvidia.merge(bitcoin, how='inner', on='Date')"
      ],
      "metadata": {
        "id": "USqCfB8wLXRq"
      },
      "execution_count": null,
      "outputs": []
    },
    {
      "cell_type": "code",
      "source": [
        "nvidia"
      ],
      "metadata": {
        "colab": {
          "base_uri": "https://localhost:8080/"
        },
        "id": "xx38MExSLdfZ",
        "outputId": "0f96566f-69a4-42e7-b6c9-8ce09c61af64"
      },
      "execution_count": null,
      "outputs": [
        {
          "output_type": "execute_result",
          "data": {
            "text/plain": [
              "                                 Open        High         Low       Close  \\\n",
              "Date                                                                        \n",
              "2020-10-01 00:00:00-04:00  137.290961  137.338362  134.324702  135.858978   \n",
              "2020-10-02 00:00:00-04:00  131.972167  134.910987  130.235817  130.348083   \n",
              "2020-10-05 00:00:00-04:00  132.081935  136.155862  131.949706  136.138397   \n",
              "2020-10-06 00:00:00-04:00  138.009449  141.122890  136.362907  137.076416   \n",
              "2020-10-07 00:00:00-04:00  139.703412  140.895909  138.343771  139.346664   \n",
              "...                               ...         ...         ...         ...   \n",
              "2022-12-01 00:00:00-05:00  169.990005  172.649994  166.350006  171.350006   \n",
              "2022-12-02 00:00:00-05:00  166.589996  169.330002  164.449997  168.759995   \n",
              "2022-12-05 00:00:00-05:00  166.789993  169.949997  164.720001  166.100006   \n",
              "2022-12-06 00:00:00-05:00  165.300003  165.729996  158.190002  159.869995   \n",
              "2022-12-07 00:00:00-05:00  157.720001  161.860001  156.669998  161.199997   \n",
              "\n",
              "                               Volume          t1  Target      Open_B  \\\n",
              "Date                                                                    \n",
              "2020-10-01 00:00:00-04:00  52500400.0  130.348083       0  100.000000   \n",
              "2020-10-02 00:00:00-04:00  55249600.0  136.138397       1  100.000000   \n",
              "2020-10-05 00:00:00-04:00  47982000.0  137.076416       1  100.029999   \n",
              "2020-10-06 00:00:00-04:00  78442000.0  139.346664       1  100.010002   \n",
              "2020-10-07 00:00:00-04:00  41808400.0  138.096786       0   99.949997   \n",
              "...                               ...         ...     ...         ...   \n",
              "2022-12-01 00:00:00-05:00  47097700.0  168.759995       0   91.324997   \n",
              "2022-12-02 00:00:00-05:00  37119700.0  166.100006       0   91.600098   \n",
              "2022-12-05 00:00:00-05:00  35225500.0  159.869995       0   91.254997   \n",
              "2022-12-06 00:00:00-05:00  35269400.0  161.199997       1   91.309998   \n",
              "2022-12-07 00:00:00-05:00  37195300.0         NaN       0   91.659897   \n",
              "\n",
              "                               High_B       Low_B     Close_B  Volume_B  \\\n",
              "Date                                                                      \n",
              "2020-10-01 00:00:00-04:00  100.000000  100.000000  100.000000         0   \n",
              "2020-10-02 00:00:00-04:00  100.000000  100.000000  100.000000         0   \n",
              "2020-10-05 00:00:00-04:00  100.040001   99.995003   99.995003     10725   \n",
              "2020-10-06 00:00:00-04:00  100.029999  100.010002  100.029999     10080   \n",
              "2020-10-07 00:00:00-04:00   99.959999   99.919998   99.919998      6350   \n",
              "...                               ...         ...         ...       ...   \n",
              "2022-12-01 00:00:00-05:00   91.516098   91.324997   91.516098     14968   \n",
              "2022-12-02 00:00:00-05:00   91.600098   91.600098   91.600098         2   \n",
              "2022-12-05 00:00:00-05:00   91.300003   91.154900   91.154900      1397   \n",
              "2022-12-06 00:00:00-05:00   91.309998   91.309998   91.309998       103   \n",
              "2022-12-07 00:00:00-05:00   91.694901   91.653297   91.694901       715   \n",
              "\n",
              "                                 t1_B  Target_B  \n",
              "Date                                             \n",
              "2020-10-01 00:00:00-04:00  100.000000         0  \n",
              "2020-10-02 00:00:00-04:00   99.995003         0  \n",
              "2020-10-05 00:00:00-04:00  100.029999         1  \n",
              "2020-10-06 00:00:00-04:00   99.919998         0  \n",
              "2020-10-07 00:00:00-04:00   99.995003         1  \n",
              "...                               ...       ...  \n",
              "2022-12-01 00:00:00-05:00   91.600098         1  \n",
              "2022-12-02 00:00:00-05:00   91.154900         0  \n",
              "2022-12-05 00:00:00-05:00   91.309998         1  \n",
              "2022-12-06 00:00:00-05:00   91.694901         1  \n",
              "2022-12-07 00:00:00-05:00         NaN         0  \n",
              "\n",
              "[551 rows x 14 columns]"
            ],
            "text/html": [
              "\n",
              "  <div id=\"df-bbde848d-e3a9-44a7-b219-95791c6288e2\">\n",
              "    <div class=\"colab-df-container\">\n",
              "      <div>\n",
              "<style scoped>\n",
              "    .dataframe tbody tr th:only-of-type {\n",
              "        vertical-align: middle;\n",
              "    }\n",
              "\n",
              "    .dataframe tbody tr th {\n",
              "        vertical-align: top;\n",
              "    }\n",
              "\n",
              "    .dataframe thead th {\n",
              "        text-align: right;\n",
              "    }\n",
              "</style>\n",
              "<table border=\"1\" class=\"dataframe\">\n",
              "  <thead>\n",
              "    <tr style=\"text-align: right;\">\n",
              "      <th></th>\n",
              "      <th>Open</th>\n",
              "      <th>High</th>\n",
              "      <th>Low</th>\n",
              "      <th>Close</th>\n",
              "      <th>Volume</th>\n",
              "      <th>t1</th>\n",
              "      <th>Target</th>\n",
              "      <th>Open_B</th>\n",
              "      <th>High_B</th>\n",
              "      <th>Low_B</th>\n",
              "      <th>Close_B</th>\n",
              "      <th>Volume_B</th>\n",
              "      <th>t1_B</th>\n",
              "      <th>Target_B</th>\n",
              "    </tr>\n",
              "    <tr>\n",
              "      <th>Date</th>\n",
              "      <th></th>\n",
              "      <th></th>\n",
              "      <th></th>\n",
              "      <th></th>\n",
              "      <th></th>\n",
              "      <th></th>\n",
              "      <th></th>\n",
              "      <th></th>\n",
              "      <th></th>\n",
              "      <th></th>\n",
              "      <th></th>\n",
              "      <th></th>\n",
              "      <th></th>\n",
              "      <th></th>\n",
              "    </tr>\n",
              "  </thead>\n",
              "  <tbody>\n",
              "    <tr>\n",
              "      <th>2020-10-01 00:00:00-04:00</th>\n",
              "      <td>137.290961</td>\n",
              "      <td>137.338362</td>\n",
              "      <td>134.324702</td>\n",
              "      <td>135.858978</td>\n",
              "      <td>52500400.0</td>\n",
              "      <td>130.348083</td>\n",
              "      <td>0</td>\n",
              "      <td>100.000000</td>\n",
              "      <td>100.000000</td>\n",
              "      <td>100.000000</td>\n",
              "      <td>100.000000</td>\n",
              "      <td>0</td>\n",
              "      <td>100.000000</td>\n",
              "      <td>0</td>\n",
              "    </tr>\n",
              "    <tr>\n",
              "      <th>2020-10-02 00:00:00-04:00</th>\n",
              "      <td>131.972167</td>\n",
              "      <td>134.910987</td>\n",
              "      <td>130.235817</td>\n",
              "      <td>130.348083</td>\n",
              "      <td>55249600.0</td>\n",
              "      <td>136.138397</td>\n",
              "      <td>1</td>\n",
              "      <td>100.000000</td>\n",
              "      <td>100.000000</td>\n",
              "      <td>100.000000</td>\n",
              "      <td>100.000000</td>\n",
              "      <td>0</td>\n",
              "      <td>99.995003</td>\n",
              "      <td>0</td>\n",
              "    </tr>\n",
              "    <tr>\n",
              "      <th>2020-10-05 00:00:00-04:00</th>\n",
              "      <td>132.081935</td>\n",
              "      <td>136.155862</td>\n",
              "      <td>131.949706</td>\n",
              "      <td>136.138397</td>\n",
              "      <td>47982000.0</td>\n",
              "      <td>137.076416</td>\n",
              "      <td>1</td>\n",
              "      <td>100.029999</td>\n",
              "      <td>100.040001</td>\n",
              "      <td>99.995003</td>\n",
              "      <td>99.995003</td>\n",
              "      <td>10725</td>\n",
              "      <td>100.029999</td>\n",
              "      <td>1</td>\n",
              "    </tr>\n",
              "    <tr>\n",
              "      <th>2020-10-06 00:00:00-04:00</th>\n",
              "      <td>138.009449</td>\n",
              "      <td>141.122890</td>\n",
              "      <td>136.362907</td>\n",
              "      <td>137.076416</td>\n",
              "      <td>78442000.0</td>\n",
              "      <td>139.346664</td>\n",
              "      <td>1</td>\n",
              "      <td>100.010002</td>\n",
              "      <td>100.029999</td>\n",
              "      <td>100.010002</td>\n",
              "      <td>100.029999</td>\n",
              "      <td>10080</td>\n",
              "      <td>99.919998</td>\n",
              "      <td>0</td>\n",
              "    </tr>\n",
              "    <tr>\n",
              "      <th>2020-10-07 00:00:00-04:00</th>\n",
              "      <td>139.703412</td>\n",
              "      <td>140.895909</td>\n",
              "      <td>138.343771</td>\n",
              "      <td>139.346664</td>\n",
              "      <td>41808400.0</td>\n",
              "      <td>138.096786</td>\n",
              "      <td>0</td>\n",
              "      <td>99.949997</td>\n",
              "      <td>99.959999</td>\n",
              "      <td>99.919998</td>\n",
              "      <td>99.919998</td>\n",
              "      <td>6350</td>\n",
              "      <td>99.995003</td>\n",
              "      <td>1</td>\n",
              "    </tr>\n",
              "    <tr>\n",
              "      <th>...</th>\n",
              "      <td>...</td>\n",
              "      <td>...</td>\n",
              "      <td>...</td>\n",
              "      <td>...</td>\n",
              "      <td>...</td>\n",
              "      <td>...</td>\n",
              "      <td>...</td>\n",
              "      <td>...</td>\n",
              "      <td>...</td>\n",
              "      <td>...</td>\n",
              "      <td>...</td>\n",
              "      <td>...</td>\n",
              "      <td>...</td>\n",
              "      <td>...</td>\n",
              "    </tr>\n",
              "    <tr>\n",
              "      <th>2022-12-01 00:00:00-05:00</th>\n",
              "      <td>169.990005</td>\n",
              "      <td>172.649994</td>\n",
              "      <td>166.350006</td>\n",
              "      <td>171.350006</td>\n",
              "      <td>47097700.0</td>\n",
              "      <td>168.759995</td>\n",
              "      <td>0</td>\n",
              "      <td>91.324997</td>\n",
              "      <td>91.516098</td>\n",
              "      <td>91.324997</td>\n",
              "      <td>91.516098</td>\n",
              "      <td>14968</td>\n",
              "      <td>91.600098</td>\n",
              "      <td>1</td>\n",
              "    </tr>\n",
              "    <tr>\n",
              "      <th>2022-12-02 00:00:00-05:00</th>\n",
              "      <td>166.589996</td>\n",
              "      <td>169.330002</td>\n",
              "      <td>164.449997</td>\n",
              "      <td>168.759995</td>\n",
              "      <td>37119700.0</td>\n",
              "      <td>166.100006</td>\n",
              "      <td>0</td>\n",
              "      <td>91.600098</td>\n",
              "      <td>91.600098</td>\n",
              "      <td>91.600098</td>\n",
              "      <td>91.600098</td>\n",
              "      <td>2</td>\n",
              "      <td>91.154900</td>\n",
              "      <td>0</td>\n",
              "    </tr>\n",
              "    <tr>\n",
              "      <th>2022-12-05 00:00:00-05:00</th>\n",
              "      <td>166.789993</td>\n",
              "      <td>169.949997</td>\n",
              "      <td>164.720001</td>\n",
              "      <td>166.100006</td>\n",
              "      <td>35225500.0</td>\n",
              "      <td>159.869995</td>\n",
              "      <td>0</td>\n",
              "      <td>91.254997</td>\n",
              "      <td>91.300003</td>\n",
              "      <td>91.154900</td>\n",
              "      <td>91.154900</td>\n",
              "      <td>1397</td>\n",
              "      <td>91.309998</td>\n",
              "      <td>1</td>\n",
              "    </tr>\n",
              "    <tr>\n",
              "      <th>2022-12-06 00:00:00-05:00</th>\n",
              "      <td>165.300003</td>\n",
              "      <td>165.729996</td>\n",
              "      <td>158.190002</td>\n",
              "      <td>159.869995</td>\n",
              "      <td>35269400.0</td>\n",
              "      <td>161.199997</td>\n",
              "      <td>1</td>\n",
              "      <td>91.309998</td>\n",
              "      <td>91.309998</td>\n",
              "      <td>91.309998</td>\n",
              "      <td>91.309998</td>\n",
              "      <td>103</td>\n",
              "      <td>91.694901</td>\n",
              "      <td>1</td>\n",
              "    </tr>\n",
              "    <tr>\n",
              "      <th>2022-12-07 00:00:00-05:00</th>\n",
              "      <td>157.720001</td>\n",
              "      <td>161.860001</td>\n",
              "      <td>156.669998</td>\n",
              "      <td>161.199997</td>\n",
              "      <td>37195300.0</td>\n",
              "      <td>NaN</td>\n",
              "      <td>0</td>\n",
              "      <td>91.659897</td>\n",
              "      <td>91.694901</td>\n",
              "      <td>91.653297</td>\n",
              "      <td>91.694901</td>\n",
              "      <td>715</td>\n",
              "      <td>NaN</td>\n",
              "      <td>0</td>\n",
              "    </tr>\n",
              "  </tbody>\n",
              "</table>\n",
              "<p>551 rows × 14 columns</p>\n",
              "</div>\n",
              "      <button class=\"colab-df-convert\" onclick=\"convertToInteractive('df-bbde848d-e3a9-44a7-b219-95791c6288e2')\"\n",
              "              title=\"Convert this dataframe to an interactive table.\"\n",
              "              style=\"display:none;\">\n",
              "        \n",
              "  <svg xmlns=\"http://www.w3.org/2000/svg\" height=\"24px\"viewBox=\"0 0 24 24\"\n",
              "       width=\"24px\">\n",
              "    <path d=\"M0 0h24v24H0V0z\" fill=\"none\"/>\n",
              "    <path d=\"M18.56 5.44l.94 2.06.94-2.06 2.06-.94-2.06-.94-.94-2.06-.94 2.06-2.06.94zm-11 1L8.5 8.5l.94-2.06 2.06-.94-2.06-.94L8.5 2.5l-.94 2.06-2.06.94zm10 10l.94 2.06.94-2.06 2.06-.94-2.06-.94-.94-2.06-.94 2.06-2.06.94z\"/><path d=\"M17.41 7.96l-1.37-1.37c-.4-.4-.92-.59-1.43-.59-.52 0-1.04.2-1.43.59L10.3 9.45l-7.72 7.72c-.78.78-.78 2.05 0 2.83L4 21.41c.39.39.9.59 1.41.59.51 0 1.02-.2 1.41-.59l7.78-7.78 2.81-2.81c.8-.78.8-2.07 0-2.86zM5.41 20L4 18.59l7.72-7.72 1.47 1.35L5.41 20z\"/>\n",
              "  </svg>\n",
              "      </button>\n",
              "      \n",
              "  <style>\n",
              "    .colab-df-container {\n",
              "      display:flex;\n",
              "      flex-wrap:wrap;\n",
              "      gap: 12px;\n",
              "    }\n",
              "\n",
              "    .colab-df-convert {\n",
              "      background-color: #E8F0FE;\n",
              "      border: none;\n",
              "      border-radius: 50%;\n",
              "      cursor: pointer;\n",
              "      display: none;\n",
              "      fill: #1967D2;\n",
              "      height: 32px;\n",
              "      padding: 0 0 0 0;\n",
              "      width: 32px;\n",
              "    }\n",
              "\n",
              "    .colab-df-convert:hover {\n",
              "      background-color: #E2EBFA;\n",
              "      box-shadow: 0px 1px 2px rgba(60, 64, 67, 0.3), 0px 1px 3px 1px rgba(60, 64, 67, 0.15);\n",
              "      fill: #174EA6;\n",
              "    }\n",
              "\n",
              "    [theme=dark] .colab-df-convert {\n",
              "      background-color: #3B4455;\n",
              "      fill: #D2E3FC;\n",
              "    }\n",
              "\n",
              "    [theme=dark] .colab-df-convert:hover {\n",
              "      background-color: #434B5C;\n",
              "      box-shadow: 0px 1px 3px 1px rgba(0, 0, 0, 0.15);\n",
              "      filter: drop-shadow(0px 1px 2px rgba(0, 0, 0, 0.3));\n",
              "      fill: #FFFFFF;\n",
              "    }\n",
              "  </style>\n",
              "\n",
              "      <script>\n",
              "        const buttonEl =\n",
              "          document.querySelector('#df-bbde848d-e3a9-44a7-b219-95791c6288e2 button.colab-df-convert');\n",
              "        buttonEl.style.display =\n",
              "          google.colab.kernel.accessAllowed ? 'block' : 'none';\n",
              "\n",
              "        async function convertToInteractive(key) {\n",
              "          const element = document.querySelector('#df-bbde848d-e3a9-44a7-b219-95791c6288e2');\n",
              "          const dataTable =\n",
              "            await google.colab.kernel.invokeFunction('convertToInteractive',\n",
              "                                                     [key], {});\n",
              "          if (!dataTable) return;\n",
              "\n",
              "          const docLinkHtml = 'Like what you see? Visit the ' +\n",
              "            '<a target=\"_blank\" href=https://colab.research.google.com/notebooks/data_table.ipynb>data table notebook</a>'\n",
              "            + ' to learn more about interactive tables.';\n",
              "          element.innerHTML = '';\n",
              "          dataTable['output_type'] = 'display_data';\n",
              "          await google.colab.output.renderOutput(dataTable, element);\n",
              "          const docLink = document.createElement('div');\n",
              "          docLink.innerHTML = docLinkHtml;\n",
              "          element.appendChild(docLink);\n",
              "        }\n",
              "      </script>\n",
              "    </div>\n",
              "  </div>\n",
              "  "
            ]
          },
          "metadata": {},
          "execution_count": 23
        }
      ]
    },
    {
      "cell_type": "markdown",
      "source": [
        "### Model\n",
        "\n",
        "Now that we have merged data on a single dataframe, we are ready to run our **predictive model**."
      ],
      "metadata": {
        "id": "b0u8z1UOLCh3"
      }
    },
    {
      "cell_type": "code",
      "source": [
        "model = RandomForestClassifier(n_estimators=100, min_samples_split=100, random_state=1)"
      ],
      "metadata": {
        "id": "TGP_h1HjLNVg"
      },
      "execution_count": null,
      "outputs": []
    },
    {
      "cell_type": "code",
      "source": [
        "nvidia = nvidia.dropna()"
      ],
      "metadata": {
        "id": "BpVj1j4EL3Hw"
      },
      "execution_count": null,
      "outputs": []
    },
    {
      "cell_type": "code",
      "source": [
        "print(nvidia.columns)"
      ],
      "metadata": {
        "colab": {
          "base_uri": "https://localhost:8080/"
        },
        "id": "BR98o5LBMIpt",
        "outputId": "6db84f11-9110-4b7e-8dbf-4d9f1867743c"
      },
      "execution_count": null,
      "outputs": [
        {
          "output_type": "stream",
          "name": "stdout",
          "text": [
            "Index(['Open', 'High', 'Low', 'Close', 'Volume', 't1', 'Target', 'Open_B',\n",
            "       'High_B', 'Low_B', 'Close_B', 'Volume_B', 't1_B', 'Target_B'],\n",
            "      dtype='object')\n"
          ]
        }
      ]
    },
    {
      "cell_type": "code",
      "source": [
        "train = nvidia.iloc[:-50]\n",
        "test = nvidia.iloc[-50:]\n",
        "\n",
        "predictors = ['Open', 'High', 'Low', 'Close', 'Volume', 't1', 'Open_B',\n",
        "       'High_B', 'Low_B', 'Close_B', 'Volume_B', 't1_B', 'Target_B']\n",
        "\n",
        "model.fit(train[predictors], train['Target'])"
      ],
      "metadata": {
        "colab": {
          "base_uri": "https://localhost:8080/"
        },
        "id": "dctaLyDvMQ03",
        "outputId": "a25af0f2-9312-4103-9412-b8dd58ef1161"
      },
      "execution_count": null,
      "outputs": [
        {
          "output_type": "execute_result",
          "data": {
            "text/plain": [
              "RandomForestClassifier(min_samples_split=100, random_state=1)"
            ]
          },
          "metadata": {},
          "execution_count": 30
        }
      ]
    },
    {
      "cell_type": "code",
      "source": [
        "preds = model.predict(test[predictors])\n",
        "preds = pd.Series(preds, index = test.index)"
      ],
      "metadata": {
        "id": "3kCVA8uxMlxs"
      },
      "execution_count": null,
      "outputs": []
    },
    {
      "cell_type": "code",
      "source": [
        "precision_score(test['Target'], preds)"
      ],
      "metadata": {
        "colab": {
          "base_uri": "https://localhost:8080/"
        },
        "id": "XrbHXXdFMsDQ",
        "outputId": "b52f2d67-7727-4015-93ee-3f21ec286511"
      },
      "execution_count": null,
      "outputs": [
        {
          "output_type": "execute_result",
          "data": {
            "text/plain": [
              "0.9090909090909091"
            ]
          },
          "metadata": {},
          "execution_count": 32
        }
      ]
    },
    {
      "cell_type": "markdown",
      "source": [
        "## Model n°2 - Financia Indicators\n",
        "\n",
        "We will use some technical indicators, implemented in Pandas through the `FinTA` library, to better predict the behavior of the NVIDIA stock."
      ],
      "metadata": {
        "id": "JhokvAe6Nr1f"
      }
    },
    {
      "cell_type": "code",
      "source": [
        "stock = 'NVDA'\n",
        "\n",
        "nvidia = yf.Ticker(stock)\n",
        "nvidia = nvidia.history(period='max')\n",
        "\n",
        "nvidia"
      ],
      "metadata": {
        "id": "FKR6tF2RUFYC"
      },
      "execution_count": null,
      "outputs": []
    },
    {
      "cell_type": "code",
      "source": [
        "nvidia['t1'] = nvidia['Close'].shift(-1)"
      ],
      "metadata": {
        "id": "3BBe-6KUUWbC"
      },
      "execution_count": null,
      "outputs": []
    },
    {
      "cell_type": "code",
      "source": [
        "nvidia['Target'] = (nvidia['t1'] > nvidia['Close']).astype(int)"
      ],
      "metadata": {
        "id": "RUDzr1b2USf1"
      },
      "execution_count": null,
      "outputs": []
    },
    {
      "cell_type": "code",
      "source": [
        "del nvidia['Dividends']\n",
        "del nvidia['Stock Splits']"
      ],
      "metadata": {
        "id": "IZBxdWNsUTKM"
      },
      "execution_count": null,
      "outputs": []
    },
    {
      "cell_type": "code",
      "source": [
        "nvidia"
      ],
      "metadata": {
        "colab": {
          "base_uri": "https://localhost:8080/",
          "height": 455
        },
        "id": "lIl0kdcZUe9W",
        "outputId": "1588d1db-8117-4b90-b44b-086a7b144869"
      },
      "execution_count": null,
      "outputs": [
        {
          "output_type": "execute_result",
          "data": {
            "text/plain": [
              "                                 Open        High         Low       Close  \\\n",
              "Date                                                                        \n",
              "1999-01-22 00:00:00-05:00    0.401517    0.448121    0.356107    0.376422   \n",
              "1999-01-25 00:00:00-05:00    0.406296    0.420636    0.376422    0.415857   \n",
              "1999-01-26 00:00:00-05:00    0.420636    0.429001    0.377616    0.383592   \n",
              "1999-01-27 00:00:00-05:00    0.384787    0.394347    0.363277    0.382397   \n",
              "1999-01-28 00:00:00-05:00    0.382397    0.384787    0.378811    0.381202   \n",
              "...                               ...         ...         ...         ...   \n",
              "2022-12-02 00:00:00-05:00  166.589996  169.330002  164.449997  168.759995   \n",
              "2022-12-05 00:00:00-05:00  166.789993  169.949997  164.720001  166.100006   \n",
              "2022-12-06 00:00:00-05:00  165.300003  165.729996  158.190002  159.869995   \n",
              "2022-12-07 00:00:00-05:00  157.720001  161.860001  156.669998  161.199997   \n",
              "2022-12-08 00:00:00-05:00  162.729996  165.470001  159.589996  164.654007   \n",
              "\n",
              "                                Volume          t1  Target  \n",
              "Date                                                        \n",
              "1999-01-22 00:00:00-05:00  271468800.0    0.415857       1  \n",
              "1999-01-25 00:00:00-05:00   51048000.0    0.383592       0  \n",
              "1999-01-26 00:00:00-05:00   34320000.0    0.382397       0  \n",
              "1999-01-27 00:00:00-05:00   24436800.0    0.381202       0  \n",
              "1999-01-28 00:00:00-05:00   22752000.0    0.363277       0  \n",
              "...                                ...         ...     ...  \n",
              "2022-12-02 00:00:00-05:00   37119700.0  166.100006       0  \n",
              "2022-12-05 00:00:00-05:00   35225500.0  159.869995       0  \n",
              "2022-12-06 00:00:00-05:00   35269400.0  161.199997       1  \n",
              "2022-12-07 00:00:00-05:00   37195300.0  164.654007       1  \n",
              "2022-12-08 00:00:00-05:00   10558078.0         NaN       0  \n",
              "\n",
              "[6012 rows x 7 columns]"
            ],
            "text/html": [
              "\n",
              "  <div id=\"df-bc624c78-ed62-4691-a85e-5c8e388ecab8\">\n",
              "    <div class=\"colab-df-container\">\n",
              "      <div>\n",
              "<style scoped>\n",
              "    .dataframe tbody tr th:only-of-type {\n",
              "        vertical-align: middle;\n",
              "    }\n",
              "\n",
              "    .dataframe tbody tr th {\n",
              "        vertical-align: top;\n",
              "    }\n",
              "\n",
              "    .dataframe thead th {\n",
              "        text-align: right;\n",
              "    }\n",
              "</style>\n",
              "<table border=\"1\" class=\"dataframe\">\n",
              "  <thead>\n",
              "    <tr style=\"text-align: right;\">\n",
              "      <th></th>\n",
              "      <th>Open</th>\n",
              "      <th>High</th>\n",
              "      <th>Low</th>\n",
              "      <th>Close</th>\n",
              "      <th>Volume</th>\n",
              "      <th>t1</th>\n",
              "      <th>Target</th>\n",
              "    </tr>\n",
              "    <tr>\n",
              "      <th>Date</th>\n",
              "      <th></th>\n",
              "      <th></th>\n",
              "      <th></th>\n",
              "      <th></th>\n",
              "      <th></th>\n",
              "      <th></th>\n",
              "      <th></th>\n",
              "    </tr>\n",
              "  </thead>\n",
              "  <tbody>\n",
              "    <tr>\n",
              "      <th>1999-01-22 00:00:00-05:00</th>\n",
              "      <td>0.401517</td>\n",
              "      <td>0.448121</td>\n",
              "      <td>0.356107</td>\n",
              "      <td>0.376422</td>\n",
              "      <td>271468800.0</td>\n",
              "      <td>0.415857</td>\n",
              "      <td>1</td>\n",
              "    </tr>\n",
              "    <tr>\n",
              "      <th>1999-01-25 00:00:00-05:00</th>\n",
              "      <td>0.406296</td>\n",
              "      <td>0.420636</td>\n",
              "      <td>0.376422</td>\n",
              "      <td>0.415857</td>\n",
              "      <td>51048000.0</td>\n",
              "      <td>0.383592</td>\n",
              "      <td>0</td>\n",
              "    </tr>\n",
              "    <tr>\n",
              "      <th>1999-01-26 00:00:00-05:00</th>\n",
              "      <td>0.420636</td>\n",
              "      <td>0.429001</td>\n",
              "      <td>0.377616</td>\n",
              "      <td>0.383592</td>\n",
              "      <td>34320000.0</td>\n",
              "      <td>0.382397</td>\n",
              "      <td>0</td>\n",
              "    </tr>\n",
              "    <tr>\n",
              "      <th>1999-01-27 00:00:00-05:00</th>\n",
              "      <td>0.384787</td>\n",
              "      <td>0.394347</td>\n",
              "      <td>0.363277</td>\n",
              "      <td>0.382397</td>\n",
              "      <td>24436800.0</td>\n",
              "      <td>0.381202</td>\n",
              "      <td>0</td>\n",
              "    </tr>\n",
              "    <tr>\n",
              "      <th>1999-01-28 00:00:00-05:00</th>\n",
              "      <td>0.382397</td>\n",
              "      <td>0.384787</td>\n",
              "      <td>0.378811</td>\n",
              "      <td>0.381202</td>\n",
              "      <td>22752000.0</td>\n",
              "      <td>0.363277</td>\n",
              "      <td>0</td>\n",
              "    </tr>\n",
              "    <tr>\n",
              "      <th>...</th>\n",
              "      <td>...</td>\n",
              "      <td>...</td>\n",
              "      <td>...</td>\n",
              "      <td>...</td>\n",
              "      <td>...</td>\n",
              "      <td>...</td>\n",
              "      <td>...</td>\n",
              "    </tr>\n",
              "    <tr>\n",
              "      <th>2022-12-02 00:00:00-05:00</th>\n",
              "      <td>166.589996</td>\n",
              "      <td>169.330002</td>\n",
              "      <td>164.449997</td>\n",
              "      <td>168.759995</td>\n",
              "      <td>37119700.0</td>\n",
              "      <td>166.100006</td>\n",
              "      <td>0</td>\n",
              "    </tr>\n",
              "    <tr>\n",
              "      <th>2022-12-05 00:00:00-05:00</th>\n",
              "      <td>166.789993</td>\n",
              "      <td>169.949997</td>\n",
              "      <td>164.720001</td>\n",
              "      <td>166.100006</td>\n",
              "      <td>35225500.0</td>\n",
              "      <td>159.869995</td>\n",
              "      <td>0</td>\n",
              "    </tr>\n",
              "    <tr>\n",
              "      <th>2022-12-06 00:00:00-05:00</th>\n",
              "      <td>165.300003</td>\n",
              "      <td>165.729996</td>\n",
              "      <td>158.190002</td>\n",
              "      <td>159.869995</td>\n",
              "      <td>35269400.0</td>\n",
              "      <td>161.199997</td>\n",
              "      <td>1</td>\n",
              "    </tr>\n",
              "    <tr>\n",
              "      <th>2022-12-07 00:00:00-05:00</th>\n",
              "      <td>157.720001</td>\n",
              "      <td>161.860001</td>\n",
              "      <td>156.669998</td>\n",
              "      <td>161.199997</td>\n",
              "      <td>37195300.0</td>\n",
              "      <td>164.654007</td>\n",
              "      <td>1</td>\n",
              "    </tr>\n",
              "    <tr>\n",
              "      <th>2022-12-08 00:00:00-05:00</th>\n",
              "      <td>162.729996</td>\n",
              "      <td>165.470001</td>\n",
              "      <td>159.589996</td>\n",
              "      <td>164.654007</td>\n",
              "      <td>10558078.0</td>\n",
              "      <td>NaN</td>\n",
              "      <td>0</td>\n",
              "    </tr>\n",
              "  </tbody>\n",
              "</table>\n",
              "<p>6012 rows × 7 columns</p>\n",
              "</div>\n",
              "      <button class=\"colab-df-convert\" onclick=\"convertToInteractive('df-bc624c78-ed62-4691-a85e-5c8e388ecab8')\"\n",
              "              title=\"Convert this dataframe to an interactive table.\"\n",
              "              style=\"display:none;\">\n",
              "        \n",
              "  <svg xmlns=\"http://www.w3.org/2000/svg\" height=\"24px\"viewBox=\"0 0 24 24\"\n",
              "       width=\"24px\">\n",
              "    <path d=\"M0 0h24v24H0V0z\" fill=\"none\"/>\n",
              "    <path d=\"M18.56 5.44l.94 2.06.94-2.06 2.06-.94-2.06-.94-.94-2.06-.94 2.06-2.06.94zm-11 1L8.5 8.5l.94-2.06 2.06-.94-2.06-.94L8.5 2.5l-.94 2.06-2.06.94zm10 10l.94 2.06.94-2.06 2.06-.94-2.06-.94-.94-2.06-.94 2.06-2.06.94z\"/><path d=\"M17.41 7.96l-1.37-1.37c-.4-.4-.92-.59-1.43-.59-.52 0-1.04.2-1.43.59L10.3 9.45l-7.72 7.72c-.78.78-.78 2.05 0 2.83L4 21.41c.39.39.9.59 1.41.59.51 0 1.02-.2 1.41-.59l7.78-7.78 2.81-2.81c.8-.78.8-2.07 0-2.86zM5.41 20L4 18.59l7.72-7.72 1.47 1.35L5.41 20z\"/>\n",
              "  </svg>\n",
              "      </button>\n",
              "      \n",
              "  <style>\n",
              "    .colab-df-container {\n",
              "      display:flex;\n",
              "      flex-wrap:wrap;\n",
              "      gap: 12px;\n",
              "    }\n",
              "\n",
              "    .colab-df-convert {\n",
              "      background-color: #E8F0FE;\n",
              "      border: none;\n",
              "      border-radius: 50%;\n",
              "      cursor: pointer;\n",
              "      display: none;\n",
              "      fill: #1967D2;\n",
              "      height: 32px;\n",
              "      padding: 0 0 0 0;\n",
              "      width: 32px;\n",
              "    }\n",
              "\n",
              "    .colab-df-convert:hover {\n",
              "      background-color: #E2EBFA;\n",
              "      box-shadow: 0px 1px 2px rgba(60, 64, 67, 0.3), 0px 1px 3px 1px rgba(60, 64, 67, 0.15);\n",
              "      fill: #174EA6;\n",
              "    }\n",
              "\n",
              "    [theme=dark] .colab-df-convert {\n",
              "      background-color: #3B4455;\n",
              "      fill: #D2E3FC;\n",
              "    }\n",
              "\n",
              "    [theme=dark] .colab-df-convert:hover {\n",
              "      background-color: #434B5C;\n",
              "      box-shadow: 0px 1px 3px 1px rgba(0, 0, 0, 0.15);\n",
              "      filter: drop-shadow(0px 1px 2px rgba(0, 0, 0, 0.3));\n",
              "      fill: #FFFFFF;\n",
              "    }\n",
              "  </style>\n",
              "\n",
              "      <script>\n",
              "        const buttonEl =\n",
              "          document.querySelector('#df-bc624c78-ed62-4691-a85e-5c8e388ecab8 button.colab-df-convert');\n",
              "        buttonEl.style.display =\n",
              "          google.colab.kernel.accessAllowed ? 'block' : 'none';\n",
              "\n",
              "        async function convertToInteractive(key) {\n",
              "          const element = document.querySelector('#df-bc624c78-ed62-4691-a85e-5c8e388ecab8');\n",
              "          const dataTable =\n",
              "            await google.colab.kernel.invokeFunction('convertToInteractive',\n",
              "                                                     [key], {});\n",
              "          if (!dataTable) return;\n",
              "\n",
              "          const docLinkHtml = 'Like what you see? Visit the ' +\n",
              "            '<a target=\"_blank\" href=https://colab.research.google.com/notebooks/data_table.ipynb>data table notebook</a>'\n",
              "            + ' to learn more about interactive tables.';\n",
              "          element.innerHTML = '';\n",
              "          dataTable['output_type'] = 'display_data';\n",
              "          await google.colab.output.renderOutput(dataTable, element);\n",
              "          const docLink = document.createElement('div');\n",
              "          docLink.innerHTML = docLinkHtml;\n",
              "          element.appendChild(docLink);\n",
              "        }\n",
              "      </script>\n",
              "    </div>\n",
              "  </div>\n",
              "  "
            ]
          },
          "metadata": {},
          "execution_count": 56
        }
      ]
    },
    {
      "cell_type": "markdown",
      "source": [
        "### Smooth Data\n",
        "\n",
        "To calculate indicators in a more accurate way, we need to remove noise by **smoothing** data with a simple function.\n",
        "The purpose of this function is to ignore one-time *outliers* and take into account the effects of *seasonality* on the stock."
      ],
      "metadata": {
        "id": "ZV5mmUMYOjA2"
      }
    },
    {
      "cell_type": "code",
      "source": [
        "def smooth_data(data, alpha):\n",
        "  return data.ewm(alpha=alpha).mean()"
      ],
      "metadata": {
        "id": "tSajdK39K-co"
      },
      "execution_count": null,
      "outputs": []
    },
    {
      "cell_type": "code",
      "source": [
        "alpha = 0.65\n",
        "data = smooth_data(nvidia, alpha)\n",
        "\n",
        "smooth_trend = data.iloc[-60:]['Close']\n",
        "real_trend = nvidia.iloc[-60:]['Close']\n",
        "\n",
        "plt.plot(smooth_trend)\n",
        "plt.plot(real_trend)\n",
        "\n",
        "plt.legend([\"smooth\", \"real\"], loc =\"lower right\")\n",
        "plt.show()"
      ],
      "metadata": {
        "colab": {
          "base_uri": "https://localhost:8080/",
          "height": 265
        },
        "id": "bid9sSV4LFfn",
        "outputId": "8479c488-f188-41f2-fd1a-337c9a06db12"
      },
      "execution_count": null,
      "outputs": [
        {
          "output_type": "display_data",
          "data": {
            "text/plain": [
              "<Figure size 432x288 with 1 Axes>"
            ],
            "image/png": "[encoded data removed]"
          },
          "metadata": {
            "needs_background": "light"
          }
        }
      ]
    },
    {
      "cell_type": "markdown",
      "source": [
        "### Financial Indicators\n",
        "\n",
        "The FinTA library expects properly formatted DataFrames, with column names in lowercase: [\"open\", \"high\", \"low\", \"close\", \"volume\"]"
      ],
      "metadata": {
        "id": "JnN8CCopVwaP"
      }
    },
    {
      "cell_type": "code",
      "source": [
        "data.rename(columns = {'Close': 'close', 'High': 'high', 'Low': 'low', \n",
        "                       'Adj Close': 'adj close', 'Volume': 'volume', 'Open': 'open'}, \n",
        "            inplace = True)"
      ],
      "metadata": {
        "id": "pnicQERULlKO"
      },
      "execution_count": null,
      "outputs": []
    },
    {
      "cell_type": "markdown",
      "source": [
        "We choose the following indicators:\n",
        "\n",
        "- **OBV**: On Balance Volume\n",
        "- **ADL**: Accumulation Distribution Line\n",
        "- **ADX**: Average Directional Index\n",
        "- **RSI**: Relative Strenght Index\n",
        "- **STOCH**: Stochastic Oscillator\n",
        "- **SMA**: Simple Moving Average"
      ],
      "metadata": {
        "id": "N-cFa-BiWuSP"
      }
    },
    {
      "cell_type": "code",
      "source": [
        "indicators = ['OBV', 'ADL', 'ADX', 'RSI', 'STOCH', 'SMA']"
      ],
      "metadata": {
        "id": "HjVgQompVMFn"
      },
      "execution_count": null,
      "outputs": []
    },
    {
      "cell_type": "code",
      "source": [
        "# indicators = ['RSI', 'STOCH', 'ADL', 'ATR', 'MOM', 'MFI', 'ROC', 'OBV', 'CCI', 'EMV']"
      ],
      "metadata": {
        "id": "V-0x8iEnLnO2"
      },
      "execution_count": null,
      "outputs": []
    },
    {
      "cell_type": "code",
      "source": [
        "# indicators = ['SMA', 'SMM', 'SSMA', 'EMA', 'DEMA', 'TEMA', 'TRIMA', 'TRIX', 'VAMA', 'ER', 'KAMA', \n",
        "#              'ZLEMA', 'WMA', 'HMA', 'EVWMA', 'VWAP', 'SMMA', 'MOM', 'ROC', 'RSI', 'IFT_RSI']"
      ],
      "metadata": {
        "id": "g04kaMm_eDez"
      },
      "execution_count": null,
      "outputs": []
    },
    {
      "cell_type": "code",
      "source": [
        "for indicator in indicators:\n",
        "  data[indicator] = eval('TA.' + indicator + '(data)')"
      ],
      "metadata": {
        "id": "SWpd5AOLOWZM"
      },
      "execution_count": null,
      "outputs": []
    },
    {
      "cell_type": "code",
      "source": [
        "print(data.columns)"
      ],
      "metadata": {
        "colab": {
          "base_uri": "https://localhost:8080/"
        },
        "id": "Y24G2qOpO1ak",
        "outputId": "819ce7c8-34e3-47bc-c555-4a3adee358a7"
      },
      "execution_count": null,
      "outputs": [
        {
          "output_type": "stream",
          "name": "stdout",
          "text": [
            "Index(['open', 'high', 'low', 'close', 'volume', 't1', 'Target', 'OBV', 'ADL',\n",
            "       'ADX', 'RSI', 'STOCH', 'SMA'],\n",
            "      dtype='object')\n"
          ]
        }
      ]
    },
    {
      "cell_type": "code",
      "source": [
        "print(nvidia.columns)"
      ],
      "metadata": {
        "colab": {
          "base_uri": "https://localhost:8080/"
        },
        "id": "Upp_Px92VQDh",
        "outputId": "02ac16c2-26f9-4cc5-da17-8b4fe23624fb"
      },
      "execution_count": null,
      "outputs": [
        {
          "output_type": "stream",
          "name": "stdout",
          "text": [
            "Index(['Open', 'High', 'Low', 'Close', 'Volume', 't1', 'Target'], dtype='object')\n"
          ]
        }
      ]
    },
    {
      "cell_type": "code",
      "source": [
        "to_del = ['open', 'high', 'low', 'close', 'volume', 't1', 'Target']"
      ],
      "metadata": {
        "id": "1jEMNpckSx0S"
      },
      "execution_count": null,
      "outputs": []
    },
    {
      "cell_type": "code",
      "source": [
        "for column in to_del:\n",
        "  del data[column]"
      ],
      "metadata": {
        "id": "jg7Nn3ChTJjE"
      },
      "execution_count": null,
      "outputs": []
    },
    {
      "cell_type": "code",
      "source": [
        "nvidia = nvidia.merge(data, how='inner', on='Date')"
      ],
      "metadata": {
        "id": "BRd0iAr2V8ve"
      },
      "execution_count": null,
      "outputs": []
    },
    {
      "cell_type": "code",
      "source": [
        "print(len(nvidia))"
      ],
      "metadata": {
        "colab": {
          "base_uri": "https://localhost:8080/"
        },
        "id": "MfYn7P1iUw8K",
        "outputId": "d0bb2731-0fb5-4e04-c5c4-492f54192b87"
      },
      "execution_count": null,
      "outputs": [
        {
          "output_type": "stream",
          "name": "stdout",
          "text": [
            "6012\n"
          ]
        }
      ]
    },
    {
      "cell_type": "code",
      "source": [
        "nvidia = nvidia.dropna()"
      ],
      "metadata": {
        "id": "G7qmQErPXBRj"
      },
      "execution_count": null,
      "outputs": []
    },
    {
      "cell_type": "code",
      "source": [
        "print(len(nvidia))"
      ],
      "metadata": {
        "colab": {
          "base_uri": "https://localhost:8080/"
        },
        "id": "l1qQIN4RXmYC",
        "outputId": "fd891d09-235a-4cd4-8615-6bf5d203250a"
      },
      "execution_count": null,
      "outputs": [
        {
          "output_type": "stream",
          "name": "stdout",
          "text": [
            "5969\n"
          ]
        }
      ]
    },
    {
      "cell_type": "code",
      "source": [
        "nvidia"
      ],
      "metadata": {
        "colab": {
          "base_uri": "https://localhost:8080/",
          "height": 455
        },
        "id": "uaE17bcdhYBS",
        "outputId": "9ae24bcb-d417-4a87-aa6b-ea598fdccb0f"
      },
      "execution_count": null,
      "outputs": [
        {
          "output_type": "execute_result",
          "data": {
            "text/plain": [
              "                                 Open        High         Low       Close  \\\n",
              "Date                                                                        \n",
              "1999-03-22 00:00:00-05:00    0.409882    0.411077    0.389567    0.389567   \n",
              "1999-03-23 00:00:00-05:00    0.391956    0.391956    0.358497    0.365667   \n",
              "1999-03-24 00:00:00-05:00    0.363277    0.365667    0.348937    0.363277   \n",
              "1999-03-25 00:00:00-05:00    0.362082    0.382397    0.360887    0.368057   \n",
              "1999-03-26 00:00:00-05:00    0.372837    0.401517    0.372837    0.400322   \n",
              "...                               ...         ...         ...         ...   \n",
              "2022-12-01 00:00:00-05:00  169.990005  172.649994  166.350006  171.350006   \n",
              "2022-12-02 00:00:00-05:00  166.589996  169.330002  164.449997  168.759995   \n",
              "2022-12-05 00:00:00-05:00  166.789993  169.949997  164.720001  166.100006   \n",
              "2022-12-06 00:00:00-05:00  165.300003  165.729996  158.190002  159.869995   \n",
              "2022-12-07 00:00:00-05:00  157.720001  161.860001  156.669998  161.199997   \n",
              "\n",
              "                               Volume          t1  Target           OBV  \\\n",
              "Date                                                                      \n",
              "1999-03-22 00:00:00-05:00   3667200.0    0.365667       0  2.132452e+07   \n",
              "1999-03-23 00:00:00-05:00  16396800.0    0.363277       0  8.768430e+06   \n",
              "1999-03-24 00:00:00-05:00   6086400.0    0.368057       1  4.176385e+05   \n",
              "1999-03-25 00:00:00-05:00   4032000.0    0.400322       1  5.961215e+06   \n",
              "1999-03-26 00:00:00-05:00   8827200.0    0.412272       1  1.363915e+07   \n",
              "...                               ...         ...     ...           ...   \n",
              "2022-12-01 00:00:00-05:00  47097700.0  168.759995       0  1.986902e+10   \n",
              "2022-12-02 00:00:00-05:00  37119700.0  166.100006       0  1.982842e+10   \n",
              "2022-12-05 00:00:00-05:00  35225500.0  159.869995       0  1.979131e+10   \n",
              "2022-12-06 00:00:00-05:00  35269400.0  161.199997       1  1.975540e+10   \n",
              "2022-12-07 00:00:00-05:00  37195300.0  164.654007       1  1.971865e+10   \n",
              "\n",
              "                                    ADL        ADX        RSI      STOCH  \\\n",
              "Date                                                                       \n",
              "1999-03-22 00:00:00-05:00 -2.407830e+08  39.377604  47.304309  22.624717   \n",
              "1999-03-23 00:00:00-05:00 -2.486523e+08  37.734846  39.629783   9.472836   \n",
              "1999-03-24 00:00:00-05:00 -2.480554e+08  37.328375  36.823550  15.969228   \n",
              "1999-03-25 00:00:00-05:00 -2.491327e+08  36.505427  37.040011  16.475307   \n",
              "1999-03-26 00:00:00-05:00 -2.445306e+08  34.157348  48.373097  46.583324   \n",
              "...                                 ...        ...        ...        ...   \n",
              "2022-12-01 00:00:00-05:00  4.383381e+09  35.181409  69.806974  93.598374   \n",
              "2022-12-02 00:00:00-05:00  4.412721e+09  35.693665  69.385154  91.961796   \n",
              "2022-12-05 00:00:00-05:00  4.411889e+09  36.187863  66.476843  82.421359   \n",
              "2022-12-06 00:00:00-05:00  4.397334e+09  35.470383  59.566126  57.900652   \n",
              "2022-12-07 00:00:00-05:00  4.407225e+09  34.186073  58.481976  53.840307   \n",
              "\n",
              "                                  SMA  \n",
              "Date                                   \n",
              "1999-03-22 00:00:00-05:00    0.392218  \n",
              "1999-03-23 00:00:00-05:00    0.392193  \n",
              "1999-03-24 00:00:00-05:00    0.391263  \n",
              "1999-03-25 00:00:00-05:00    0.390707  \n",
              "1999-03-26 00:00:00-05:00    0.390798  \n",
              "...                               ...  \n",
              "2022-12-01 00:00:00-05:00  139.659584  \n",
              "2022-12-02 00:00:00-05:00  140.584605  \n",
              "2022-12-05 00:00:00-05:00  141.460603  \n",
              "2022-12-06 00:00:00-05:00  142.387728  \n",
              "2022-12-07 00:00:00-05:00  143.418183  \n",
              "\n",
              "[5969 rows x 13 columns]"
            ],
            "text/html": [
              "\n",
              "  <div id=\"df-e0f23cf6-98e9-47b1-ae94-5fcf800f32af\">\n",
              "    <div class=\"colab-df-container\">\n",
              "      <div>\n",
              "<style scoped>\n",
              "    .dataframe tbody tr th:only-of-type {\n",
              "        vertical-align: middle;\n",
              "    }\n",
              "\n",
              "    .dataframe tbody tr th {\n",
              "        vertical-align: top;\n",
              "    }\n",
              "\n",
              "    .dataframe thead th {\n",
              "        text-align: right;\n",
              "    }\n",
              "</style>\n",
              "<table border=\"1\" class=\"dataframe\">\n",
              "  <thead>\n",
              "    <tr style=\"text-align: right;\">\n",
              "      <th></th>\n",
              "      <th>Open</th>\n",
              "      <th>High</th>\n",
              "      <th>Low</th>\n",
              "      <th>Close</th>\n",
              "      <th>Volume</th>\n",
              "      <th>t1</th>\n",
              "      <th>Target</th>\n",
              "      <th>OBV</th>\n",
              "      <th>ADL</th>\n",
              "      <th>ADX</th>\n",
              "      <th>RSI</th>\n",
              "      <th>STOCH</th>\n",
              "      <th>SMA</th>\n",
              "    </tr>\n",
              "    <tr>\n",
              "      <th>Date</th>\n",
              "      <th></th>\n",
              "      <th></th>\n",
              "      <th></th>\n",
              "      <th></th>\n",
              "      <th></th>\n",
              "      <th></th>\n",
              "      <th></th>\n",
              "      <th></th>\n",
              "      <th></th>\n",
              "      <th></th>\n",
              "      <th></th>\n",
              "      <th></th>\n",
              "      <th></th>\n",
              "    </tr>\n",
              "  </thead>\n",
              "  <tbody>\n",
              "    <tr>\n",
              "      <th>1999-03-22 00:00:00-05:00</th>\n",
              "      <td>0.409882</td>\n",
              "      <td>0.411077</td>\n",
              "      <td>0.389567</td>\n",
              "      <td>0.389567</td>\n",
              "      <td>3667200.0</td>\n",
              "      <td>0.365667</td>\n",
              "      <td>0</td>\n",
              "      <td>2.132452e+07</td>\n",
              "      <td>-2.407830e+08</td>\n",
              "      <td>39.377604</td>\n",
              "      <td>47.304309</td>\n",
              "      <td>22.624717</td>\n",
              "      <td>0.392218</td>\n",
              "    </tr>\n",
              "    <tr>\n",
              "      <th>1999-03-23 00:00:00-05:00</th>\n",
              "      <td>0.391956</td>\n",
              "      <td>0.391956</td>\n",
              "      <td>0.358497</td>\n",
              "      <td>0.365667</td>\n",
              "      <td>16396800.0</td>\n",
              "      <td>0.363277</td>\n",
              "      <td>0</td>\n",
              "      <td>8.768430e+06</td>\n",
              "      <td>-2.486523e+08</td>\n",
              "      <td>37.734846</td>\n",
              "      <td>39.629783</td>\n",
              "      <td>9.472836</td>\n",
              "      <td>0.392193</td>\n",
              "    </tr>\n",
              "    <tr>\n",
              "      <th>1999-03-24 00:00:00-05:00</th>\n",
              "      <td>0.363277</td>\n",
              "      <td>0.365667</td>\n",
              "      <td>0.348937</td>\n",
              "      <td>0.363277</td>\n",
              "      <td>6086400.0</td>\n",
              "      <td>0.368057</td>\n",
              "      <td>1</td>\n",
              "      <td>4.176385e+05</td>\n",
              "      <td>-2.480554e+08</td>\n",
              "      <td>37.328375</td>\n",
              "      <td>36.823550</td>\n",
              "      <td>15.969228</td>\n",
              "      <td>0.391263</td>\n",
              "    </tr>\n",
              "    <tr>\n",
              "      <th>1999-03-25 00:00:00-05:00</th>\n",
              "      <td>0.362082</td>\n",
              "      <td>0.382397</td>\n",
              "      <td>0.360887</td>\n",
              "      <td>0.368057</td>\n",
              "      <td>4032000.0</td>\n",
              "      <td>0.400322</td>\n",
              "      <td>1</td>\n",
              "      <td>5.961215e+06</td>\n",
              "      <td>-2.491327e+08</td>\n",
              "      <td>36.505427</td>\n",
              "      <td>37.040011</td>\n",
              "      <td>16.475307</td>\n",
              "      <td>0.390707</td>\n",
              "    </tr>\n",
              "    <tr>\n",
              "      <th>1999-03-26 00:00:00-05:00</th>\n",
              "      <td>0.372837</td>\n",
              "      <td>0.401517</td>\n",
              "      <td>0.372837</td>\n",
              "      <td>0.400322</td>\n",
              "      <td>8827200.0</td>\n",
              "      <td>0.412272</td>\n",
              "      <td>1</td>\n",
              "      <td>1.363915e+07</td>\n",
              "      <td>-2.445306e+08</td>\n",
              "      <td>34.157348</td>\n",
              "      <td>48.373097</td>\n",
              "      <td>46.583324</td>\n",
              "      <td>0.390798</td>\n",
              "    </tr>\n",
              "    <tr>\n",
              "      <th>...</th>\n",
              "      <td>...</td>\n",
              "      <td>...</td>\n",
              "      <td>...</td>\n",
              "      <td>...</td>\n",
              "      <td>...</td>\n",
              "      <td>...</td>\n",
              "      <td>...</td>\n",
              "      <td>...</td>\n",
              "      <td>...</td>\n",
              "      <td>...</td>\n",
              "      <td>...</td>\n",
              "      <td>...</td>\n",
              "      <td>...</td>\n",
              "    </tr>\n",
              "    <tr>\n",
              "      <th>2022-12-01 00:00:00-05:00</th>\n",
              "      <td>169.990005</td>\n",
              "      <td>172.649994</td>\n",
              "      <td>166.350006</td>\n",
              "      <td>171.350006</td>\n",
              "      <td>47097700.0</td>\n",
              "      <td>168.759995</td>\n",
              "      <td>0</td>\n",
              "      <td>1.986902e+10</td>\n",
              "      <td>4.383381e+09</td>\n",
              "      <td>35.181409</td>\n",
              "      <td>69.806974</td>\n",
              "      <td>93.598374</td>\n",
              "      <td>139.659584</td>\n",
              "    </tr>\n",
              "    <tr>\n",
              "      <th>2022-12-02 00:00:00-05:00</th>\n",
              "      <td>166.589996</td>\n",
              "      <td>169.330002</td>\n",
              "      <td>164.449997</td>\n",
              "      <td>168.759995</td>\n",
              "      <td>37119700.0</td>\n",
              "      <td>166.100006</td>\n",
              "      <td>0</td>\n",
              "      <td>1.982842e+10</td>\n",
              "      <td>4.412721e+09</td>\n",
              "      <td>35.693665</td>\n",
              "      <td>69.385154</td>\n",
              "      <td>91.961796</td>\n",
              "      <td>140.584605</td>\n",
              "    </tr>\n",
              "    <tr>\n",
              "      <th>2022-12-05 00:00:00-05:00</th>\n",
              "      <td>166.789993</td>\n",
              "      <td>169.949997</td>\n",
              "      <td>164.720001</td>\n",
              "      <td>166.100006</td>\n",
              "      <td>35225500.0</td>\n",
              "      <td>159.869995</td>\n",
              "      <td>0</td>\n",
              "      <td>1.979131e+10</td>\n",
              "      <td>4.411889e+09</td>\n",
              "      <td>36.187863</td>\n",
              "      <td>66.476843</td>\n",
              "      <td>82.421359</td>\n",
              "      <td>141.460603</td>\n",
              "    </tr>\n",
              "    <tr>\n",
              "      <th>2022-12-06 00:00:00-05:00</th>\n",
              "      <td>165.300003</td>\n",
              "      <td>165.729996</td>\n",
              "      <td>158.190002</td>\n",
              "      <td>159.869995</td>\n",
              "      <td>35269400.0</td>\n",
              "      <td>161.199997</td>\n",
              "      <td>1</td>\n",
              "      <td>1.975540e+10</td>\n",
              "      <td>4.397334e+09</td>\n",
              "      <td>35.470383</td>\n",
              "      <td>59.566126</td>\n",
              "      <td>57.900652</td>\n",
              "      <td>142.387728</td>\n",
              "    </tr>\n",
              "    <tr>\n",
              "      <th>2022-12-07 00:00:00-05:00</th>\n",
              "      <td>157.720001</td>\n",
              "      <td>161.860001</td>\n",
              "      <td>156.669998</td>\n",
              "      <td>161.199997</td>\n",
              "      <td>37195300.0</td>\n",
              "      <td>164.654007</td>\n",
              "      <td>1</td>\n",
              "      <td>1.971865e+10</td>\n",
              "      <td>4.407225e+09</td>\n",
              "      <td>34.186073</td>\n",
              "      <td>58.481976</td>\n",
              "      <td>53.840307</td>\n",
              "      <td>143.418183</td>\n",
              "    </tr>\n",
              "  </tbody>\n",
              "</table>\n",
              "<p>5969 rows × 13 columns</p>\n",
              "</div>\n",
              "      <button class=\"colab-df-convert\" onclick=\"convertToInteractive('df-e0f23cf6-98e9-47b1-ae94-5fcf800f32af')\"\n",
              "              title=\"Convert this dataframe to an interactive table.\"\n",
              "              style=\"display:none;\">\n",
              "        \n",
              "  <svg xmlns=\"http://www.w3.org/2000/svg\" height=\"24px\"viewBox=\"0 0 24 24\"\n",
              "       width=\"24px\">\n",
              "    <path d=\"M0 0h24v24H0V0z\" fill=\"none\"/>\n",
              "    <path d=\"M18.56 5.44l.94 2.06.94-2.06 2.06-.94-2.06-.94-.94-2.06-.94 2.06-2.06.94zm-11 1L8.5 8.5l.94-2.06 2.06-.94-2.06-.94L8.5 2.5l-.94 2.06-2.06.94zm10 10l.94 2.06.94-2.06 2.06-.94-2.06-.94-.94-2.06-.94 2.06-2.06.94z\"/><path d=\"M17.41 7.96l-1.37-1.37c-.4-.4-.92-.59-1.43-.59-.52 0-1.04.2-1.43.59L10.3 9.45l-7.72 7.72c-.78.78-.78 2.05 0 2.83L4 21.41c.39.39.9.59 1.41.59.51 0 1.02-.2 1.41-.59l7.78-7.78 2.81-2.81c.8-.78.8-2.07 0-2.86zM5.41 20L4 18.59l7.72-7.72 1.47 1.35L5.41 20z\"/>\n",
              "  </svg>\n",
              "      </button>\n",
              "      \n",
              "  <style>\n",
              "    .colab-df-container {\n",
              "      display:flex;\n",
              "      flex-wrap:wrap;\n",
              "      gap: 12px;\n",
              "    }\n",
              "\n",
              "    .colab-df-convert {\n",
              "      background-color: #E8F0FE;\n",
              "      border: none;\n",
              "      border-radius: 50%;\n",
              "      cursor: pointer;\n",
              "      display: none;\n",
              "      fill: #1967D2;\n",
              "      height: 32px;\n",
              "      padding: 0 0 0 0;\n",
              "      width: 32px;\n",
              "    }\n",
              "\n",
              "    .colab-df-convert:hover {\n",
              "      background-color: #E2EBFA;\n",
              "      box-shadow: 0px 1px 2px rgba(60, 64, 67, 0.3), 0px 1px 3px 1px rgba(60, 64, 67, 0.15);\n",
              "      fill: #174EA6;\n",
              "    }\n",
              "\n",
              "    [theme=dark] .colab-df-convert {\n",
              "      background-color: #3B4455;\n",
              "      fill: #D2E3FC;\n",
              "    }\n",
              "\n",
              "    [theme=dark] .colab-df-convert:hover {\n",
              "      background-color: #434B5C;\n",
              "      box-shadow: 0px 1px 3px 1px rgba(0, 0, 0, 0.15);\n",
              "      filter: drop-shadow(0px 1px 2px rgba(0, 0, 0, 0.3));\n",
              "      fill: #FFFFFF;\n",
              "    }\n",
              "  </style>\n",
              "\n",
              "      <script>\n",
              "        const buttonEl =\n",
              "          document.querySelector('#df-e0f23cf6-98e9-47b1-ae94-5fcf800f32af button.colab-df-convert');\n",
              "        buttonEl.style.display =\n",
              "          google.colab.kernel.accessAllowed ? 'block' : 'none';\n",
              "\n",
              "        async function convertToInteractive(key) {\n",
              "          const element = document.querySelector('#df-e0f23cf6-98e9-47b1-ae94-5fcf800f32af');\n",
              "          const dataTable =\n",
              "            await google.colab.kernel.invokeFunction('convertToInteractive',\n",
              "                                                     [key], {});\n",
              "          if (!dataTable) return;\n",
              "\n",
              "          const docLinkHtml = 'Like what you see? Visit the ' +\n",
              "            '<a target=\"_blank\" href=https://colab.research.google.com/notebooks/data_table.ipynb>data table notebook</a>'\n",
              "            + ' to learn more about interactive tables.';\n",
              "          element.innerHTML = '';\n",
              "          dataTable['output_type'] = 'display_data';\n",
              "          await google.colab.output.renderOutput(dataTable, element);\n",
              "          const docLink = document.createElement('div');\n",
              "          docLink.innerHTML = docLinkHtml;\n",
              "          element.appendChild(docLink);\n",
              "        }\n",
              "      </script>\n",
              "    </div>\n",
              "  </div>\n",
              "  "
            ]
          },
          "metadata": {},
          "execution_count": 71
        }
      ]
    },
    {
      "cell_type": "code",
      "source": [
        "model = RandomForestClassifier(n_estimators=100, min_samples_split=100, random_state=1)"
      ],
      "metadata": {
        "id": "Kb_ztutyH3Xy"
      },
      "execution_count": null,
      "outputs": []
    },
    {
      "cell_type": "code",
      "source": [
        "print(nvidia.columns)"
      ],
      "metadata": {
        "colab": {
          "base_uri": "https://localhost:8080/"
        },
        "id": "KUQlS1JcXZyT",
        "outputId": "d6ced2ff-8d41-43b6-fdc2-2be9150a6e73"
      },
      "execution_count": null,
      "outputs": [
        {
          "output_type": "stream",
          "name": "stdout",
          "text": [
            "Index(['Open', 'High', 'Low', 'Close', 'Volume', 't1', 'Target', 'OBV', 'ADL',\n",
            "       'ADX', 'RSI', 'STOCH', 'SMA'],\n",
            "      dtype='object')\n"
          ]
        }
      ]
    },
    {
      "cell_type": "code",
      "source": [
        "train = nvidia.iloc[:-50]\n",
        "test = nvidia.iloc[-50:]\n",
        "\n",
        "predictors = ['Open', 'High', 'Low', 'Close', 'Volume', 't1', 'OBV', 'ADL',\n",
        "       'ADX', 'RSI', 'STOCH', 'SMA']\n",
        "\n",
        "model.fit(train[predictors], train['Target'])"
      ],
      "metadata": {
        "colab": {
          "base_uri": "https://localhost:8080/"
        },
        "id": "POy6qAM34Q8Z",
        "outputId": "92ed6ddb-3e48-4ba6-e338-8682514a403f"
      },
      "execution_count": null,
      "outputs": [
        {
          "output_type": "execute_result",
          "data": {
            "text/plain": [
              "RandomForestClassifier(min_samples_split=100, random_state=1)"
            ]
          },
          "metadata": {},
          "execution_count": 74
        }
      ]
    },
    {
      "cell_type": "code",
      "source": [
        "preds = model.predict(test[predictors])\n",
        "preds = pd.Series(preds, index = test.index)"
      ],
      "metadata": {
        "id": "YnFxqqcZPfOn"
      },
      "execution_count": null,
      "outputs": []
    },
    {
      "cell_type": "code",
      "source": [
        "precision_score(test['Target'], preds)"
      ],
      "metadata": {
        "colab": {
          "base_uri": "https://localhost:8080/"
        },
        "id": "p9vdCtqJP3Y-",
        "outputId": "eb7f2c06-48e2-4a75-a03e-20e580bb8ac3"
      },
      "execution_count": null,
      "outputs": [
        {
          "output_type": "execute_result",
          "data": {
            "text/plain": [
              "0.6857142857142857"
            ]
          },
          "metadata": {},
          "execution_count": 76
        }
      ]
    },
    {
      "cell_type": "code",
      "source": [
        "def predict(train, test, predictors, model):\n",
        "  model.fit(train[predictors], train['Target'])\n",
        "  preds = model.predict(test[predictors])\n",
        "  preds = pd.Series(preds, index = test.index, name = 'Predictions')\n",
        "  combined = pd.concat([test['Target'], preds], axis = 1)\n",
        "  return combined"
      ],
      "metadata": {
        "id": "-sGSpzeRRTsg"
      },
      "execution_count": null,
      "outputs": []
    },
    {
      "cell_type": "code",
      "source": [
        "def backtest(data, model, predictors, start=2500, step=250):\n",
        "  all_predictions = []\n",
        "\n",
        "  for i in range(start, data.shape[0], step):\n",
        "    train = data.iloc[0:i].copy()\n",
        "    test = data.iloc[i:(i + step)].copy()\n",
        "    predictions = predict(train, test, predictors, model)\n",
        "    all_predictions.append(predictions)\n",
        "  return pd.concat(all_predictions)"
      ],
      "metadata": {
        "id": "VYw_zTSNSDg8"
      },
      "execution_count": null,
      "outputs": []
    },
    {
      "cell_type": "code",
      "source": [
        "predictions = backtest(nvidia, model, predictors)"
      ],
      "metadata": {
        "id": "0FWkeOkgS8CT"
      },
      "execution_count": null,
      "outputs": []
    },
    {
      "cell_type": "code",
      "source": [
        "predictions['Predictions'].value_counts()"
      ],
      "metadata": {
        "colab": {
          "base_uri": "https://localhost:8080/"
        },
        "id": "rX8YOevLT2Bl",
        "outputId": "363a55ab-dc2d-4361-ebf7-4264dbcfff7e"
      },
      "execution_count": null,
      "outputs": [
        {
          "output_type": "execute_result",
          "data": {
            "text/plain": [
              "0    2268\n",
              "1    1234\n",
              "Name: Predictions, dtype: int64"
            ]
          },
          "metadata": {},
          "execution_count": 64
        }
      ]
    },
    {
      "cell_type": "code",
      "source": [
        "precision_score(predictions['Target'], predictions['Predictions'])"
      ],
      "metadata": {
        "colab": {
          "base_uri": "https://localhost:8080/"
        },
        "id": "cxnqJip3UBIh",
        "outputId": "b1b22ff9-a077-45c1-d584-f59ff5fb6af3"
      },
      "execution_count": null,
      "outputs": [
        {
          "output_type": "execute_result",
          "data": {
            "text/plain": [
              "0.6176948051948052"
            ]
          },
          "metadata": {},
          "execution_count": 80
        }
      ]
    },
    {
      "cell_type": "markdown",
      "source": [
        "## Model n°3 - Linear Regression\n",
        "\n",
        "We train a regression model using historic pricing data and technical indicators to make predictions on future prices. The goal is to find the right combination of features that maximizes the model accuracy."
      ],
      "metadata": {
        "id": "gPkO-14GWNqQ"
      }
    },
    {
      "cell_type": "code",
      "source": [
        "%pip install pandas_ta"
      ],
      "metadata": {
        "colab": {
          "base_uri": "https://localhost:8080/"
        },
        "id": "H-hb-aRQsdCN",
        "outputId": "54748cb0-8480-4d54-d0d0-efb9aa205b7d"
      },
      "execution_count": 68,
      "outputs": [
        {
          "output_type": "stream",
          "name": "stdout",
          "text": [
            "Looking in indexes: https://pypi.org/simple, https://us-python.pkg.dev/colab-wheels/public/simple/\n",
            "Collecting pandas_ta\n",
            "  Downloading pandas_ta-0.3.14b.tar.gz (115 kB)\n",
            "\u001b[?25l\r\u001b[K     |██▉                             | 10 kB 28.9 MB/s eta 0:00:01\r\u001b[K     |█████▊                          | 20 kB 24.8 MB/s eta 0:00:01\r\u001b[K     |████████▌                       | 30 kB 31.9 MB/s eta 0:00:01\r\u001b[K     |███████████▍                    | 40 kB 16.7 MB/s eta 0:00:01\r\u001b[K     |██████████████▎                 | 51 kB 19.6 MB/s eta 0:00:01\r\u001b[K     |█████████████████               | 61 kB 22.8 MB/s eta 0:00:01\r\u001b[K     |████████████████████            | 71 kB 19.5 MB/s eta 0:00:01\r\u001b[K     |██████████████████████▊         | 81 kB 21.2 MB/s eta 0:00:01\r\u001b[K     |█████████████████████████▋      | 92 kB 22.1 MB/s eta 0:00:01\r\u001b[K     |████████████████████████████▌   | 102 kB 23.2 MB/s eta 0:00:01\r\u001b[K     |███████████████████████████████▎| 112 kB 23.2 MB/s eta 0:00:01\r\u001b[K     |████████████████████████████████| 115 kB 23.2 MB/s \n",
            "\u001b[?25hRequirement already satisfied: pandas in /usr/local/lib/python3.8/dist-packages (from pandas_ta) (1.3.5)\n",
            "Requirement already satisfied: numpy>=1.17.3 in /usr/local/lib/python3.8/dist-packages (from pandas->pandas_ta) (1.21.6)\n",
            "Requirement already satisfied: pytz>=2017.3 in /usr/local/lib/python3.8/dist-packages (from pandas->pandas_ta) (2022.6)\n",
            "Requirement already satisfied: python-dateutil>=2.7.3 in /usr/local/lib/python3.8/dist-packages (from pandas->pandas_ta) (2.8.2)\n",
            "Requirement already satisfied: six>=1.5 in /usr/local/lib/python3.8/dist-packages (from python-dateutil>=2.7.3->pandas->pandas_ta) (1.15.0)\n",
            "Building wheels for collected packages: pandas-ta\n",
            "  Building wheel for pandas-ta (setup.py) ... \u001b[?25l\u001b[?25hdone\n",
            "  Created wheel for pandas-ta: filename=pandas_ta-0.3.14b0-py3-none-any.whl size=218923 sha256=c3dbccbacab6c004b88907c9e5c9726466de5feef496a5aeed4f4d57aa2d9639\n",
            "  Stored in directory: /root/.cache/pip/wheels/54/4a/75/06b8e63fce6f6d2c1baae5c208edb18eca128407b0c96e1153\n",
            "Successfully built pandas-ta\n",
            "Installing collected packages: pandas-ta\n",
            "Successfully installed pandas-ta-0.3.14b0\n"
          ]
        }
      ]
    },
    {
      "cell_type": "code",
      "source": [
        "import pandas_ta as ta\n",
        "from sklearn.metrics import mean_squared_error, r2_score, mean_absolute_error"
      ],
      "metadata": {
        "id": "07FfpavNspdQ"
      },
      "execution_count": 71,
      "outputs": []
    },
    {
      "cell_type": "code",
      "source": [
        "nvidia = yf.Ticker(stock)\n",
        "nvidia = nvidia.history(period='max')\n",
        "\n",
        "nvidia"
      ],
      "metadata": {
        "colab": {
          "base_uri": "https://localhost:8080/",
          "height": 455
        },
        "id": "gNyECdl_XloA",
        "outputId": "1b7264cc-7f9b-4097-bcb8-205c3aaa2768"
      },
      "execution_count": 64,
      "outputs": [
        {
          "output_type": "execute_result",
          "data": {
            "text/plain": [
              "                                 Open        High         Low       Close  \\\n",
              "Date                                                                        \n",
              "1999-01-22 00:00:00-05:00    0.401517    0.448121    0.356107    0.376422   \n",
              "1999-01-25 00:00:00-05:00    0.406296    0.420636    0.376422    0.415856   \n",
              "1999-01-26 00:00:00-05:00    0.420636    0.429001    0.377616    0.383592   \n",
              "1999-01-27 00:00:00-05:00    0.384787    0.394347    0.363277    0.382397   \n",
              "1999-01-28 00:00:00-05:00    0.382397    0.384787    0.378812    0.381202   \n",
              "...                               ...         ...         ...         ...   \n",
              "2022-12-20 00:00:00-05:00  160.639999  163.100006  158.520004  160.850006   \n",
              "2022-12-21 00:00:00-05:00  161.139999  166.270004  161.020004  165.009995   \n",
              "2022-12-22 00:00:00-05:00  160.940002  161.380005  148.820007  153.389999   \n",
              "2022-12-23 00:00:00-05:00  151.960007  153.389999  148.830002  152.059998   \n",
              "2022-12-27 00:00:00-05:00  150.740005  151.000000  140.560593  141.210007   \n",
              "\n",
              "                              Volume  Dividends  Stock Splits  \n",
              "Date                                                           \n",
              "1999-01-22 00:00:00-05:00  271468800        0.0           0.0  \n",
              "1999-01-25 00:00:00-05:00   51048000        0.0           0.0  \n",
              "1999-01-26 00:00:00-05:00   34320000        0.0           0.0  \n",
              "1999-01-27 00:00:00-05:00   24436800        0.0           0.0  \n",
              "1999-01-28 00:00:00-05:00   22752000        0.0           0.0  \n",
              "...                              ...        ...           ...  \n",
              "2022-12-20 00:00:00-05:00   40326000        0.0           0.0  \n",
              "2022-12-21 00:00:00-05:00   32502500        0.0           0.0  \n",
              "2022-12-22 00:00:00-05:00   56504500        0.0           0.0  \n",
              "2022-12-23 00:00:00-05:00   34910900        0.0           0.0  \n",
              "2022-12-27 00:00:00-05:00   46311412        0.0           0.0  \n",
              "\n",
              "[6023 rows x 7 columns]"
            ],
            "text/html": [
              "\n",
              "  <div id=\"df-9b0c0df0-5935-4901-b24c-9a0f01ed7685\">\n",
              "    <div class=\"colab-df-container\">\n",
              "      <div>\n",
              "<style scoped>\n",
              "    .dataframe tbody tr th:only-of-type {\n",
              "        vertical-align: middle;\n",
              "    }\n",
              "\n",
              "    .dataframe tbody tr th {\n",
              "        vertical-align: top;\n",
              "    }\n",
              "\n",
              "    .dataframe thead th {\n",
              "        text-align: right;\n",
              "    }\n",
              "</style>\n",
              "<table border=\"1\" class=\"dataframe\">\n",
              "  <thead>\n",
              "    <tr style=\"text-align: right;\">\n",
              "      <th></th>\n",
              "      <th>Open</th>\n",
              "      <th>High</th>\n",
              "      <th>Low</th>\n",
              "      <th>Close</th>\n",
              "      <th>Volume</th>\n",
              "      <th>Dividends</th>\n",
              "      <th>Stock Splits</th>\n",
              "    </tr>\n",
              "    <tr>\n",
              "      <th>Date</th>\n",
              "      <th></th>\n",
              "      <th></th>\n",
              "      <th></th>\n",
              "      <th></th>\n",
              "      <th></th>\n",
              "      <th></th>\n",
              "      <th></th>\n",
              "    </tr>\n",
              "  </thead>\n",
              "  <tbody>\n",
              "    <tr>\n",
              "      <th>1999-01-22 00:00:00-05:00</th>\n",
              "      <td>0.401517</td>\n",
              "      <td>0.448121</td>\n",
              "      <td>0.356107</td>\n",
              "      <td>0.376422</td>\n",
              "      <td>271468800</td>\n",
              "      <td>0.0</td>\n",
              "      <td>0.0</td>\n",
              "    </tr>\n",
              "    <tr>\n",
              "      <th>1999-01-25 00:00:00-05:00</th>\n",
              "      <td>0.406296</td>\n",
              "      <td>0.420636</td>\n",
              "      <td>0.376422</td>\n",
              "      <td>0.415856</td>\n",
              "      <td>51048000</td>\n",
              "      <td>0.0</td>\n",
              "      <td>0.0</td>\n",
              "    </tr>\n",
              "    <tr>\n",
              "      <th>1999-01-26 00:00:00-05:00</th>\n",
              "      <td>0.420636</td>\n",
              "      <td>0.429001</td>\n",
              "      <td>0.377616</td>\n",
              "      <td>0.383592</td>\n",
              "      <td>34320000</td>\n",
              "      <td>0.0</td>\n",
              "      <td>0.0</td>\n",
              "    </tr>\n",
              "    <tr>\n",
              "      <th>1999-01-27 00:00:00-05:00</th>\n",
              "      <td>0.384787</td>\n",
              "      <td>0.394347</td>\n",
              "      <td>0.363277</td>\n",
              "      <td>0.382397</td>\n",
              "      <td>24436800</td>\n",
              "      <td>0.0</td>\n",
              "      <td>0.0</td>\n",
              "    </tr>\n",
              "    <tr>\n",
              "      <th>1999-01-28 00:00:00-05:00</th>\n",
              "      <td>0.382397</td>\n",
              "      <td>0.384787</td>\n",
              "      <td>0.378812</td>\n",
              "      <td>0.381202</td>\n",
              "      <td>22752000</td>\n",
              "      <td>0.0</td>\n",
              "      <td>0.0</td>\n",
              "    </tr>\n",
              "    <tr>\n",
              "      <th>...</th>\n",
              "      <td>...</td>\n",
              "      <td>...</td>\n",
              "      <td>...</td>\n",
              "      <td>...</td>\n",
              "      <td>...</td>\n",
              "      <td>...</td>\n",
              "      <td>...</td>\n",
              "    </tr>\n",
              "    <tr>\n",
              "      <th>2022-12-20 00:00:00-05:00</th>\n",
              "      <td>160.639999</td>\n",
              "      <td>163.100006</td>\n",
              "      <td>158.520004</td>\n",
              "      <td>160.850006</td>\n",
              "      <td>40326000</td>\n",
              "      <td>0.0</td>\n",
              "      <td>0.0</td>\n",
              "    </tr>\n",
              "    <tr>\n",
              "      <th>2022-12-21 00:00:00-05:00</th>\n",
              "      <td>161.139999</td>\n",
              "      <td>166.270004</td>\n",
              "      <td>161.020004</td>\n",
              "      <td>165.009995</td>\n",
              "      <td>32502500</td>\n",
              "      <td>0.0</td>\n",
              "      <td>0.0</td>\n",
              "    </tr>\n",
              "    <tr>\n",
              "      <th>2022-12-22 00:00:00-05:00</th>\n",
              "      <td>160.940002</td>\n",
              "      <td>161.380005</td>\n",
              "      <td>148.820007</td>\n",
              "      <td>153.389999</td>\n",
              "      <td>56504500</td>\n",
              "      <td>0.0</td>\n",
              "      <td>0.0</td>\n",
              "    </tr>\n",
              "    <tr>\n",
              "      <th>2022-12-23 00:00:00-05:00</th>\n",
              "      <td>151.960007</td>\n",
              "      <td>153.389999</td>\n",
              "      <td>148.830002</td>\n",
              "      <td>152.059998</td>\n",
              "      <td>34910900</td>\n",
              "      <td>0.0</td>\n",
              "      <td>0.0</td>\n",
              "    </tr>\n",
              "    <tr>\n",
              "      <th>2022-12-27 00:00:00-05:00</th>\n",
              "      <td>150.740005</td>\n",
              "      <td>151.000000</td>\n",
              "      <td>140.560593</td>\n",
              "      <td>141.210007</td>\n",
              "      <td>46311412</td>\n",
              "      <td>0.0</td>\n",
              "      <td>0.0</td>\n",
              "    </tr>\n",
              "  </tbody>\n",
              "</table>\n",
              "<p>6023 rows × 7 columns</p>\n",
              "</div>\n",
              "      <button class=\"colab-df-convert\" onclick=\"convertToInteractive('df-9b0c0df0-5935-4901-b24c-9a0f01ed7685')\"\n",
              "              title=\"Convert this dataframe to an interactive table.\"\n",
              "              style=\"display:none;\">\n",
              "        \n",
              "  <svg xmlns=\"http://www.w3.org/2000/svg\" height=\"24px\"viewBox=\"0 0 24 24\"\n",
              "       width=\"24px\">\n",
              "    <path d=\"M0 0h24v24H0V0z\" fill=\"none\"/>\n",
              "    <path d=\"M18.56 5.44l.94 2.06.94-2.06 2.06-.94-2.06-.94-.94-2.06-.94 2.06-2.06.94zm-11 1L8.5 8.5l.94-2.06 2.06-.94-2.06-.94L8.5 2.5l-.94 2.06-2.06.94zm10 10l.94 2.06.94-2.06 2.06-.94-2.06-.94-.94-2.06-.94 2.06-2.06.94z\"/><path d=\"M17.41 7.96l-1.37-1.37c-.4-.4-.92-.59-1.43-.59-.52 0-1.04.2-1.43.59L10.3 9.45l-7.72 7.72c-.78.78-.78 2.05 0 2.83L4 21.41c.39.39.9.59 1.41.59.51 0 1.02-.2 1.41-.59l7.78-7.78 2.81-2.81c.8-.78.8-2.07 0-2.86zM5.41 20L4 18.59l7.72-7.72 1.47 1.35L5.41 20z\"/>\n",
              "  </svg>\n",
              "      </button>\n",
              "      \n",
              "  <style>\n",
              "    .colab-df-container {\n",
              "      display:flex;\n",
              "      flex-wrap:wrap;\n",
              "      gap: 12px;\n",
              "    }\n",
              "\n",
              "    .colab-df-convert {\n",
              "      background-color: #E8F0FE;\n",
              "      border: none;\n",
              "      border-radius: 50%;\n",
              "      cursor: pointer;\n",
              "      display: none;\n",
              "      fill: #1967D2;\n",
              "      height: 32px;\n",
              "      padding: 0 0 0 0;\n",
              "      width: 32px;\n",
              "    }\n",
              "\n",
              "    .colab-df-convert:hover {\n",
              "      background-color: #E2EBFA;\n",
              "      box-shadow: 0px 1px 2px rgba(60, 64, 67, 0.3), 0px 1px 3px 1px rgba(60, 64, 67, 0.15);\n",
              "      fill: #174EA6;\n",
              "    }\n",
              "\n",
              "    [theme=dark] .colab-df-convert {\n",
              "      background-color: #3B4455;\n",
              "      fill: #D2E3FC;\n",
              "    }\n",
              "\n",
              "    [theme=dark] .colab-df-convert:hover {\n",
              "      background-color: #434B5C;\n",
              "      box-shadow: 0px 1px 3px 1px rgba(0, 0, 0, 0.15);\n",
              "      filter: drop-shadow(0px 1px 2px rgba(0, 0, 0, 0.3));\n",
              "      fill: #FFFFFF;\n",
              "    }\n",
              "  </style>\n",
              "\n",
              "      <script>\n",
              "        const buttonEl =\n",
              "          document.querySelector('#df-9b0c0df0-5935-4901-b24c-9a0f01ed7685 button.colab-df-convert');\n",
              "        buttonEl.style.display =\n",
              "          google.colab.kernel.accessAllowed ? 'block' : 'none';\n",
              "\n",
              "        async function convertToInteractive(key) {\n",
              "          const element = document.querySelector('#df-9b0c0df0-5935-4901-b24c-9a0f01ed7685');\n",
              "          const dataTable =\n",
              "            await google.colab.kernel.invokeFunction('convertToInteractive',\n",
              "                                                     [key], {});\n",
              "          if (!dataTable) return;\n",
              "\n",
              "          const docLinkHtml = 'Like what you see? Visit the ' +\n",
              "            '<a target=\"_blank\" href=https://colab.research.google.com/notebooks/data_table.ipynb>data table notebook</a>'\n",
              "            + ' to learn more about interactive tables.';\n",
              "          element.innerHTML = '';\n",
              "          dataTable['output_type'] = 'display_data';\n",
              "          await google.colab.output.renderOutput(dataTable, element);\n",
              "          const docLink = document.createElement('div');\n",
              "          docLink.innerHTML = docLinkHtml;\n",
              "          element.appendChild(docLink);\n",
              "        }\n",
              "      </script>\n",
              "    </div>\n",
              "  </div>\n",
              "  "
            ]
          },
          "metadata": {},
          "execution_count": 64
        }
      ]
    },
    {
      "cell_type": "code",
      "source": [
        "print(nvidia.info())"
      ],
      "metadata": {
        "colab": {
          "base_uri": "https://localhost:8080/"
        },
        "id": "ZJKjb6IbaLAN",
        "outputId": "68c32c38-da38-456d-e236-0580e08de4ae"
      },
      "execution_count": 31,
      "outputs": [
        {
          "output_type": "stream",
          "name": "stdout",
          "text": [
            "<class 'pandas.core.frame.DataFrame'>\n",
            "DatetimeIndex: 6023 entries, 1999-01-22 00:00:00-05:00 to 2022-12-27 00:00:00-05:00\n",
            "Data columns (total 7 columns):\n",
            " #   Column        Non-Null Count  Dtype  \n",
            "---  ------        --------------  -----  \n",
            " 0   Open          6023 non-null   float64\n",
            " 1   High          6023 non-null   float64\n",
            " 2   Low           6023 non-null   float64\n",
            " 3   Close         6023 non-null   float64\n",
            " 4   Volume        6023 non-null   int64  \n",
            " 5   Dividends     6023 non-null   float64\n",
            " 6   Stock Splits  6023 non-null   float64\n",
            "dtypes: float64(6), int64(1)\n",
            "memory usage: 505.5 KB\n",
            "None\n"
          ]
        }
      ]
    },
    {
      "cell_type": "code",
      "source": [
        "plt.plot(nvidia.iloc[-100:]['Close'])"
      ],
      "metadata": {
        "colab": {
          "base_uri": "https://localhost:8080/",
          "height": 282
        },
        "id": "A8AfuviHckTz",
        "outputId": "654f3b5f-072d-41df-efa5-9b866209d630"
      },
      "execution_count": 33,
      "outputs": [
        {
          "output_type": "execute_result",
          "data": {
            "text/plain": [
              "[<matplotlib.lines.Line2D at 0x7f2c0bb9b520>]"
            ]
          },
          "metadata": {},
          "execution_count": 33
        },
        {
          "output_type": "display_data",
          "data": {
            "text/plain": [
              "<Figure size 432x288 with 1 Axes>"
            ],
            "image/png": "[encoded data removed]"
          },
          "metadata": {
            "needs_background": "light"
          }
        }
      ]
    },
    {
      "cell_type": "code",
      "source": [
        "indicators = ['ema', 'rsi', 'macd', 'bbands']\n",
        "\n",
        "for indicator in indicators:\n",
        "  nvidia[indicator] = eval('TA.' + indicator + '(nvidia)')"
      ],
      "metadata": {
        "colab": {
          "base_uri": "https://localhost:8080/",
          "height": 589
        },
        "id": "UaIowqK-p_cj",
        "outputId": "ad8e8fcb-e90e-4482-ef02-8f111f4885d2"
      },
      "execution_count": 66,
      "outputs": [
        {
          "output_type": "error",
          "ename": "ValueError",
          "evalue": "ignored",
          "traceback": [
            "\u001b[0;31m---------------------------------------------------------------------------\u001b[0m",
            "\u001b[0;31mKeyError\u001b[0m                                  Traceback (most recent call last)",
            "\u001b[0;32m/usr/local/lib/python3.8/dist-packages/pandas/core/indexes/base.py\u001b[0m in \u001b[0;36mget_loc\u001b[0;34m(self, key, method, tolerance)\u001b[0m\n\u001b[1;32m   3360\u001b[0m             \u001b[0;32mtry\u001b[0m\u001b[0;34m:\u001b[0m\u001b[0;34m\u001b[0m\u001b[0;34m\u001b[0m\u001b[0m\n\u001b[0;32m-> 3361\u001b[0;31m                 \u001b[0;32mreturn\u001b[0m \u001b[0mself\u001b[0m\u001b[0;34m.\u001b[0m\u001b[0m_engine\u001b[0m\u001b[0;34m.\u001b[0m\u001b[0mget_loc\u001b[0m\u001b[0;34m(\u001b[0m\u001b[0mcasted_key\u001b[0m\u001b[0;34m)\u001b[0m\u001b[0;34m\u001b[0m\u001b[0;34m\u001b[0m\u001b[0m\n\u001b[0m\u001b[1;32m   3362\u001b[0m             \u001b[0;32mexcept\u001b[0m \u001b[0mKeyError\u001b[0m \u001b[0;32mas\u001b[0m \u001b[0merr\u001b[0m\u001b[0;34m:\u001b[0m\u001b[0;34m\u001b[0m\u001b[0;34m\u001b[0m\u001b[0m\n",
            "\u001b[0;32m/usr/local/lib/python3.8/dist-packages/pandas/_libs/index.pyx\u001b[0m in \u001b[0;36mpandas._libs.index.IndexEngine.get_loc\u001b[0;34m()\u001b[0m\n",
            "\u001b[0;32m/usr/local/lib/python3.8/dist-packages/pandas/_libs/index.pyx\u001b[0m in \u001b[0;36mpandas._libs.index.IndexEngine.get_loc\u001b[0;34m()\u001b[0m\n",
            "\u001b[0;32mpandas/_libs/hashtable_class_helper.pxi\u001b[0m in \u001b[0;36mpandas._libs.hashtable.PyObjectHashTable.get_item\u001b[0;34m()\u001b[0m\n",
            "\u001b[0;32mpandas/_libs/hashtable_class_helper.pxi\u001b[0m in \u001b[0;36mpandas._libs.hashtable.PyObjectHashTable.get_item\u001b[0;34m()\u001b[0m\n",
            "\u001b[0;31mKeyError\u001b[0m: 'VW_MACD'",
            "\nThe above exception was the direct cause of the following exception:\n",
            "\u001b[0;31mKeyError\u001b[0m                                  Traceback (most recent call last)",
            "\u001b[0;32m/usr/local/lib/python3.8/dist-packages/pandas/core/frame.py\u001b[0m in \u001b[0;36m_set_item_mgr\u001b[0;34m(self, key, value)\u001b[0m\n\u001b[1;32m   3750\u001b[0m         \u001b[0;32mtry\u001b[0m\u001b[0;34m:\u001b[0m\u001b[0;34m\u001b[0m\u001b[0;34m\u001b[0m\u001b[0m\n\u001b[0;32m-> 3751\u001b[0;31m             \u001b[0mloc\u001b[0m \u001b[0;34m=\u001b[0m \u001b[0mself\u001b[0m\u001b[0;34m.\u001b[0m\u001b[0m_info_axis\u001b[0m\u001b[0;34m.\u001b[0m\u001b[0mget_loc\u001b[0m\u001b[0;34m(\u001b[0m\u001b[0mkey\u001b[0m\u001b[0;34m)\u001b[0m\u001b[0;34m\u001b[0m\u001b[0;34m\u001b[0m\u001b[0m\n\u001b[0m\u001b[1;32m   3752\u001b[0m         \u001b[0;32mexcept\u001b[0m \u001b[0mKeyError\u001b[0m\u001b[0;34m:\u001b[0m\u001b[0;34m\u001b[0m\u001b[0;34m\u001b[0m\u001b[0m\n",
            "\u001b[0;32m/usr/local/lib/python3.8/dist-packages/pandas/core/indexes/base.py\u001b[0m in \u001b[0;36mget_loc\u001b[0;34m(self, key, method, tolerance)\u001b[0m\n\u001b[1;32m   3362\u001b[0m             \u001b[0;32mexcept\u001b[0m \u001b[0mKeyError\u001b[0m \u001b[0;32mas\u001b[0m \u001b[0merr\u001b[0m\u001b[0;34m:\u001b[0m\u001b[0;34m\u001b[0m\u001b[0;34m\u001b[0m\u001b[0m\n\u001b[0;32m-> 3363\u001b[0;31m                 \u001b[0;32mraise\u001b[0m \u001b[0mKeyError\u001b[0m\u001b[0;34m(\u001b[0m\u001b[0mkey\u001b[0m\u001b[0;34m)\u001b[0m \u001b[0;32mfrom\u001b[0m \u001b[0merr\u001b[0m\u001b[0;34m\u001b[0m\u001b[0;34m\u001b[0m\u001b[0m\n\u001b[0m\u001b[1;32m   3364\u001b[0m \u001b[0;34m\u001b[0m\u001b[0m\n",
            "\u001b[0;31mKeyError\u001b[0m: 'VW_MACD'",
            "\nDuring handling of the above exception, another exception occurred:\n",
            "\u001b[0;31mValueError\u001b[0m                                Traceback (most recent call last)",
            "\u001b[0;32m<ipython-input-66-e1b26336cf07>\u001b[0m in \u001b[0;36m<module>\u001b[0;34m\u001b[0m\n\u001b[1;32m      2\u001b[0m \u001b[0;34m\u001b[0m\u001b[0m\n\u001b[1;32m      3\u001b[0m \u001b[0;32mfor\u001b[0m \u001b[0mindicator\u001b[0m \u001b[0;32min\u001b[0m \u001b[0mindicators\u001b[0m\u001b[0;34m:\u001b[0m\u001b[0;34m\u001b[0m\u001b[0;34m\u001b[0m\u001b[0m\n\u001b[0;32m----> 4\u001b[0;31m   \u001b[0mnvidia\u001b[0m\u001b[0;34m[\u001b[0m\u001b[0mindicator\u001b[0m\u001b[0;34m]\u001b[0m \u001b[0;34m=\u001b[0m \u001b[0meval\u001b[0m\u001b[0;34m(\u001b[0m\u001b[0;34m'TA.'\u001b[0m \u001b[0;34m+\u001b[0m \u001b[0mindicator\u001b[0m \u001b[0;34m+\u001b[0m \u001b[0;34m'(nvidia)'\u001b[0m\u001b[0;34m)\u001b[0m\u001b[0;34m\u001b[0m\u001b[0;34m\u001b[0m\u001b[0m\n\u001b[0m",
            "\u001b[0;32m/usr/local/lib/python3.8/dist-packages/pandas/core/frame.py\u001b[0m in \u001b[0;36m__setitem__\u001b[0;34m(self, key, value)\u001b[0m\n\u001b[1;32m   3600\u001b[0m             \u001b[0mself\u001b[0m\u001b[0;34m.\u001b[0m\u001b[0m_setitem_array\u001b[0m\u001b[0;34m(\u001b[0m\u001b[0mkey\u001b[0m\u001b[0;34m,\u001b[0m \u001b[0mvalue\u001b[0m\u001b[0;34m)\u001b[0m\u001b[0;34m\u001b[0m\u001b[0;34m\u001b[0m\u001b[0m\n\u001b[1;32m   3601\u001b[0m         \u001b[0;32melif\u001b[0m \u001b[0misinstance\u001b[0m\u001b[0;34m(\u001b[0m\u001b[0mvalue\u001b[0m\u001b[0;34m,\u001b[0m \u001b[0mDataFrame\u001b[0m\u001b[0;34m)\u001b[0m\u001b[0;34m:\u001b[0m\u001b[0;34m\u001b[0m\u001b[0;34m\u001b[0m\u001b[0m\n\u001b[0;32m-> 3602\u001b[0;31m             \u001b[0mself\u001b[0m\u001b[0;34m.\u001b[0m\u001b[0m_set_item_frame_value\u001b[0m\u001b[0;34m(\u001b[0m\u001b[0mkey\u001b[0m\u001b[0;34m,\u001b[0m \u001b[0mvalue\u001b[0m\u001b[0;34m)\u001b[0m\u001b[0;34m\u001b[0m\u001b[0;34m\u001b[0m\u001b[0m\n\u001b[0m\u001b[1;32m   3603\u001b[0m         elif (\n\u001b[1;32m   3604\u001b[0m             \u001b[0mis_list_like\u001b[0m\u001b[0;34m(\u001b[0m\u001b[0mvalue\u001b[0m\u001b[0;34m)\u001b[0m\u001b[0;34m\u001b[0m\u001b[0;34m\u001b[0m\u001b[0m\n",
            "\u001b[0;32m/usr/local/lib/python3.8/dist-packages/pandas/core/frame.py\u001b[0m in \u001b[0;36m_set_item_frame_value\u001b[0;34m(self, key, value)\u001b[0m\n\u001b[1;32m   3740\u001b[0m         \u001b[0;31m# now align rows\u001b[0m\u001b[0;34m\u001b[0m\u001b[0;34m\u001b[0m\u001b[0;34m\u001b[0m\u001b[0m\n\u001b[1;32m   3741\u001b[0m         \u001b[0marraylike\u001b[0m \u001b[0;34m=\u001b[0m \u001b[0m_reindex_for_setitem\u001b[0m\u001b[0;34m(\u001b[0m\u001b[0mvalue\u001b[0m\u001b[0;34m,\u001b[0m \u001b[0mself\u001b[0m\u001b[0;34m.\u001b[0m\u001b[0mindex\u001b[0m\u001b[0;34m)\u001b[0m\u001b[0;34m\u001b[0m\u001b[0;34m\u001b[0m\u001b[0m\n\u001b[0;32m-> 3742\u001b[0;31m         \u001b[0mself\u001b[0m\u001b[0;34m.\u001b[0m\u001b[0m_set_item_mgr\u001b[0m\u001b[0;34m(\u001b[0m\u001b[0mkey\u001b[0m\u001b[0;34m,\u001b[0m \u001b[0marraylike\u001b[0m\u001b[0;34m)\u001b[0m\u001b[0;34m\u001b[0m\u001b[0;34m\u001b[0m\u001b[0m\n\u001b[0m\u001b[1;32m   3743\u001b[0m \u001b[0;34m\u001b[0m\u001b[0m\n\u001b[1;32m   3744\u001b[0m     \u001b[0;32mdef\u001b[0m \u001b[0m_iset_item_mgr\u001b[0m\u001b[0;34m(\u001b[0m\u001b[0mself\u001b[0m\u001b[0;34m,\u001b[0m \u001b[0mloc\u001b[0m\u001b[0;34m:\u001b[0m \u001b[0mint\u001b[0m \u001b[0;34m|\u001b[0m \u001b[0mslice\u001b[0m \u001b[0;34m|\u001b[0m \u001b[0mnp\u001b[0m\u001b[0;34m.\u001b[0m\u001b[0mndarray\u001b[0m\u001b[0;34m,\u001b[0m \u001b[0mvalue\u001b[0m\u001b[0;34m)\u001b[0m \u001b[0;34m->\u001b[0m \u001b[0;32mNone\u001b[0m\u001b[0;34m:\u001b[0m\u001b[0;34m\u001b[0m\u001b[0;34m\u001b[0m\u001b[0m\n",
            "\u001b[0;32m/usr/local/lib/python3.8/dist-packages/pandas/core/frame.py\u001b[0m in \u001b[0;36m_set_item_mgr\u001b[0;34m(self, key, value)\u001b[0m\n\u001b[1;32m   3752\u001b[0m         \u001b[0;32mexcept\u001b[0m \u001b[0mKeyError\u001b[0m\u001b[0;34m:\u001b[0m\u001b[0;34m\u001b[0m\u001b[0;34m\u001b[0m\u001b[0m\n\u001b[1;32m   3753\u001b[0m             \u001b[0;31m# This item wasn't present, just insert at end\u001b[0m\u001b[0;34m\u001b[0m\u001b[0;34m\u001b[0m\u001b[0;34m\u001b[0m\u001b[0m\n\u001b[0;32m-> 3754\u001b[0;31m             \u001b[0mself\u001b[0m\u001b[0;34m.\u001b[0m\u001b[0m_mgr\u001b[0m\u001b[0;34m.\u001b[0m\u001b[0minsert\u001b[0m\u001b[0;34m(\u001b[0m\u001b[0mlen\u001b[0m\u001b[0;34m(\u001b[0m\u001b[0mself\u001b[0m\u001b[0;34m.\u001b[0m\u001b[0m_info_axis\u001b[0m\u001b[0;34m)\u001b[0m\u001b[0;34m,\u001b[0m \u001b[0mkey\u001b[0m\u001b[0;34m,\u001b[0m \u001b[0mvalue\u001b[0m\u001b[0;34m)\u001b[0m\u001b[0;34m\u001b[0m\u001b[0;34m\u001b[0m\u001b[0m\n\u001b[0m\u001b[1;32m   3755\u001b[0m         \u001b[0;32melse\u001b[0m\u001b[0;34m:\u001b[0m\u001b[0;34m\u001b[0m\u001b[0;34m\u001b[0m\u001b[0m\n\u001b[1;32m   3756\u001b[0m             \u001b[0mself\u001b[0m\u001b[0;34m.\u001b[0m\u001b[0m_iset_item_mgr\u001b[0m\u001b[0;34m(\u001b[0m\u001b[0mloc\u001b[0m\u001b[0;34m,\u001b[0m \u001b[0mvalue\u001b[0m\u001b[0;34m)\u001b[0m\u001b[0;34m\u001b[0m\u001b[0;34m\u001b[0m\u001b[0m\n",
            "\u001b[0;32m/usr/local/lib/python3.8/dist-packages/pandas/core/internals/managers.py\u001b[0m in \u001b[0;36minsert\u001b[0;34m(self, loc, item, value)\u001b[0m\n\u001b[1;32m   1160\u001b[0m             \u001b[0mvalue\u001b[0m \u001b[0;34m=\u001b[0m \u001b[0mensure_block_shape\u001b[0m\u001b[0;34m(\u001b[0m\u001b[0mvalue\u001b[0m\u001b[0;34m,\u001b[0m \u001b[0mndim\u001b[0m\u001b[0;34m=\u001b[0m\u001b[0mself\u001b[0m\u001b[0;34m.\u001b[0m\u001b[0mndim\u001b[0m\u001b[0;34m)\u001b[0m\u001b[0;34m\u001b[0m\u001b[0;34m\u001b[0m\u001b[0m\n\u001b[1;32m   1161\u001b[0m \u001b[0;34m\u001b[0m\u001b[0m\n\u001b[0;32m-> 1162\u001b[0;31m         \u001b[0mblock\u001b[0m \u001b[0;34m=\u001b[0m \u001b[0mnew_block\u001b[0m\u001b[0;34m(\u001b[0m\u001b[0mvalues\u001b[0m\u001b[0;34m=\u001b[0m\u001b[0mvalue\u001b[0m\u001b[0;34m,\u001b[0m \u001b[0mndim\u001b[0m\u001b[0;34m=\u001b[0m\u001b[0mself\u001b[0m\u001b[0;34m.\u001b[0m\u001b[0mndim\u001b[0m\u001b[0;34m,\u001b[0m \u001b[0mplacement\u001b[0m\u001b[0;34m=\u001b[0m\u001b[0mslice\u001b[0m\u001b[0;34m(\u001b[0m\u001b[0mloc\u001b[0m\u001b[0;34m,\u001b[0m \u001b[0mloc\u001b[0m \u001b[0;34m+\u001b[0m \u001b[0;36m1\u001b[0m\u001b[0;34m)\u001b[0m\u001b[0;34m)\u001b[0m\u001b[0;34m\u001b[0m\u001b[0;34m\u001b[0m\u001b[0m\n\u001b[0m\u001b[1;32m   1163\u001b[0m \u001b[0;34m\u001b[0m\u001b[0m\n\u001b[1;32m   1164\u001b[0m         \u001b[0;32mfor\u001b[0m \u001b[0mblkno\u001b[0m\u001b[0;34m,\u001b[0m \u001b[0mcount\u001b[0m \u001b[0;32min\u001b[0m \u001b[0m_fast_count_smallints\u001b[0m\u001b[0;34m(\u001b[0m\u001b[0mself\u001b[0m\u001b[0;34m.\u001b[0m\u001b[0mblknos\u001b[0m\u001b[0;34m[\u001b[0m\u001b[0mloc\u001b[0m\u001b[0;34m:\u001b[0m\u001b[0;34m]\u001b[0m\u001b[0;34m)\u001b[0m\u001b[0;34m:\u001b[0m\u001b[0;34m\u001b[0m\u001b[0;34m\u001b[0m\u001b[0m\n",
            "\u001b[0;32m/usr/local/lib/python3.8/dist-packages/pandas/core/internals/blocks.py\u001b[0m in \u001b[0;36mnew_block\u001b[0;34m(values, placement, ndim, klass)\u001b[0m\n\u001b[1;32m   1935\u001b[0m \u001b[0;34m\u001b[0m\u001b[0m\n\u001b[1;32m   1936\u001b[0m     \u001b[0mvalues\u001b[0m\u001b[0;34m,\u001b[0m \u001b[0m_\u001b[0m \u001b[0;34m=\u001b[0m \u001b[0mextract_pandas_array\u001b[0m\u001b[0;34m(\u001b[0m\u001b[0mvalues\u001b[0m\u001b[0;34m,\u001b[0m \u001b[0;32mNone\u001b[0m\u001b[0;34m,\u001b[0m \u001b[0mndim\u001b[0m\u001b[0;34m)\u001b[0m\u001b[0;34m\u001b[0m\u001b[0;34m\u001b[0m\u001b[0m\n\u001b[0;32m-> 1937\u001b[0;31m     \u001b[0mcheck_ndim\u001b[0m\u001b[0;34m(\u001b[0m\u001b[0mvalues\u001b[0m\u001b[0;34m,\u001b[0m \u001b[0mplacement\u001b[0m\u001b[0;34m,\u001b[0m \u001b[0mndim\u001b[0m\u001b[0;34m)\u001b[0m\u001b[0;34m\u001b[0m\u001b[0;34m\u001b[0m\u001b[0m\n\u001b[0m\u001b[1;32m   1938\u001b[0m \u001b[0;34m\u001b[0m\u001b[0m\n\u001b[1;32m   1939\u001b[0m     \u001b[0;32mif\u001b[0m \u001b[0mklass\u001b[0m \u001b[0;32mis\u001b[0m \u001b[0;32mNone\u001b[0m\u001b[0;34m:\u001b[0m\u001b[0;34m\u001b[0m\u001b[0;34m\u001b[0m\u001b[0m\n",
            "\u001b[0;32m/usr/local/lib/python3.8/dist-packages/pandas/core/internals/blocks.py\u001b[0m in \u001b[0;36mcheck_ndim\u001b[0;34m(values, placement, ndim)\u001b[0m\n\u001b[1;32m   1977\u001b[0m             )\n\u001b[1;32m   1978\u001b[0m         \u001b[0;32mif\u001b[0m \u001b[0mlen\u001b[0m\u001b[0;34m(\u001b[0m\u001b[0mplacement\u001b[0m\u001b[0;34m)\u001b[0m \u001b[0;34m!=\u001b[0m \u001b[0mlen\u001b[0m\u001b[0;34m(\u001b[0m\u001b[0mvalues\u001b[0m\u001b[0;34m)\u001b[0m\u001b[0;34m:\u001b[0m\u001b[0;34m\u001b[0m\u001b[0;34m\u001b[0m\u001b[0m\n\u001b[0;32m-> 1979\u001b[0;31m             raise ValueError(\n\u001b[0m\u001b[1;32m   1980\u001b[0m                 \u001b[0;34mf\"Wrong number of items passed {len(values)}, \"\u001b[0m\u001b[0;34m\u001b[0m\u001b[0;34m\u001b[0m\u001b[0m\n\u001b[1;32m   1981\u001b[0m                 \u001b[0;34mf\"placement implies {len(placement)}\"\u001b[0m\u001b[0;34m\u001b[0m\u001b[0;34m\u001b[0m\u001b[0m\n",
            "\u001b[0;31mValueError\u001b[0m: Wrong number of items passed 2, placement implies 1"
          ]
        }
      ]
    },
    {
      "cell_type": "code",
      "source": [
        "help(ta.macd)"
      ],
      "metadata": {
        "colab": {
          "base_uri": "https://localhost:8080/"
        },
        "id": "KZenRmu2xHM7",
        "outputId": "9f82a6e2-ed8d-455c-fbd0-353f975fd4f3"
      },
      "execution_count": 83,
      "outputs": [
        {
          "output_type": "stream",
          "name": "stdout",
          "text": [
            "Help on function macd in module pandas_ta.momentum.macd:\n",
            "\n",
            "macd(close, fast=None, slow=None, signal=None, talib=None, offset=None, **kwargs)\n",
            "    Moving Average Convergence Divergence (MACD)\n",
            "    \n",
            "    The MACD is a popular indicator to that is used to identify a security's trend.\n",
            "    While APO and MACD are the same calculation, MACD also returns two more series\n",
            "    called Signal and Histogram. The Signal is an EMA of MACD and the Histogram is\n",
            "    the difference of MACD and Signal.\n",
            "    \n",
            "    Sources:\n",
            "        https://www.tradingview.com/wiki/MACD_(Moving_Average_Convergence/Divergence)\n",
            "        AS Mode: https://tr.tradingview.com/script/YFlKXHnP/\n",
            "    \n",
            "    Calculation:\n",
            "        Default Inputs:\n",
            "            fast=12, slow=26, signal=9\n",
            "        EMA = Exponential Moving Average\n",
            "        MACD = EMA(close, fast) - EMA(close, slow)\n",
            "        Signal = EMA(MACD, signal)\n",
            "        Histogram = MACD - Signal\n",
            "    \n",
            "        if asmode:\n",
            "            MACD = MACD - Signal\n",
            "            Signal = EMA(MACD, signal)\n",
            "            Histogram = MACD - Signal\n",
            "    \n",
            "    Args:\n",
            "        close (pd.Series): Series of 'close's\n",
            "        fast (int): The short period. Default: 12\n",
            "        slow (int): The long period. Default: 26\n",
            "        signal (int): The signal period. Default: 9\n",
            "        talib (bool): If TA Lib is installed and talib is True, Returns the TA Lib\n",
            "            version. Default: True\n",
            "        offset (int): How many periods to offset the result. Default: 0\n",
            "    \n",
            "    Kwargs:\n",
            "        asmode (value, optional): When True, enables AS version of MACD.\n",
            "            Default: False\n",
            "        fillna (value, optional): pd.DataFrame.fillna(value)\n",
            "        fill_method (value, optional): Type of fill method\n",
            "    \n",
            "    Returns:\n",
            "        pd.DataFrame: macd, histogram, signal columns.\n",
            "\n"
          ]
        }
      ]
    },
    {
      "cell_type": "code",
      "source": [
        "nvidia['EMA'] = nvidia.ta.bbands()"
      ],
      "metadata": {
        "colab": {
          "base_uri": "https://localhost:8080/",
          "height": 311
        },
        "id": "8h-Y9OMbdspi",
        "outputId": "df70c2b1-8b31-4e39-9268-6acd8e5c4b9a"
      },
      "execution_count": 82,
      "outputs": [
        {
          "output_type": "error",
          "ename": "ValueError",
          "evalue": "ignored",
          "traceback": [
            "\u001b[0;31m---------------------------------------------------------------------------\u001b[0m",
            "\u001b[0;31mValueError\u001b[0m                                Traceback (most recent call last)",
            "\u001b[0;32m<ipython-input-82-6ab020e15976>\u001b[0m in \u001b[0;36m<module>\u001b[0;34m\u001b[0m\n\u001b[0;32m----> 1\u001b[0;31m \u001b[0mnvidia\u001b[0m\u001b[0;34m[\u001b[0m\u001b[0;34m'EMA'\u001b[0m\u001b[0;34m]\u001b[0m \u001b[0;34m=\u001b[0m \u001b[0mnvidia\u001b[0m\u001b[0;34m.\u001b[0m\u001b[0mta\u001b[0m\u001b[0;34m.\u001b[0m\u001b[0mbbands\u001b[0m\u001b[0;34m(\u001b[0m\u001b[0;34m)\u001b[0m\u001b[0;34m\u001b[0m\u001b[0;34m\u001b[0m\u001b[0m\n\u001b[0m",
            "\u001b[0;32m/usr/local/lib/python3.8/dist-packages/pandas/core/frame.py\u001b[0m in \u001b[0;36m__setitem__\u001b[0;34m(self, key, value)\u001b[0m\n\u001b[1;32m   3600\u001b[0m             \u001b[0mself\u001b[0m\u001b[0;34m.\u001b[0m\u001b[0m_setitem_array\u001b[0m\u001b[0;34m(\u001b[0m\u001b[0mkey\u001b[0m\u001b[0;34m,\u001b[0m \u001b[0mvalue\u001b[0m\u001b[0;34m)\u001b[0m\u001b[0;34m\u001b[0m\u001b[0;34m\u001b[0m\u001b[0m\n\u001b[1;32m   3601\u001b[0m         \u001b[0;32melif\u001b[0m \u001b[0misinstance\u001b[0m\u001b[0;34m(\u001b[0m\u001b[0mvalue\u001b[0m\u001b[0;34m,\u001b[0m \u001b[0mDataFrame\u001b[0m\u001b[0;34m)\u001b[0m\u001b[0;34m:\u001b[0m\u001b[0;34m\u001b[0m\u001b[0;34m\u001b[0m\u001b[0m\n\u001b[0;32m-> 3602\u001b[0;31m             \u001b[0mself\u001b[0m\u001b[0;34m.\u001b[0m\u001b[0m_set_item_frame_value\u001b[0m\u001b[0;34m(\u001b[0m\u001b[0mkey\u001b[0m\u001b[0;34m,\u001b[0m \u001b[0mvalue\u001b[0m\u001b[0;34m)\u001b[0m\u001b[0;34m\u001b[0m\u001b[0;34m\u001b[0m\u001b[0m\n\u001b[0m\u001b[1;32m   3603\u001b[0m         elif (\n\u001b[1;32m   3604\u001b[0m             \u001b[0mis_list_like\u001b[0m\u001b[0;34m(\u001b[0m\u001b[0mvalue\u001b[0m\u001b[0;34m)\u001b[0m\u001b[0;34m\u001b[0m\u001b[0;34m\u001b[0m\u001b[0m\n",
            "\u001b[0;32m/usr/local/lib/python3.8/dist-packages/pandas/core/frame.py\u001b[0m in \u001b[0;36m_set_item_frame_value\u001b[0;34m(self, key, value)\u001b[0m\n\u001b[1;32m   3727\u001b[0m             \u001b[0mlen_cols\u001b[0m \u001b[0;34m=\u001b[0m \u001b[0;36m1\u001b[0m \u001b[0;32mif\u001b[0m \u001b[0mis_scalar\u001b[0m\u001b[0;34m(\u001b[0m\u001b[0mcols\u001b[0m\u001b[0;34m)\u001b[0m \u001b[0;32melse\u001b[0m \u001b[0mlen\u001b[0m\u001b[0;34m(\u001b[0m\u001b[0mcols\u001b[0m\u001b[0;34m)\u001b[0m\u001b[0;34m\u001b[0m\u001b[0;34m\u001b[0m\u001b[0m\n\u001b[1;32m   3728\u001b[0m             \u001b[0;32mif\u001b[0m \u001b[0mlen_cols\u001b[0m \u001b[0;34m!=\u001b[0m \u001b[0mlen\u001b[0m\u001b[0;34m(\u001b[0m\u001b[0mvalue\u001b[0m\u001b[0;34m.\u001b[0m\u001b[0mcolumns\u001b[0m\u001b[0;34m)\u001b[0m\u001b[0;34m:\u001b[0m\u001b[0;34m\u001b[0m\u001b[0;34m\u001b[0m\u001b[0m\n\u001b[0;32m-> 3729\u001b[0;31m                 \u001b[0;32mraise\u001b[0m \u001b[0mValueError\u001b[0m\u001b[0;34m(\u001b[0m\u001b[0;34m\"Columns must be same length as key\"\u001b[0m\u001b[0;34m)\u001b[0m\u001b[0;34m\u001b[0m\u001b[0;34m\u001b[0m\u001b[0m\n\u001b[0m\u001b[1;32m   3730\u001b[0m \u001b[0;34m\u001b[0m\u001b[0m\n\u001b[1;32m   3731\u001b[0m             \u001b[0;31m# align right-hand-side columns if self.columns\u001b[0m\u001b[0;34m\u001b[0m\u001b[0;34m\u001b[0m\u001b[0;34m\u001b[0m\u001b[0m\n",
            "\u001b[0;31mValueError\u001b[0m: Columns must be same length as key"
          ]
        }
      ]
    },
    {
      "cell_type": "code",
      "source": [
        "to_del = ['Open', 'High', 'Low', 'Volume', 'Dividends', 'Stock Splits']\n",
        "\n",
        "for col in to_del:\n",
        "  del nvidia[col]"
      ],
      "metadata": {
        "id": "gXwmxT2if4mm"
      },
      "execution_count": 45,
      "outputs": []
    },
    {
      "cell_type": "markdown",
      "source": [],
      "metadata": {
        "id": "KyQZZVjRwOqS"
      }
    },
    {
      "cell_type": "code",
      "source": [
        "nvidia.info()"
      ],
      "metadata": {
        "colab": {
          "base_uri": "https://localhost:8080/"
        },
        "id": "AYzwh8d-e8Fy",
        "outputId": "16bb7766-5545-49f1-b328-3160eae4fbb7"
      },
      "execution_count": 47,
      "outputs": [
        {
          "output_type": "stream",
          "name": "stdout",
          "text": [
            "<class 'pandas.core.frame.DataFrame'>\n",
            "DatetimeIndex: 6023 entries, 1999-01-22 00:00:00-05:00 to 2022-12-27 00:00:00-05:00\n",
            "Data columns (total 2 columns):\n",
            " #   Column  Non-Null Count  Dtype  \n",
            "---  ------  --------------  -----  \n",
            " 0   Close   6023 non-null   float64\n",
            " 1   EMA     6023 non-null   float64\n",
            "dtypes: float64(2)\n",
            "memory usage: 270.2 KB\n"
          ]
        }
      ]
    },
    {
      "cell_type": "code",
      "source": [
        "plt.plot(nvidia.iloc[-100:]['Close'])\n",
        "plt.plot(nvidia.iloc[-100:]['EMA'])\n",
        "\n",
        "plt.legend([\"Close\", \"EMA\"], loc =\"lower right\")\n",
        "plt.show()"
      ],
      "metadata": {
        "colab": {
          "base_uri": "https://localhost:8080/",
          "height": 265
        },
        "id": "PxNpHjm1gTSZ",
        "outputId": "dc542cee-fc64-4e4d-8866-ad4f7cc43426"
      },
      "execution_count": 48,
      "outputs": [
        {
          "output_type": "display_data",
          "data": {
            "text/plain": [
              "<Figure size 432x288 with 1 Axes>"
            ],
            "image/png": "[encoded data removed]"
          },
          "metadata": {
            "needs_background": "light"
          }
        }
      ]
    },
    {
      "cell_type": "code",
      "source": [
        "X_train, X_test, y_train, y_test = train_test_split(nvidia[['Close']], nvidia[['EMA']], test_size=.2)"
      ],
      "metadata": {
        "id": "dM1ZY_hFhK-B"
      },
      "execution_count": 50,
      "outputs": []
    },
    {
      "cell_type": "code",
      "source": [
        "print(X_test.describe())\n",
        "print(X_train.describe())"
      ],
      "metadata": {
        "colab": {
          "base_uri": "https://localhost:8080/"
        },
        "id": "4biDp1xOhl-p",
        "outputId": "ac4ea8ee-61e5-46da-d95d-ebe722fd0f6c"
      },
      "execution_count": 52,
      "outputs": [
        {
          "output_type": "stream",
          "name": "stdout",
          "text": [
            "             Close\n",
            "count  1205.000000\n",
            "mean     28.691872\n",
            "std      59.240375\n",
            "min       0.322648\n",
            "25%       2.319618\n",
            "50%       3.714602\n",
            "75%      17.220562\n",
            "max     333.407349\n",
            "             Close\n",
            "count  4818.000000\n",
            "mean     28.445482\n",
            "std      55.682195\n",
            "min       0.313087\n",
            "25%       2.438353\n",
            "50%       3.895857\n",
            "75%      25.093294\n",
            "max     326.394745\n"
          ]
        }
      ]
    },
    {
      "cell_type": "code",
      "source": [
        "model = LinearRegression()"
      ],
      "metadata": {
        "id": "V2CFDgDgh-NN"
      },
      "execution_count": 53,
      "outputs": []
    },
    {
      "cell_type": "code",
      "source": [
        "model.fit(X_train, y_train)"
      ],
      "metadata": {
        "colab": {
          "base_uri": "https://localhost:8080/"
        },
        "id": "ZU1iaryyiBCP",
        "outputId": "405f1acc-44f7-4ec3-b5e6-91dca4d85381"
      },
      "execution_count": 54,
      "outputs": [
        {
          "output_type": "execute_result",
          "data": {
            "text/plain": [
              "LinearRegression()"
            ]
          },
          "metadata": {},
          "execution_count": 54
        }
      ]
    },
    {
      "cell_type": "code",
      "source": [
        "y_pred = model.predict(X_test)"
      ],
      "metadata": {
        "id": "Jhfd6vMCiEfC"
      },
      "execution_count": 55,
      "outputs": []
    },
    {
      "cell_type": "code",
      "source": [
        "print(\"Model Coefficients:\", model.coef_)\n",
        "print(\"Mean Absolute Error:\", mean_absolute_error(y_test, y_pred))\n",
        "print(\"Coefficient of Determination:\", r2_score(y_test, y_pred))"
      ],
      "metadata": {
        "colab": {
          "base_uri": "https://localhost:8080/"
        },
        "id": "Oi_lnD07iN6d",
        "outputId": "afed4f35-8799-47f3-db23-270569dfcea9"
      },
      "execution_count": 57,
      "outputs": [
        {
          "output_type": "stream",
          "name": "stdout",
          "text": [
            "Model Coefficients: [[0.99598395]]\n",
            "Mean Absolute Error: 0.9117213155100022\n",
            "Coefficient of Determination: 0.9976590724090303\n"
          ]
        }
      ]
    },
    {
      "cell_type": "code",
      "source": [
        "print(len(nvidia))"
      ],
      "metadata": {
        "colab": {
          "base_uri": "https://localhost:8080/"
        },
        "id": "DV6btpsYkTH1",
        "outputId": "0b1f3858-d6bb-4e56-e202-2d7a41fe069c"
      },
      "execution_count": 62,
      "outputs": [
        {
          "output_type": "stream",
          "name": "stdout",
          "text": [
            "6023\n"
          ]
        }
      ]
    }
  ]
}