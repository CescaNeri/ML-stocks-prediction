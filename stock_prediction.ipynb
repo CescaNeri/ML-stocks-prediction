{
  "nbformat": 4,
  "nbformat_minor": 0,
  "metadata": {
    "colab": {
      "provenance": []
    },
    "kernelspec": {
      "name": "python3",
      "display_name": "Python 3"
    },
    "language_info": {
      "name": "python"
    }
  },
  "cells": [
    {
      "cell_type": "code",
      "source": [
        "%pip install yfinance --upgrade --no-cache-dir"
      ],
      "metadata": {
        "id": "bojtQGM6D1Qw"
      },
      "execution_count": null,
      "outputs": []
    },
    {
      "cell_type": "code",
      "source": [
        "%pip install finta"
      ],
      "metadata": {
        "id": "pU-67CaeKjIn"
      },
      "execution_count": null,
      "outputs": []
    },
    {
      "cell_type": "code",
      "execution_count": 360,
      "metadata": {
        "id": "1br7AiG0DPjd"
      },
      "outputs": [],
      "source": [
        "import yfinance as yf\n",
        "import pandas as pd\n",
        "import numpy as np\n",
        "import matplotlib.pyplot as plt\n",
        "import datetime\n",
        "from finta import TA"
      ]
    },
    {
      "cell_type": "code",
      "source": [
        "stock = 'NVDA'\n",
        "\n",
        "nvidia = yf.Ticker(stock)\n",
        "nvidia = nvidia.history(period='max')\n",
        "\n",
        "nvidia"
      ],
      "metadata": {
        "id": "oaUaNlEbEebf",
        "colab": {
          "base_uri": "https://localhost:8080/",
          "height": 455
        },
        "outputId": "7d1f2329-ed04-4f64-bb12-4a2fc568f938"
      },
      "execution_count": 361,
      "outputs": [
        {
          "output_type": "execute_result",
          "data": {
            "text/plain": [
              "                                 Open        High         Low       Close  \\\n",
              "Date                                                                        \n",
              "1999-01-22 00:00:00-05:00    0.401619    0.448236    0.356198    0.376518   \n",
              "1999-01-25 00:00:00-05:00    0.406400    0.420744    0.376518    0.415963   \n",
              "1999-01-26 00:00:00-05:00    0.420744    0.429111    0.377713    0.383690   \n",
              "1999-01-27 00:00:00-05:00    0.384885    0.394448    0.363370    0.382495   \n",
              "1999-01-28 00:00:00-05:00    0.382495    0.384885    0.378908    0.381300   \n",
              "...                               ...         ...         ...         ...   \n",
              "2022-11-16 00:00:00-05:00  161.619995  163.619995  158.729996  159.100006   \n",
              "2022-11-17 00:00:00-05:00  157.149994  162.660004  155.350006  156.770004   \n",
              "2022-11-18 00:00:00-05:00  159.660004  160.020004  151.199997  154.089996   \n",
              "2022-11-21 00:00:00-05:00  151.470001  154.770004  150.800003  153.169998   \n",
              "2022-11-22 00:00:00-05:00  153.279999  159.259995  151.216003  158.399994   \n",
              "\n",
              "                                Volume  Dividends  Stock Splits  \n",
              "Date                                                             \n",
              "1999-01-22 00:00:00-05:00  271468800.0        0.0           0.0  \n",
              "1999-01-25 00:00:00-05:00   51048000.0        0.0           0.0  \n",
              "1999-01-26 00:00:00-05:00   34320000.0        0.0           0.0  \n",
              "1999-01-27 00:00:00-05:00   24436800.0        0.0           0.0  \n",
              "1999-01-28 00:00:00-05:00   22752000.0        0.0           0.0  \n",
              "...                                ...        ...           ...  \n",
              "2022-11-16 00:00:00-05:00   64954700.0        0.0           0.0  \n",
              "2022-11-17 00:00:00-05:00   71089400.0        0.0           0.0  \n",
              "2022-11-18 00:00:00-05:00   49167700.0        0.0           0.0  \n",
              "2022-11-21 00:00:00-05:00   40445800.0        0.0           0.0  \n",
              "2022-11-22 00:00:00-05:00   32043687.0        0.0           0.0  \n",
              "\n",
              "[6001 rows x 7 columns]"
            ],
            "text/html": [
              "\n",
              "  <div id=\"df-e83e12cc-4319-400b-ab69-af501277315c\">\n",
              "    <div class=\"colab-df-container\">\n",
              "      <div>\n",
              "<style scoped>\n",
              "    .dataframe tbody tr th:only-of-type {\n",
              "        vertical-align: middle;\n",
              "    }\n",
              "\n",
              "    .dataframe tbody tr th {\n",
              "        vertical-align: top;\n",
              "    }\n",
              "\n",
              "    .dataframe thead th {\n",
              "        text-align: right;\n",
              "    }\n",
              "</style>\n",
              "<table border=\"1\" class=\"dataframe\">\n",
              "  <thead>\n",
              "    <tr style=\"text-align: right;\">\n",
              "      <th></th>\n",
              "      <th>Open</th>\n",
              "      <th>High</th>\n",
              "      <th>Low</th>\n",
              "      <th>Close</th>\n",
              "      <th>Volume</th>\n",
              "      <th>Dividends</th>\n",
              "      <th>Stock Splits</th>\n",
              "    </tr>\n",
              "    <tr>\n",
              "      <th>Date</th>\n",
              "      <th></th>\n",
              "      <th></th>\n",
              "      <th></th>\n",
              "      <th></th>\n",
              "      <th></th>\n",
              "      <th></th>\n",
              "      <th></th>\n",
              "    </tr>\n",
              "  </thead>\n",
              "  <tbody>\n",
              "    <tr>\n",
              "      <th>1999-01-22 00:00:00-05:00</th>\n",
              "      <td>0.401619</td>\n",
              "      <td>0.448236</td>\n",
              "      <td>0.356198</td>\n",
              "      <td>0.376518</td>\n",
              "      <td>271468800.0</td>\n",
              "      <td>0.0</td>\n",
              "      <td>0.0</td>\n",
              "    </tr>\n",
              "    <tr>\n",
              "      <th>1999-01-25 00:00:00-05:00</th>\n",
              "      <td>0.406400</td>\n",
              "      <td>0.420744</td>\n",
              "      <td>0.376518</td>\n",
              "      <td>0.415963</td>\n",
              "      <td>51048000.0</td>\n",
              "      <td>0.0</td>\n",
              "      <td>0.0</td>\n",
              "    </tr>\n",
              "    <tr>\n",
              "      <th>1999-01-26 00:00:00-05:00</th>\n",
              "      <td>0.420744</td>\n",
              "      <td>0.429111</td>\n",
              "      <td>0.377713</td>\n",
              "      <td>0.383690</td>\n",
              "      <td>34320000.0</td>\n",
              "      <td>0.0</td>\n",
              "      <td>0.0</td>\n",
              "    </tr>\n",
              "    <tr>\n",
              "      <th>1999-01-27 00:00:00-05:00</th>\n",
              "      <td>0.384885</td>\n",
              "      <td>0.394448</td>\n",
              "      <td>0.363370</td>\n",
              "      <td>0.382495</td>\n",
              "      <td>24436800.0</td>\n",
              "      <td>0.0</td>\n",
              "      <td>0.0</td>\n",
              "    </tr>\n",
              "    <tr>\n",
              "      <th>1999-01-28 00:00:00-05:00</th>\n",
              "      <td>0.382495</td>\n",
              "      <td>0.384885</td>\n",
              "      <td>0.378908</td>\n",
              "      <td>0.381300</td>\n",
              "      <td>22752000.0</td>\n",
              "      <td>0.0</td>\n",
              "      <td>0.0</td>\n",
              "    </tr>\n",
              "    <tr>\n",
              "      <th>...</th>\n",
              "      <td>...</td>\n",
              "      <td>...</td>\n",
              "      <td>...</td>\n",
              "      <td>...</td>\n",
              "      <td>...</td>\n",
              "      <td>...</td>\n",
              "      <td>...</td>\n",
              "    </tr>\n",
              "    <tr>\n",
              "      <th>2022-11-16 00:00:00-05:00</th>\n",
              "      <td>161.619995</td>\n",
              "      <td>163.619995</td>\n",
              "      <td>158.729996</td>\n",
              "      <td>159.100006</td>\n",
              "      <td>64954700.0</td>\n",
              "      <td>0.0</td>\n",
              "      <td>0.0</td>\n",
              "    </tr>\n",
              "    <tr>\n",
              "      <th>2022-11-17 00:00:00-05:00</th>\n",
              "      <td>157.149994</td>\n",
              "      <td>162.660004</td>\n",
              "      <td>155.350006</td>\n",
              "      <td>156.770004</td>\n",
              "      <td>71089400.0</td>\n",
              "      <td>0.0</td>\n",
              "      <td>0.0</td>\n",
              "    </tr>\n",
              "    <tr>\n",
              "      <th>2022-11-18 00:00:00-05:00</th>\n",
              "      <td>159.660004</td>\n",
              "      <td>160.020004</td>\n",
              "      <td>151.199997</td>\n",
              "      <td>154.089996</td>\n",
              "      <td>49167700.0</td>\n",
              "      <td>0.0</td>\n",
              "      <td>0.0</td>\n",
              "    </tr>\n",
              "    <tr>\n",
              "      <th>2022-11-21 00:00:00-05:00</th>\n",
              "      <td>151.470001</td>\n",
              "      <td>154.770004</td>\n",
              "      <td>150.800003</td>\n",
              "      <td>153.169998</td>\n",
              "      <td>40445800.0</td>\n",
              "      <td>0.0</td>\n",
              "      <td>0.0</td>\n",
              "    </tr>\n",
              "    <tr>\n",
              "      <th>2022-11-22 00:00:00-05:00</th>\n",
              "      <td>153.279999</td>\n",
              "      <td>159.259995</td>\n",
              "      <td>151.216003</td>\n",
              "      <td>158.399994</td>\n",
              "      <td>32043687.0</td>\n",
              "      <td>0.0</td>\n",
              "      <td>0.0</td>\n",
              "    </tr>\n",
              "  </tbody>\n",
              "</table>\n",
              "<p>6001 rows × 7 columns</p>\n",
              "</div>\n",
              "      <button class=\"colab-df-convert\" onclick=\"convertToInteractive('df-e83e12cc-4319-400b-ab69-af501277315c')\"\n",
              "              title=\"Convert this dataframe to an interactive table.\"\n",
              "              style=\"display:none;\">\n",
              "        \n",
              "  <svg xmlns=\"http://www.w3.org/2000/svg\" height=\"24px\"viewBox=\"0 0 24 24\"\n",
              "       width=\"24px\">\n",
              "    <path d=\"M0 0h24v24H0V0z\" fill=\"none\"/>\n",
              "    <path d=\"M18.56 5.44l.94 2.06.94-2.06 2.06-.94-2.06-.94-.94-2.06-.94 2.06-2.06.94zm-11 1L8.5 8.5l.94-2.06 2.06-.94-2.06-.94L8.5 2.5l-.94 2.06-2.06.94zm10 10l.94 2.06.94-2.06 2.06-.94-2.06-.94-.94-2.06-.94 2.06-2.06.94z\"/><path d=\"M17.41 7.96l-1.37-1.37c-.4-.4-.92-.59-1.43-.59-.52 0-1.04.2-1.43.59L10.3 9.45l-7.72 7.72c-.78.78-.78 2.05 0 2.83L4 21.41c.39.39.9.59 1.41.59.51 0 1.02-.2 1.41-.59l7.78-7.78 2.81-2.81c.8-.78.8-2.07 0-2.86zM5.41 20L4 18.59l7.72-7.72 1.47 1.35L5.41 20z\"/>\n",
              "  </svg>\n",
              "      </button>\n",
              "      \n",
              "  <style>\n",
              "    .colab-df-container {\n",
              "      display:flex;\n",
              "      flex-wrap:wrap;\n",
              "      gap: 12px;\n",
              "    }\n",
              "\n",
              "    .colab-df-convert {\n",
              "      background-color: #E8F0FE;\n",
              "      border: none;\n",
              "      border-radius: 50%;\n",
              "      cursor: pointer;\n",
              "      display: none;\n",
              "      fill: #1967D2;\n",
              "      height: 32px;\n",
              "      padding: 0 0 0 0;\n",
              "      width: 32px;\n",
              "    }\n",
              "\n",
              "    .colab-df-convert:hover {\n",
              "      background-color: #E2EBFA;\n",
              "      box-shadow: 0px 1px 2px rgba(60, 64, 67, 0.3), 0px 1px 3px 1px rgba(60, 64, 67, 0.15);\n",
              "      fill: #174EA6;\n",
              "    }\n",
              "\n",
              "    [theme=dark] .colab-df-convert {\n",
              "      background-color: #3B4455;\n",
              "      fill: #D2E3FC;\n",
              "    }\n",
              "\n",
              "    [theme=dark] .colab-df-convert:hover {\n",
              "      background-color: #434B5C;\n",
              "      box-shadow: 0px 1px 3px 1px rgba(0, 0, 0, 0.15);\n",
              "      filter: drop-shadow(0px 1px 2px rgba(0, 0, 0, 0.3));\n",
              "      fill: #FFFFFF;\n",
              "    }\n",
              "  </style>\n",
              "\n",
              "      <script>\n",
              "        const buttonEl =\n",
              "          document.querySelector('#df-e83e12cc-4319-400b-ab69-af501277315c button.colab-df-convert');\n",
              "        buttonEl.style.display =\n",
              "          google.colab.kernel.accessAllowed ? 'block' : 'none';\n",
              "\n",
              "        async function convertToInteractive(key) {\n",
              "          const element = document.querySelector('#df-e83e12cc-4319-400b-ab69-af501277315c');\n",
              "          const dataTable =\n",
              "            await google.colab.kernel.invokeFunction('convertToInteractive',\n",
              "                                                     [key], {});\n",
              "          if (!dataTable) return;\n",
              "\n",
              "          const docLinkHtml = 'Like what you see? Visit the ' +\n",
              "            '<a target=\"_blank\" href=https://colab.research.google.com/notebooks/data_table.ipynb>data table notebook</a>'\n",
              "            + ' to learn more about interactive tables.';\n",
              "          element.innerHTML = '';\n",
              "          dataTable['output_type'] = 'display_data';\n",
              "          await google.colab.output.renderOutput(dataTable, element);\n",
              "          const docLink = document.createElement('div');\n",
              "          docLink.innerHTML = docLinkHtml;\n",
              "          element.appendChild(docLink);\n",
              "        }\n",
              "      </script>\n",
              "    </div>\n",
              "  </div>\n",
              "  "
            ]
          },
          "metadata": {},
          "execution_count": 361
        }
      ]
    },
    {
      "cell_type": "code",
      "source": [
        "nvidia.index"
      ],
      "metadata": {
        "colab": {
          "base_uri": "https://localhost:8080/"
        },
        "id": "eQgLSGl4GF4I",
        "outputId": "0defcbf3-87c5-4af2-acca-65029013f0be"
      },
      "execution_count": 362,
      "outputs": [
        {
          "output_type": "execute_result",
          "data": {
            "text/plain": [
              "DatetimeIndex(['1999-01-22 00:00:00-05:00', '1999-01-25 00:00:00-05:00',\n",
              "               '1999-01-26 00:00:00-05:00', '1999-01-27 00:00:00-05:00',\n",
              "               '1999-01-28 00:00:00-05:00', '1999-01-29 00:00:00-05:00',\n",
              "               '1999-02-01 00:00:00-05:00', '1999-02-02 00:00:00-05:00',\n",
              "               '1999-02-03 00:00:00-05:00', '1999-02-04 00:00:00-05:00',\n",
              "               ...\n",
              "               '2022-11-09 00:00:00-05:00', '2022-11-10 00:00:00-05:00',\n",
              "               '2022-11-11 00:00:00-05:00', '2022-11-14 00:00:00-05:00',\n",
              "               '2022-11-15 00:00:00-05:00', '2022-11-16 00:00:00-05:00',\n",
              "               '2022-11-17 00:00:00-05:00', '2022-11-18 00:00:00-05:00',\n",
              "               '2022-11-21 00:00:00-05:00', '2022-11-22 00:00:00-05:00'],\n",
              "              dtype='datetime64[ns, America/New_York]', name='Date', length=6001, freq=None)"
            ]
          },
          "metadata": {},
          "execution_count": 362
        }
      ]
    },
    {
      "cell_type": "code",
      "source": [
        "nvidia.plot.line(y='Close', use_index=True)"
      ],
      "metadata": {
        "colab": {
          "base_uri": "https://localhost:8080/",
          "height": 290
        },
        "id": "pJ_myxCFGVz4",
        "outputId": "b26c99af-0537-4b79-9c10-41a036a21da7"
      },
      "execution_count": 363,
      "outputs": [
        {
          "output_type": "execute_result",
          "data": {
            "text/plain": [
              "<matplotlib.axes._subplots.AxesSubplot at 0x7fad75d78450>"
            ]
          },
          "metadata": {},
          "execution_count": 363
        },
        {
          "output_type": "display_data",
          "data": {
            "text/plain": [
              "<Figure size 432x288 with 1 Axes>"
            ],
            "image/png": "[encoded data removed]"
          },
          "metadata": {
            "needs_background": "light"
          }
        }
      ]
    },
    {
      "cell_type": "code",
      "source": [
        "del nvidia['Dividends']\n",
        "del nvidia['Stock Splits']"
      ],
      "metadata": {
        "id": "asQ-wO5fGhiT"
      },
      "execution_count": 364,
      "outputs": []
    },
    {
      "cell_type": "code",
      "source": [
        "nvidia['t1'] = nvidia['Close'].shift(-1)"
      ],
      "metadata": {
        "id": "pMiTu1_7GuMv"
      },
      "execution_count": 365,
      "outputs": []
    },
    {
      "cell_type": "code",
      "source": [
        "nvidia"
      ],
      "metadata": {
        "colab": {
          "base_uri": "https://localhost:8080/",
          "height": 455
        },
        "id": "IO0IiYzlHHsn",
        "outputId": "f515500d-3843-40a7-e141-f25f0280caec"
      },
      "execution_count": 366,
      "outputs": [
        {
          "output_type": "execute_result",
          "data": {
            "text/plain": [
              "                                 Open        High         Low       Close  \\\n",
              "Date                                                                        \n",
              "1999-01-22 00:00:00-05:00    0.401619    0.448236    0.356198    0.376518   \n",
              "1999-01-25 00:00:00-05:00    0.406400    0.420744    0.376518    0.415963   \n",
              "1999-01-26 00:00:00-05:00    0.420744    0.429111    0.377713    0.383690   \n",
              "1999-01-27 00:00:00-05:00    0.384885    0.394448    0.363370    0.382495   \n",
              "1999-01-28 00:00:00-05:00    0.382495    0.384885    0.378908    0.381300   \n",
              "...                               ...         ...         ...         ...   \n",
              "2022-11-16 00:00:00-05:00  161.619995  163.619995  158.729996  159.100006   \n",
              "2022-11-17 00:00:00-05:00  157.149994  162.660004  155.350006  156.770004   \n",
              "2022-11-18 00:00:00-05:00  159.660004  160.020004  151.199997  154.089996   \n",
              "2022-11-21 00:00:00-05:00  151.470001  154.770004  150.800003  153.169998   \n",
              "2022-11-22 00:00:00-05:00  153.279999  159.259995  151.216003  158.399994   \n",
              "\n",
              "                                Volume          t1  \n",
              "Date                                                \n",
              "1999-01-22 00:00:00-05:00  271468800.0    0.415963  \n",
              "1999-01-25 00:00:00-05:00   51048000.0    0.383690  \n",
              "1999-01-26 00:00:00-05:00   34320000.0    0.382495  \n",
              "1999-01-27 00:00:00-05:00   24436800.0    0.381300  \n",
              "1999-01-28 00:00:00-05:00   22752000.0    0.363370  \n",
              "...                                ...         ...  \n",
              "2022-11-16 00:00:00-05:00   64954700.0  156.770004  \n",
              "2022-11-17 00:00:00-05:00   71089400.0  154.089996  \n",
              "2022-11-18 00:00:00-05:00   49167700.0  153.169998  \n",
              "2022-11-21 00:00:00-05:00   40445800.0  158.399994  \n",
              "2022-11-22 00:00:00-05:00   32043687.0         NaN  \n",
              "\n",
              "[6001 rows x 6 columns]"
            ],
            "text/html": [
              "\n",
              "  <div id=\"df-f216dc78-41ba-4e6f-ab9c-0fcb3cfdb018\">\n",
              "    <div class=\"colab-df-container\">\n",
              "      <div>\n",
              "<style scoped>\n",
              "    .dataframe tbody tr th:only-of-type {\n",
              "        vertical-align: middle;\n",
              "    }\n",
              "\n",
              "    .dataframe tbody tr th {\n",
              "        vertical-align: top;\n",
              "    }\n",
              "\n",
              "    .dataframe thead th {\n",
              "        text-align: right;\n",
              "    }\n",
              "</style>\n",
              "<table border=\"1\" class=\"dataframe\">\n",
              "  <thead>\n",
              "    <tr style=\"text-align: right;\">\n",
              "      <th></th>\n",
              "      <th>Open</th>\n",
              "      <th>High</th>\n",
              "      <th>Low</th>\n",
              "      <th>Close</th>\n",
              "      <th>Volume</th>\n",
              "      <th>t1</th>\n",
              "    </tr>\n",
              "    <tr>\n",
              "      <th>Date</th>\n",
              "      <th></th>\n",
              "      <th></th>\n",
              "      <th></th>\n",
              "      <th></th>\n",
              "      <th></th>\n",
              "      <th></th>\n",
              "    </tr>\n",
              "  </thead>\n",
              "  <tbody>\n",
              "    <tr>\n",
              "      <th>1999-01-22 00:00:00-05:00</th>\n",
              "      <td>0.401619</td>\n",
              "      <td>0.448236</td>\n",
              "      <td>0.356198</td>\n",
              "      <td>0.376518</td>\n",
              "      <td>271468800.0</td>\n",
              "      <td>0.415963</td>\n",
              "    </tr>\n",
              "    <tr>\n",
              "      <th>1999-01-25 00:00:00-05:00</th>\n",
              "      <td>0.406400</td>\n",
              "      <td>0.420744</td>\n",
              "      <td>0.376518</td>\n",
              "      <td>0.415963</td>\n",
              "      <td>51048000.0</td>\n",
              "      <td>0.383690</td>\n",
              "    </tr>\n",
              "    <tr>\n",
              "      <th>1999-01-26 00:00:00-05:00</th>\n",
              "      <td>0.420744</td>\n",
              "      <td>0.429111</td>\n",
              "      <td>0.377713</td>\n",
              "      <td>0.383690</td>\n",
              "      <td>34320000.0</td>\n",
              "      <td>0.382495</td>\n",
              "    </tr>\n",
              "    <tr>\n",
              "      <th>1999-01-27 00:00:00-05:00</th>\n",
              "      <td>0.384885</td>\n",
              "      <td>0.394448</td>\n",
              "      <td>0.363370</td>\n",
              "      <td>0.382495</td>\n",
              "      <td>24436800.0</td>\n",
              "      <td>0.381300</td>\n",
              "    </tr>\n",
              "    <tr>\n",
              "      <th>1999-01-28 00:00:00-05:00</th>\n",
              "      <td>0.382495</td>\n",
              "      <td>0.384885</td>\n",
              "      <td>0.378908</td>\n",
              "      <td>0.381300</td>\n",
              "      <td>22752000.0</td>\n",
              "      <td>0.363370</td>\n",
              "    </tr>\n",
              "    <tr>\n",
              "      <th>...</th>\n",
              "      <td>...</td>\n",
              "      <td>...</td>\n",
              "      <td>...</td>\n",
              "      <td>...</td>\n",
              "      <td>...</td>\n",
              "      <td>...</td>\n",
              "    </tr>\n",
              "    <tr>\n",
              "      <th>2022-11-16 00:00:00-05:00</th>\n",
              "      <td>161.619995</td>\n",
              "      <td>163.619995</td>\n",
              "      <td>158.729996</td>\n",
              "      <td>159.100006</td>\n",
              "      <td>64954700.0</td>\n",
              "      <td>156.770004</td>\n",
              "    </tr>\n",
              "    <tr>\n",
              "      <th>2022-11-17 00:00:00-05:00</th>\n",
              "      <td>157.149994</td>\n",
              "      <td>162.660004</td>\n",
              "      <td>155.350006</td>\n",
              "      <td>156.770004</td>\n",
              "      <td>71089400.0</td>\n",
              "      <td>154.089996</td>\n",
              "    </tr>\n",
              "    <tr>\n",
              "      <th>2022-11-18 00:00:00-05:00</th>\n",
              "      <td>159.660004</td>\n",
              "      <td>160.020004</td>\n",
              "      <td>151.199997</td>\n",
              "      <td>154.089996</td>\n",
              "      <td>49167700.0</td>\n",
              "      <td>153.169998</td>\n",
              "    </tr>\n",
              "    <tr>\n",
              "      <th>2022-11-21 00:00:00-05:00</th>\n",
              "      <td>151.470001</td>\n",
              "      <td>154.770004</td>\n",
              "      <td>150.800003</td>\n",
              "      <td>153.169998</td>\n",
              "      <td>40445800.0</td>\n",
              "      <td>158.399994</td>\n",
              "    </tr>\n",
              "    <tr>\n",
              "      <th>2022-11-22 00:00:00-05:00</th>\n",
              "      <td>153.279999</td>\n",
              "      <td>159.259995</td>\n",
              "      <td>151.216003</td>\n",
              "      <td>158.399994</td>\n",
              "      <td>32043687.0</td>\n",
              "      <td>NaN</td>\n",
              "    </tr>\n",
              "  </tbody>\n",
              "</table>\n",
              "<p>6001 rows × 6 columns</p>\n",
              "</div>\n",
              "      <button class=\"colab-df-convert\" onclick=\"convertToInteractive('df-f216dc78-41ba-4e6f-ab9c-0fcb3cfdb018')\"\n",
              "              title=\"Convert this dataframe to an interactive table.\"\n",
              "              style=\"display:none;\">\n",
              "        \n",
              "  <svg xmlns=\"http://www.w3.org/2000/svg\" height=\"24px\"viewBox=\"0 0 24 24\"\n",
              "       width=\"24px\">\n",
              "    <path d=\"M0 0h24v24H0V0z\" fill=\"none\"/>\n",
              "    <path d=\"M18.56 5.44l.94 2.06.94-2.06 2.06-.94-2.06-.94-.94-2.06-.94 2.06-2.06.94zm-11 1L8.5 8.5l.94-2.06 2.06-.94-2.06-.94L8.5 2.5l-.94 2.06-2.06.94zm10 10l.94 2.06.94-2.06 2.06-.94-2.06-.94-.94-2.06-.94 2.06-2.06.94z\"/><path d=\"M17.41 7.96l-1.37-1.37c-.4-.4-.92-.59-1.43-.59-.52 0-1.04.2-1.43.59L10.3 9.45l-7.72 7.72c-.78.78-.78 2.05 0 2.83L4 21.41c.39.39.9.59 1.41.59.51 0 1.02-.2 1.41-.59l7.78-7.78 2.81-2.81c.8-.78.8-2.07 0-2.86zM5.41 20L4 18.59l7.72-7.72 1.47 1.35L5.41 20z\"/>\n",
              "  </svg>\n",
              "      </button>\n",
              "      \n",
              "  <style>\n",
              "    .colab-df-container {\n",
              "      display:flex;\n",
              "      flex-wrap:wrap;\n",
              "      gap: 12px;\n",
              "    }\n",
              "\n",
              "    .colab-df-convert {\n",
              "      background-color: #E8F0FE;\n",
              "      border: none;\n",
              "      border-radius: 50%;\n",
              "      cursor: pointer;\n",
              "      display: none;\n",
              "      fill: #1967D2;\n",
              "      height: 32px;\n",
              "      padding: 0 0 0 0;\n",
              "      width: 32px;\n",
              "    }\n",
              "\n",
              "    .colab-df-convert:hover {\n",
              "      background-color: #E2EBFA;\n",
              "      box-shadow: 0px 1px 2px rgba(60, 64, 67, 0.3), 0px 1px 3px 1px rgba(60, 64, 67, 0.15);\n",
              "      fill: #174EA6;\n",
              "    }\n",
              "\n",
              "    [theme=dark] .colab-df-convert {\n",
              "      background-color: #3B4455;\n",
              "      fill: #D2E3FC;\n",
              "    }\n",
              "\n",
              "    [theme=dark] .colab-df-convert:hover {\n",
              "      background-color: #434B5C;\n",
              "      box-shadow: 0px 1px 3px 1px rgba(0, 0, 0, 0.15);\n",
              "      filter: drop-shadow(0px 1px 2px rgba(0, 0, 0, 0.3));\n",
              "      fill: #FFFFFF;\n",
              "    }\n",
              "  </style>\n",
              "\n",
              "      <script>\n",
              "        const buttonEl =\n",
              "          document.querySelector('#df-f216dc78-41ba-4e6f-ab9c-0fcb3cfdb018 button.colab-df-convert');\n",
              "        buttonEl.style.display =\n",
              "          google.colab.kernel.accessAllowed ? 'block' : 'none';\n",
              "\n",
              "        async function convertToInteractive(key) {\n",
              "          const element = document.querySelector('#df-f216dc78-41ba-4e6f-ab9c-0fcb3cfdb018');\n",
              "          const dataTable =\n",
              "            await google.colab.kernel.invokeFunction('convertToInteractive',\n",
              "                                                     [key], {});\n",
              "          if (!dataTable) return;\n",
              "\n",
              "          const docLinkHtml = 'Like what you see? Visit the ' +\n",
              "            '<a target=\"_blank\" href=https://colab.research.google.com/notebooks/data_table.ipynb>data table notebook</a>'\n",
              "            + ' to learn more about interactive tables.';\n",
              "          element.innerHTML = '';\n",
              "          dataTable['output_type'] = 'display_data';\n",
              "          await google.colab.output.renderOutput(dataTable, element);\n",
              "          const docLink = document.createElement('div');\n",
              "          docLink.innerHTML = docLinkHtml;\n",
              "          element.appendChild(docLink);\n",
              "        }\n",
              "      </script>\n",
              "    </div>\n",
              "  </div>\n",
              "  "
            ]
          },
          "metadata": {},
          "execution_count": 366
        }
      ]
    },
    {
      "cell_type": "code",
      "source": [
        "nvidia['Target'] = (nvidia['t1'] > nvidia['Close']).astype(int)"
      ],
      "metadata": {
        "id": "8VVeXxHIHOIk"
      },
      "execution_count": 367,
      "outputs": []
    },
    {
      "cell_type": "code",
      "source": [
        "nvidia"
      ],
      "metadata": {
        "colab": {
          "base_uri": "https://localhost:8080/",
          "height": 455
        },
        "id": "_ENwwdgmHYbR",
        "outputId": "8384e5a4-3bf7-404e-9b98-2a11cabf33b5"
      },
      "execution_count": 310,
      "outputs": [
        {
          "output_type": "execute_result",
          "data": {
            "text/plain": [
              "                                 Open        High         Low       Close  \\\n",
              "Date                                                                        \n",
              "1999-01-22 00:00:00-05:00    0.401619    0.448236    0.356198    0.376518   \n",
              "1999-01-25 00:00:00-05:00    0.406400    0.420744    0.376518    0.415963   \n",
              "1999-01-26 00:00:00-05:00    0.420744    0.429111    0.377713    0.383690   \n",
              "1999-01-27 00:00:00-05:00    0.384885    0.394448    0.363370    0.382495   \n",
              "1999-01-28 00:00:00-05:00    0.382495    0.384885    0.378908    0.381300   \n",
              "...                               ...         ...         ...         ...   \n",
              "2022-11-16 00:00:00-05:00  161.619995  163.619995  158.729996  159.100006   \n",
              "2022-11-17 00:00:00-05:00  157.149994  162.660004  155.350006  156.770004   \n",
              "2022-11-18 00:00:00-05:00  159.660004  160.020004  151.199997  154.089996   \n",
              "2022-11-21 00:00:00-05:00  151.470001  154.770004  150.800003  153.169998   \n",
              "2022-11-22 00:00:00-05:00  153.279999  159.259995  151.216003  157.820007   \n",
              "\n",
              "                                Volume          t1  Target  \n",
              "Date                                                        \n",
              "1999-01-22 00:00:00-05:00  271468800.0    0.415963       1  \n",
              "1999-01-25 00:00:00-05:00   51048000.0    0.383690       0  \n",
              "1999-01-26 00:00:00-05:00   34320000.0    0.382495       0  \n",
              "1999-01-27 00:00:00-05:00   24436800.0    0.381300       0  \n",
              "1999-01-28 00:00:00-05:00   22752000.0    0.363370       0  \n",
              "...                                ...         ...     ...  \n",
              "2022-11-16 00:00:00-05:00   64954700.0  156.770004       0  \n",
              "2022-11-17 00:00:00-05:00   71089400.0  154.089996       0  \n",
              "2022-11-18 00:00:00-05:00   49167700.0  153.169998       0  \n",
              "2022-11-21 00:00:00-05:00   40445800.0  157.820007       1  \n",
              "2022-11-22 00:00:00-05:00   30147452.0         NaN       0  \n",
              "\n",
              "[6001 rows x 7 columns]"
            ],
            "text/html": [
              "\n",
              "  <div id=\"df-bd059158-268a-4011-8245-d82d45374d97\">\n",
              "    <div class=\"colab-df-container\">\n",
              "      <div>\n",
              "<style scoped>\n",
              "    .dataframe tbody tr th:only-of-type {\n",
              "        vertical-align: middle;\n",
              "    }\n",
              "\n",
              "    .dataframe tbody tr th {\n",
              "        vertical-align: top;\n",
              "    }\n",
              "\n",
              "    .dataframe thead th {\n",
              "        text-align: right;\n",
              "    }\n",
              "</style>\n",
              "<table border=\"1\" class=\"dataframe\">\n",
              "  <thead>\n",
              "    <tr style=\"text-align: right;\">\n",
              "      <th></th>\n",
              "      <th>Open</th>\n",
              "      <th>High</th>\n",
              "      <th>Low</th>\n",
              "      <th>Close</th>\n",
              "      <th>Volume</th>\n",
              "      <th>t1</th>\n",
              "      <th>Target</th>\n",
              "    </tr>\n",
              "    <tr>\n",
              "      <th>Date</th>\n",
              "      <th></th>\n",
              "      <th></th>\n",
              "      <th></th>\n",
              "      <th></th>\n",
              "      <th></th>\n",
              "      <th></th>\n",
              "      <th></th>\n",
              "    </tr>\n",
              "  </thead>\n",
              "  <tbody>\n",
              "    <tr>\n",
              "      <th>1999-01-22 00:00:00-05:00</th>\n",
              "      <td>0.401619</td>\n",
              "      <td>0.448236</td>\n",
              "      <td>0.356198</td>\n",
              "      <td>0.376518</td>\n",
              "      <td>271468800.0</td>\n",
              "      <td>0.415963</td>\n",
              "      <td>1</td>\n",
              "    </tr>\n",
              "    <tr>\n",
              "      <th>1999-01-25 00:00:00-05:00</th>\n",
              "      <td>0.406400</td>\n",
              "      <td>0.420744</td>\n",
              "      <td>0.376518</td>\n",
              "      <td>0.415963</td>\n",
              "      <td>51048000.0</td>\n",
              "      <td>0.383690</td>\n",
              "      <td>0</td>\n",
              "    </tr>\n",
              "    <tr>\n",
              "      <th>1999-01-26 00:00:00-05:00</th>\n",
              "      <td>0.420744</td>\n",
              "      <td>0.429111</td>\n",
              "      <td>0.377713</td>\n",
              "      <td>0.383690</td>\n",
              "      <td>34320000.0</td>\n",
              "      <td>0.382495</td>\n",
              "      <td>0</td>\n",
              "    </tr>\n",
              "    <tr>\n",
              "      <th>1999-01-27 00:00:00-05:00</th>\n",
              "      <td>0.384885</td>\n",
              "      <td>0.394448</td>\n",
              "      <td>0.363370</td>\n",
              "      <td>0.382495</td>\n",
              "      <td>24436800.0</td>\n",
              "      <td>0.381300</td>\n",
              "      <td>0</td>\n",
              "    </tr>\n",
              "    <tr>\n",
              "      <th>1999-01-28 00:00:00-05:00</th>\n",
              "      <td>0.382495</td>\n",
              "      <td>0.384885</td>\n",
              "      <td>0.378908</td>\n",
              "      <td>0.381300</td>\n",
              "      <td>22752000.0</td>\n",
              "      <td>0.363370</td>\n",
              "      <td>0</td>\n",
              "    </tr>\n",
              "    <tr>\n",
              "      <th>...</th>\n",
              "      <td>...</td>\n",
              "      <td>...</td>\n",
              "      <td>...</td>\n",
              "      <td>...</td>\n",
              "      <td>...</td>\n",
              "      <td>...</td>\n",
              "      <td>...</td>\n",
              "    </tr>\n",
              "    <tr>\n",
              "      <th>2022-11-16 00:00:00-05:00</th>\n",
              "      <td>161.619995</td>\n",
              "      <td>163.619995</td>\n",
              "      <td>158.729996</td>\n",
              "      <td>159.100006</td>\n",
              "      <td>64954700.0</td>\n",
              "      <td>156.770004</td>\n",
              "      <td>0</td>\n",
              "    </tr>\n",
              "    <tr>\n",
              "      <th>2022-11-17 00:00:00-05:00</th>\n",
              "      <td>157.149994</td>\n",
              "      <td>162.660004</td>\n",
              "      <td>155.350006</td>\n",
              "      <td>156.770004</td>\n",
              "      <td>71089400.0</td>\n",
              "      <td>154.089996</td>\n",
              "      <td>0</td>\n",
              "    </tr>\n",
              "    <tr>\n",
              "      <th>2022-11-18 00:00:00-05:00</th>\n",
              "      <td>159.660004</td>\n",
              "      <td>160.020004</td>\n",
              "      <td>151.199997</td>\n",
              "      <td>154.089996</td>\n",
              "      <td>49167700.0</td>\n",
              "      <td>153.169998</td>\n",
              "      <td>0</td>\n",
              "    </tr>\n",
              "    <tr>\n",
              "      <th>2022-11-21 00:00:00-05:00</th>\n",
              "      <td>151.470001</td>\n",
              "      <td>154.770004</td>\n",
              "      <td>150.800003</td>\n",
              "      <td>153.169998</td>\n",
              "      <td>40445800.0</td>\n",
              "      <td>157.820007</td>\n",
              "      <td>1</td>\n",
              "    </tr>\n",
              "    <tr>\n",
              "      <th>2022-11-22 00:00:00-05:00</th>\n",
              "      <td>153.279999</td>\n",
              "      <td>159.259995</td>\n",
              "      <td>151.216003</td>\n",
              "      <td>157.820007</td>\n",
              "      <td>30147452.0</td>\n",
              "      <td>NaN</td>\n",
              "      <td>0</td>\n",
              "    </tr>\n",
              "  </tbody>\n",
              "</table>\n",
              "<p>6001 rows × 7 columns</p>\n",
              "</div>\n",
              "      <button class=\"colab-df-convert\" onclick=\"convertToInteractive('df-bd059158-268a-4011-8245-d82d45374d97')\"\n",
              "              title=\"Convert this dataframe to an interactive table.\"\n",
              "              style=\"display:none;\">\n",
              "        \n",
              "  <svg xmlns=\"http://www.w3.org/2000/svg\" height=\"24px\"viewBox=\"0 0 24 24\"\n",
              "       width=\"24px\">\n",
              "    <path d=\"M0 0h24v24H0V0z\" fill=\"none\"/>\n",
              "    <path d=\"M18.56 5.44l.94 2.06.94-2.06 2.06-.94-2.06-.94-.94-2.06-.94 2.06-2.06.94zm-11 1L8.5 8.5l.94-2.06 2.06-.94-2.06-.94L8.5 2.5l-.94 2.06-2.06.94zm10 10l.94 2.06.94-2.06 2.06-.94-2.06-.94-.94-2.06-.94 2.06-2.06.94z\"/><path d=\"M17.41 7.96l-1.37-1.37c-.4-.4-.92-.59-1.43-.59-.52 0-1.04.2-1.43.59L10.3 9.45l-7.72 7.72c-.78.78-.78 2.05 0 2.83L4 21.41c.39.39.9.59 1.41.59.51 0 1.02-.2 1.41-.59l7.78-7.78 2.81-2.81c.8-.78.8-2.07 0-2.86zM5.41 20L4 18.59l7.72-7.72 1.47 1.35L5.41 20z\"/>\n",
              "  </svg>\n",
              "      </button>\n",
              "      \n",
              "  <style>\n",
              "    .colab-df-container {\n",
              "      display:flex;\n",
              "      flex-wrap:wrap;\n",
              "      gap: 12px;\n",
              "    }\n",
              "\n",
              "    .colab-df-convert {\n",
              "      background-color: #E8F0FE;\n",
              "      border: none;\n",
              "      border-radius: 50%;\n",
              "      cursor: pointer;\n",
              "      display: none;\n",
              "      fill: #1967D2;\n",
              "      height: 32px;\n",
              "      padding: 0 0 0 0;\n",
              "      width: 32px;\n",
              "    }\n",
              "\n",
              "    .colab-df-convert:hover {\n",
              "      background-color: #E2EBFA;\n",
              "      box-shadow: 0px 1px 2px rgba(60, 64, 67, 0.3), 0px 1px 3px 1px rgba(60, 64, 67, 0.15);\n",
              "      fill: #174EA6;\n",
              "    }\n",
              "\n",
              "    [theme=dark] .colab-df-convert {\n",
              "      background-color: #3B4455;\n",
              "      fill: #D2E3FC;\n",
              "    }\n",
              "\n",
              "    [theme=dark] .colab-df-convert:hover {\n",
              "      background-color: #434B5C;\n",
              "      box-shadow: 0px 1px 3px 1px rgba(0, 0, 0, 0.15);\n",
              "      filter: drop-shadow(0px 1px 2px rgba(0, 0, 0, 0.3));\n",
              "      fill: #FFFFFF;\n",
              "    }\n",
              "  </style>\n",
              "\n",
              "      <script>\n",
              "        const buttonEl =\n",
              "          document.querySelector('#df-bd059158-268a-4011-8245-d82d45374d97 button.colab-df-convert');\n",
              "        buttonEl.style.display =\n",
              "          google.colab.kernel.accessAllowed ? 'block' : 'none';\n",
              "\n",
              "        async function convertToInteractive(key) {\n",
              "          const element = document.querySelector('#df-bd059158-268a-4011-8245-d82d45374d97');\n",
              "          const dataTable =\n",
              "            await google.colab.kernel.invokeFunction('convertToInteractive',\n",
              "                                                     [key], {});\n",
              "          if (!dataTable) return;\n",
              "\n",
              "          const docLinkHtml = 'Like what you see? Visit the ' +\n",
              "            '<a target=\"_blank\" href=https://colab.research.google.com/notebooks/data_table.ipynb>data table notebook</a>'\n",
              "            + ' to learn more about interactive tables.';\n",
              "          element.innerHTML = '';\n",
              "          dataTable['output_type'] = 'display_data';\n",
              "          await google.colab.output.renderOutput(dataTable, element);\n",
              "          const docLink = document.createElement('div');\n",
              "          docLink.innerHTML = docLinkHtml;\n",
              "          element.appendChild(docLink);\n",
              "        }\n",
              "      </script>\n",
              "    </div>\n",
              "  </div>\n",
              "  "
            ]
          },
          "metadata": {},
          "execution_count": 310
        }
      ]
    },
    {
      "cell_type": "code",
      "source": [
        "def smooth_data(data, alpha):\n",
        "  return data.ewm(alpha=alpha).mean()"
      ],
      "metadata": {
        "id": "tSajdK39K-co"
      },
      "execution_count": 368,
      "outputs": []
    },
    {
      "cell_type": "code",
      "source": [
        "alpha = 0.65\n",
        "data = smooth_data(nvidia, alpha)\n",
        "\n",
        "smooth_trend = data.iloc[-60:]\n",
        "smooth_trend['Close'].plot()"
      ],
      "metadata": {
        "colab": {
          "base_uri": "https://localhost:8080/",
          "height": 302
        },
        "id": "bid9sSV4LFfn",
        "outputId": "1cf12c88-3d5a-4ce4-cac3-bb2938fd3717"
      },
      "execution_count": 369,
      "outputs": [
        {
          "output_type": "execute_result",
          "data": {
            "text/plain": [
              "<matplotlib.axes._subplots.AxesSubplot at 0x7fad75929b10>"
            ]
          },
          "metadata": {},
          "execution_count": 369
        },
        {
          "output_type": "display_data",
          "data": {
            "text/plain": [
              "<Figure size 432x288 with 1 Axes>"
            ],
            "image/png": "[encoded data removed]"
          },
          "metadata": {
            "needs_background": "light"
          }
        }
      ]
    },
    {
      "cell_type": "code",
      "source": [
        "data.rename(columns = {'Close': 'close', 'High': 'high', 'Low': 'low', \n",
        "                       'Adj Close': 'adj close', 'Volume': 'volume', 'Open': 'open'}, \n",
        "            inplace = True)"
      ],
      "metadata": {
        "id": "pnicQERULlKO"
      },
      "execution_count": 370,
      "outputs": []
    },
    {
      "cell_type": "code",
      "source": [
        "indicators = ['RSI', 'STOCH', 'ADL', 'ATR', 'MOM', 'MFI', 'ROC', 'OBV', 'CCI', 'EMV']"
      ],
      "metadata": {
        "id": "V-0x8iEnLnO2"
      },
      "execution_count": 264,
      "outputs": []
    },
    {
      "cell_type": "code",
      "source": [
        "indicators = ['SMA', 'SMM', 'SSMA', 'EMA', 'DEMA', 'TEMA', 'TRIMA', 'TRIX', 'VAMA', 'ER', 'KAMA', \n",
        "             'ZLEMA', 'WMA', 'HMA', 'EVWMA', 'VWAP', 'SMMA', 'MOM', 'ROC', 'RSI', 'IFT_RSI']"
      ],
      "metadata": {
        "id": "g04kaMm_eDez"
      },
      "execution_count": 371,
      "outputs": []
    },
    {
      "cell_type": "code",
      "source": [
        "for indicator in indicators:\n",
        "  data[indicator] = eval('TA.' + indicator + '(data)')"
      ],
      "metadata": {
        "id": "SWpd5AOLOWZM"
      },
      "execution_count": 372,
      "outputs": []
    },
    {
      "cell_type": "code",
      "source": [
        "print(data.columns)"
      ],
      "metadata": {
        "colab": {
          "base_uri": "https://localhost:8080/"
        },
        "id": "Y24G2qOpO1ak",
        "outputId": "f06ffb95-0a85-440f-b94a-7862849e708c"
      },
      "execution_count": 373,
      "outputs": [
        {
          "output_type": "stream",
          "name": "stdout",
          "text": [
            "Index(['open', 'high', 'low', 'close', 'volume', 't1', 'Target', 'SMA', 'SMM',\n",
            "       'SSMA', 'EMA', 'DEMA', 'TEMA', 'TRIMA', 'TRIX', 'VAMA', 'ER', 'KAMA',\n",
            "       'ZLEMA', 'WMA', 'HMA', 'EVWMA', 'VWAP', 'SMMA', 'MOM', 'ROC', 'RSI',\n",
            "       'IFT_RSI'],\n",
            "      dtype='object')\n"
          ]
        }
      ]
    },
    {
      "cell_type": "code",
      "source": [
        "print(nvidia.columns)"
      ],
      "metadata": {
        "colab": {
          "base_uri": "https://localhost:8080/"
        },
        "id": "Upp_Px92VQDh",
        "outputId": "c36f765d-29a4-4316-c916-c1c064782d93"
      },
      "execution_count": 374,
      "outputs": [
        {
          "output_type": "stream",
          "name": "stdout",
          "text": [
            "Index(['Open', 'High', 'Low', 'Close', 'Volume', 't1', 'Target'], dtype='object')\n"
          ]
        }
      ]
    },
    {
      "cell_type": "code",
      "source": [
        "to_del = ['open', 'high', 'low', 'close', 'volume', 't1', 'Target']"
      ],
      "metadata": {
        "id": "1jEMNpckSx0S"
      },
      "execution_count": 375,
      "outputs": []
    },
    {
      "cell_type": "code",
      "source": [
        "for column in to_del:\n",
        "  del data[column]"
      ],
      "metadata": {
        "id": "jg7Nn3ChTJjE"
      },
      "execution_count": 376,
      "outputs": []
    },
    {
      "cell_type": "code",
      "source": [
        "nvidia = nvidia.merge(data, how='inner', on='Date')"
      ],
      "metadata": {
        "id": "BRd0iAr2V8ve"
      },
      "execution_count": 377,
      "outputs": []
    },
    {
      "cell_type": "code",
      "source": [
        "nvidia = nvidia.fillna(0)"
      ],
      "metadata": {
        "id": "G7qmQErPXBRj"
      },
      "execution_count": 378,
      "outputs": []
    },
    {
      "cell_type": "code",
      "source": [
        "nvidia"
      ],
      "metadata": {
        "colab": {
          "base_uri": "https://localhost:8080/",
          "height": 1000
        },
        "id": "l1qQIN4RXmYC",
        "outputId": "414c8861-f754-4450-9b80-fb423d5179e7"
      },
      "execution_count": 331,
      "outputs": [
        {
          "output_type": "execute_result",
          "data": {
            "text/plain": [
              "                                 Open        High         Low       Close  \\\n",
              "Date                                                                        \n",
              "1999-01-22 00:00:00-05:00    0.401619    0.448236    0.356198    0.376518   \n",
              "1999-01-25 00:00:00-05:00    0.406400    0.420744    0.376518    0.415963   \n",
              "1999-01-26 00:00:00-05:00    0.420744    0.429111    0.377713    0.383690   \n",
              "1999-01-27 00:00:00-05:00    0.384885    0.394448    0.363370    0.382495   \n",
              "1999-01-28 00:00:00-05:00    0.382495    0.384885    0.378908    0.381300   \n",
              "...                               ...         ...         ...         ...   \n",
              "2022-11-16 00:00:00-05:00  161.619995  163.619995  158.729996  159.100006   \n",
              "2022-11-17 00:00:00-05:00  157.149994  162.660004  155.350006  156.770004   \n",
              "2022-11-18 00:00:00-05:00  159.660004  160.020004  151.199997  154.089996   \n",
              "2022-11-21 00:00:00-05:00  151.470001  154.770004  150.800003  153.169998   \n",
              "2022-11-22 00:00:00-05:00  153.279999  159.259995  151.216003  157.820007   \n",
              "\n",
              "                                Volume          t1  Target         SMA  \\\n",
              "Date                                                                     \n",
              "1999-01-22 00:00:00-05:00  271468800.0    0.415963       1    0.000000   \n",
              "1999-01-25 00:00:00-05:00   51048000.0    0.383690       0    0.000000   \n",
              "1999-01-26 00:00:00-05:00   34320000.0    0.382495       0    0.000000   \n",
              "1999-01-27 00:00:00-05:00   24436800.0    0.381300       0    0.000000   \n",
              "1999-01-28 00:00:00-05:00   22752000.0    0.363370       0    0.000000   \n",
              "...                                ...         ...     ...         ...   \n",
              "2022-11-16 00:00:00-05:00   64954700.0  156.770004       0  131.304398   \n",
              "2022-11-17 00:00:00-05:00   71089400.0  154.089996       0  131.934418   \n",
              "2022-11-18 00:00:00-05:00   49167700.0  153.169998       0  132.606436   \n",
              "2022-11-21 00:00:00-05:00   40445800.0  157.820007       1  133.285704   \n",
              "2022-11-22 00:00:00-05:00   30147452.0    0.000000       0  134.086887   \n",
              "\n",
              "                                  SMM        SSMA  ...       ZLEMA  \\\n",
              "Date                                               ...               \n",
              "1999-01-22 00:00:00-05:00    0.000000    0.376518  ...    0.000000   \n",
              "1999-01-25 00:00:00-05:00    0.000000    0.391987  ...    0.000000   \n",
              "1999-01-26 00:00:00-05:00    0.000000    0.391530  ...    0.000000   \n",
              "1999-01-27 00:00:00-05:00    0.000000    0.389690  ...    0.000000   \n",
              "1999-01-28 00:00:00-05:00    0.000000    0.387942  ...    0.000000   \n",
              "...                               ...         ...  ...         ...   \n",
              "2022-11-16 00:00:00-05:00  151.411761  145.548928  ...  154.458215   \n",
              "2022-11-17 00:00:00-05:00  158.295058  146.965165  ...  156.441092   \n",
              "2022-11-18 00:00:00-05:00  158.295058  147.920343  ...  158.024934   \n",
              "2022-11-21 00:00:00-05:00  158.295058  148.596651  ...  159.217349   \n",
              "2022-11-22 00:00:00-05:00  158.295058  149.473190  ...  160.319389   \n",
              "\n",
              "                                  WMA         HMA       EVWMA       VWAP  \\\n",
              "Date                                                                       \n",
              "1999-01-22 00:00:00-05:00    0.000000    0.000000    0.000000   0.393651   \n",
              "1999-01-25 00:00:00-05:00    0.000000    0.000000    0.000000   0.395921   \n",
              "1999-01-26 00:00:00-05:00    0.000000    0.000000    0.000000   0.396246   \n",
              "1999-01-27 00:00:00-05:00    0.000000    0.000000    0.000000   0.395494   \n",
              "1999-01-28 00:00:00-05:00    0.000000    0.000000    0.000000   0.394830   \n",
              "...                               ...         ...         ...        ...   \n",
              "2022-11-16 00:00:00-05:00  156.180640  161.660958  139.802968  22.170805   \n",
              "2022-11-17 00:00:00-05:00  157.547103  164.244065  140.922560  22.195983   \n",
              "2022-11-18 00:00:00-05:00  157.935376  165.049508  141.654487  22.216227   \n",
              "2022-11-21 00:00:00-05:00  157.701638  164.342070  142.166560  22.232566   \n",
              "2022-11-22 00:00:00-05:00  157.751419  162.905127  142.635431  22.245393   \n",
              "\n",
              "                                 SMMA        MOM        ROC         RSI  \\\n",
              "Date                                                                      \n",
              "1999-01-22 00:00:00-05:00    0.376518   0.000000   0.000000    0.000000   \n",
              "1999-01-25 00:00:00-05:00    0.391303   0.000000   0.000000  100.000000   \n",
              "1999-01-26 00:00:00-05:00    0.391119   0.000000   0.000000   64.439920   \n",
              "1999-01-27 00:00:00-05:00    0.389613   0.000000   0.000000   56.547131   \n",
              "1999-01-28 00:00:00-05:00    0.388161   0.000000   0.000000   53.180765   \n",
              "...                               ...        ...        ...         ...   \n",
              "2022-11-16 00:00:00-05:00  147.197359  27.826730  19.142847   72.312782   \n",
              "2022-11-17 00:00:00-05:00  147.461590  24.403354  16.941106   68.019938   \n",
              "2022-11-18 00:00:00-05:00  147.654451  16.685673  16.700000   64.067135   \n",
              "2022-11-21 00:00:00-05:00  147.805705  12.443988  15.023644   61.864992   \n",
              "2022-11-22 00:00:00-05:00  148.012367  12.025398  12.679937   63.989964   \n",
              "\n",
              "                            IFT_RSI  \n",
              "Date                                 \n",
              "1999-01-22 00:00:00-05:00  0.000000  \n",
              "1999-01-25 00:00:00-05:00  0.000000  \n",
              "1999-01-26 00:00:00-05:00  0.000000  \n",
              "1999-01-27 00:00:00-05:00  0.000000  \n",
              "1999-01-28 00:00:00-05:00  0.000000  \n",
              "...                             ...  \n",
              "2022-11-16 00:00:00-05:00  0.823177  \n",
              "2022-11-17 00:00:00-05:00  0.778865  \n",
              "2022-11-18 00:00:00-05:00  0.685835  \n",
              "2022-11-21 00:00:00-05:00  0.514266  \n",
              "2022-11-22 00:00:00-05:00  0.365405  \n",
              "\n",
              "[6001 rows x 28 columns]"
            ],
            "text/html": [
              "\n",
              "  <div id=\"df-932ffdc5-6402-43ee-84cd-3732b3188ae3\">\n",
              "    <div class=\"colab-df-container\">\n",
              "      <div>\n",
              "<style scoped>\n",
              "    .dataframe tbody tr th:only-of-type {\n",
              "        vertical-align: middle;\n",
              "    }\n",
              "\n",
              "    .dataframe tbody tr th {\n",
              "        vertical-align: top;\n",
              "    }\n",
              "\n",
              "    .dataframe thead th {\n",
              "        text-align: right;\n",
              "    }\n",
              "</style>\n",
              "<table border=\"1\" class=\"dataframe\">\n",
              "  <thead>\n",
              "    <tr style=\"text-align: right;\">\n",
              "      <th></th>\n",
              "      <th>Open</th>\n",
              "      <th>High</th>\n",
              "      <th>Low</th>\n",
              "      <th>Close</th>\n",
              "      <th>Volume</th>\n",
              "      <th>t1</th>\n",
              "      <th>Target</th>\n",
              "      <th>SMA</th>\n",
              "      <th>SMM</th>\n",
              "      <th>SSMA</th>\n",
              "      <th>...</th>\n",
              "      <th>ZLEMA</th>\n",
              "      <th>WMA</th>\n",
              "      <th>HMA</th>\n",
              "      <th>EVWMA</th>\n",
              "      <th>VWAP</th>\n",
              "      <th>SMMA</th>\n",
              "      <th>MOM</th>\n",
              "      <th>ROC</th>\n",
              "      <th>RSI</th>\n",
              "      <th>IFT_RSI</th>\n",
              "    </tr>\n",
              "    <tr>\n",
              "      <th>Date</th>\n",
              "      <th></th>\n",
              "      <th></th>\n",
              "      <th></th>\n",
              "      <th></th>\n",
              "      <th></th>\n",
              "      <th></th>\n",
              "      <th></th>\n",
              "      <th></th>\n",
              "      <th></th>\n",
              "      <th></th>\n",
              "      <th></th>\n",
              "      <th></th>\n",
              "      <th></th>\n",
              "      <th></th>\n",
              "      <th></th>\n",
              "      <th></th>\n",
              "      <th></th>\n",
              "      <th></th>\n",
              "      <th></th>\n",
              "      <th></th>\n",
              "      <th></th>\n",
              "    </tr>\n",
              "  </thead>\n",
              "  <tbody>\n",
              "    <tr>\n",
              "      <th>1999-01-22 00:00:00-05:00</th>\n",
              "      <td>0.401619</td>\n",
              "      <td>0.448236</td>\n",
              "      <td>0.356198</td>\n",
              "      <td>0.376518</td>\n",
              "      <td>271468800.0</td>\n",
              "      <td>0.415963</td>\n",
              "      <td>1</td>\n",
              "      <td>0.000000</td>\n",
              "      <td>0.000000</td>\n",
              "      <td>0.376518</td>\n",
              "      <td>...</td>\n",
              "      <td>0.000000</td>\n",
              "      <td>0.000000</td>\n",
              "      <td>0.000000</td>\n",
              "      <td>0.000000</td>\n",
              "      <td>0.393651</td>\n",
              "      <td>0.376518</td>\n",
              "      <td>0.000000</td>\n",
              "      <td>0.000000</td>\n",
              "      <td>0.000000</td>\n",
              "      <td>0.000000</td>\n",
              "    </tr>\n",
              "    <tr>\n",
              "      <th>1999-01-25 00:00:00-05:00</th>\n",
              "      <td>0.406400</td>\n",
              "      <td>0.420744</td>\n",
              "      <td>0.376518</td>\n",
              "      <td>0.415963</td>\n",
              "      <td>51048000.0</td>\n",
              "      <td>0.383690</td>\n",
              "      <td>0</td>\n",
              "      <td>0.000000</td>\n",
              "      <td>0.000000</td>\n",
              "      <td>0.391987</td>\n",
              "      <td>...</td>\n",
              "      <td>0.000000</td>\n",
              "      <td>0.000000</td>\n",
              "      <td>0.000000</td>\n",
              "      <td>0.000000</td>\n",
              "      <td>0.395921</td>\n",
              "      <td>0.391303</td>\n",
              "      <td>0.000000</td>\n",
              "      <td>0.000000</td>\n",
              "      <td>100.000000</td>\n",
              "      <td>0.000000</td>\n",
              "    </tr>\n",
              "    <tr>\n",
              "      <th>1999-01-26 00:00:00-05:00</th>\n",
              "      <td>0.420744</td>\n",
              "      <td>0.429111</td>\n",
              "      <td>0.377713</td>\n",
              "      <td>0.383690</td>\n",
              "      <td>34320000.0</td>\n",
              "      <td>0.382495</td>\n",
              "      <td>0</td>\n",
              "      <td>0.000000</td>\n",
              "      <td>0.000000</td>\n",
              "      <td>0.391530</td>\n",
              "      <td>...</td>\n",
              "      <td>0.000000</td>\n",
              "      <td>0.000000</td>\n",
              "      <td>0.000000</td>\n",
              "      <td>0.000000</td>\n",
              "      <td>0.396246</td>\n",
              "      <td>0.391119</td>\n",
              "      <td>0.000000</td>\n",
              "      <td>0.000000</td>\n",
              "      <td>64.439920</td>\n",
              "      <td>0.000000</td>\n",
              "    </tr>\n",
              "    <tr>\n",
              "      <th>1999-01-27 00:00:00-05:00</th>\n",
              "      <td>0.384885</td>\n",
              "      <td>0.394448</td>\n",
              "      <td>0.363370</td>\n",
              "      <td>0.382495</td>\n",
              "      <td>24436800.0</td>\n",
              "      <td>0.381300</td>\n",
              "      <td>0</td>\n",
              "      <td>0.000000</td>\n",
              "      <td>0.000000</td>\n",
              "      <td>0.389690</td>\n",
              "      <td>...</td>\n",
              "      <td>0.000000</td>\n",
              "      <td>0.000000</td>\n",
              "      <td>0.000000</td>\n",
              "      <td>0.000000</td>\n",
              "      <td>0.395494</td>\n",
              "      <td>0.389613</td>\n",
              "      <td>0.000000</td>\n",
              "      <td>0.000000</td>\n",
              "      <td>56.547131</td>\n",
              "      <td>0.000000</td>\n",
              "    </tr>\n",
              "    <tr>\n",
              "      <th>1999-01-28 00:00:00-05:00</th>\n",
              "      <td>0.382495</td>\n",
              "      <td>0.384885</td>\n",
              "      <td>0.378908</td>\n",
              "      <td>0.381300</td>\n",
              "      <td>22752000.0</td>\n",
              "      <td>0.363370</td>\n",
              "      <td>0</td>\n",
              "      <td>0.000000</td>\n",
              "      <td>0.000000</td>\n",
              "      <td>0.387942</td>\n",
              "      <td>...</td>\n",
              "      <td>0.000000</td>\n",
              "      <td>0.000000</td>\n",
              "      <td>0.000000</td>\n",
              "      <td>0.000000</td>\n",
              "      <td>0.394830</td>\n",
              "      <td>0.388161</td>\n",
              "      <td>0.000000</td>\n",
              "      <td>0.000000</td>\n",
              "      <td>53.180765</td>\n",
              "      <td>0.000000</td>\n",
              "    </tr>\n",
              "    <tr>\n",
              "      <th>...</th>\n",
              "      <td>...</td>\n",
              "      <td>...</td>\n",
              "      <td>...</td>\n",
              "      <td>...</td>\n",
              "      <td>...</td>\n",
              "      <td>...</td>\n",
              "      <td>...</td>\n",
              "      <td>...</td>\n",
              "      <td>...</td>\n",
              "      <td>...</td>\n",
              "      <td>...</td>\n",
              "      <td>...</td>\n",
              "      <td>...</td>\n",
              "      <td>...</td>\n",
              "      <td>...</td>\n",
              "      <td>...</td>\n",
              "      <td>...</td>\n",
              "      <td>...</td>\n",
              "      <td>...</td>\n",
              "      <td>...</td>\n",
              "      <td>...</td>\n",
              "    </tr>\n",
              "    <tr>\n",
              "      <th>2022-11-16 00:00:00-05:00</th>\n",
              "      <td>161.619995</td>\n",
              "      <td>163.619995</td>\n",
              "      <td>158.729996</td>\n",
              "      <td>159.100006</td>\n",
              "      <td>64954700.0</td>\n",
              "      <td>156.770004</td>\n",
              "      <td>0</td>\n",
              "      <td>131.304398</td>\n",
              "      <td>151.411761</td>\n",
              "      <td>145.548928</td>\n",
              "      <td>...</td>\n",
              "      <td>154.458215</td>\n",
              "      <td>156.180640</td>\n",
              "      <td>161.660958</td>\n",
              "      <td>139.802968</td>\n",
              "      <td>22.170805</td>\n",
              "      <td>147.197359</td>\n",
              "      <td>27.826730</td>\n",
              "      <td>19.142847</td>\n",
              "      <td>72.312782</td>\n",
              "      <td>0.823177</td>\n",
              "    </tr>\n",
              "    <tr>\n",
              "      <th>2022-11-17 00:00:00-05:00</th>\n",
              "      <td>157.149994</td>\n",
              "      <td>162.660004</td>\n",
              "      <td>155.350006</td>\n",
              "      <td>156.770004</td>\n",
              "      <td>71089400.0</td>\n",
              "      <td>154.089996</td>\n",
              "      <td>0</td>\n",
              "      <td>131.934418</td>\n",
              "      <td>158.295058</td>\n",
              "      <td>146.965165</td>\n",
              "      <td>...</td>\n",
              "      <td>156.441092</td>\n",
              "      <td>157.547103</td>\n",
              "      <td>164.244065</td>\n",
              "      <td>140.922560</td>\n",
              "      <td>22.195983</td>\n",
              "      <td>147.461590</td>\n",
              "      <td>24.403354</td>\n",
              "      <td>16.941106</td>\n",
              "      <td>68.019938</td>\n",
              "      <td>0.778865</td>\n",
              "    </tr>\n",
              "    <tr>\n",
              "      <th>2022-11-18 00:00:00-05:00</th>\n",
              "      <td>159.660004</td>\n",
              "      <td>160.020004</td>\n",
              "      <td>151.199997</td>\n",
              "      <td>154.089996</td>\n",
              "      <td>49167700.0</td>\n",
              "      <td>153.169998</td>\n",
              "      <td>0</td>\n",
              "      <td>132.606436</td>\n",
              "      <td>158.295058</td>\n",
              "      <td>147.920343</td>\n",
              "      <td>...</td>\n",
              "      <td>158.024934</td>\n",
              "      <td>157.935376</td>\n",
              "      <td>165.049508</td>\n",
              "      <td>141.654487</td>\n",
              "      <td>22.216227</td>\n",
              "      <td>147.654451</td>\n",
              "      <td>16.685673</td>\n",
              "      <td>16.700000</td>\n",
              "      <td>64.067135</td>\n",
              "      <td>0.685835</td>\n",
              "    </tr>\n",
              "    <tr>\n",
              "      <th>2022-11-21 00:00:00-05:00</th>\n",
              "      <td>151.470001</td>\n",
              "      <td>154.770004</td>\n",
              "      <td>150.800003</td>\n",
              "      <td>153.169998</td>\n",
              "      <td>40445800.0</td>\n",
              "      <td>157.820007</td>\n",
              "      <td>1</td>\n",
              "      <td>133.285704</td>\n",
              "      <td>158.295058</td>\n",
              "      <td>148.596651</td>\n",
              "      <td>...</td>\n",
              "      <td>159.217349</td>\n",
              "      <td>157.701638</td>\n",
              "      <td>164.342070</td>\n",
              "      <td>142.166560</td>\n",
              "      <td>22.232566</td>\n",
              "      <td>147.805705</td>\n",
              "      <td>12.443988</td>\n",
              "      <td>15.023644</td>\n",
              "      <td>61.864992</td>\n",
              "      <td>0.514266</td>\n",
              "    </tr>\n",
              "    <tr>\n",
              "      <th>2022-11-22 00:00:00-05:00</th>\n",
              "      <td>153.279999</td>\n",
              "      <td>159.259995</td>\n",
              "      <td>151.216003</td>\n",
              "      <td>157.820007</td>\n",
              "      <td>30147452.0</td>\n",
              "      <td>0.000000</td>\n",
              "      <td>0</td>\n",
              "      <td>134.086887</td>\n",
              "      <td>158.295058</td>\n",
              "      <td>149.473190</td>\n",
              "      <td>...</td>\n",
              "      <td>160.319389</td>\n",
              "      <td>157.751419</td>\n",
              "      <td>162.905127</td>\n",
              "      <td>142.635431</td>\n",
              "      <td>22.245393</td>\n",
              "      <td>148.012367</td>\n",
              "      <td>12.025398</td>\n",
              "      <td>12.679937</td>\n",
              "      <td>63.989964</td>\n",
              "      <td>0.365405</td>\n",
              "    </tr>\n",
              "  </tbody>\n",
              "</table>\n",
              "<p>6001 rows × 28 columns</p>\n",
              "</div>\n",
              "      <button class=\"colab-df-convert\" onclick=\"convertToInteractive('df-932ffdc5-6402-43ee-84cd-3732b3188ae3')\"\n",
              "              title=\"Convert this dataframe to an interactive table.\"\n",
              "              style=\"display:none;\">\n",
              "        \n",
              "  <svg xmlns=\"http://www.w3.org/2000/svg\" height=\"24px\"viewBox=\"0 0 24 24\"\n",
              "       width=\"24px\">\n",
              "    <path d=\"M0 0h24v24H0V0z\" fill=\"none\"/>\n",
              "    <path d=\"M18.56 5.44l.94 2.06.94-2.06 2.06-.94-2.06-.94-.94-2.06-.94 2.06-2.06.94zm-11 1L8.5 8.5l.94-2.06 2.06-.94-2.06-.94L8.5 2.5l-.94 2.06-2.06.94zm10 10l.94 2.06.94-2.06 2.06-.94-2.06-.94-.94-2.06-.94 2.06-2.06.94z\"/><path d=\"M17.41 7.96l-1.37-1.37c-.4-.4-.92-.59-1.43-.59-.52 0-1.04.2-1.43.59L10.3 9.45l-7.72 7.72c-.78.78-.78 2.05 0 2.83L4 21.41c.39.39.9.59 1.41.59.51 0 1.02-.2 1.41-.59l7.78-7.78 2.81-2.81c.8-.78.8-2.07 0-2.86zM5.41 20L4 18.59l7.72-7.72 1.47 1.35L5.41 20z\"/>\n",
              "  </svg>\n",
              "      </button>\n",
              "      \n",
              "  <style>\n",
              "    .colab-df-container {\n",
              "      display:flex;\n",
              "      flex-wrap:wrap;\n",
              "      gap: 12px;\n",
              "    }\n",
              "\n",
              "    .colab-df-convert {\n",
              "      background-color: #E8F0FE;\n",
              "      border: none;\n",
              "      border-radius: 50%;\n",
              "      cursor: pointer;\n",
              "      display: none;\n",
              "      fill: #1967D2;\n",
              "      height: 32px;\n",
              "      padding: 0 0 0 0;\n",
              "      width: 32px;\n",
              "    }\n",
              "\n",
              "    .colab-df-convert:hover {\n",
              "      background-color: #E2EBFA;\n",
              "      box-shadow: 0px 1px 2px rgba(60, 64, 67, 0.3), 0px 1px 3px 1px rgba(60, 64, 67, 0.15);\n",
              "      fill: #174EA6;\n",
              "    }\n",
              "\n",
              "    [theme=dark] .colab-df-convert {\n",
              "      background-color: #3B4455;\n",
              "      fill: #D2E3FC;\n",
              "    }\n",
              "\n",
              "    [theme=dark] .colab-df-convert:hover {\n",
              "      background-color: #434B5C;\n",
              "      box-shadow: 0px 1px 3px 1px rgba(0, 0, 0, 0.15);\n",
              "      filter: drop-shadow(0px 1px 2px rgba(0, 0, 0, 0.3));\n",
              "      fill: #FFFFFF;\n",
              "    }\n",
              "  </style>\n",
              "\n",
              "      <script>\n",
              "        const buttonEl =\n",
              "          document.querySelector('#df-932ffdc5-6402-43ee-84cd-3732b3188ae3 button.colab-df-convert');\n",
              "        buttonEl.style.display =\n",
              "          google.colab.kernel.accessAllowed ? 'block' : 'none';\n",
              "\n",
              "        async function convertToInteractive(key) {\n",
              "          const element = document.querySelector('#df-932ffdc5-6402-43ee-84cd-3732b3188ae3');\n",
              "          const dataTable =\n",
              "            await google.colab.kernel.invokeFunction('convertToInteractive',\n",
              "                                                     [key], {});\n",
              "          if (!dataTable) return;\n",
              "\n",
              "          const docLinkHtml = 'Like what you see? Visit the ' +\n",
              "            '<a target=\"_blank\" href=https://colab.research.google.com/notebooks/data_table.ipynb>data table notebook</a>'\n",
              "            + ' to learn more about interactive tables.';\n",
              "          element.innerHTML = '';\n",
              "          dataTable['output_type'] = 'display_data';\n",
              "          await google.colab.output.renderOutput(dataTable, element);\n",
              "          const docLink = document.createElement('div');\n",
              "          docLink.innerHTML = docLinkHtml;\n",
              "          element.appendChild(docLink);\n",
              "        }\n",
              "      </script>\n",
              "    </div>\n",
              "  </div>\n",
              "  "
            ]
          },
          "metadata": {},
          "execution_count": 331
        }
      ]
    },
    {
      "cell_type": "code",
      "source": [
        "from sklearn.ensemble import RandomForestClassifier\n",
        "from sklearn.metrics import precision_score\n",
        "from numpy.core.arrayprint import format_float_scientific\n",
        "from sklearn.ensemble import AdaBoostClassifier\n",
        "from sklearn.tree import DecisionTreeClassifier\n",
        "from sklearn.discriminant_analysis import QuadraticDiscriminantAnalysis\n",
        "from sklearn.neural_network import MLPClassifier\n",
        "from sklearn import svm"
      ],
      "metadata": {
        "id": "BvxeUIubHy9U"
      },
      "execution_count": 379,
      "outputs": []
    },
    {
      "cell_type": "code",
      "source": [
        "model = RandomForestClassifier(n_estimators=100, min_samples_split=100, random_state=1)"
      ],
      "metadata": {
        "id": "Kb_ztutyH3Xy"
      },
      "execution_count": 380,
      "outputs": []
    },
    {
      "cell_type": "code",
      "source": [
        "# nvidia = nvidia.drop('2001-09-12 00:00:00-04:00')"
      ],
      "metadata": {
        "id": "qlmsqD-6PWPR"
      },
      "execution_count": null,
      "outputs": []
    },
    {
      "cell_type": "code",
      "source": [
        "print(nvidia.columns)"
      ],
      "metadata": {
        "colab": {
          "base_uri": "https://localhost:8080/"
        },
        "id": "KUQlS1JcXZyT",
        "outputId": "e82b0bb4-5f13-44f3-fbe6-2cc3d252de4d"
      },
      "execution_count": 381,
      "outputs": [
        {
          "output_type": "stream",
          "name": "stdout",
          "text": [
            "Index(['Open', 'High', 'Low', 'Close', 'Volume', 't1', 'Target', 'SMA', 'SMM',\n",
            "       'SSMA', 'EMA', 'DEMA', 'TEMA', 'TRIMA', 'TRIX', 'VAMA', 'ER', 'KAMA',\n",
            "       'ZLEMA', 'WMA', 'HMA', 'EVWMA', 'VWAP', 'SMMA', 'MOM', 'ROC', 'RSI',\n",
            "       'IFT_RSI'],\n",
            "      dtype='object')\n"
          ]
        }
      ]
    },
    {
      "cell_type": "code",
      "source": [
        "print(len(nvidia))"
      ],
      "metadata": {
        "colab": {
          "base_uri": "https://localhost:8080/"
        },
        "id": "5a3ynzaQc61h",
        "outputId": "65f60afe-41f5-4ba5-8c40-6f7bc8318108"
      },
      "execution_count": 382,
      "outputs": [
        {
          "output_type": "stream",
          "name": "stdout",
          "text": [
            "6001\n"
          ]
        }
      ]
    },
    {
      "cell_type": "code",
      "source": [
        "train = nvidia.iloc[:-100]\n",
        "test = nvidia.iloc[-100:]\n",
        "\n",
        "predictors = ['Open', 'High', 'Low', 'Close', 'Volume', 't1', 'SMA', 'SMM', 'SSMA', 'EMA', 'DEMA', \n",
        "              'TEMA', 'TRIMA', 'TRIX', 'VAMA', 'ER', 'KAMA', \n",
        "             'ZLEMA', 'WMA', 'HMA', 'EVWMA', 'VWAP', 'SMMA', 'MOM', 'ROC', 'RSI', 'IFT_RSI']\n",
        "\n",
        "model.fit(train[predictors], train['Target'])"
      ],
      "metadata": {
        "colab": {
          "base_uri": "https://localhost:8080/"
        },
        "id": "MUUxbVAFIS27",
        "outputId": "da56fff0-f42f-4483-bb59-1d310a27870d"
      },
      "execution_count": 383,
      "outputs": [
        {
          "output_type": "execute_result",
          "data": {
            "text/plain": [
              "RandomForestClassifier(min_samples_split=100, random_state=1)"
            ]
          },
          "metadata": {},
          "execution_count": 383
        }
      ]
    },
    {
      "cell_type": "code",
      "source": [
        "preds = model.predict(test[predictors])\n",
        "preds = pd.Series(preds, index = test.index)"
      ],
      "metadata": {
        "id": "YnFxqqcZPfOn"
      },
      "execution_count": 384,
      "outputs": []
    },
    {
      "cell_type": "code",
      "source": [
        "precision_score(test['Target'], preds)"
      ],
      "metadata": {
        "colab": {
          "base_uri": "https://localhost:8080/"
        },
        "id": "p9vdCtqJP3Y-",
        "outputId": "0dac3d7b-461f-4864-9b76-69bdc58399f6"
      },
      "execution_count": 385,
      "outputs": [
        {
          "output_type": "execute_result",
          "data": {
            "text/plain": [
              "0.5714285714285714"
            ]
          },
          "metadata": {},
          "execution_count": 385
        }
      ]
    },
    {
      "cell_type": "code",
      "source": [
        "combined = pd.concat([test['Target'], preds], axis=1)"
      ],
      "metadata": {
        "id": "Z0qi-5YxQU7X"
      },
      "execution_count": 386,
      "outputs": []
    },
    {
      "cell_type": "code",
      "source": [
        "combined.plot()"
      ],
      "metadata": {
        "colab": {
          "base_uri": "https://localhost:8080/",
          "height": 294
        },
        "id": "42IFgA6VQcHV",
        "outputId": "8a57d4ee-0ad4-4df5-a3b4-32a6aaa439f3"
      },
      "execution_count": 341,
      "outputs": [
        {
          "output_type": "execute_result",
          "data": {
            "text/plain": [
              "<matplotlib.axes._subplots.AxesSubplot at 0x7fad75e57390>"
            ]
          },
          "metadata": {},
          "execution_count": 341
        },
        {
          "output_type": "display_data",
          "data": {
            "text/plain": [
              "<Figure size 432x288 with 1 Axes>"
            ],
            "image/png": "[encoded data removed]"
          },
          "metadata": {
            "needs_background": "light"
          }
        }
      ]
    },
    {
      "cell_type": "code",
      "source": [
        "def predict(train, test, predictors, model):\n",
        "  model.fit(train[predictors], train['Target'])\n",
        "  preds = model.predict(test[predictors])\n",
        "  preds = pd.Series(preds, index = test.index, name = 'Predictions')\n",
        "  combined = pd.concat([test['Target'], preds], axis = 1)\n",
        "  return combined"
      ],
      "metadata": {
        "id": "-sGSpzeRRTsg"
      },
      "execution_count": 387,
      "outputs": []
    },
    {
      "cell_type": "code",
      "source": [
        "def backtest(data, model, predictors, start=2500, step=250):\n",
        "  all_predictions = []\n",
        "\n",
        "  for i in range(start, data.shape[0], step):\n",
        "    train = data.iloc[0:i].copy()\n",
        "    test = data.iloc[i:(i + step)].copy()\n",
        "    predictions = predict(train, test, predictors, model)\n",
        "    all_predictions.append(predictions)\n",
        "  return pd.concat(all_predictions)"
      ],
      "metadata": {
        "id": "VYw_zTSNSDg8"
      },
      "execution_count": 388,
      "outputs": []
    },
    {
      "cell_type": "code",
      "source": [
        "predictions = backtest(nvidia, model, predictors)"
      ],
      "metadata": {
        "id": "0FWkeOkgS8CT"
      },
      "execution_count": 389,
      "outputs": []
    },
    {
      "cell_type": "code",
      "source": [
        "predictions['Predictions'].value_counts()"
      ],
      "metadata": {
        "colab": {
          "base_uri": "https://localhost:8080/"
        },
        "id": "rX8YOevLT2Bl",
        "outputId": "cbd89e3d-ac94-40db-9f04-4de05f0ce03c"
      },
      "execution_count": 345,
      "outputs": [
        {
          "output_type": "execute_result",
          "data": {
            "text/plain": [
              "0    2478\n",
              "1    1023\n",
              "Name: Predictions, dtype: int64"
            ]
          },
          "metadata": {},
          "execution_count": 345
        }
      ]
    },
    {
      "cell_type": "code",
      "source": [
        "precision_score(predictions['Target'], predictions['Predictions'])"
      ],
      "metadata": {
        "colab": {
          "base_uri": "https://localhost:8080/"
        },
        "id": "cxnqJip3UBIh",
        "outputId": "8dbad332-1fa2-40fc-a723-fb71a9453cea"
      },
      "execution_count": 390,
      "outputs": [
        {
          "output_type": "execute_result",
          "data": {
            "text/plain": [
              "0.5751196172248804"
            ]
          },
          "metadata": {},
          "execution_count": 390
        }
      ]
    },
    {
      "cell_type": "code",
      "source": [
        "predictions['Target'].value_counts() / predictions.shape[0]"
      ],
      "metadata": {
        "colab": {
          "base_uri": "https://localhost:8080/"
        },
        "id": "F_OcE7lzUY9P",
        "outputId": "6f65a08b-771e-4910-d811-c89f7fedda91"
      },
      "execution_count": 347,
      "outputs": [
        {
          "output_type": "execute_result",
          "data": {
            "text/plain": [
              "1    0.526421\n",
              "0    0.473579\n",
              "Name: Target, dtype: float64"
            ]
          },
          "metadata": {},
          "execution_count": 347
        }
      ]
    },
    {
      "cell_type": "code",
      "source": [
        "horizons = [2, 5, 60, 250, 1000]"
      ],
      "metadata": {
        "id": "-_F72KhoUpr8"
      },
      "execution_count": 391,
      "outputs": []
    },
    {
      "cell_type": "code",
      "source": [
        "new_predictors = []\n",
        "\n",
        "for horizon in horizons:\n",
        "  rolling_averages = nvidia.rolling(horizon).mean()\n",
        "\n",
        "  ratio_column = f'Close_Ratio_{horizon}'\n",
        "  nvidia[ratio_column] = nvidia['Close'] / rolling_averages['Close']\n",
        "\n",
        "  trend_column = f'Trend_{horizon}'\n",
        "  nvidia[trend_column] = nvidia.shift(1).rolling(horizon).sum()['Target']\n",
        "\n",
        "  new_predictors += [ratio_column, trend_column]"
      ],
      "metadata": {
        "id": "TKMCdsa5Upog"
      },
      "execution_count": 392,
      "outputs": []
    },
    {
      "cell_type": "code",
      "source": [
        "# nvidia = nvidia.dropna()\n",
        "nvidia = nvidia.fillna(0)"
      ],
      "metadata": {
        "id": "Npg0vQs_Um5V"
      },
      "execution_count": 393,
      "outputs": []
    },
    {
      "cell_type": "code",
      "source": [
        "nvidia"
      ],
      "metadata": {
        "colab": {
          "base_uri": "https://localhost:8080/",
          "height": 1000
        },
        "id": "r8U-qPo8WuKI",
        "outputId": "55051463-528b-48c0-e889-1213e0db673b"
      },
      "execution_count": 350,
      "outputs": [
        {
          "output_type": "execute_result",
          "data": {
            "text/plain": [
              "                                 Open        High         Low       Close  \\\n",
              "Date                                                                        \n",
              "1999-01-22 00:00:00-05:00    0.401619    0.448236    0.356198    0.376518   \n",
              "1999-01-25 00:00:00-05:00    0.406400    0.420744    0.376518    0.415963   \n",
              "1999-01-26 00:00:00-05:00    0.420744    0.429111    0.377713    0.383690   \n",
              "1999-01-27 00:00:00-05:00    0.384885    0.394448    0.363370    0.382495   \n",
              "1999-01-28 00:00:00-05:00    0.382495    0.384885    0.378908    0.381300   \n",
              "...                               ...         ...         ...         ...   \n",
              "2022-11-16 00:00:00-05:00  161.619995  163.619995  158.729996  159.100006   \n",
              "2022-11-17 00:00:00-05:00  157.149994  162.660004  155.350006  156.770004   \n",
              "2022-11-18 00:00:00-05:00  159.660004  160.020004  151.199997  154.089996   \n",
              "2022-11-21 00:00:00-05:00  151.470001  154.770004  150.800003  153.169998   \n",
              "2022-11-22 00:00:00-05:00  153.279999  159.259995  151.216003  157.820007   \n",
              "\n",
              "                                Volume          t1  Target         SMA  \\\n",
              "Date                                                                     \n",
              "1999-01-22 00:00:00-05:00  271468800.0    0.415963       1    0.000000   \n",
              "1999-01-25 00:00:00-05:00   51048000.0    0.383690       0    0.000000   \n",
              "1999-01-26 00:00:00-05:00   34320000.0    0.382495       0    0.000000   \n",
              "1999-01-27 00:00:00-05:00   24436800.0    0.381300       0    0.000000   \n",
              "1999-01-28 00:00:00-05:00   22752000.0    0.363370       0    0.000000   \n",
              "...                                ...         ...     ...         ...   \n",
              "2022-11-16 00:00:00-05:00   64954700.0  156.770004       0  131.304398   \n",
              "2022-11-17 00:00:00-05:00   71089400.0  154.089996       0  131.934418   \n",
              "2022-11-18 00:00:00-05:00   49167700.0  153.169998       0  132.606436   \n",
              "2022-11-21 00:00:00-05:00   40445800.0  157.820007       1  133.285704   \n",
              "2022-11-22 00:00:00-05:00   30147452.0    0.000000       0  134.086887   \n",
              "\n",
              "                                  SMM        SSMA  ...  Close_Ratio_2  \\\n",
              "Date                                               ...                  \n",
              "1999-01-22 00:00:00-05:00    0.000000    0.376518  ...            NaN   \n",
              "1999-01-25 00:00:00-05:00    0.000000    0.391987  ...       1.049774   \n",
              "1999-01-26 00:00:00-05:00    0.000000    0.391530  ...       0.959642   \n",
              "1999-01-27 00:00:00-05:00    0.000000    0.389690  ...       0.998440   \n",
              "1999-01-28 00:00:00-05:00    0.000000    0.387942  ...       0.998435   \n",
              "...                               ...         ...  ...            ...   \n",
              "2022-11-16 00:00:00-05:00  151.411761  145.548928  ...       0.976793   \n",
              "2022-11-17 00:00:00-05:00  158.295058  146.965165  ...       0.992624   \n",
              "2022-11-18 00:00:00-05:00  158.295058  147.920343  ...       0.991379   \n",
              "2022-11-21 00:00:00-05:00  158.295058  148.596651  ...       0.997006   \n",
              "2022-11-22 00:00:00-05:00  158.295058  149.473190  ...       1.014952   \n",
              "\n",
              "                           Trend_2  Close_Ratio_5  Trend_5  Close_Ratio_60  \\\n",
              "Date                                                                         \n",
              "1999-01-22 00:00:00-05:00      NaN            NaN      NaN             NaN   \n",
              "1999-01-25 00:00:00-05:00      NaN            NaN      NaN             NaN   \n",
              "1999-01-26 00:00:00-05:00      1.0            NaN      NaN             NaN   \n",
              "1999-01-27 00:00:00-05:00      0.0            NaN      NaN             NaN   \n",
              "1999-01-28 00:00:00-05:00      0.0       0.982749      NaN             NaN   \n",
              "...                            ...            ...      ...             ...   \n",
              "2022-11-16 00:00:00-05:00      1.0       0.982730      3.0        1.172422   \n",
              "2022-11-17 00:00:00-05:00      0.0       0.969212      2.0        1.157441   \n",
              "2022-11-18 00:00:00-05:00      0.0       0.963580      1.0        1.141163   \n",
              "2022-11-21 00:00:00-05:00      0.0       0.969688      1.0        1.135665   \n",
              "2022-11-22 00:00:00-05:00      1.0       1.010436      1.0        1.170163   \n",
              "\n",
              "                           Trend_60  Close_Ratio_250  Trend_250  \\\n",
              "Date                                                              \n",
              "1999-01-22 00:00:00-05:00       NaN              NaN        NaN   \n",
              "1999-01-25 00:00:00-05:00       NaN              NaN        NaN   \n",
              "1999-01-26 00:00:00-05:00       NaN              NaN        NaN   \n",
              "1999-01-27 00:00:00-05:00       NaN              NaN        NaN   \n",
              "1999-01-28 00:00:00-05:00       NaN              NaN        NaN   \n",
              "...                             ...              ...        ...   \n",
              "2022-11-16 00:00:00-05:00      32.0         0.786105      122.0   \n",
              "2022-11-17 00:00:00-05:00      31.0         0.777247      121.0   \n",
              "2022-11-18 00:00:00-05:00      30.0         0.766471      121.0   \n",
              "2022-11-21 00:00:00-05:00      30.0         0.764390      121.0   \n",
              "2022-11-22 00:00:00-05:00      31.0         0.790256      121.0   \n",
              "\n",
              "                           Close_Ratio_1000  Trend_1000  \n",
              "Date                                                     \n",
              "1999-01-22 00:00:00-05:00               NaN         NaN  \n",
              "1999-01-25 00:00:00-05:00               NaN         NaN  \n",
              "1999-01-26 00:00:00-05:00               NaN         NaN  \n",
              "1999-01-27 00:00:00-05:00               NaN         NaN  \n",
              "1999-01-28 00:00:00-05:00               NaN         NaN  \n",
              "...                                     ...         ...  \n",
              "2022-11-16 00:00:00-05:00          1.246801       541.0  \n",
              "2022-11-17 00:00:00-05:00          1.227416       540.0  \n",
              "2022-11-18 00:00:00-05:00          1.205347       540.0  \n",
              "2022-11-21 00:00:00-05:00          1.197096       539.0  \n",
              "2022-11-22 00:00:00-05:00          1.232325       539.0  \n",
              "\n",
              "[6001 rows x 38 columns]"
            ],
            "text/html": [
              "\n",
              "  <div id=\"df-2dd89861-c3e7-44fb-a6c9-e1e2a6598022\">\n",
              "    <div class=\"colab-df-container\">\n",
              "      <div>\n",
              "<style scoped>\n",
              "    .dataframe tbody tr th:only-of-type {\n",
              "        vertical-align: middle;\n",
              "    }\n",
              "\n",
              "    .dataframe tbody tr th {\n",
              "        vertical-align: top;\n",
              "    }\n",
              "\n",
              "    .dataframe thead th {\n",
              "        text-align: right;\n",
              "    }\n",
              "</style>\n",
              "<table border=\"1\" class=\"dataframe\">\n",
              "  <thead>\n",
              "    <tr style=\"text-align: right;\">\n",
              "      <th></th>\n",
              "      <th>Open</th>\n",
              "      <th>High</th>\n",
              "      <th>Low</th>\n",
              "      <th>Close</th>\n",
              "      <th>Volume</th>\n",
              "      <th>t1</th>\n",
              "      <th>Target</th>\n",
              "      <th>SMA</th>\n",
              "      <th>SMM</th>\n",
              "      <th>SSMA</th>\n",
              "      <th>...</th>\n",
              "      <th>Close_Ratio_2</th>\n",
              "      <th>Trend_2</th>\n",
              "      <th>Close_Ratio_5</th>\n",
              "      <th>Trend_5</th>\n",
              "      <th>Close_Ratio_60</th>\n",
              "      <th>Trend_60</th>\n",
              "      <th>Close_Ratio_250</th>\n",
              "      <th>Trend_250</th>\n",
              "      <th>Close_Ratio_1000</th>\n",
              "      <th>Trend_1000</th>\n",
              "    </tr>\n",
              "    <tr>\n",
              "      <th>Date</th>\n",
              "      <th></th>\n",
              "      <th></th>\n",
              "      <th></th>\n",
              "      <th></th>\n",
              "      <th></th>\n",
              "      <th></th>\n",
              "      <th></th>\n",
              "      <th></th>\n",
              "      <th></th>\n",
              "      <th></th>\n",
              "      <th></th>\n",
              "      <th></th>\n",
              "      <th></th>\n",
              "      <th></th>\n",
              "      <th></th>\n",
              "      <th></th>\n",
              "      <th></th>\n",
              "      <th></th>\n",
              "      <th></th>\n",
              "      <th></th>\n",
              "      <th></th>\n",
              "    </tr>\n",
              "  </thead>\n",
              "  <tbody>\n",
              "    <tr>\n",
              "      <th>1999-01-22 00:00:00-05:00</th>\n",
              "      <td>0.401619</td>\n",
              "      <td>0.448236</td>\n",
              "      <td>0.356198</td>\n",
              "      <td>0.376518</td>\n",
              "      <td>271468800.0</td>\n",
              "      <td>0.415963</td>\n",
              "      <td>1</td>\n",
              "      <td>0.000000</td>\n",
              "      <td>0.000000</td>\n",
              "      <td>0.376518</td>\n",
              "      <td>...</td>\n",
              "      <td>NaN</td>\n",
              "      <td>NaN</td>\n",
              "      <td>NaN</td>\n",
              "      <td>NaN</td>\n",
              "      <td>NaN</td>\n",
              "      <td>NaN</td>\n",
              "      <td>NaN</td>\n",
              "      <td>NaN</td>\n",
              "      <td>NaN</td>\n",
              "      <td>NaN</td>\n",
              "    </tr>\n",
              "    <tr>\n",
              "      <th>1999-01-25 00:00:00-05:00</th>\n",
              "      <td>0.406400</td>\n",
              "      <td>0.420744</td>\n",
              "      <td>0.376518</td>\n",
              "      <td>0.415963</td>\n",
              "      <td>51048000.0</td>\n",
              "      <td>0.383690</td>\n",
              "      <td>0</td>\n",
              "      <td>0.000000</td>\n",
              "      <td>0.000000</td>\n",
              "      <td>0.391987</td>\n",
              "      <td>...</td>\n",
              "      <td>1.049774</td>\n",
              "      <td>NaN</td>\n",
              "      <td>NaN</td>\n",
              "      <td>NaN</td>\n",
              "      <td>NaN</td>\n",
              "      <td>NaN</td>\n",
              "      <td>NaN</td>\n",
              "      <td>NaN</td>\n",
              "      <td>NaN</td>\n",
              "      <td>NaN</td>\n",
              "    </tr>\n",
              "    <tr>\n",
              "      <th>1999-01-26 00:00:00-05:00</th>\n",
              "      <td>0.420744</td>\n",
              "      <td>0.429111</td>\n",
              "      <td>0.377713</td>\n",
              "      <td>0.383690</td>\n",
              "      <td>34320000.0</td>\n",
              "      <td>0.382495</td>\n",
              "      <td>0</td>\n",
              "      <td>0.000000</td>\n",
              "      <td>0.000000</td>\n",
              "      <td>0.391530</td>\n",
              "      <td>...</td>\n",
              "      <td>0.959642</td>\n",
              "      <td>1.0</td>\n",
              "      <td>NaN</td>\n",
              "      <td>NaN</td>\n",
              "      <td>NaN</td>\n",
              "      <td>NaN</td>\n",
              "      <td>NaN</td>\n",
              "      <td>NaN</td>\n",
              "      <td>NaN</td>\n",
              "      <td>NaN</td>\n",
              "    </tr>\n",
              "    <tr>\n",
              "      <th>1999-01-27 00:00:00-05:00</th>\n",
              "      <td>0.384885</td>\n",
              "      <td>0.394448</td>\n",
              "      <td>0.363370</td>\n",
              "      <td>0.382495</td>\n",
              "      <td>24436800.0</td>\n",
              "      <td>0.381300</td>\n",
              "      <td>0</td>\n",
              "      <td>0.000000</td>\n",
              "      <td>0.000000</td>\n",
              "      <td>0.389690</td>\n",
              "      <td>...</td>\n",
              "      <td>0.998440</td>\n",
              "      <td>0.0</td>\n",
              "      <td>NaN</td>\n",
              "      <td>NaN</td>\n",
              "      <td>NaN</td>\n",
              "      <td>NaN</td>\n",
              "      <td>NaN</td>\n",
              "      <td>NaN</td>\n",
              "      <td>NaN</td>\n",
              "      <td>NaN</td>\n",
              "    </tr>\n",
              "    <tr>\n",
              "      <th>1999-01-28 00:00:00-05:00</th>\n",
              "      <td>0.382495</td>\n",
              "      <td>0.384885</td>\n",
              "      <td>0.378908</td>\n",
              "      <td>0.381300</td>\n",
              "      <td>22752000.0</td>\n",
              "      <td>0.363370</td>\n",
              "      <td>0</td>\n",
              "      <td>0.000000</td>\n",
              "      <td>0.000000</td>\n",
              "      <td>0.387942</td>\n",
              "      <td>...</td>\n",
              "      <td>0.998435</td>\n",
              "      <td>0.0</td>\n",
              "      <td>0.982749</td>\n",
              "      <td>NaN</td>\n",
              "      <td>NaN</td>\n",
              "      <td>NaN</td>\n",
              "      <td>NaN</td>\n",
              "      <td>NaN</td>\n",
              "      <td>NaN</td>\n",
              "      <td>NaN</td>\n",
              "    </tr>\n",
              "    <tr>\n",
              "      <th>...</th>\n",
              "      <td>...</td>\n",
              "      <td>...</td>\n",
              "      <td>...</td>\n",
              "      <td>...</td>\n",
              "      <td>...</td>\n",
              "      <td>...</td>\n",
              "      <td>...</td>\n",
              "      <td>...</td>\n",
              "      <td>...</td>\n",
              "      <td>...</td>\n",
              "      <td>...</td>\n",
              "      <td>...</td>\n",
              "      <td>...</td>\n",
              "      <td>...</td>\n",
              "      <td>...</td>\n",
              "      <td>...</td>\n",
              "      <td>...</td>\n",
              "      <td>...</td>\n",
              "      <td>...</td>\n",
              "      <td>...</td>\n",
              "      <td>...</td>\n",
              "    </tr>\n",
              "    <tr>\n",
              "      <th>2022-11-16 00:00:00-05:00</th>\n",
              "      <td>161.619995</td>\n",
              "      <td>163.619995</td>\n",
              "      <td>158.729996</td>\n",
              "      <td>159.100006</td>\n",
              "      <td>64954700.0</td>\n",
              "      <td>156.770004</td>\n",
              "      <td>0</td>\n",
              "      <td>131.304398</td>\n",
              "      <td>151.411761</td>\n",
              "      <td>145.548928</td>\n",
              "      <td>...</td>\n",
              "      <td>0.976793</td>\n",
              "      <td>1.0</td>\n",
              "      <td>0.982730</td>\n",
              "      <td>3.0</td>\n",
              "      <td>1.172422</td>\n",
              "      <td>32.0</td>\n",
              "      <td>0.786105</td>\n",
              "      <td>122.0</td>\n",
              "      <td>1.246801</td>\n",
              "      <td>541.0</td>\n",
              "    </tr>\n",
              "    <tr>\n",
              "      <th>2022-11-17 00:00:00-05:00</th>\n",
              "      <td>157.149994</td>\n",
              "      <td>162.660004</td>\n",
              "      <td>155.350006</td>\n",
              "      <td>156.770004</td>\n",
              "      <td>71089400.0</td>\n",
              "      <td>154.089996</td>\n",
              "      <td>0</td>\n",
              "      <td>131.934418</td>\n",
              "      <td>158.295058</td>\n",
              "      <td>146.965165</td>\n",
              "      <td>...</td>\n",
              "      <td>0.992624</td>\n",
              "      <td>0.0</td>\n",
              "      <td>0.969212</td>\n",
              "      <td>2.0</td>\n",
              "      <td>1.157441</td>\n",
              "      <td>31.0</td>\n",
              "      <td>0.777247</td>\n",
              "      <td>121.0</td>\n",
              "      <td>1.227416</td>\n",
              "      <td>540.0</td>\n",
              "    </tr>\n",
              "    <tr>\n",
              "      <th>2022-11-18 00:00:00-05:00</th>\n",
              "      <td>159.660004</td>\n",
              "      <td>160.020004</td>\n",
              "      <td>151.199997</td>\n",
              "      <td>154.089996</td>\n",
              "      <td>49167700.0</td>\n",
              "      <td>153.169998</td>\n",
              "      <td>0</td>\n",
              "      <td>132.606436</td>\n",
              "      <td>158.295058</td>\n",
              "      <td>147.920343</td>\n",
              "      <td>...</td>\n",
              "      <td>0.991379</td>\n",
              "      <td>0.0</td>\n",
              "      <td>0.963580</td>\n",
              "      <td>1.0</td>\n",
              "      <td>1.141163</td>\n",
              "      <td>30.0</td>\n",
              "      <td>0.766471</td>\n",
              "      <td>121.0</td>\n",
              "      <td>1.205347</td>\n",
              "      <td>540.0</td>\n",
              "    </tr>\n",
              "    <tr>\n",
              "      <th>2022-11-21 00:00:00-05:00</th>\n",
              "      <td>151.470001</td>\n",
              "      <td>154.770004</td>\n",
              "      <td>150.800003</td>\n",
              "      <td>153.169998</td>\n",
              "      <td>40445800.0</td>\n",
              "      <td>157.820007</td>\n",
              "      <td>1</td>\n",
              "      <td>133.285704</td>\n",
              "      <td>158.295058</td>\n",
              "      <td>148.596651</td>\n",
              "      <td>...</td>\n",
              "      <td>0.997006</td>\n",
              "      <td>0.0</td>\n",
              "      <td>0.969688</td>\n",
              "      <td>1.0</td>\n",
              "      <td>1.135665</td>\n",
              "      <td>30.0</td>\n",
              "      <td>0.764390</td>\n",
              "      <td>121.0</td>\n",
              "      <td>1.197096</td>\n",
              "      <td>539.0</td>\n",
              "    </tr>\n",
              "    <tr>\n",
              "      <th>2022-11-22 00:00:00-05:00</th>\n",
              "      <td>153.279999</td>\n",
              "      <td>159.259995</td>\n",
              "      <td>151.216003</td>\n",
              "      <td>157.820007</td>\n",
              "      <td>30147452.0</td>\n",
              "      <td>0.000000</td>\n",
              "      <td>0</td>\n",
              "      <td>134.086887</td>\n",
              "      <td>158.295058</td>\n",
              "      <td>149.473190</td>\n",
              "      <td>...</td>\n",
              "      <td>1.014952</td>\n",
              "      <td>1.0</td>\n",
              "      <td>1.010436</td>\n",
              "      <td>1.0</td>\n",
              "      <td>1.170163</td>\n",
              "      <td>31.0</td>\n",
              "      <td>0.790256</td>\n",
              "      <td>121.0</td>\n",
              "      <td>1.232325</td>\n",
              "      <td>539.0</td>\n",
              "    </tr>\n",
              "  </tbody>\n",
              "</table>\n",
              "<p>6001 rows × 38 columns</p>\n",
              "</div>\n",
              "      <button class=\"colab-df-convert\" onclick=\"convertToInteractive('df-2dd89861-c3e7-44fb-a6c9-e1e2a6598022')\"\n",
              "              title=\"Convert this dataframe to an interactive table.\"\n",
              "              style=\"display:none;\">\n",
              "        \n",
              "  <svg xmlns=\"http://www.w3.org/2000/svg\" height=\"24px\"viewBox=\"0 0 24 24\"\n",
              "       width=\"24px\">\n",
              "    <path d=\"M0 0h24v24H0V0z\" fill=\"none\"/>\n",
              "    <path d=\"M18.56 5.44l.94 2.06.94-2.06 2.06-.94-2.06-.94-.94-2.06-.94 2.06-2.06.94zm-11 1L8.5 8.5l.94-2.06 2.06-.94-2.06-.94L8.5 2.5l-.94 2.06-2.06.94zm10 10l.94 2.06.94-2.06 2.06-.94-2.06-.94-.94-2.06-.94 2.06-2.06.94z\"/><path d=\"M17.41 7.96l-1.37-1.37c-.4-.4-.92-.59-1.43-.59-.52 0-1.04.2-1.43.59L10.3 9.45l-7.72 7.72c-.78.78-.78 2.05 0 2.83L4 21.41c.39.39.9.59 1.41.59.51 0 1.02-.2 1.41-.59l7.78-7.78 2.81-2.81c.8-.78.8-2.07 0-2.86zM5.41 20L4 18.59l7.72-7.72 1.47 1.35L5.41 20z\"/>\n",
              "  </svg>\n",
              "      </button>\n",
              "      \n",
              "  <style>\n",
              "    .colab-df-container {\n",
              "      display:flex;\n",
              "      flex-wrap:wrap;\n",
              "      gap: 12px;\n",
              "    }\n",
              "\n",
              "    .colab-df-convert {\n",
              "      background-color: #E8F0FE;\n",
              "      border: none;\n",
              "      border-radius: 50%;\n",
              "      cursor: pointer;\n",
              "      display: none;\n",
              "      fill: #1967D2;\n",
              "      height: 32px;\n",
              "      padding: 0 0 0 0;\n",
              "      width: 32px;\n",
              "    }\n",
              "\n",
              "    .colab-df-convert:hover {\n",
              "      background-color: #E2EBFA;\n",
              "      box-shadow: 0px 1px 2px rgba(60, 64, 67, 0.3), 0px 1px 3px 1px rgba(60, 64, 67, 0.15);\n",
              "      fill: #174EA6;\n",
              "    }\n",
              "\n",
              "    [theme=dark] .colab-df-convert {\n",
              "      background-color: #3B4455;\n",
              "      fill: #D2E3FC;\n",
              "    }\n",
              "\n",
              "    [theme=dark] .colab-df-convert:hover {\n",
              "      background-color: #434B5C;\n",
              "      box-shadow: 0px 1px 3px 1px rgba(0, 0, 0, 0.15);\n",
              "      filter: drop-shadow(0px 1px 2px rgba(0, 0, 0, 0.3));\n",
              "      fill: #FFFFFF;\n",
              "    }\n",
              "  </style>\n",
              "\n",
              "      <script>\n",
              "        const buttonEl =\n",
              "          document.querySelector('#df-2dd89861-c3e7-44fb-a6c9-e1e2a6598022 button.colab-df-convert');\n",
              "        buttonEl.style.display =\n",
              "          google.colab.kernel.accessAllowed ? 'block' : 'none';\n",
              "\n",
              "        async function convertToInteractive(key) {\n",
              "          const element = document.querySelector('#df-2dd89861-c3e7-44fb-a6c9-e1e2a6598022');\n",
              "          const dataTable =\n",
              "            await google.colab.kernel.invokeFunction('convertToInteractive',\n",
              "                                                     [key], {});\n",
              "          if (!dataTable) return;\n",
              "\n",
              "          const docLinkHtml = 'Like what you see? Visit the ' +\n",
              "            '<a target=\"_blank\" href=https://colab.research.google.com/notebooks/data_table.ipynb>data table notebook</a>'\n",
              "            + ' to learn more about interactive tables.';\n",
              "          element.innerHTML = '';\n",
              "          dataTable['output_type'] = 'display_data';\n",
              "          await google.colab.output.renderOutput(dataTable, element);\n",
              "          const docLink = document.createElement('div');\n",
              "          docLink.innerHTML = docLinkHtml;\n",
              "          element.appendChild(docLink);\n",
              "        }\n",
              "      </script>\n",
              "    </div>\n",
              "  </div>\n",
              "  "
            ]
          },
          "metadata": {},
          "execution_count": 350
        }
      ]
    },
    {
      "cell_type": "code",
      "source": [
        "# model = RandomForestClassifier(n_estimators = 200, min_samples_split = 50, random_state = 1)"
      ],
      "metadata": {
        "id": "1Cy7TgXkWx2a"
      },
      "execution_count": 352,
      "outputs": []
    },
    {
      "cell_type": "code",
      "source": [
        "names = [\n",
        "    \"SVC\",\n",
        "    \"Random Forest\",\n",
        "    \"Ada Boost\",\n",
        "    \"Decision Tree\",\n",
        "    \"Quadratic Discrimination\",\n",
        "    \"MPLC\"\n",
        "]\n",
        "\n",
        "classifiers = [\n",
        "    #svm.SVC(gamma=0.001, C=100., kernel='rbf', verbose=False, probability=False),\n",
        "    RandomForestClassifier(n_estimators = 200, min_samples_split = 50, random_state = 1),\n",
        "    AdaBoostClassifier(),\n",
        "    DecisionTreeClassifier(),\n",
        "    QuadraticDiscriminantAnalysis(),\n",
        "    MLPClassifier(alpha=1, max_iter=1000)\n",
        "]"
      ],
      "metadata": {
        "id": "NYA34FH9iWnZ"
      },
      "execution_count": 397,
      "outputs": []
    },
    {
      "cell_type": "code",
      "source": [
        "def predict(train, test, predictors, model):\n",
        "  model.fit(train[predictors], train['Target'])\n",
        "  preds = model.predict_proba(test[predictors])[:,1]\n",
        "  preds[preds >= .6] = 1\n",
        "  preds[preds < .6] = 0\n",
        "  preds = pd.Series(preds, index = test.index, name = 'Predictions')\n",
        "  combined = pd.concat([test['Target'], preds], axis = 1)\n",
        "  return combined"
      ],
      "metadata": {
        "id": "B4NP2MafW81X"
      },
      "execution_count": 395,
      "outputs": []
    },
    {
      "cell_type": "code",
      "source": [
        "accuracy = []\n",
        "for model in classifiers:\n",
        "  predictions = backtest(nvidia, model, new_predictors)\n",
        "  accuracy.append(precision_score(predictions['Target'], predictions['Predictions']))"
      ],
      "metadata": {
        "colab": {
          "base_uri": "https://localhost:8080/"
        },
        "id": "TZ4vtz2ciytj",
        "outputId": "3af5829b-a460-4c4a-838e-c550a6763c20"
      },
      "execution_count": 402,
      "outputs": [
        {
          "output_type": "stream",
          "name": "stderr",
          "text": [
            "/usr/local/lib/python3.7/dist-packages/sklearn/metrics/_classification.py:1318: UndefinedMetricWarning: Precision is ill-defined and being set to 0.0 due to no predicted samples. Use `zero_division` parameter to control this behavior.\n",
            "  _warn_prf(average, modifier, msg_start, len(result))\n"
          ]
        }
      ]
    },
    {
      "cell_type": "code",
      "source": [
        "print(accuracy)"
      ],
      "metadata": {
        "colab": {
          "base_uri": "https://localhost:8080/"
        },
        "id": "wOJPUx8akzZC",
        "outputId": "6e17055b-7599-4b77-a5e0-cfacb33cf763"
      },
      "execution_count": 403,
      "outputs": [
        {
          "output_type": "stream",
          "name": "stdout",
          "text": [
            "[0.573170731707317, 0.0, 0.5407697325505545, 0.527651858567543, 0.5132530120481927]\n"
          ]
        }
      ]
    },
    {
      "cell_type": "markdown",
      "source": [
        "Tried differnt classifiers but still fucking low -> to improve"
      ],
      "metadata": {
        "id": "xfBwN0w6lPMP"
      }
    },
    {
      "cell_type": "code",
      "source": [
        "predictions = backtest(nvidia, model, new_predictors)"
      ],
      "metadata": {
        "id": "yV2MVlNmW8u0"
      },
      "execution_count": 354,
      "outputs": []
    },
    {
      "cell_type": "code",
      "source": [
        "predictions['Predictions'].value_counts()"
      ],
      "metadata": {
        "colab": {
          "base_uri": "https://localhost:8080/"
        },
        "id": "7Gn8FdAKYPSh",
        "outputId": "bc1155cd-b8e7-4275-f46e-cfb430a6b0b2"
      },
      "execution_count": 399,
      "outputs": [
        {
          "output_type": "execute_result",
          "data": {
            "text/plain": [
              "0.0    2275\n",
              "1.0    1226\n",
              "Name: Predictions, dtype: int64"
            ]
          },
          "metadata": {},
          "execution_count": 399
        }
      ]
    },
    {
      "cell_type": "code",
      "source": [
        "precision_score(predictions['Target'], predictions['Predictions'])"
      ],
      "metadata": {
        "colab": {
          "base_uri": "https://localhost:8080/"
        },
        "id": "8vuKdD-_ZUe3",
        "outputId": "5c54d3a0-388c-450f-cf4f-a1af96d2036c"
      },
      "execution_count": 400,
      "outputs": [
        {
          "output_type": "execute_result",
          "data": {
            "text/plain": [
              "0.5212071778140294"
            ]
          },
          "metadata": {},
          "execution_count": 400
        }
      ]
    }
  ]
}