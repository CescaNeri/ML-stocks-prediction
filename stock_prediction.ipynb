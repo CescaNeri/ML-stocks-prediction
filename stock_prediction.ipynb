{
  "nbformat": 4,
  "nbformat_minor": 0,
  "metadata": {
    "colab": {
      "provenance": [],
      "authorship_tag": "ABX9TyN8+OJOVaAVh0I6Hi+kcvPJ",
      "include_colab_link": true
    },
    "kernelspec": {
      "name": "python3",
      "display_name": "Python 3"
    },
    "language_info": {
      "name": "python"
    }
  },
  "cells": [
    {
      "cell_type": "markdown",
      "metadata": {
        "id": "view-in-github",
        "colab_type": "text"
      },
      "source": [
        "<a href=\"https://colab.research.google.com/github/CescaNeri/ML-stocks-prediction/blob/main/stock_prediction.ipynb\" target=\"_parent\"><img src=\"https://colab.research.google.com/assets/colab-badge.svg\" alt=\"Open In Colab\"/></a>"
      ]
    },
    {
      "cell_type": "code",
      "source": [
        "%pip install yfinance --upgrade --no-cache-dir"
      ],
      "metadata": {
        "colab": {
          "base_uri": "https://localhost:8080/"
        },
        "id": "bojtQGM6D1Qw",
        "outputId": "8e73f32d-e4a4-4b61-db7f-cd4a895e0025"
      },
      "execution_count": null,
      "outputs": [
        {
          "output_type": "stream",
          "name": "stdout",
          "text": [
            "Looking in indexes: https://pypi.org/simple, https://us-python.pkg.dev/colab-wheels/public/simple/\n",
            "Collecting yfinance\n",
            "  Downloading yfinance-0.1.87-py2.py3-none-any.whl (29 kB)\n",
            "Collecting requests>=2.26\n",
            "  Downloading requests-2.28.1-py3-none-any.whl (62 kB)\n",
            "\u001b[K     |████████████████████████████████| 62 kB 11.0 MB/s \n",
            "\u001b[?25hRequirement already satisfied: multitasking>=0.0.7 in /usr/local/lib/python3.7/dist-packages (from yfinance) (0.0.11)\n",
            "Requirement already satisfied: lxml>=4.5.1 in /usr/local/lib/python3.7/dist-packages (from yfinance) (4.9.1)\n",
            "Requirement already satisfied: appdirs>=1.4.4 in /usr/local/lib/python3.7/dist-packages (from yfinance) (1.4.4)\n",
            "Requirement already satisfied: pandas>=0.24.0 in /usr/local/lib/python3.7/dist-packages (from yfinance) (1.3.5)\n",
            "Requirement already satisfied: numpy>=1.15 in /usr/local/lib/python3.7/dist-packages (from yfinance) (1.21.6)\n",
            "Requirement already satisfied: pytz>=2017.3 in /usr/local/lib/python3.7/dist-packages (from pandas>=0.24.0->yfinance) (2022.6)\n",
            "Requirement already satisfied: python-dateutil>=2.7.3 in /usr/local/lib/python3.7/dist-packages (from pandas>=0.24.0->yfinance) (2.8.2)\n",
            "Requirement already satisfied: six>=1.5 in /usr/local/lib/python3.7/dist-packages (from python-dateutil>=2.7.3->pandas>=0.24.0->yfinance) (1.15.0)\n",
            "Requirement already satisfied: certifi>=2017.4.17 in /usr/local/lib/python3.7/dist-packages (from requests>=2.26->yfinance) (2022.9.24)\n",
            "Requirement already satisfied: urllib3<1.27,>=1.21.1 in /usr/local/lib/python3.7/dist-packages (from requests>=2.26->yfinance) (1.24.3)\n",
            "Requirement already satisfied: idna<4,>=2.5 in /usr/local/lib/python3.7/dist-packages (from requests>=2.26->yfinance) (2.10)\n",
            "Requirement already satisfied: charset-normalizer<3,>=2 in /usr/local/lib/python3.7/dist-packages (from requests>=2.26->yfinance) (2.1.1)\n",
            "Installing collected packages: requests, yfinance\n",
            "  Attempting uninstall: requests\n",
            "    Found existing installation: requests 2.23.0\n",
            "    Uninstalling requests-2.23.0:\n",
            "      Successfully uninstalled requests-2.23.0\n",
            "Successfully installed requests-2.28.1 yfinance-0.1.87\n"
          ]
        }
      ]
    },
    {
      "cell_type": "code",
      "execution_count": null,
      "metadata": {
        "id": "1br7AiG0DPjd"
      },
      "outputs": [],
      "source": [
        "import yfinance as yf\n",
        "import pandas as pd\n",
        "import numpy as np\n",
        "import matplotlib.pyplot as plt\n",
        "import datetime"
      ]
    },
    {
      "cell_type": "code",
      "source": [
        "stock = 'NVDA'\n",
        "\n",
        "nvidia = yf.Ticker(stock)\n",
        "nvidia = nvidia.history(period='max')\n",
        "\n",
        "nvidia"
      ],
      "metadata": {
        "colab": {
          "base_uri": "https://localhost:8080/",
          "height": 455
        },
        "id": "oaUaNlEbEebf",
        "outputId": "31195e9d-9bd2-4805-abd9-d9d2e8a4be18"
      },
      "execution_count": null,
      "outputs": [
        {
          "output_type": "execute_result",
          "data": {
            "text/plain": [
              "                                 Open        High         Low       Close  \\\n",
              "Date                                                                        \n",
              "1999-01-22 00:00:00-05:00    0.401619    0.448236    0.356198    0.376518   \n",
              "1999-01-25 00:00:00-05:00    0.406400    0.420744    0.376518    0.415963   \n",
              "1999-01-26 00:00:00-05:00    0.420744    0.429111    0.377713    0.383690   \n",
              "1999-01-27 00:00:00-05:00    0.384885    0.394448    0.363370    0.382495   \n",
              "1999-01-28 00:00:00-05:00    0.382495    0.384885    0.378908    0.381300   \n",
              "...                               ...         ...         ...         ...   \n",
              "2022-11-09 00:00:00-05:00  141.619995  142.110001  137.589996  137.759995   \n",
              "2022-11-10 00:00:00-05:00  148.000000  157.729996  145.470001  157.500000   \n",
              "2022-11-11 00:00:00-05:00  158.070007  163.889999  154.820007  163.270004   \n",
              "2022-11-14 00:00:00-05:00  162.179993  165.399994  159.220001  162.949997   \n",
              "2022-11-15 00:00:00-05:00  167.220001  169.979996  163.820007  166.660004   \n",
              "\n",
              "                                Volume  Dividends  Stock Splits  \n",
              "Date                                                             \n",
              "1999-01-22 00:00:00-05:00  271468800.0        0.0           0.0  \n",
              "1999-01-25 00:00:00-05:00   51048000.0        0.0           0.0  \n",
              "1999-01-26 00:00:00-05:00   34320000.0        0.0           0.0  \n",
              "1999-01-27 00:00:00-05:00   24436800.0        0.0           0.0  \n",
              "1999-01-28 00:00:00-05:00   22752000.0        0.0           0.0  \n",
              "...                                ...        ...           ...  \n",
              "2022-11-09 00:00:00-05:00   45441400.0        0.0           0.0  \n",
              "2022-11-10 00:00:00-05:00   70081900.0        0.0           0.0  \n",
              "2022-11-11 00:00:00-05:00   65503700.0        0.0           0.0  \n",
              "2022-11-14 00:00:00-05:00   52785200.0        0.0           0.0  \n",
              "2022-11-15 00:00:00-05:00   54587600.0        0.0           0.0  \n",
              "\n",
              "[5996 rows x 7 columns]"
            ],
            "text/html": [
              "\n",
              "  <div id=\"df-3989ff43-8bb8-4038-ae21-ee01308db904\">\n",
              "    <div class=\"colab-df-container\">\n",
              "      <div>\n",
              "<style scoped>\n",
              "    .dataframe tbody tr th:only-of-type {\n",
              "        vertical-align: middle;\n",
              "    }\n",
              "\n",
              "    .dataframe tbody tr th {\n",
              "        vertical-align: top;\n",
              "    }\n",
              "\n",
              "    .dataframe thead th {\n",
              "        text-align: right;\n",
              "    }\n",
              "</style>\n",
              "<table border=\"1\" class=\"dataframe\">\n",
              "  <thead>\n",
              "    <tr style=\"text-align: right;\">\n",
              "      <th></th>\n",
              "      <th>Open</th>\n",
              "      <th>High</th>\n",
              "      <th>Low</th>\n",
              "      <th>Close</th>\n",
              "      <th>Volume</th>\n",
              "      <th>Dividends</th>\n",
              "      <th>Stock Splits</th>\n",
              "    </tr>\n",
              "    <tr>\n",
              "      <th>Date</th>\n",
              "      <th></th>\n",
              "      <th></th>\n",
              "      <th></th>\n",
              "      <th></th>\n",
              "      <th></th>\n",
              "      <th></th>\n",
              "      <th></th>\n",
              "    </tr>\n",
              "  </thead>\n",
              "  <tbody>\n",
              "    <tr>\n",
              "      <th>1999-01-22 00:00:00-05:00</th>\n",
              "      <td>0.401619</td>\n",
              "      <td>0.448236</td>\n",
              "      <td>0.356198</td>\n",
              "      <td>0.376518</td>\n",
              "      <td>271468800.0</td>\n",
              "      <td>0.0</td>\n",
              "      <td>0.0</td>\n",
              "    </tr>\n",
              "    <tr>\n",
              "      <th>1999-01-25 00:00:00-05:00</th>\n",
              "      <td>0.406400</td>\n",
              "      <td>0.420744</td>\n",
              "      <td>0.376518</td>\n",
              "      <td>0.415963</td>\n",
              "      <td>51048000.0</td>\n",
              "      <td>0.0</td>\n",
              "      <td>0.0</td>\n",
              "    </tr>\n",
              "    <tr>\n",
              "      <th>1999-01-26 00:00:00-05:00</th>\n",
              "      <td>0.420744</td>\n",
              "      <td>0.429111</td>\n",
              "      <td>0.377713</td>\n",
              "      <td>0.383690</td>\n",
              "      <td>34320000.0</td>\n",
              "      <td>0.0</td>\n",
              "      <td>0.0</td>\n",
              "    </tr>\n",
              "    <tr>\n",
              "      <th>1999-01-27 00:00:00-05:00</th>\n",
              "      <td>0.384885</td>\n",
              "      <td>0.394448</td>\n",
              "      <td>0.363370</td>\n",
              "      <td>0.382495</td>\n",
              "      <td>24436800.0</td>\n",
              "      <td>0.0</td>\n",
              "      <td>0.0</td>\n",
              "    </tr>\n",
              "    <tr>\n",
              "      <th>1999-01-28 00:00:00-05:00</th>\n",
              "      <td>0.382495</td>\n",
              "      <td>0.384885</td>\n",
              "      <td>0.378908</td>\n",
              "      <td>0.381300</td>\n",
              "      <td>22752000.0</td>\n",
              "      <td>0.0</td>\n",
              "      <td>0.0</td>\n",
              "    </tr>\n",
              "    <tr>\n",
              "      <th>...</th>\n",
              "      <td>...</td>\n",
              "      <td>...</td>\n",
              "      <td>...</td>\n",
              "      <td>...</td>\n",
              "      <td>...</td>\n",
              "      <td>...</td>\n",
              "      <td>...</td>\n",
              "    </tr>\n",
              "    <tr>\n",
              "      <th>2022-11-09 00:00:00-05:00</th>\n",
              "      <td>141.619995</td>\n",
              "      <td>142.110001</td>\n",
              "      <td>137.589996</td>\n",
              "      <td>137.759995</td>\n",
              "      <td>45441400.0</td>\n",
              "      <td>0.0</td>\n",
              "      <td>0.0</td>\n",
              "    </tr>\n",
              "    <tr>\n",
              "      <th>2022-11-10 00:00:00-05:00</th>\n",
              "      <td>148.000000</td>\n",
              "      <td>157.729996</td>\n",
              "      <td>145.470001</td>\n",
              "      <td>157.500000</td>\n",
              "      <td>70081900.0</td>\n",
              "      <td>0.0</td>\n",
              "      <td>0.0</td>\n",
              "    </tr>\n",
              "    <tr>\n",
              "      <th>2022-11-11 00:00:00-05:00</th>\n",
              "      <td>158.070007</td>\n",
              "      <td>163.889999</td>\n",
              "      <td>154.820007</td>\n",
              "      <td>163.270004</td>\n",
              "      <td>65503700.0</td>\n",
              "      <td>0.0</td>\n",
              "      <td>0.0</td>\n",
              "    </tr>\n",
              "    <tr>\n",
              "      <th>2022-11-14 00:00:00-05:00</th>\n",
              "      <td>162.179993</td>\n",
              "      <td>165.399994</td>\n",
              "      <td>159.220001</td>\n",
              "      <td>162.949997</td>\n",
              "      <td>52785200.0</td>\n",
              "      <td>0.0</td>\n",
              "      <td>0.0</td>\n",
              "    </tr>\n",
              "    <tr>\n",
              "      <th>2022-11-15 00:00:00-05:00</th>\n",
              "      <td>167.220001</td>\n",
              "      <td>169.979996</td>\n",
              "      <td>163.820007</td>\n",
              "      <td>166.660004</td>\n",
              "      <td>54587600.0</td>\n",
              "      <td>0.0</td>\n",
              "      <td>0.0</td>\n",
              "    </tr>\n",
              "  </tbody>\n",
              "</table>\n",
              "<p>5996 rows × 7 columns</p>\n",
              "</div>\n",
              "      <button class=\"colab-df-convert\" onclick=\"convertToInteractive('df-3989ff43-8bb8-4038-ae21-ee01308db904')\"\n",
              "              title=\"Convert this dataframe to an interactive table.\"\n",
              "              style=\"display:none;\">\n",
              "        \n",
              "  <svg xmlns=\"http://www.w3.org/2000/svg\" height=\"24px\"viewBox=\"0 0 24 24\"\n",
              "       width=\"24px\">\n",
              "    <path d=\"M0 0h24v24H0V0z\" fill=\"none\"/>\n",
              "    <path d=\"M18.56 5.44l.94 2.06.94-2.06 2.06-.94-2.06-.94-.94-2.06-.94 2.06-2.06.94zm-11 1L8.5 8.5l.94-2.06 2.06-.94-2.06-.94L8.5 2.5l-.94 2.06-2.06.94zm10 10l.94 2.06.94-2.06 2.06-.94-2.06-.94-.94-2.06-.94 2.06-2.06.94z\"/><path d=\"M17.41 7.96l-1.37-1.37c-.4-.4-.92-.59-1.43-.59-.52 0-1.04.2-1.43.59L10.3 9.45l-7.72 7.72c-.78.78-.78 2.05 0 2.83L4 21.41c.39.39.9.59 1.41.59.51 0 1.02-.2 1.41-.59l7.78-7.78 2.81-2.81c.8-.78.8-2.07 0-2.86zM5.41 20L4 18.59l7.72-7.72 1.47 1.35L5.41 20z\"/>\n",
              "  </svg>\n",
              "      </button>\n",
              "      \n",
              "  <style>\n",
              "    .colab-df-container {\n",
              "      display:flex;\n",
              "      flex-wrap:wrap;\n",
              "      gap: 12px;\n",
              "    }\n",
              "\n",
              "    .colab-df-convert {\n",
              "      background-color: #E8F0FE;\n",
              "      border: none;\n",
              "      border-radius: 50%;\n",
              "      cursor: pointer;\n",
              "      display: none;\n",
              "      fill: #1967D2;\n",
              "      height: 32px;\n",
              "      padding: 0 0 0 0;\n",
              "      width: 32px;\n",
              "    }\n",
              "\n",
              "    .colab-df-convert:hover {\n",
              "      background-color: #E2EBFA;\n",
              "      box-shadow: 0px 1px 2px rgba(60, 64, 67, 0.3), 0px 1px 3px 1px rgba(60, 64, 67, 0.15);\n",
              "      fill: #174EA6;\n",
              "    }\n",
              "\n",
              "    [theme=dark] .colab-df-convert {\n",
              "      background-color: #3B4455;\n",
              "      fill: #D2E3FC;\n",
              "    }\n",
              "\n",
              "    [theme=dark] .colab-df-convert:hover {\n",
              "      background-color: #434B5C;\n",
              "      box-shadow: 0px 1px 3px 1px rgba(0, 0, 0, 0.15);\n",
              "      filter: drop-shadow(0px 1px 2px rgba(0, 0, 0, 0.3));\n",
              "      fill: #FFFFFF;\n",
              "    }\n",
              "  </style>\n",
              "\n",
              "      <script>\n",
              "        const buttonEl =\n",
              "          document.querySelector('#df-3989ff43-8bb8-4038-ae21-ee01308db904 button.colab-df-convert');\n",
              "        buttonEl.style.display =\n",
              "          google.colab.kernel.accessAllowed ? 'block' : 'none';\n",
              "\n",
              "        async function convertToInteractive(key) {\n",
              "          const element = document.querySelector('#df-3989ff43-8bb8-4038-ae21-ee01308db904');\n",
              "          const dataTable =\n",
              "            await google.colab.kernel.invokeFunction('convertToInteractive',\n",
              "                                                     [key], {});\n",
              "          if (!dataTable) return;\n",
              "\n",
              "          const docLinkHtml = 'Like what you see? Visit the ' +\n",
              "            '<a target=\"_blank\" href=https://colab.research.google.com/notebooks/data_table.ipynb>data table notebook</a>'\n",
              "            + ' to learn more about interactive tables.';\n",
              "          element.innerHTML = '';\n",
              "          dataTable['output_type'] = 'display_data';\n",
              "          await google.colab.output.renderOutput(dataTable, element);\n",
              "          const docLink = document.createElement('div');\n",
              "          docLink.innerHTML = docLinkHtml;\n",
              "          element.appendChild(docLink);\n",
              "        }\n",
              "      </script>\n",
              "    </div>\n",
              "  </div>\n",
              "  "
            ]
          },
          "metadata": {},
          "execution_count": 10
        }
      ]
    },
    {
      "cell_type": "code",
      "source": [
        "nvidia.index"
      ],
      "metadata": {
        "colab": {
          "base_uri": "https://localhost:8080/"
        },
        "id": "eQgLSGl4GF4I",
        "outputId": "8d4d9c59-b0ed-4f8a-f43b-57466ad39739"
      },
      "execution_count": null,
      "outputs": [
        {
          "output_type": "execute_result",
          "data": {
            "text/plain": [
              "DatetimeIndex(['1999-01-22 00:00:00-05:00', '1999-01-25 00:00:00-05:00',\n",
              "               '1999-01-26 00:00:00-05:00', '1999-01-27 00:00:00-05:00',\n",
              "               '1999-01-28 00:00:00-05:00', '1999-01-29 00:00:00-05:00',\n",
              "               '1999-02-01 00:00:00-05:00', '1999-02-02 00:00:00-05:00',\n",
              "               '1999-02-03 00:00:00-05:00', '1999-02-04 00:00:00-05:00',\n",
              "               ...\n",
              "               '2022-11-02 00:00:00-04:00', '2022-11-03 00:00:00-04:00',\n",
              "               '2022-11-04 00:00:00-04:00', '2022-11-07 00:00:00-05:00',\n",
              "               '2022-11-08 00:00:00-05:00', '2022-11-09 00:00:00-05:00',\n",
              "               '2022-11-10 00:00:00-05:00', '2022-11-11 00:00:00-05:00',\n",
              "               '2022-11-14 00:00:00-05:00', '2022-11-15 00:00:00-05:00'],\n",
              "              dtype='datetime64[ns, America/New_York]', name='Date', length=5996, freq=None)"
            ]
          },
          "metadata": {},
          "execution_count": 11
        }
      ]
    },
    {
      "cell_type": "code",
      "source": [
        "nvidia.plot.line(y='Close', use_index=True)"
      ],
      "metadata": {
        "colab": {
          "base_uri": "https://localhost:8080/",
          "height": 290
        },
        "id": "pJ_myxCFGVz4",
        "outputId": "5b2008dc-ac59-4edc-8abb-77af9328706a"
      },
      "execution_count": null,
      "outputs": [
        {
          "output_type": "execute_result",
          "data": {
            "text/plain": [
              "<matplotlib.axes._subplots.AxesSubplot at 0x7fdca46eff90>"
            ]
          },
          "metadata": {},
          "execution_count": 12
        },
        {
          "output_type": "display_data",
          "data": {
            "text/plain": [
              "<Figure size 432x288 with 1 Axes>"
            ],
            "image/png": "[encoded data removed]"
          },
          "metadata": {
            "needs_background": "light"
          }
        }
      ]
    },
    {
      "cell_type": "code",
      "source": [
        "del nvidia['Dividends']\n",
        "del nvidia['Stock Splits']"
      ],
      "metadata": {
        "id": "asQ-wO5fGhiT"
      },
      "execution_count": null,
      "outputs": []
    },
    {
      "cell_type": "code",
      "source": [
        "nvidia['t1'] = nvidia['Close'].shift(-1)"
      ],
      "metadata": {
        "id": "pMiTu1_7GuMv"
      },
      "execution_count": null,
      "outputs": []
    },
    {
      "cell_type": "code",
      "source": [
        "nvidia"
      ],
      "metadata": {
        "colab": {
          "base_uri": "https://localhost:8080/",
          "height": 455
        },
        "id": "IO0IiYzlHHsn",
        "outputId": "8033a022-e446-4bed-9ca4-9542453f343f"
      },
      "execution_count": null,
      "outputs": [
        {
          "output_type": "execute_result",
          "data": {
            "text/plain": [
              "                                 Open        High         Low       Close  \\\n",
              "Date                                                                        \n",
              "1999-01-22 00:00:00-05:00    0.401619    0.448236    0.356198    0.376518   \n",
              "1999-01-25 00:00:00-05:00    0.406400    0.420744    0.376518    0.415963   \n",
              "1999-01-26 00:00:00-05:00    0.420744    0.429111    0.377713    0.383690   \n",
              "1999-01-27 00:00:00-05:00    0.384885    0.394448    0.363370    0.382495   \n",
              "1999-01-28 00:00:00-05:00    0.382495    0.384885    0.378908    0.381300   \n",
              "...                               ...         ...         ...         ...   \n",
              "2022-11-09 00:00:00-05:00  141.619995  142.110001  137.589996  137.759995   \n",
              "2022-11-10 00:00:00-05:00  148.000000  157.729996  145.470001  157.500000   \n",
              "2022-11-11 00:00:00-05:00  158.070007  163.889999  154.820007  163.270004   \n",
              "2022-11-14 00:00:00-05:00  162.179993  165.399994  159.220001  162.949997   \n",
              "2022-11-15 00:00:00-05:00  167.220001  169.979996  163.820007  166.660004   \n",
              "\n",
              "                                Volume          t1  \n",
              "Date                                                \n",
              "1999-01-22 00:00:00-05:00  271468800.0    0.415963  \n",
              "1999-01-25 00:00:00-05:00   51048000.0    0.383690  \n",
              "1999-01-26 00:00:00-05:00   34320000.0    0.382495  \n",
              "1999-01-27 00:00:00-05:00   24436800.0    0.381300  \n",
              "1999-01-28 00:00:00-05:00   22752000.0    0.363370  \n",
              "...                                ...         ...  \n",
              "2022-11-09 00:00:00-05:00   45441400.0  157.500000  \n",
              "2022-11-10 00:00:00-05:00   70081900.0  163.270004  \n",
              "2022-11-11 00:00:00-05:00   65503700.0  162.949997  \n",
              "2022-11-14 00:00:00-05:00   52785200.0  166.660004  \n",
              "2022-11-15 00:00:00-05:00   54587600.0         NaN  \n",
              "\n",
              "[5996 rows x 6 columns]"
            ],
            "text/html": [
              "\n",
              "  <div id=\"df-9af9729e-8d65-43ce-b3f2-54009d561118\">\n",
              "    <div class=\"colab-df-container\">\n",
              "      <div>\n",
              "<style scoped>\n",
              "    .dataframe tbody tr th:only-of-type {\n",
              "        vertical-align: middle;\n",
              "    }\n",
              "\n",
              "    .dataframe tbody tr th {\n",
              "        vertical-align: top;\n",
              "    }\n",
              "\n",
              "    .dataframe thead th {\n",
              "        text-align: right;\n",
              "    }\n",
              "</style>\n",
              "<table border=\"1\" class=\"dataframe\">\n",
              "  <thead>\n",
              "    <tr style=\"text-align: right;\">\n",
              "      <th></th>\n",
              "      <th>Open</th>\n",
              "      <th>High</th>\n",
              "      <th>Low</th>\n",
              "      <th>Close</th>\n",
              "      <th>Volume</th>\n",
              "      <th>t1</th>\n",
              "    </tr>\n",
              "    <tr>\n",
              "      <th>Date</th>\n",
              "      <th></th>\n",
              "      <th></th>\n",
              "      <th></th>\n",
              "      <th></th>\n",
              "      <th></th>\n",
              "      <th></th>\n",
              "    </tr>\n",
              "  </thead>\n",
              "  <tbody>\n",
              "    <tr>\n",
              "      <th>1999-01-22 00:00:00-05:00</th>\n",
              "      <td>0.401619</td>\n",
              "      <td>0.448236</td>\n",
              "      <td>0.356198</td>\n",
              "      <td>0.376518</td>\n",
              "      <td>271468800.0</td>\n",
              "      <td>0.415963</td>\n",
              "    </tr>\n",
              "    <tr>\n",
              "      <th>1999-01-25 00:00:00-05:00</th>\n",
              "      <td>0.406400</td>\n",
              "      <td>0.420744</td>\n",
              "      <td>0.376518</td>\n",
              "      <td>0.415963</td>\n",
              "      <td>51048000.0</td>\n",
              "      <td>0.383690</td>\n",
              "    </tr>\n",
              "    <tr>\n",
              "      <th>1999-01-26 00:00:00-05:00</th>\n",
              "      <td>0.420744</td>\n",
              "      <td>0.429111</td>\n",
              "      <td>0.377713</td>\n",
              "      <td>0.383690</td>\n",
              "      <td>34320000.0</td>\n",
              "      <td>0.382495</td>\n",
              "    </tr>\n",
              "    <tr>\n",
              "      <th>1999-01-27 00:00:00-05:00</th>\n",
              "      <td>0.384885</td>\n",
              "      <td>0.394448</td>\n",
              "      <td>0.363370</td>\n",
              "      <td>0.382495</td>\n",
              "      <td>24436800.0</td>\n",
              "      <td>0.381300</td>\n",
              "    </tr>\n",
              "    <tr>\n",
              "      <th>1999-01-28 00:00:00-05:00</th>\n",
              "      <td>0.382495</td>\n",
              "      <td>0.384885</td>\n",
              "      <td>0.378908</td>\n",
              "      <td>0.381300</td>\n",
              "      <td>22752000.0</td>\n",
              "      <td>0.363370</td>\n",
              "    </tr>\n",
              "    <tr>\n",
              "      <th>...</th>\n",
              "      <td>...</td>\n",
              "      <td>...</td>\n",
              "      <td>...</td>\n",
              "      <td>...</td>\n",
              "      <td>...</td>\n",
              "      <td>...</td>\n",
              "    </tr>\n",
              "    <tr>\n",
              "      <th>2022-11-09 00:00:00-05:00</th>\n",
              "      <td>141.619995</td>\n",
              "      <td>142.110001</td>\n",
              "      <td>137.589996</td>\n",
              "      <td>137.759995</td>\n",
              "      <td>45441400.0</td>\n",
              "      <td>157.500000</td>\n",
              "    </tr>\n",
              "    <tr>\n",
              "      <th>2022-11-10 00:00:00-05:00</th>\n",
              "      <td>148.000000</td>\n",
              "      <td>157.729996</td>\n",
              "      <td>145.470001</td>\n",
              "      <td>157.500000</td>\n",
              "      <td>70081900.0</td>\n",
              "      <td>163.270004</td>\n",
              "    </tr>\n",
              "    <tr>\n",
              "      <th>2022-11-11 00:00:00-05:00</th>\n",
              "      <td>158.070007</td>\n",
              "      <td>163.889999</td>\n",
              "      <td>154.820007</td>\n",
              "      <td>163.270004</td>\n",
              "      <td>65503700.0</td>\n",
              "      <td>162.949997</td>\n",
              "    </tr>\n",
              "    <tr>\n",
              "      <th>2022-11-14 00:00:00-05:00</th>\n",
              "      <td>162.179993</td>\n",
              "      <td>165.399994</td>\n",
              "      <td>159.220001</td>\n",
              "      <td>162.949997</td>\n",
              "      <td>52785200.0</td>\n",
              "      <td>166.660004</td>\n",
              "    </tr>\n",
              "    <tr>\n",
              "      <th>2022-11-15 00:00:00-05:00</th>\n",
              "      <td>167.220001</td>\n",
              "      <td>169.979996</td>\n",
              "      <td>163.820007</td>\n",
              "      <td>166.660004</td>\n",
              "      <td>54587600.0</td>\n",
              "      <td>NaN</td>\n",
              "    </tr>\n",
              "  </tbody>\n",
              "</table>\n",
              "<p>5996 rows × 6 columns</p>\n",
              "</div>\n",
              "      <button class=\"colab-df-convert\" onclick=\"convertToInteractive('df-9af9729e-8d65-43ce-b3f2-54009d561118')\"\n",
              "              title=\"Convert this dataframe to an interactive table.\"\n",
              "              style=\"display:none;\">\n",
              "        \n",
              "  <svg xmlns=\"http://www.w3.org/2000/svg\" height=\"24px\"viewBox=\"0 0 24 24\"\n",
              "       width=\"24px\">\n",
              "    <path d=\"M0 0h24v24H0V0z\" fill=\"none\"/>\n",
              "    <path d=\"M18.56 5.44l.94 2.06.94-2.06 2.06-.94-2.06-.94-.94-2.06-.94 2.06-2.06.94zm-11 1L8.5 8.5l.94-2.06 2.06-.94-2.06-.94L8.5 2.5l-.94 2.06-2.06.94zm10 10l.94 2.06.94-2.06 2.06-.94-2.06-.94-.94-2.06-.94 2.06-2.06.94z\"/><path d=\"M17.41 7.96l-1.37-1.37c-.4-.4-.92-.59-1.43-.59-.52 0-1.04.2-1.43.59L10.3 9.45l-7.72 7.72c-.78.78-.78 2.05 0 2.83L4 21.41c.39.39.9.59 1.41.59.51 0 1.02-.2 1.41-.59l7.78-7.78 2.81-2.81c.8-.78.8-2.07 0-2.86zM5.41 20L4 18.59l7.72-7.72 1.47 1.35L5.41 20z\"/>\n",
              "  </svg>\n",
              "      </button>\n",
              "      \n",
              "  <style>\n",
              "    .colab-df-container {\n",
              "      display:flex;\n",
              "      flex-wrap:wrap;\n",
              "      gap: 12px;\n",
              "    }\n",
              "\n",
              "    .colab-df-convert {\n",
              "      background-color: #E8F0FE;\n",
              "      border: none;\n",
              "      border-radius: 50%;\n",
              "      cursor: pointer;\n",
              "      display: none;\n",
              "      fill: #1967D2;\n",
              "      height: 32px;\n",
              "      padding: 0 0 0 0;\n",
              "      width: 32px;\n",
              "    }\n",
              "\n",
              "    .colab-df-convert:hover {\n",
              "      background-color: #E2EBFA;\n",
              "      box-shadow: 0px 1px 2px rgba(60, 64, 67, 0.3), 0px 1px 3px 1px rgba(60, 64, 67, 0.15);\n",
              "      fill: #174EA6;\n",
              "    }\n",
              "\n",
              "    [theme=dark] .colab-df-convert {\n",
              "      background-color: #3B4455;\n",
              "      fill: #D2E3FC;\n",
              "    }\n",
              "\n",
              "    [theme=dark] .colab-df-convert:hover {\n",
              "      background-color: #434B5C;\n",
              "      box-shadow: 0px 1px 3px 1px rgba(0, 0, 0, 0.15);\n",
              "      filter: drop-shadow(0px 1px 2px rgba(0, 0, 0, 0.3));\n",
              "      fill: #FFFFFF;\n",
              "    }\n",
              "  </style>\n",
              "\n",
              "      <script>\n",
              "        const buttonEl =\n",
              "          document.querySelector('#df-9af9729e-8d65-43ce-b3f2-54009d561118 button.colab-df-convert');\n",
              "        buttonEl.style.display =\n",
              "          google.colab.kernel.accessAllowed ? 'block' : 'none';\n",
              "\n",
              "        async function convertToInteractive(key) {\n",
              "          const element = document.querySelector('#df-9af9729e-8d65-43ce-b3f2-54009d561118');\n",
              "          const dataTable =\n",
              "            await google.colab.kernel.invokeFunction('convertToInteractive',\n",
              "                                                     [key], {});\n",
              "          if (!dataTable) return;\n",
              "\n",
              "          const docLinkHtml = 'Like what you see? Visit the ' +\n",
              "            '<a target=\"_blank\" href=https://colab.research.google.com/notebooks/data_table.ipynb>data table notebook</a>'\n",
              "            + ' to learn more about interactive tables.';\n",
              "          element.innerHTML = '';\n",
              "          dataTable['output_type'] = 'display_data';\n",
              "          await google.colab.output.renderOutput(dataTable, element);\n",
              "          const docLink = document.createElement('div');\n",
              "          docLink.innerHTML = docLinkHtml;\n",
              "          element.appendChild(docLink);\n",
              "        }\n",
              "      </script>\n",
              "    </div>\n",
              "  </div>\n",
              "  "
            ]
          },
          "metadata": {},
          "execution_count": 15
        }
      ]
    },
    {
      "cell_type": "code",
      "source": [
        "nvidia['Target'] = (nvidia['t1'] > nvidia['Close']).astype(int)"
      ],
      "metadata": {
        "id": "8VVeXxHIHOIk"
      },
      "execution_count": null,
      "outputs": []
    },
    {
      "cell_type": "code",
      "source": [
        "nvidia"
      ],
      "metadata": {
        "colab": {
          "base_uri": "https://localhost:8080/",
          "height": 455
        },
        "id": "_ENwwdgmHYbR",
        "outputId": "26f595a0-5894-4379-ea15-e4de3ce8e0f2"
      },
      "execution_count": null,
      "outputs": [
        {
          "output_type": "execute_result",
          "data": {
            "text/plain": [
              "                                 Open        High         Low       Close  \\\n",
              "Date                                                                        \n",
              "1999-01-22 00:00:00-05:00    0.401619    0.448236    0.356198    0.376518   \n",
              "1999-01-25 00:00:00-05:00    0.406400    0.420744    0.376518    0.415963   \n",
              "1999-01-26 00:00:00-05:00    0.420744    0.429111    0.377713    0.383690   \n",
              "1999-01-27 00:00:00-05:00    0.384885    0.394448    0.363370    0.382495   \n",
              "1999-01-28 00:00:00-05:00    0.382495    0.384885    0.378908    0.381300   \n",
              "...                               ...         ...         ...         ...   \n",
              "2022-11-09 00:00:00-05:00  141.619995  142.110001  137.589996  137.759995   \n",
              "2022-11-10 00:00:00-05:00  148.000000  157.729996  145.470001  157.500000   \n",
              "2022-11-11 00:00:00-05:00  158.070007  163.889999  154.820007  163.270004   \n",
              "2022-11-14 00:00:00-05:00  162.179993  165.399994  159.220001  162.949997   \n",
              "2022-11-15 00:00:00-05:00  167.220001  169.979996  163.820007  166.660004   \n",
              "\n",
              "                                Volume          t1  Target  \n",
              "Date                                                        \n",
              "1999-01-22 00:00:00-05:00  271468800.0    0.415963       1  \n",
              "1999-01-25 00:00:00-05:00   51048000.0    0.383690       0  \n",
              "1999-01-26 00:00:00-05:00   34320000.0    0.382495       0  \n",
              "1999-01-27 00:00:00-05:00   24436800.0    0.381300       0  \n",
              "1999-01-28 00:00:00-05:00   22752000.0    0.363370       0  \n",
              "...                                ...         ...     ...  \n",
              "2022-11-09 00:00:00-05:00   45441400.0  157.500000       1  \n",
              "2022-11-10 00:00:00-05:00   70081900.0  163.270004       1  \n",
              "2022-11-11 00:00:00-05:00   65503700.0  162.949997       0  \n",
              "2022-11-14 00:00:00-05:00   52785200.0  166.660004       1  \n",
              "2022-11-15 00:00:00-05:00   54587600.0         NaN       0  \n",
              "\n",
              "[5996 rows x 7 columns]"
            ],
            "text/html": [
              "\n",
              "  <div id=\"df-a40fc36c-c8ae-48b4-89fb-1a726977f69e\">\n",
              "    <div class=\"colab-df-container\">\n",
              "      <div>\n",
              "<style scoped>\n",
              "    .dataframe tbody tr th:only-of-type {\n",
              "        vertical-align: middle;\n",
              "    }\n",
              "\n",
              "    .dataframe tbody tr th {\n",
              "        vertical-align: top;\n",
              "    }\n",
              "\n",
              "    .dataframe thead th {\n",
              "        text-align: right;\n",
              "    }\n",
              "</style>\n",
              "<table border=\"1\" class=\"dataframe\">\n",
              "  <thead>\n",
              "    <tr style=\"text-align: right;\">\n",
              "      <th></th>\n",
              "      <th>Open</th>\n",
              "      <th>High</th>\n",
              "      <th>Low</th>\n",
              "      <th>Close</th>\n",
              "      <th>Volume</th>\n",
              "      <th>t1</th>\n",
              "      <th>Target</th>\n",
              "    </tr>\n",
              "    <tr>\n",
              "      <th>Date</th>\n",
              "      <th></th>\n",
              "      <th></th>\n",
              "      <th></th>\n",
              "      <th></th>\n",
              "      <th></th>\n",
              "      <th></th>\n",
              "      <th></th>\n",
              "    </tr>\n",
              "  </thead>\n",
              "  <tbody>\n",
              "    <tr>\n",
              "      <th>1999-01-22 00:00:00-05:00</th>\n",
              "      <td>0.401619</td>\n",
              "      <td>0.448236</td>\n",
              "      <td>0.356198</td>\n",
              "      <td>0.376518</td>\n",
              "      <td>271468800.0</td>\n",
              "      <td>0.415963</td>\n",
              "      <td>1</td>\n",
              "    </tr>\n",
              "    <tr>\n",
              "      <th>1999-01-25 00:00:00-05:00</th>\n",
              "      <td>0.406400</td>\n",
              "      <td>0.420744</td>\n",
              "      <td>0.376518</td>\n",
              "      <td>0.415963</td>\n",
              "      <td>51048000.0</td>\n",
              "      <td>0.383690</td>\n",
              "      <td>0</td>\n",
              "    </tr>\n",
              "    <tr>\n",
              "      <th>1999-01-26 00:00:00-05:00</th>\n",
              "      <td>0.420744</td>\n",
              "      <td>0.429111</td>\n",
              "      <td>0.377713</td>\n",
              "      <td>0.383690</td>\n",
              "      <td>34320000.0</td>\n",
              "      <td>0.382495</td>\n",
              "      <td>0</td>\n",
              "    </tr>\n",
              "    <tr>\n",
              "      <th>1999-01-27 00:00:00-05:00</th>\n",
              "      <td>0.384885</td>\n",
              "      <td>0.394448</td>\n",
              "      <td>0.363370</td>\n",
              "      <td>0.382495</td>\n",
              "      <td>24436800.0</td>\n",
              "      <td>0.381300</td>\n",
              "      <td>0</td>\n",
              "    </tr>\n",
              "    <tr>\n",
              "      <th>1999-01-28 00:00:00-05:00</th>\n",
              "      <td>0.382495</td>\n",
              "      <td>0.384885</td>\n",
              "      <td>0.378908</td>\n",
              "      <td>0.381300</td>\n",
              "      <td>22752000.0</td>\n",
              "      <td>0.363370</td>\n",
              "      <td>0</td>\n",
              "    </tr>\n",
              "    <tr>\n",
              "      <th>...</th>\n",
              "      <td>...</td>\n",
              "      <td>...</td>\n",
              "      <td>...</td>\n",
              "      <td>...</td>\n",
              "      <td>...</td>\n",
              "      <td>...</td>\n",
              "      <td>...</td>\n",
              "    </tr>\n",
              "    <tr>\n",
              "      <th>2022-11-09 00:00:00-05:00</th>\n",
              "      <td>141.619995</td>\n",
              "      <td>142.110001</td>\n",
              "      <td>137.589996</td>\n",
              "      <td>137.759995</td>\n",
              "      <td>45441400.0</td>\n",
              "      <td>157.500000</td>\n",
              "      <td>1</td>\n",
              "    </tr>\n",
              "    <tr>\n",
              "      <th>2022-11-10 00:00:00-05:00</th>\n",
              "      <td>148.000000</td>\n",
              "      <td>157.729996</td>\n",
              "      <td>145.470001</td>\n",
              "      <td>157.500000</td>\n",
              "      <td>70081900.0</td>\n",
              "      <td>163.270004</td>\n",
              "      <td>1</td>\n",
              "    </tr>\n",
              "    <tr>\n",
              "      <th>2022-11-11 00:00:00-05:00</th>\n",
              "      <td>158.070007</td>\n",
              "      <td>163.889999</td>\n",
              "      <td>154.820007</td>\n",
              "      <td>163.270004</td>\n",
              "      <td>65503700.0</td>\n",
              "      <td>162.949997</td>\n",
              "      <td>0</td>\n",
              "    </tr>\n",
              "    <tr>\n",
              "      <th>2022-11-14 00:00:00-05:00</th>\n",
              "      <td>162.179993</td>\n",
              "      <td>165.399994</td>\n",
              "      <td>159.220001</td>\n",
              "      <td>162.949997</td>\n",
              "      <td>52785200.0</td>\n",
              "      <td>166.660004</td>\n",
              "      <td>1</td>\n",
              "    </tr>\n",
              "    <tr>\n",
              "      <th>2022-11-15 00:00:00-05:00</th>\n",
              "      <td>167.220001</td>\n",
              "      <td>169.979996</td>\n",
              "      <td>163.820007</td>\n",
              "      <td>166.660004</td>\n",
              "      <td>54587600.0</td>\n",
              "      <td>NaN</td>\n",
              "      <td>0</td>\n",
              "    </tr>\n",
              "  </tbody>\n",
              "</table>\n",
              "<p>5996 rows × 7 columns</p>\n",
              "</div>\n",
              "      <button class=\"colab-df-convert\" onclick=\"convertToInteractive('df-a40fc36c-c8ae-48b4-89fb-1a726977f69e')\"\n",
              "              title=\"Convert this dataframe to an interactive table.\"\n",
              "              style=\"display:none;\">\n",
              "        \n",
              "  <svg xmlns=\"http://www.w3.org/2000/svg\" height=\"24px\"viewBox=\"0 0 24 24\"\n",
              "       width=\"24px\">\n",
              "    <path d=\"M0 0h24v24H0V0z\" fill=\"none\"/>\n",
              "    <path d=\"M18.56 5.44l.94 2.06.94-2.06 2.06-.94-2.06-.94-.94-2.06-.94 2.06-2.06.94zm-11 1L8.5 8.5l.94-2.06 2.06-.94-2.06-.94L8.5 2.5l-.94 2.06-2.06.94zm10 10l.94 2.06.94-2.06 2.06-.94-2.06-.94-.94-2.06-.94 2.06-2.06.94z\"/><path d=\"M17.41 7.96l-1.37-1.37c-.4-.4-.92-.59-1.43-.59-.52 0-1.04.2-1.43.59L10.3 9.45l-7.72 7.72c-.78.78-.78 2.05 0 2.83L4 21.41c.39.39.9.59 1.41.59.51 0 1.02-.2 1.41-.59l7.78-7.78 2.81-2.81c.8-.78.8-2.07 0-2.86zM5.41 20L4 18.59l7.72-7.72 1.47 1.35L5.41 20z\"/>\n",
              "  </svg>\n",
              "      </button>\n",
              "      \n",
              "  <style>\n",
              "    .colab-df-container {\n",
              "      display:flex;\n",
              "      flex-wrap:wrap;\n",
              "      gap: 12px;\n",
              "    }\n",
              "\n",
              "    .colab-df-convert {\n",
              "      background-color: #E8F0FE;\n",
              "      border: none;\n",
              "      border-radius: 50%;\n",
              "      cursor: pointer;\n",
              "      display: none;\n",
              "      fill: #1967D2;\n",
              "      height: 32px;\n",
              "      padding: 0 0 0 0;\n",
              "      width: 32px;\n",
              "    }\n",
              "\n",
              "    .colab-df-convert:hover {\n",
              "      background-color: #E2EBFA;\n",
              "      box-shadow: 0px 1px 2px rgba(60, 64, 67, 0.3), 0px 1px 3px 1px rgba(60, 64, 67, 0.15);\n",
              "      fill: #174EA6;\n",
              "    }\n",
              "\n",
              "    [theme=dark] .colab-df-convert {\n",
              "      background-color: #3B4455;\n",
              "      fill: #D2E3FC;\n",
              "    }\n",
              "\n",
              "    [theme=dark] .colab-df-convert:hover {\n",
              "      background-color: #434B5C;\n",
              "      box-shadow: 0px 1px 3px 1px rgba(0, 0, 0, 0.15);\n",
              "      filter: drop-shadow(0px 1px 2px rgba(0, 0, 0, 0.3));\n",
              "      fill: #FFFFFF;\n",
              "    }\n",
              "  </style>\n",
              "\n",
              "      <script>\n",
              "        const buttonEl =\n",
              "          document.querySelector('#df-a40fc36c-c8ae-48b4-89fb-1a726977f69e button.colab-df-convert');\n",
              "        buttonEl.style.display =\n",
              "          google.colab.kernel.accessAllowed ? 'block' : 'none';\n",
              "\n",
              "        async function convertToInteractive(key) {\n",
              "          const element = document.querySelector('#df-a40fc36c-c8ae-48b4-89fb-1a726977f69e');\n",
              "          const dataTable =\n",
              "            await google.colab.kernel.invokeFunction('convertToInteractive',\n",
              "                                                     [key], {});\n",
              "          if (!dataTable) return;\n",
              "\n",
              "          const docLinkHtml = 'Like what you see? Visit the ' +\n",
              "            '<a target=\"_blank\" href=https://colab.research.google.com/notebooks/data_table.ipynb>data table notebook</a>'\n",
              "            + ' to learn more about interactive tables.';\n",
              "          element.innerHTML = '';\n",
              "          dataTable['output_type'] = 'display_data';\n",
              "          await google.colab.output.renderOutput(dataTable, element);\n",
              "          const docLink = document.createElement('div');\n",
              "          docLink.innerHTML = docLinkHtml;\n",
              "          element.appendChild(docLink);\n",
              "        }\n",
              "      </script>\n",
              "    </div>\n",
              "  </div>\n",
              "  "
            ]
          },
          "metadata": {},
          "execution_count": 24
        }
      ]
    },
    {
      "cell_type": "code",
      "source": [
        "from sklearn.ensemble import RandomForestClassifier\n",
        "from sklearn.metrics import precision_score"
      ],
      "metadata": {
        "id": "BvxeUIubHy9U"
      },
      "execution_count": null,
      "outputs": []
    },
    {
      "cell_type": "code",
      "source": [
        "model = RandomForestClassifier(n_estimators=100, min_samples_split=100, random_state=1)"
      ],
      "metadata": {
        "id": "Kb_ztutyH3Xy"
      },
      "execution_count": null,
      "outputs": []
    },
    {
      "cell_type": "code",
      "source": [
        "nvidia = nvidia.drop('2001-09-12 00:00:00-04:00')"
      ],
      "metadata": {
        "id": "qlmsqD-6PWPR"
      },
      "execution_count": null,
      "outputs": []
    },
    {
      "cell_type": "code",
      "source": [
        "train = nvidia.iloc[:-100]\n",
        "test = nvidia.iloc[-100:]\n",
        "\n",
        "predictors = ['Close', 'Volume', 'Open', 'High', 'Low']\n",
        "\n",
        "model.fit(train[predictors], train['Target'])"
      ],
      "metadata": {
        "colab": {
          "base_uri": "https://localhost:8080/"
        },
        "id": "MUUxbVAFIS27",
        "outputId": "1769de5c-efb4-459e-8ddf-d0c53650de88"
      },
      "execution_count": null,
      "outputs": [
        {
          "output_type": "execute_result",
          "data": {
            "text/plain": [
              "RandomForestClassifier(min_samples_split=100, random_state=1)"
            ]
          },
          "metadata": {},
          "execution_count": 39
        }
      ]
    },
    {
      "cell_type": "code",
      "source": [
        "preds = model.predict(test[predictors])\n",
        "preds = pd.Series(preds, index = test.index)"
      ],
      "metadata": {
        "id": "YnFxqqcZPfOn"
      },
      "execution_count": null,
      "outputs": []
    },
    {
      "cell_type": "code",
      "source": [
        "precision_score(test['Target'], preds)"
      ],
      "metadata": {
        "colab": {
          "base_uri": "https://localhost:8080/"
        },
        "id": "p9vdCtqJP3Y-",
        "outputId": "cf465c75-c17c-40f6-fedd-291ec89ded30"
      },
      "execution_count": null,
      "outputs": [
        {
          "output_type": "execute_result",
          "data": {
            "text/plain": [
              "0.5483870967741935"
            ]
          },
          "metadata": {},
          "execution_count": 42
        }
      ]
    },
    {
      "cell_type": "code",
      "source": [
        "combined = pd.concat([test['Target'], preds], axis=1)"
      ],
      "metadata": {
        "id": "Z0qi-5YxQU7X"
      },
      "execution_count": null,
      "outputs": []
    },
    {
      "cell_type": "code",
      "source": [
        "combined.plot()"
      ],
      "metadata": {
        "colab": {
          "base_uri": "https://localhost:8080/",
          "height": 294
        },
        "id": "42IFgA6VQcHV",
        "outputId": "c60d34e1-0134-4f53-e4de-6eb3ec0f2797"
      },
      "execution_count": null,
      "outputs": [
        {
          "output_type": "execute_result",
          "data": {
            "text/plain": [
              "<matplotlib.axes._subplots.AxesSubplot at 0x7fdc94690e50>"
            ]
          },
          "metadata": {},
          "execution_count": 44
        },
        {
          "output_type": "display_data",
          "data": {
            "text/plain": [
              "<Figure size 432x288 with 1 Axes>"
            ],
            "image/png": "[encoded data removed]"
          },
          "metadata": {
            "needs_background": "light"
          }
        }
      ]
    },
    {
      "cell_type": "code",
      "source": [
        "def predict(train, test, predictors, model):\n",
        "  model.fit(train[predictors], train['Target'])\n",
        "  preds = model.predict(test[predictors])\n",
        "  preds = pd.Series(preds, index = test.index, name = 'Predictions')\n",
        "  combined = pd.concat([test['Target'], preds], axis = 1)\n",
        "  return combined"
      ],
      "metadata": {
        "id": "-sGSpzeRRTsg"
      },
      "execution_count": null,
      "outputs": []
    },
    {
      "cell_type": "code",
      "source": [
        "def backtest(data, model, predictors, start=2500, step=250):\n",
        "  all_predictions = []\n",
        "\n",
        "  for i in range(start, data.shape[0], step):\n",
        "    train = data.iloc[0:i].copy()\n",
        "    test = data.iloc[i:(i + step)].copy()\n",
        "    predictions = predict(train, test, predictors, model)\n",
        "    all_predictions.append(predictions)\n",
        "  return pd.concat(all_predictions)"
      ],
      "metadata": {
        "id": "VYw_zTSNSDg8"
      },
      "execution_count": null,
      "outputs": []
    },
    {
      "cell_type": "code",
      "source": [
        "predictions = backtest(nvidia, model, predictors)"
      ],
      "metadata": {
        "id": "0FWkeOkgS8CT"
      },
      "execution_count": null,
      "outputs": []
    },
    {
      "cell_type": "code",
      "source": [
        "predictions['Predictions'].value_counts()"
      ],
      "metadata": {
        "colab": {
          "base_uri": "https://localhost:8080/"
        },
        "id": "rX8YOevLT2Bl",
        "outputId": "6cebd1a3-1f04-4850-c54f-ff5e4b9f139b"
      },
      "execution_count": null,
      "outputs": [
        {
          "output_type": "execute_result",
          "data": {
            "text/plain": [
              "0    1970\n",
              "1    1525\n",
              "Name: Predictions, dtype: int64"
            ]
          },
          "metadata": {},
          "execution_count": 51
        }
      ]
    },
    {
      "cell_type": "code",
      "source": [
        "precision_score(predictions['Target'], predictions['Predictions'])"
      ],
      "metadata": {
        "colab": {
          "base_uri": "https://localhost:8080/"
        },
        "id": "cxnqJip3UBIh",
        "outputId": "c5cedd33-e1c2-492c-9099-597be87ba8d1"
      },
      "execution_count": null,
      "outputs": [
        {
          "output_type": "execute_result",
          "data": {
            "text/plain": [
              "0.5219672131147541"
            ]
          },
          "metadata": {},
          "execution_count": 52
        }
      ]
    },
    {
      "cell_type": "code",
      "source": [
        "predictions['Target'].value_counts() / predictions.shape[0]"
      ],
      "metadata": {
        "colab": {
          "base_uri": "https://localhost:8080/"
        },
        "id": "F_OcE7lzUY9P",
        "outputId": "ee220ca2-d787-4925-cac2-e472e26f3eb6"
      },
      "execution_count": null,
      "outputs": [
        {
          "output_type": "execute_result",
          "data": {
            "text/plain": [
              "1    0.526753\n",
              "0    0.473247\n",
              "Name: Target, dtype: float64"
            ]
          },
          "metadata": {},
          "execution_count": 53
        }
      ]
    },
    {
      "cell_type": "code",
      "source": [
        "horizons = [2, 5, 60, 250, 1000]"
      ],
      "metadata": {
        "id": "-_F72KhoUpr8"
      },
      "execution_count": null,
      "outputs": []
    },
    {
      "cell_type": "code",
      "source": [
        "new_predictors = []\n",
        "\n",
        "for horizon in horizons:\n",
        "  rolling_averages = nvidia.rolling(horizon).mean()\n",
        "\n",
        "  ratio_column = f'Close_Ratio_{horizon}'\n",
        "  nvidia[ratio_column] = nvidia['Close'] / rolling_averages['Close']\n",
        "\n",
        "  trend_column = f'Trend_{horizon}'\n",
        "  nvidia[trend_column] = nvidia.shift(1).rolling(horizon).sum()['Target']\n",
        "\n",
        "  new_predictors += [ratio_column, trend_column]"
      ],
      "metadata": {
        "id": "TKMCdsa5Upog"
      },
      "execution_count": null,
      "outputs": []
    },
    {
      "cell_type": "code",
      "source": [
        "nvidia = nvidia.dropna()"
      ],
      "metadata": {
        "id": "Npg0vQs_Um5V"
      },
      "execution_count": null,
      "outputs": []
    },
    {
      "cell_type": "code",
      "source": [
        "nvidia"
      ],
      "metadata": {
        "colab": {
          "base_uri": "https://localhost:8080/",
          "height": 1000
        },
        "id": "r8U-qPo8WuKI",
        "outputId": "c4668a49-1990-48ea-d5e7-67003947281b"
      },
      "execution_count": null,
      "outputs": [
        {
          "output_type": "execute_result",
          "data": {
            "text/plain": [
              "                                 Open        High         Low       Close  \\\n",
              "Date                                                                        \n",
              "2003-01-15 00:00:00-05:00    0.946291    0.953942    0.916457    0.916457   \n",
              "2003-01-16 00:00:00-05:00    0.902687    0.914162    0.842253    0.854492   \n",
              "2003-01-17 00:00:00-05:00    0.831543    0.843018    0.811654    0.822363   \n",
              "2003-01-21 00:00:00-05:00    0.837663    0.855258    0.799413    0.801708   \n",
              "2003-01-22 00:00:00-05:00    0.799413    0.823129    0.797118    0.802474   \n",
              "...                               ...         ...         ...         ...   \n",
              "2022-11-08 00:00:00-05:00  148.009995  148.910004  142.160004  146.020004   \n",
              "2022-11-09 00:00:00-05:00  141.619995  142.110001  137.589996  137.759995   \n",
              "2022-11-10 00:00:00-05:00  148.000000  157.729996  145.470001  157.500000   \n",
              "2022-11-11 00:00:00-05:00  158.070007  163.889999  154.820007  163.270004   \n",
              "2022-11-14 00:00:00-05:00  162.179993  165.399994  159.220001  162.949997   \n",
              "\n",
              "                                Volume          t1  Target  Close_Ratio_2  \\\n",
              "Date                                                                        \n",
              "2003-01-15 00:00:00-05:00   90458400.0    0.854492       0       0.984388   \n",
              "2003-01-16 00:00:00-05:00  203997600.0    0.822363       0       0.965011   \n",
              "2003-01-17 00:00:00-05:00  105883200.0    0.801708       0       0.980839   \n",
              "2003-01-21 00:00:00-05:00   96735600.0    0.802474       1       0.987282   \n",
              "2003-01-22 00:00:00-05:00   55099200.0    0.824658       1       1.000477   \n",
              "...                                ...         ...     ...            ...   \n",
              "2022-11-08 00:00:00-05:00   59529200.0  137.759995       0       1.010414   \n",
              "2022-11-09 00:00:00-05:00   45441400.0  157.500000       1       0.970893   \n",
              "2022-11-10 00:00:00-05:00   70081900.0  163.270004       1       1.066856   \n",
              "2022-11-11 00:00:00-05:00   65503700.0  162.949997       0       1.017988   \n",
              "2022-11-14 00:00:00-05:00   52785200.0  166.660004       1       0.999019   \n",
              "\n",
              "                           Trend_2  Close_Ratio_5  Trend_5  Close_Ratio_60  \\\n",
              "Date                                                                         \n",
              "2003-01-15 00:00:00-05:00      1.0       0.979718      3.0        0.906374   \n",
              "2003-01-16 00:00:00-05:00      0.0       0.928512      2.0        0.844112   \n",
              "2003-01-17 00:00:00-05:00      0.0       0.918332      1.0        0.812209   \n",
              "2003-01-21 00:00:00-05:00      0.0       0.923511      1.0        0.792348   \n",
              "2003-01-22 00:00:00-05:00      1.0       0.955896      1.0        0.793075   \n",
              "...                            ...            ...      ...             ...   \n",
              "2022-11-08 00:00:00-05:00      2.0       1.047504      4.0        1.058747   \n",
              "2022-11-09 00:00:00-05:00      1.0       0.980414      4.0        1.005047   \n",
              "2022-11-10 00:00:00-05:00      1.0       1.084935      4.0        1.152678   \n",
              "2022-11-11 00:00:00-05:00      2.0       1.092019      4.0        1.198474   \n",
              "2022-11-14 00:00:00-05:00      1.0       1.061563      3.0        1.198396   \n",
              "\n",
              "                           Trend_60  Close_Ratio_250  Trend_250  \\\n",
              "Date                                                              \n",
              "2003-01-15 00:00:00-05:00      32.0         0.453887      104.0   \n",
              "2003-01-16 00:00:00-05:00      31.0         0.426601      104.0   \n",
              "2003-01-17 00:00:00-05:00      30.0         0.413813      104.0   \n",
              "2003-01-21 00:00:00-05:00      29.0         0.406732      103.0   \n",
              "2003-01-22 00:00:00-05:00      30.0         0.410636      103.0   \n",
              "...                             ...              ...        ...   \n",
              "2022-11-08 00:00:00-05:00      31.0         0.709271      122.0   \n",
              "2022-11-09 00:00:00-05:00      31.0         0.671313      121.0   \n",
              "2022-11-10 00:00:00-05:00      32.0         0.769700      122.0   \n",
              "2022-11-11 00:00:00-05:00      32.0         0.800037      123.0   \n",
              "2022-11-14 00:00:00-05:00      32.0         0.800647      122.0   \n",
              "\n",
              "                           Close_Ratio_1000  Trend_1000  \n",
              "Date                                                     \n",
              "2003-01-15 00:00:00-05:00          0.474866       470.0  \n",
              "2003-01-16 00:00:00-05:00          0.442659       469.0  \n",
              "2003-01-17 00:00:00-05:00          0.425918       469.0  \n",
              "2003-01-21 00:00:00-05:00          0.415130       469.0  \n",
              "2003-01-22 00:00:00-05:00          0.415436       470.0  \n",
              "...                                     ...         ...  \n",
              "2022-11-08 00:00:00-05:00          1.150850       542.0  \n",
              "2022-11-09 00:00:00-05:00          1.084878       542.0  \n",
              "2022-11-10 00:00:00-05:00          1.239157       542.0  \n",
              "2022-11-11 00:00:00-05:00          1.283268       543.0  \n",
              "2022-11-14 00:00:00-05:00          1.279475       542.0  \n",
              "\n",
              "[4994 rows x 17 columns]"
            ],
            "text/html": [
              "\n",
              "  <div id=\"df-809efed7-f0b5-48f7-9bf1-b3abe466e183\">\n",
              "    <div class=\"colab-df-container\">\n",
              "      <div>\n",
              "<style scoped>\n",
              "    .dataframe tbody tr th:only-of-type {\n",
              "        vertical-align: middle;\n",
              "    }\n",
              "\n",
              "    .dataframe tbody tr th {\n",
              "        vertical-align: top;\n",
              "    }\n",
              "\n",
              "    .dataframe thead th {\n",
              "        text-align: right;\n",
              "    }\n",
              "</style>\n",
              "<table border=\"1\" class=\"dataframe\">\n",
              "  <thead>\n",
              "    <tr style=\"text-align: right;\">\n",
              "      <th></th>\n",
              "      <th>Open</th>\n",
              "      <th>High</th>\n",
              "      <th>Low</th>\n",
              "      <th>Close</th>\n",
              "      <th>Volume</th>\n",
              "      <th>t1</th>\n",
              "      <th>Target</th>\n",
              "      <th>Close_Ratio_2</th>\n",
              "      <th>Trend_2</th>\n",
              "      <th>Close_Ratio_5</th>\n",
              "      <th>Trend_5</th>\n",
              "      <th>Close_Ratio_60</th>\n",
              "      <th>Trend_60</th>\n",
              "      <th>Close_Ratio_250</th>\n",
              "      <th>Trend_250</th>\n",
              "      <th>Close_Ratio_1000</th>\n",
              "      <th>Trend_1000</th>\n",
              "    </tr>\n",
              "    <tr>\n",
              "      <th>Date</th>\n",
              "      <th></th>\n",
              "      <th></th>\n",
              "      <th></th>\n",
              "      <th></th>\n",
              "      <th></th>\n",
              "      <th></th>\n",
              "      <th></th>\n",
              "      <th></th>\n",
              "      <th></th>\n",
              "      <th></th>\n",
              "      <th></th>\n",
              "      <th></th>\n",
              "      <th></th>\n",
              "      <th></th>\n",
              "      <th></th>\n",
              "      <th></th>\n",
              "      <th></th>\n",
              "    </tr>\n",
              "  </thead>\n",
              "  <tbody>\n",
              "    <tr>\n",
              "      <th>2003-01-15 00:00:00-05:00</th>\n",
              "      <td>0.946291</td>\n",
              "      <td>0.953942</td>\n",
              "      <td>0.916457</td>\n",
              "      <td>0.916457</td>\n",
              "      <td>90458400.0</td>\n",
              "      <td>0.854492</td>\n",
              "      <td>0</td>\n",
              "      <td>0.984388</td>\n",
              "      <td>1.0</td>\n",
              "      <td>0.979718</td>\n",
              "      <td>3.0</td>\n",
              "      <td>0.906374</td>\n",
              "      <td>32.0</td>\n",
              "      <td>0.453887</td>\n",
              "      <td>104.0</td>\n",
              "      <td>0.474866</td>\n",
              "      <td>470.0</td>\n",
              "    </tr>\n",
              "    <tr>\n",
              "      <th>2003-01-16 00:00:00-05:00</th>\n",
              "      <td>0.902687</td>\n",
              "      <td>0.914162</td>\n",
              "      <td>0.842253</td>\n",
              "      <td>0.854492</td>\n",
              "      <td>203997600.0</td>\n",
              "      <td>0.822363</td>\n",
              "      <td>0</td>\n",
              "      <td>0.965011</td>\n",
              "      <td>0.0</td>\n",
              "      <td>0.928512</td>\n",
              "      <td>2.0</td>\n",
              "      <td>0.844112</td>\n",
              "      <td>31.0</td>\n",
              "      <td>0.426601</td>\n",
              "      <td>104.0</td>\n",
              "      <td>0.442659</td>\n",
              "      <td>469.0</td>\n",
              "    </tr>\n",
              "    <tr>\n",
              "      <th>2003-01-17 00:00:00-05:00</th>\n",
              "      <td>0.831543</td>\n",
              "      <td>0.843018</td>\n",
              "      <td>0.811654</td>\n",
              "      <td>0.822363</td>\n",
              "      <td>105883200.0</td>\n",
              "      <td>0.801708</td>\n",
              "      <td>0</td>\n",
              "      <td>0.980839</td>\n",
              "      <td>0.0</td>\n",
              "      <td>0.918332</td>\n",
              "      <td>1.0</td>\n",
              "      <td>0.812209</td>\n",
              "      <td>30.0</td>\n",
              "      <td>0.413813</td>\n",
              "      <td>104.0</td>\n",
              "      <td>0.425918</td>\n",
              "      <td>469.0</td>\n",
              "    </tr>\n",
              "    <tr>\n",
              "      <th>2003-01-21 00:00:00-05:00</th>\n",
              "      <td>0.837663</td>\n",
              "      <td>0.855258</td>\n",
              "      <td>0.799413</td>\n",
              "      <td>0.801708</td>\n",
              "      <td>96735600.0</td>\n",
              "      <td>0.802474</td>\n",
              "      <td>1</td>\n",
              "      <td>0.987282</td>\n",
              "      <td>0.0</td>\n",
              "      <td>0.923511</td>\n",
              "      <td>1.0</td>\n",
              "      <td>0.792348</td>\n",
              "      <td>29.0</td>\n",
              "      <td>0.406732</td>\n",
              "      <td>103.0</td>\n",
              "      <td>0.415130</td>\n",
              "      <td>469.0</td>\n",
              "    </tr>\n",
              "    <tr>\n",
              "      <th>2003-01-22 00:00:00-05:00</th>\n",
              "      <td>0.799413</td>\n",
              "      <td>0.823129</td>\n",
              "      <td>0.797118</td>\n",
              "      <td>0.802474</td>\n",
              "      <td>55099200.0</td>\n",
              "      <td>0.824658</td>\n",
              "      <td>1</td>\n",
              "      <td>1.000477</td>\n",
              "      <td>1.0</td>\n",
              "      <td>0.955896</td>\n",
              "      <td>1.0</td>\n",
              "      <td>0.793075</td>\n",
              "      <td>30.0</td>\n",
              "      <td>0.410636</td>\n",
              "      <td>103.0</td>\n",
              "      <td>0.415436</td>\n",
              "      <td>470.0</td>\n",
              "    </tr>\n",
              "    <tr>\n",
              "      <th>...</th>\n",
              "      <td>...</td>\n",
              "      <td>...</td>\n",
              "      <td>...</td>\n",
              "      <td>...</td>\n",
              "      <td>...</td>\n",
              "      <td>...</td>\n",
              "      <td>...</td>\n",
              "      <td>...</td>\n",
              "      <td>...</td>\n",
              "      <td>...</td>\n",
              "      <td>...</td>\n",
              "      <td>...</td>\n",
              "      <td>...</td>\n",
              "      <td>...</td>\n",
              "      <td>...</td>\n",
              "      <td>...</td>\n",
              "      <td>...</td>\n",
              "    </tr>\n",
              "    <tr>\n",
              "      <th>2022-11-08 00:00:00-05:00</th>\n",
              "      <td>148.009995</td>\n",
              "      <td>148.910004</td>\n",
              "      <td>142.160004</td>\n",
              "      <td>146.020004</td>\n",
              "      <td>59529200.0</td>\n",
              "      <td>137.759995</td>\n",
              "      <td>0</td>\n",
              "      <td>1.010414</td>\n",
              "      <td>2.0</td>\n",
              "      <td>1.047504</td>\n",
              "      <td>4.0</td>\n",
              "      <td>1.058747</td>\n",
              "      <td>31.0</td>\n",
              "      <td>0.709271</td>\n",
              "      <td>122.0</td>\n",
              "      <td>1.150850</td>\n",
              "      <td>542.0</td>\n",
              "    </tr>\n",
              "    <tr>\n",
              "      <th>2022-11-09 00:00:00-05:00</th>\n",
              "      <td>141.619995</td>\n",
              "      <td>142.110001</td>\n",
              "      <td>137.589996</td>\n",
              "      <td>137.759995</td>\n",
              "      <td>45441400.0</td>\n",
              "      <td>157.500000</td>\n",
              "      <td>1</td>\n",
              "      <td>0.970893</td>\n",
              "      <td>1.0</td>\n",
              "      <td>0.980414</td>\n",
              "      <td>4.0</td>\n",
              "      <td>1.005047</td>\n",
              "      <td>31.0</td>\n",
              "      <td>0.671313</td>\n",
              "      <td>121.0</td>\n",
              "      <td>1.084878</td>\n",
              "      <td>542.0</td>\n",
              "    </tr>\n",
              "    <tr>\n",
              "      <th>2022-11-10 00:00:00-05:00</th>\n",
              "      <td>148.000000</td>\n",
              "      <td>157.729996</td>\n",
              "      <td>145.470001</td>\n",
              "      <td>157.500000</td>\n",
              "      <td>70081900.0</td>\n",
              "      <td>163.270004</td>\n",
              "      <td>1</td>\n",
              "      <td>1.066856</td>\n",
              "      <td>1.0</td>\n",
              "      <td>1.084935</td>\n",
              "      <td>4.0</td>\n",
              "      <td>1.152678</td>\n",
              "      <td>32.0</td>\n",
              "      <td>0.769700</td>\n",
              "      <td>122.0</td>\n",
              "      <td>1.239157</td>\n",
              "      <td>542.0</td>\n",
              "    </tr>\n",
              "    <tr>\n",
              "      <th>2022-11-11 00:00:00-05:00</th>\n",
              "      <td>158.070007</td>\n",
              "      <td>163.889999</td>\n",
              "      <td>154.820007</td>\n",
              "      <td>163.270004</td>\n",
              "      <td>65503700.0</td>\n",
              "      <td>162.949997</td>\n",
              "      <td>0</td>\n",
              "      <td>1.017988</td>\n",
              "      <td>2.0</td>\n",
              "      <td>1.092019</td>\n",
              "      <td>4.0</td>\n",
              "      <td>1.198474</td>\n",
              "      <td>32.0</td>\n",
              "      <td>0.800037</td>\n",
              "      <td>123.0</td>\n",
              "      <td>1.283268</td>\n",
              "      <td>543.0</td>\n",
              "    </tr>\n",
              "    <tr>\n",
              "      <th>2022-11-14 00:00:00-05:00</th>\n",
              "      <td>162.179993</td>\n",
              "      <td>165.399994</td>\n",
              "      <td>159.220001</td>\n",
              "      <td>162.949997</td>\n",
              "      <td>52785200.0</td>\n",
              "      <td>166.660004</td>\n",
              "      <td>1</td>\n",
              "      <td>0.999019</td>\n",
              "      <td>1.0</td>\n",
              "      <td>1.061563</td>\n",
              "      <td>3.0</td>\n",
              "      <td>1.198396</td>\n",
              "      <td>32.0</td>\n",
              "      <td>0.800647</td>\n",
              "      <td>122.0</td>\n",
              "      <td>1.279475</td>\n",
              "      <td>542.0</td>\n",
              "    </tr>\n",
              "  </tbody>\n",
              "</table>\n",
              "<p>4994 rows × 17 columns</p>\n",
              "</div>\n",
              "      <button class=\"colab-df-convert\" onclick=\"convertToInteractive('df-809efed7-f0b5-48f7-9bf1-b3abe466e183')\"\n",
              "              title=\"Convert this dataframe to an interactive table.\"\n",
              "              style=\"display:none;\">\n",
              "        \n",
              "  <svg xmlns=\"http://www.w3.org/2000/svg\" height=\"24px\"viewBox=\"0 0 24 24\"\n",
              "       width=\"24px\">\n",
              "    <path d=\"M0 0h24v24H0V0z\" fill=\"none\"/>\n",
              "    <path d=\"M18.56 5.44l.94 2.06.94-2.06 2.06-.94-2.06-.94-.94-2.06-.94 2.06-2.06.94zm-11 1L8.5 8.5l.94-2.06 2.06-.94-2.06-.94L8.5 2.5l-.94 2.06-2.06.94zm10 10l.94 2.06.94-2.06 2.06-.94-2.06-.94-.94-2.06-.94 2.06-2.06.94z\"/><path d=\"M17.41 7.96l-1.37-1.37c-.4-.4-.92-.59-1.43-.59-.52 0-1.04.2-1.43.59L10.3 9.45l-7.72 7.72c-.78.78-.78 2.05 0 2.83L4 21.41c.39.39.9.59 1.41.59.51 0 1.02-.2 1.41-.59l7.78-7.78 2.81-2.81c.8-.78.8-2.07 0-2.86zM5.41 20L4 18.59l7.72-7.72 1.47 1.35L5.41 20z\"/>\n",
              "  </svg>\n",
              "      </button>\n",
              "      \n",
              "  <style>\n",
              "    .colab-df-container {\n",
              "      display:flex;\n",
              "      flex-wrap:wrap;\n",
              "      gap: 12px;\n",
              "    }\n",
              "\n",
              "    .colab-df-convert {\n",
              "      background-color: #E8F0FE;\n",
              "      border: none;\n",
              "      border-radius: 50%;\n",
              "      cursor: pointer;\n",
              "      display: none;\n",
              "      fill: #1967D2;\n",
              "      height: 32px;\n",
              "      padding: 0 0 0 0;\n",
              "      width: 32px;\n",
              "    }\n",
              "\n",
              "    .colab-df-convert:hover {\n",
              "      background-color: #E2EBFA;\n",
              "      box-shadow: 0px 1px 2px rgba(60, 64, 67, 0.3), 0px 1px 3px 1px rgba(60, 64, 67, 0.15);\n",
              "      fill: #174EA6;\n",
              "    }\n",
              "\n",
              "    [theme=dark] .colab-df-convert {\n",
              "      background-color: #3B4455;\n",
              "      fill: #D2E3FC;\n",
              "    }\n",
              "\n",
              "    [theme=dark] .colab-df-convert:hover {\n",
              "      background-color: #434B5C;\n",
              "      box-shadow: 0px 1px 3px 1px rgba(0, 0, 0, 0.15);\n",
              "      filter: drop-shadow(0px 1px 2px rgba(0, 0, 0, 0.3));\n",
              "      fill: #FFFFFF;\n",
              "    }\n",
              "  </style>\n",
              "\n",
              "      <script>\n",
              "        const buttonEl =\n",
              "          document.querySelector('#df-809efed7-f0b5-48f7-9bf1-b3abe466e183 button.colab-df-convert');\n",
              "        buttonEl.style.display =\n",
              "          google.colab.kernel.accessAllowed ? 'block' : 'none';\n",
              "\n",
              "        async function convertToInteractive(key) {\n",
              "          const element = document.querySelector('#df-809efed7-f0b5-48f7-9bf1-b3abe466e183');\n",
              "          const dataTable =\n",
              "            await google.colab.kernel.invokeFunction('convertToInteractive',\n",
              "                                                     [key], {});\n",
              "          if (!dataTable) return;\n",
              "\n",
              "          const docLinkHtml = 'Like what you see? Visit the ' +\n",
              "            '<a target=\"_blank\" href=https://colab.research.google.com/notebooks/data_table.ipynb>data table notebook</a>'\n",
              "            + ' to learn more about interactive tables.';\n",
              "          element.innerHTML = '';\n",
              "          dataTable['output_type'] = 'display_data';\n",
              "          await google.colab.output.renderOutput(dataTable, element);\n",
              "          const docLink = document.createElement('div');\n",
              "          docLink.innerHTML = docLinkHtml;\n",
              "          element.appendChild(docLink);\n",
              "        }\n",
              "      </script>\n",
              "    </div>\n",
              "  </div>\n",
              "  "
            ]
          },
          "metadata": {},
          "execution_count": 58
        }
      ]
    },
    {
      "cell_type": "code",
      "source": [
        "model = RandomForestClassifier(n_estimators = 200, min_samples_split = 50, random_state = 1)"
      ],
      "metadata": {
        "id": "1Cy7TgXkWx2a"
      },
      "execution_count": null,
      "outputs": []
    },
    {
      "cell_type": "code",
      "source": [
        "def predict(train, test, predictors, model):\n",
        "  model.fit(train[predictors], train['Target'])\n",
        "  preds = model.predict_proba(test[predictors])[:,1]\n",
        "  preds[preds >= .6] = 1\n",
        "  preds[preds < .6] = 0\n",
        "  preds = pd.Series(preds, index = test.index, name = 'Predictions')\n",
        "  combined = pd.concat([test['Target'], preds], axis = 1)\n",
        "  return combined"
      ],
      "metadata": {
        "id": "B4NP2MafW81X"
      },
      "execution_count": null,
      "outputs": []
    },
    {
      "cell_type": "code",
      "source": [
        "predictions = backtest(nvidia, model, new_predictors)"
      ],
      "metadata": {
        "id": "yV2MVlNmW8u0"
      },
      "execution_count": null,
      "outputs": []
    },
    {
      "cell_type": "code",
      "source": [
        "predictions['Predictions'].value_counts()"
      ],
      "metadata": {
        "colab": {
          "base_uri": "https://localhost:8080/"
        },
        "id": "7Gn8FdAKYPSh",
        "outputId": "462700ab-a485-4aff-a30f-b56937876768"
      },
      "execution_count": null,
      "outputs": [
        {
          "output_type": "execute_result",
          "data": {
            "text/plain": [
              "0.0    2301\n",
              "1.0     193\n",
              "Name: Predictions, dtype: int64"
            ]
          },
          "metadata": {},
          "execution_count": 72
        }
      ]
    },
    {
      "cell_type": "code",
      "source": [
        "precision_score(predictions['Target'], predictions['Predictions'])"
      ],
      "metadata": {
        "colab": {
          "base_uri": "https://localhost:8080/"
        },
        "id": "8vuKdD-_ZUe3",
        "outputId": "9e186e75-589f-46ba-e2f9-2d08adeb1272"
      },
      "execution_count": null,
      "outputs": [
        {
          "output_type": "execute_result",
          "data": {
            "text/plain": [
              "0.5854922279792746"
            ]
          },
          "metadata": {},
          "execution_count": 73
        }
      ]
    }
  ]
}